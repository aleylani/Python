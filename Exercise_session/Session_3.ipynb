{
  "cells": [
    {
      "cell_type": "markdown",
      "metadata": {
        "colab_type": "text",
        "id": "view-in-github"
      },
      "source": [
        "<a href=\"https://colab.research.google.com/github/aleylani/Python/blob/main/Exercise_session/Session_3.ipynb\" target=\"_parent\"><img src=\"https://colab.research.google.com/assets/colab-badge.svg\" alt=\"Open In Colab\"/></a>"
      ]
    },
    {
      "cell_type": "markdown",
      "metadata": {
        "id": "dL38axEoOfRu"
      },
      "source": [
        "# Exercise session 3"
      ]
    },
    {
      "cell_type": "markdown",
      "metadata": {
        "id": "6-wVwqiJOfRw"
      },
      "source": [
        "## 8-02 file handling\n",
        "\n"
      ]
    },
    {
      "cell_type": "code",
      "execution_count": null,
      "metadata": {
        "id": "KLi_5z7AOfRw"
      },
      "outputs": [],
      "source": [
        "# a)\n",
        "\n",
        "with open(\"data/Provresultat.txt\") as f_read:\n",
        "    # each line is stored in a list\n",
        "    # each line is a string and it has \\n in the end\n",
        "    lines = f_read.readlines()\n",
        "    #print(lines)\n",
        "\n",
        "    # -------------------a)-------------------\n",
        "    # loops through the lines and prints each line\n",
        "    for line in lines:\n",
        "        print(line, end = \"\")"
      ]
    },
    {
      "cell_type": "code",
      "execution_count": null,
      "metadata": {
        "id": "b0bUvY26OfRx"
      },
      "outputs": [],
      "source": [
        "# b) and c)\n",
        "with open(\"data/Provresultat.txt\", \"r\") as f_read, open(\"data/Provresultat_tmp.txt\", \"w\") as f_write:\n",
        "    lines = f_read.readlines()\n",
        "    #print(lines[-1])\n",
        "\n",
        "    lines[-1] += \"\\n\"\n",
        "    #print(lines)\n",
        "\n",
        "    # returns None, it mutates (changes) the list\n",
        "    #lines.sort()\n",
        "    #print(lines)\n",
        "\n",
        "    # ----------------------------b)--------------------------\n",
        "    # returns a new list of sorted elements\n",
        "    lines_sorted_alphabetically = sorted(lines)\n",
        "    #print(lines_sorted_alphabetically)\n",
        "\n",
        "    for line in lines_sorted_alphabetically:\n",
        "        f_write.write(line)\n",
        "\n",
        "\n",
        "    f_write.write(\"\\n\\nSorterat efter betyg\\n\\n\")\n",
        "\n",
        "    # ----------------------------c)--------------------------\n",
        "    # need to split and find the score for each line\n",
        "    # put them in grade order\n",
        "\n",
        "    grades = \"ABCDEF\"[::-1]\n",
        "    print(grades)\n",
        "\n",
        "    for grade, limit in zip(grades, range(20, 71, 10)):\n",
        "\n",
        "        f_write.write(f\"\\nBetyg {grade}\\n\")\n",
        "\n",
        "        for line in lines:\n",
        "            #print(line.split()) # this gives a list for each line\n",
        "            print(line.split()[-1])\n",
        "\n",
        "            point = int(line.split()[-1]) # type converts string to int\n",
        "            # if statement requires test between same types\n",
        "\n",
        "            # handle F separately in order not to miss those lower than 10\n",
        "\n",
        "            if limit-10 <= point < limit:\n",
        "                f_write.write(f\"{line}\") # type converts int to string, in order to write it to a txt file\n"
      ]
    },
    {
      "cell_type": "code",
      "execution_count": null,
      "metadata": {
        "id": "O6jMBw9KOfRx"
      },
      "outputs": [],
      "source": [
        "# b) and c)\n",
        "with open(\"data/Provresultat.txt\", \"r\") as f_read, open(\"data/Provresultat.txt\", \"a\") as f_write:\n",
        "    lines = f_read.readlines()\n",
        "\n",
        "    lines[-1] += \"\\n\"\n",
        "\n",
        "    f_write.write(\"\\n\\nAlfabetisk ordning\\n\")\n",
        "\n",
        "    # ----------------------------b)--------------------------\n",
        "    lines_sorted_alphabetically = sorted(lines)\n",
        "\n",
        "    for line in lines_sorted_alphabetically:\n",
        "        f_write.write(line)\n",
        "\n",
        "\n",
        "    f_write.write(\"\\n\\nSorterat efter betyg\\n\\n\")\n",
        "\n",
        "    # ----------------------------c)--------------------------\n",
        "    # need to split and find the score for each line\n",
        "    # put them in grade order\n",
        "\n",
        "    grades = \"ABCDEF\"[::-1]\n",
        "    print(grades)\n",
        "\n",
        "    for grade, limit in zip(grades, range(20, 71, 10)):\n",
        "\n",
        "        f_write.write(f\"\\nBetyg {grade}\\n\")\n",
        "\n",
        "        for line in lines:\n",
        "            #print(line.split()) # this gives a list for each line\n",
        "            #print(line.split()[-1])\n",
        "\n",
        "            point = int(line.split()[-1]) # type converts string to int\n",
        "            # if statement requires test between same types\n",
        "\n",
        "            # handle F separately in order not to miss those lower than 10\n",
        "\n",
        "            if limit-10 <= point < limit:\n",
        "                f_write.write(line)\n"
      ]
    },
    {
      "cell_type": "code",
      "execution_count": null,
      "metadata": {
        "id": "FhhGLAbFOfRy"
      },
      "outputs": [],
      "source": [
        "for grade, limit in zip(grades, range(20, 71, 10)):\n",
        "    print(grade, limit)"
      ]
    },
    {
      "cell_type": "code",
      "execution_count": null,
      "metadata": {
        "id": "kuPBKi0EOfRy"
      },
      "outputs": [],
      "source": [
        "for i in range(1,10,2):\n",
        "    print(i)"
      ]
    }
  ],
  "metadata": {
    "colab": {
      "include_colab_link": true,
      "provenance": []
    },
    "kernelspec": {
      "display_name": "Python 3 (ipykernel)",
      "language": "python",
      "name": "python3"
    },
    "language_info": {
      "codemirror_mode": {
        "name": "ipython",
        "version": 3
      },
      "file_extension": ".py",
      "mimetype": "text/x-python",
      "name": "python",
      "nbconvert_exporter": "python",
      "pygments_lexer": "ipython3",
      "version": "3.8.13"
    },
    "vscode": {
      "interpreter": {
        "hash": "3b136723b0d4708e16bf623335cc8688085bd3f1313316a001291a7f1d2024db"
      }
    }
  },
  "nbformat": 4,
  "nbformat_minor": 0
}
