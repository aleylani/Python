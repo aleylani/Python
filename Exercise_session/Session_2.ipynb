{
  "cells": [
    {
      "cell_type": "markdown",
      "metadata": {
        "colab_type": "text",
        "id": "view-in-github"
      },
      "source": [
        "<a href=\"https://colab.research.google.com/github/aleylani/Python/blob/main/Exercise_session/Session_2.ipynb\" target=\"_parent\"><img src=\"https://colab.research.google.com/assets/colab-badge.svg\" alt=\"Open In Colab\"/></a>"
      ]
    },
    {
      "cell_type": "markdown",
      "metadata": {
        "id": "ogMCgj-SOR6F"
      },
      "source": [
        "# Exercise session 2"
      ]
    },
    {
      "cell_type": "markdown",
      "metadata": {
        "id": "5z3tiuUEOR6G"
      },
      "source": [
        "## Ex 3-06\n",
        "\n",
        "$$s = \\sum_{i=0}^{63} 2^i = 2^0 + 2^1 + \\ldots + 2^{63}$$"
      ]
    },
    {
      "cell_type": "code",
      "execution_count": null,
      "metadata": {
        "id": "zTb7Z7d-OR6H"
      },
      "outputs": [],
      "source": [
        "my_sum = 0\n",
        "rice = 1\n",
        "\n",
        "for i in range(64):\n",
        "    my_sum += rice\n",
        "    rice *= 2\n",
        "\n",
        "print(f\"{my_sum}\")\n"
      ]
    },
    {
      "cell_type": "code",
      "execution_count": null,
      "metadata": {
        "id": "641-MLJXOR6I"
      },
      "outputs": [],
      "source": [
        "my_sum = 0\n",
        "\n",
        "for i in range(64):\n",
        "    my_sum += 2**i\n",
        "\n",
        "print(f\"{my_sum}\")"
      ]
    },
    {
      "cell_type": "code",
      "execution_count": null,
      "metadata": {
        "id": "JC1XIJ2BOR6I"
      },
      "outputs": [],
      "source": [
        "rice_production = 755.5e9 # kg\n",
        "# hur många riskorn finns i ett kg?\n"
      ]
    }
  ],
  "metadata": {
    "colab": {
      "include_colab_link": true,
      "provenance": []
    },
    "kernelspec": {
      "display_name": "Python 3 (ipykernel)",
      "language": "python",
      "name": "python3"
    },
    "language_info": {
      "codemirror_mode": {
        "name": "ipython",
        "version": 3
      },
      "file_extension": ".py",
      "mimetype": "text/x-python",
      "name": "python",
      "nbconvert_exporter": "python",
      "pygments_lexer": "ipython3",
      "version": "3.8.13"
    },
    "vscode": {
      "interpreter": {
        "hash": "0da836a34428266995a795f1e1e27b816fa1c02f148d9728b3fbbbc5459afca6"
      }
    }
  },
  "nbformat": 4,
  "nbformat_minor": 0
}
