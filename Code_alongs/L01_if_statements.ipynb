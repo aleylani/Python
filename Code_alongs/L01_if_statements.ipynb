{
 "cells": [
  {
   "cell_type": "markdown",
   "metadata": {},
   "source": [
    "## Jämförelser"
   ]
  },
  {
   "cell_type": "code",
   "execution_count": 10,
   "metadata": {},
   "outputs": [
    {
     "name": "stdout",
     "output_type": "stream",
     "text": [
      "number_1 > number_2 evalueras till:  False\n",
      "number_1 >= number_2 evalueras till: False\n",
      "number_1 < number_2 evalueras till:  True\n",
      "number_1 <= number_2 evalueras till: True\n",
      "number_1 == number_2 evalueras till: False\n"
     ]
    }
   ],
   "source": [
    "number_1 = 10\n",
    "number_2 = 20\n",
    "\n",
    "print(f'number_1 > number_2 evalueras till:  {number_1 > number_2}')\n",
    "print(f'number_1 >= number_2 evalueras till: {number_1 >= number_2}')\n",
    "print(f'number_1 < number_2 evalueras till:  {number_1 < number_2}')\n",
    "print(f'number_1 <= number_2 evalueras till: {number_1 <= number_2}')\n",
    "print(f'number_1 == number_2 evalueras till: {number_1 == number_2}')"
   ]
  },
  {
   "cell_type": "markdown",
   "metadata": {},
   "source": [
    "## IF-satser"
   ]
  },
  {
   "cell_type": "markdown",
   "metadata": {},
   "source": [
    "Exekverar det intenderade kodblocket (den inskjutna) om villkoret till if-satsen evalueras till True"
   ]
  },
  {
   "cell_type": "code",
   "execution_count": null,
   "metadata": {},
   "outputs": [],
   "source": []
  }
 ],
 "metadata": {
  "kernelspec": {
   "display_name": "deeplearning",
   "language": "python",
   "name": "python3"
  },
  "language_info": {
   "codemirror_mode": {
    "name": "ipython",
    "version": 3
   },
   "file_extension": ".py",
   "mimetype": "text/x-python",
   "name": "python",
   "nbconvert_exporter": "python",
   "pygments_lexer": "ipython3",
   "version": "3.11.4"
  },
  "orig_nbformat": 4
 },
 "nbformat": 4,
 "nbformat_minor": 2
}
