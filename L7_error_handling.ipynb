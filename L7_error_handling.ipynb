{
  "cells": [
    {
      "cell_type": "markdown",
      "metadata": {
        "id": "view-in-github",
        "colab_type": "text"
      },
      "source": [
        "<a href=\"https://colab.research.google.com/github/aleylani/Python/blob/main/L7_error_handling.ipynb\" target=\"_parent\"><img src=\"https://colab.research.google.com/assets/colab-badge.svg\" alt=\"Open In Colab\"/></a>"
      ]
    },
    {
      "cell_type": "markdown",
      "metadata": {
        "id": "TUetNMzpHmYA"
      },
      "source": [
        "# Errors\n",
        "\n",
        "- syntax errors - Python parser don't understand the code\n",
        "- logical errors - error that occurs when program runs by giving wrong results\n",
        "- exception errors - errors detected during execution, Python parser understands what to do, but can't do it"
      ]
    },
    {
      "cell_type": "code",
      "execution_count": null,
      "metadata": {
        "id": "jGa-2s8uHmYC"
      },
      "outputs": [],
      "source": [
        "# syntax error\n",
        "prin(\"hej hej \")"
      ]
    },
    {
      "cell_type": "code",
      "execution_count": null,
      "metadata": {
        "id": "aHOCTEcqHmYD"
      },
      "outputs": [],
      "source": [
        "print(\"hej den här koden fungerar\")"
      ]
    },
    {
      "cell_type": "code",
      "execution_count": null,
      "metadata": {
        "id": "1fd5yr2MHmYE"
      },
      "outputs": [],
      "source": [
        "print(\"hej\"\n",
        "print(\"då\")"
      ]
    },
    {
      "cell_type": "markdown",
      "metadata": {
        "id": "4lxE3umtHmYE"
      },
      "source": [
        "## Traceback"
      ]
    },
    {
      "cell_type": "code",
      "execution_count": null,
      "metadata": {
        "id": "yNu2ixlPHmYE"
      },
      "outputs": [],
      "source": [
        "def func1():\n",
        "    print(\"Start function 1\")\n",
        "    func2()\n",
        "\n",
        "def func2():\n",
        "    print(\"Start function 2\")\n",
        "    func3()\n",
        "\n",
        "def func3():\n",
        "    print(\"Start function 3\")\n",
        "    3/0 # exception error\n",
        "\n",
        "func1()"
      ]
    },
    {
      "cell_type": "markdown",
      "metadata": {
        "id": "-FRnAQl6HmYF"
      },
      "source": [
        "## Logical error"
      ]
    },
    {
      "cell_type": "code",
      "execution_count": null,
      "metadata": {
        "id": "_xYjMwdzHmYF"
      },
      "outputs": [],
      "source": [
        "import math\n",
        "\n",
        "circumference = lambda radius: math.pi*radius**2\n",
        "\n",
        "print(circumference(2))\n",
        "\n",
        "# program does what it has been told\n",
        "# we compute the area instead of the circumference\n",
        "# logical error -> hard to find"
      ]
    },
    {
      "cell_type": "markdown",
      "metadata": {
        "id": "-g2rQOyBHmYG"
      },
      "source": [
        "## Try-except\n",
        "\n",
        "- try block\n",
        "- except block\n",
        "- raise"
      ]
    },
    {
      "cell_type": "code",
      "execution_count": null,
      "metadata": {
        "id": "SoBisJIxHmYG"
      },
      "outputs": [],
      "source": [
        "age = input(\"Ange din ålder: \")\n",
        "\n",
        "age = float(age)\n",
        "\n",
        "# logical error with negative age\n",
        "print(f\"Du är {age} år gammal\")"
      ]
    },
    {
      "cell_type": "code",
      "execution_count": null,
      "metadata": {
        "id": "uqJp75L5HmYH"
      },
      "outputs": [],
      "source": [
        "age = input(\"Ange din ålder: \")\n",
        "\n",
        "age = float(age)\n",
        "\n",
        "print(f\"Du är {age} år gammal\")"
      ]
    },
    {
      "cell_type": "code",
      "execution_count": null,
      "metadata": {
        "id": "QH3mbzAqHmYH"
      },
      "outputs": [],
      "source": [
        "age = input(\"Ange din ålder: \")\n",
        "\n",
        "try:\n",
        "    age = float(age) # tried to convert \"fyrtiotvå\", program throws a ValueError\n",
        "    print(f\"Du är {age} år gammal\")\n",
        "except ValueError as err: # it get caught in the except block\n",
        "    print(err)\n",
        "\n",
        "print(\"Programmet fortsätter här \")\n"
      ]
    },
    {
      "cell_type": "code",
      "execution_count": null,
      "metadata": {
        "id": "70mZnkXfHmYI"
      },
      "outputs": [],
      "source": [
        "\n",
        "while True:\n",
        "    age = input(\"Ange din ålder: \")\n",
        "\n",
        "    try:\n",
        "        age = float(age)\n",
        "        if not 0 <= age <= 125:\n",
        "            raise ValueError(f\"Åldern som du anger måste vara mellan 0 och 125, inte {age}\")\n",
        "        break\n",
        "    except ValueError as err:\n",
        "        print(err)\n",
        "\n",
        "print(f\"Du är {age} år gammal\")"
      ]
    },
    {
      "cell_type": "markdown",
      "metadata": {
        "id": "bjKq-nmKHmYI"
      },
      "source": []
    }
  ],
  "metadata": {
    "kernelspec": {
      "display_name": "Python 3 (ipykernel)",
      "language": "python",
      "name": "python3"
    },
    "language_info": {
      "codemirror_mode": {
        "name": "ipython",
        "version": 3
      },
      "file_extension": ".py",
      "mimetype": "text/x-python",
      "name": "python",
      "nbconvert_exporter": "python",
      "pygments_lexer": "ipython3",
      "version": "3.8.13"
    },
    "vscode": {
      "interpreter": {
        "hash": "3b136723b0d4708e16bf623335cc8688085bd3f1313316a001291a7f1d2024db"
      }
    },
    "colab": {
      "provenance": [],
      "include_colab_link": true
    }
  },
  "nbformat": 4,
  "nbformat_minor": 0
}