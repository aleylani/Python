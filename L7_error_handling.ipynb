{
  "cells": [
    {
      "cell_type": "markdown",
      "metadata": {
        "id": "view-in-github",
        "colab_type": "text"
      },
      "source": [
        "<a href=\"https://colab.research.google.com/github/aleylani/Python/blob/main/L7_error_handling.ipynb\" target=\"_parent\"><img src=\"https://colab.research.google.com/assets/colab-badge.svg\" alt=\"Open In Colab\"/></a>"
      ]
    },
    {
      "cell_type": "markdown",
      "metadata": {
        "id": "s50XoBcBVfHV"
      },
      "source": [
        "---\n",
        "# Lecture notes - error handling\n",
        "\n",
        "---\n",
        "This is the lecture note for **error handling**, but it's built upon contents from previous lectures such as:\n",
        "- input-output\n",
        "- variables\n",
        "- if-statement\n",
        "- for loop\n",
        "- while\n",
        "- lists\n",
        "- random\n",
        "- strings\n",
        "- functions\n",
        "\n",
        "<p class = \"alert alert-info\" role=\"alert\"><b>Note</b> that this lecture note gives a brief introduction to error handling. I encourage you to read further about error handling.\n",
        "\n",
        "Read more [programiz - exception handling](https://www.programiz.com/python-programming/exception-handling)\n",
        "\n",
        "Read more [w3schools - try except](https://www.w3schools.com/python/python_try_except.asp)\n",
        "\n",
        "---"
      ]
    },
    {
      "cell_type": "markdown",
      "metadata": {
        "id": "mEGRcbCDVfHW"
      },
      "source": [
        "## Error types\n",
        "\n",
        "- syntax error - basic errors Python parser don't understand the code\n",
        "- logic errors - hard to find - give unpredictable results\n",
        "- exception error - Python parser knows what to do but can't perform it\n",
        "\n",
        "[wikibooks - Python errors](https://en.wikibooks.org/wiki/Python_Programming/Errors)\n"
      ]
    },
    {
      "cell_type": "code",
      "execution_count": null,
      "metadata": {
        "id": "09T92KGFVfHX"
      },
      "outputs": [],
      "source": [
        "# syntax errors\n",
        "prin(\"hej\")\n",
        "\n",
        "# practice reading the error messages"
      ]
    },
    {
      "cell_type": "code",
      "execution_count": null,
      "metadata": {
        "id": "UsgEySGdVfHX"
      },
      "outputs": [],
      "source": [
        "# logical errors\n",
        "import numpy as np\n",
        "# this function calculates the circumference, not area\n",
        "area_circle = lambda radius: 2*np.pi*radius\n",
        "area_circle(1)"
      ]
    },
    {
      "cell_type": "code",
      "execution_count": null,
      "metadata": {
        "id": "h4aGs0BQVfHY"
      },
      "outputs": [],
      "source": [
        "# exception errors\n",
        "numbers = list(range(5))\n",
        "numbers[10]\n",
        "# Python parser knows what to do i.e. access element at index 10,\n",
        "# but can't access that element as it doesn't exist"
      ]
    },
    {
      "cell_type": "markdown",
      "metadata": {
        "id": "NJ8vuZexVfHY"
      },
      "source": [
        "---\n",
        "## Try - except\n",
        "\n",
        "- try block for testing \"dangerous code\" i.e. code that can generate error\n",
        "\n",
        "- except block - handles the error instead of crashing the program\n",
        "\n",
        "- raise - to raise exception of chosen type and chosen text"
      ]
    },
    {
      "cell_type": "code",
      "execution_count": null,
      "metadata": {
        "id": "izMoYwb4VfHY"
      },
      "outputs": [],
      "source": [
        "age = input(\"Ange din ålder\")\n",
        "\n",
        "try:\n",
        "    age = float(age)\n",
        "    if not 0<=age<=125:\n",
        "        raise ValueError(\"Åldern måste vara mellan 0 and 125\")\n",
        "    print(f\"Du är {age} år gammal\")\n",
        "except ValueError as err:\n",
        "    print(err)"
      ]
    },
    {
      "cell_type": "code",
      "execution_count": null,
      "metadata": {
        "id": "_98E0sg8VfHZ"
      },
      "outputs": [],
      "source": [
        "# want user to try again\n",
        "while True:\n",
        "    try:\n",
        "        age = float(input(\"Ange din ålder\"))\n",
        "        if not 0<=age<=125:\n",
        "            raise ValueError(\"Åldern måste vara mellan 0 and 125\")\n",
        "        print(f\"Du är {age} år gammal\")\n",
        "        break # breaks out of while loop if nothing went wrong\n",
        "    except ValueError as err:\n",
        "        print(err)"
      ]
    }
  ],
  "metadata": {
    "kernelspec": {
      "display_name": "Python 3 (ipykernel)",
      "language": "python",
      "name": "python3"
    },
    "language_info": {
      "codemirror_mode": {
        "name": "ipython",
        "version": 3
      },
      "file_extension": ".py",
      "mimetype": "text/x-python",
      "name": "python",
      "nbconvert_exporter": "python",
      "pygments_lexer": "ipython3",
      "version": "3.8.13"
    },
    "vscode": {
      "interpreter": {
        "hash": "0da836a34428266995a795f1e1e27b816fa1c02f148d9728b3fbbbc5459afca6"
      }
    },
    "colab": {
      "provenance": [],
      "include_colab_link": true
    }
  },
  "nbformat": 4,
  "nbformat_minor": 0
}