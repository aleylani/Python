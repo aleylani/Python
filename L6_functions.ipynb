{
  "cells": [
    {
      "cell_type": "markdown",
      "metadata": {
        "id": "view-in-github",
        "colab_type": "text"
      },
      "source": [
        "<a href=\"https://colab.research.google.com/github/aleylani/Python/blob/main/L6_functions.ipynb\" target=\"_parent\"><img src=\"https://colab.research.google.com/assets/colab-badge.svg\" alt=\"Open In Colab\"/></a>"
      ]
    },
    {
      "cell_type": "markdown",
      "metadata": {
        "id": "eR1dqcb-Huyp"
      },
      "source": [
        "# Functions"
      ]
    },
    {
      "cell_type": "code",
      "execution_count": null,
      "metadata": {
        "id": "Z5qF4h4YHuyr"
      },
      "outputs": [],
      "source": [
        "# define a function called cuber, it takes in 1 parameter\n",
        "def cuber(x):\n",
        "    return x**3"
      ]
    },
    {
      "cell_type": "code",
      "execution_count": null,
      "metadata": {
        "id": "Miia8NI2Huys"
      },
      "outputs": [],
      "source": [
        "# calls the function cuber using 1 argument\n",
        "print(f\"{cuber(5)=}\")\n",
        "cubes = [cuber(i) for i in range(10)]\n",
        "cubes"
      ]
    },
    {
      "cell_type": "code",
      "execution_count": null,
      "metadata": {
        "id": "hXQF4egzHuys"
      },
      "outputs": [],
      "source": [
        "import matplotlib.pyplot as plt\n",
        "\n",
        "plt.plot(cubes);"
      ]
    },
    {
      "cell_type": "code",
      "execution_count": null,
      "metadata": {
        "id": "HLPm_J5LHuyt"
      },
      "outputs": [],
      "source": [
        "# 3 parameters\n",
        "def my_mean(number1, number2, number3):\n",
        "    print(f\"{number1=}, {number2=}, {number3=}\")\n",
        "    return (number1+number2+number3)/3\n",
        "\n",
        "# 3 arguments\n",
        "print(my_mean(1,3,6))\n",
        "print(my_mean(0,5,4))\n",
        "\n",
        "double_mean = my_mean(1,2,3)*2\n",
        "print(double_mean)"
      ]
    },
    {
      "cell_type": "markdown",
      "metadata": {
        "id": "LFC6ExpJHuyt"
      },
      "source": [
        "## Default values"
      ]
    },
    {
      "cell_type": "code",
      "execution_count": null,
      "metadata": {
        "id": "9Na2HP1XHuyt"
      },
      "outputs": [],
      "source": [
        "def hello(number_of_greetings, name = \"buddy\", age = 0):\n",
        "    if float(age) < 0:\n",
        "        print(\"Ange en ålder >= 0\")\n",
        "        return\n",
        "\n",
        "    for i in range(number_of_greetings):\n",
        "        print(f\"Hej {name}, du är {age} år\")\n",
        "    # note no return -> void function\n",
        "\n",
        "hello(2)\n",
        "\n",
        "hello(1, \"Bella\", \"1\")\n",
        "\n",
        "hello(1, \"Bella\", -2 )\n",
        "\n",
        "# age and name are keyword arguments\n",
        "# number_of_greetings is a positional argument\n",
        "hello(1, age = 34,)"
      ]
    },
    {
      "cell_type": "code",
      "execution_count": null,
      "metadata": {
        "id": "q43mDmEQHuyu"
      },
      "outputs": [],
      "source": [
        "def word_counter(text = \"\"):\n",
        "    word_list = text.split()\n",
        "    return len(word_list)\n",
        "\n",
        "quote = \"No I am your father - Luke Skywalker\"\n",
        "word_counter(quote)"
      ]
    },
    {
      "cell_type": "markdown",
      "metadata": {
        "id": "NvJRguemHuyu"
      },
      "source": [
        "## Arbitrary arguments - *args"
      ]
    },
    {
      "cell_type": "code",
      "execution_count": null,
      "metadata": {
        "id": "0CPKxFY0Huyv"
      },
      "outputs": [],
      "source": [
        "def my_mean2(*numbers):\n",
        "    sum_ = 0\n",
        "    for number in numbers:\n",
        "        sum_ += number\n",
        "    return sum_/len(numbers)\n",
        "\n",
        "my_mean2(1,2,3,4,5)"
      ]
    },
    {
      "cell_type": "markdown",
      "metadata": {
        "id": "FZECFug0Huyv"
      },
      "source": [
        "## Lambda\n",
        "\n",
        "- anonymous function"
      ]
    },
    {
      "cell_type": "code",
      "execution_count": null,
      "metadata": {
        "id": "kEVU7cZ4Huyw"
      },
      "outputs": [],
      "source": [
        "cuber = lambda x: x**3\n",
        "\n",
        "cuber(3)"
      ]
    },
    {
      "cell_type": "markdown",
      "metadata": {
        "id": "KxiSHuA3Huyw"
      },
      "source": [
        "## Draw lines"
      ]
    },
    {
      "cell_type": "code",
      "execution_count": null,
      "metadata": {
        "id": "UVPFcPM_Huyw"
      },
      "outputs": [],
      "source": [
        "\n",
        "def draw_lines(x_list, k=1, m=1, title = \"\"):\n",
        "    y_list = [k*x+m for x in x_list]\n",
        "\n",
        "    plt.plot(x_list, y_list)\n",
        "    plt.xlabel(\"x\")\n",
        "    plt.ylabel(\"y\")\n",
        "    plt.title(title)\n",
        "\n",
        "print(range(-10,10))\n",
        "x = list(range(-10,10))\n",
        "print(x)\n",
        "draw_lines(x, title = \"Lines\")\n",
        "draw_lines(x, k=-2, m=-1, title = \"Lines\")\n",
        "\n",
        "\n",
        "# TODO find intersection point and plot it"
      ]
    }
  ],
  "metadata": {
    "kernelspec": {
      "display_name": "Python 3 (ipykernel)",
      "language": "python",
      "name": "python3"
    },
    "language_info": {
      "codemirror_mode": {
        "name": "ipython",
        "version": 3
      },
      "file_extension": ".py",
      "mimetype": "text/x-python",
      "name": "python",
      "nbconvert_exporter": "python",
      "pygments_lexer": "ipython3",
      "version": "3.8.13"
    },
    "vscode": {
      "interpreter": {
        "hash": "3b136723b0d4708e16bf623335cc8688085bd3f1313316a001291a7f1d2024db"
      }
    },
    "colab": {
      "provenance": [],
      "include_colab_link": true
    }
  },
  "nbformat": 4,
  "nbformat_minor": 0
}