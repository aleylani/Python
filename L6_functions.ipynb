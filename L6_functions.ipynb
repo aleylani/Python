{
  "cells": [
    {
      "cell_type": "markdown",
      "metadata": {
        "id": "view-in-github",
        "colab_type": "text"
      },
      "source": [
        "<a href=\"https://colab.research.google.com/github/aleylani/Python/blob/main/L6_functions.ipynb\" target=\"_parent\"><img src=\"https://colab.research.google.com/assets/colab-badge.svg\" alt=\"Open In Colab\"/></a>"
      ]
    },
    {
      "cell_type": "markdown",
      "metadata": {
        "id": "LEdoEiW5sfdY"
      },
      "source": [
        "# Functions"
      ]
    },
    {
      "cell_type": "code",
      "execution_count": null,
      "metadata": {
        "id": "E3j97bKAsfda"
      },
      "outputs": [],
      "source": [
        "# define a function called cuber, it takes in 1 parameter\n",
        "def cuber(x):\n",
        "    return x**3\n",
        "\n",
        "# calls the function cuber using 1 argument\n",
        "print(f\"{cuber(5)=}\")\n",
        "cubes = [cuber(i) for i in range(10)]\n",
        "cubes"
      ]
    },
    {
      "cell_type": "code",
      "execution_count": null,
      "metadata": {
        "id": "wosXyZkDsfdb"
      },
      "outputs": [],
      "source": [
        "import matplotlib.pyplot as plt\n",
        "\n",
        "plt.plot(cubes);"
      ]
    },
    {
      "cell_type": "code",
      "execution_count": null,
      "metadata": {
        "id": "6hnBOxY8sfdb"
      },
      "outputs": [],
      "source": [
        "# 3 parameters\n",
        "def my_mean(number1, number2, number3):\n",
        "    print(f\"{number1=}, {number2=}, {number3=}\")\n",
        "    return (number1+number2+number3)/3\n",
        "\n",
        "# 3 arguments\n",
        "print(my_mean(1,3,6))\n",
        "print(my_mean(0,5,4))\n",
        "\n",
        "double_mean = my_mean(1,2,3)*2\n",
        "print(double_mean)"
      ]
    },
    {
      "cell_type": "markdown",
      "metadata": {
        "id": "MFMkz5bSsfdc"
      },
      "source": [
        "## Default values"
      ]
    },
    {
      "cell_type": "code",
      "execution_count": null,
      "metadata": {
        "id": "PKW0Rxnwsfdc",
        "outputId": "068dd901-111d-4c6a-dc9d-c20dec25ae2a"
      },
      "outputs": [
        {
          "name": "stdout",
          "output_type": "stream",
          "text": [
            "Hej buddy, du är 0 år\n",
            "Hej buddy, du är 0 år\n",
            "Hej Bella, du är 1 år\n",
            "Ange en ålder >= 0\n",
            "Hej buddy, du är 34 år\n"
          ]
        }
      ],
      "source": [
        "def hello(number_of_greetings, name = \"buddy\", age = 0):\n",
        "    if float(age) < 0:\n",
        "        print(\"Ange en ålder >= 0\")\n",
        "        return\n",
        "\n",
        "    for i in range(number_of_greetings):\n",
        "        print(f\"Hej {name}, du är {age} år\")\n",
        "    # note no return -> void function\n",
        "\n",
        "hello(2)\n",
        "\n",
        "hello(1, \"Bella\", \"1\")\n",
        "\n",
        "hello(1, \"Bella\", -2 )\n",
        "\n",
        "# age and name are keyword arguments\n",
        "# number_of_greetings is a positional argument\n",
        "hello(1, age = 34,)"
      ]
    },
    {
      "cell_type": "code",
      "execution_count": null,
      "metadata": {
        "id": "5jSCt55Msfdc"
      },
      "outputs": [],
      "source": [
        "def word_counter(text = \"\"):\n",
        "    word_list = text.split()\n",
        "    return len(word_list)\n",
        "\n",
        "quote = \"No I am your father - Luke Skywalker\"\n",
        "word_counter(quote)"
      ]
    },
    {
      "cell_type": "markdown",
      "metadata": {
        "id": "1hSQEtvrsfdd"
      },
      "source": [
        "## Arbitrary arguments - *args"
      ]
    },
    {
      "cell_type": "code",
      "execution_count": null,
      "metadata": {
        "id": "mbd7RSMbsfde"
      },
      "outputs": [],
      "source": [
        "def my_mean2(*numbers):\n",
        "    sum_ = 0\n",
        "    for number in numbers:\n",
        "        sum_ += number\n",
        "    return sum_/len(numbers)\n",
        "\n",
        "my_mean2(1,2,3,4,5)"
      ]
    },
    {
      "cell_type": "markdown",
      "metadata": {
        "id": "Mt88oOTasfde"
      },
      "source": [
        "## Lambda\n",
        "\n",
        "- anonymous function"
      ]
    },
    {
      "cell_type": "code",
      "execution_count": null,
      "metadata": {
        "id": "yTVRUgihsfde"
      },
      "outputs": [],
      "source": [
        "cuber = lambda x: x**3\n",
        "\n",
        "cuber(3)"
      ]
    },
    {
      "cell_type": "markdown",
      "metadata": {
        "id": "d8S4Ah6Jsfdf"
      },
      "source": [
        "## Draw lines"
      ]
    },
    {
      "cell_type": "code",
      "execution_count": null,
      "metadata": {
        "id": "oUYgug9Psfdf"
      },
      "outputs": [],
      "source": [
        "\n",
        "def draw_lines(x_list, k=1, m=1, title = \"\"):\n",
        "    y_list = [k*x+m for x in x_list]\n",
        "\n",
        "    plt.plot(x_list, y_list)\n",
        "    plt.xlabel(\"x\")\n",
        "    plt.ylabel(\"y\")\n",
        "    plt.title(title)\n",
        "\n",
        "print(range(-10,10))\n",
        "x = list(range(-10,10))\n",
        "print(x)\n",
        "draw_lines(x, title = \"Lines\")\n",
        "draw_lines(x, k=-2, m=-1, title = \"Lines\")\n",
        "\n",
        "\n",
        "# TODO find intersection point and plot it"
      ]
    }
  ],
  "metadata": {
    "kernelspec": {
      "display_name": "Python 3.9.6 ('Python-course-AI22-FPwBLMbm')",
      "language": "python",
      "name": "python3"
    },
    "language_info": {
      "codemirror_mode": {
        "name": "ipython",
        "version": 3
      },
      "file_extension": ".py",
      "mimetype": "text/x-python",
      "name": "python",
      "nbconvert_exporter": "python",
      "pygments_lexer": "ipython3",
      "version": "3.9.6"
    },
    "orig_nbformat": 4,
    "vscode": {
      "interpreter": {
        "hash": "3b136723b0d4708e16bf623335cc8688085bd3f1313316a001291a7f1d2024db"
      }
    },
    "colab": {
      "provenance": [],
      "include_colab_link": true
    }
  },
  "nbformat": 4,
  "nbformat_minor": 0
}