{
  "cells": [
    {
      "cell_type": "markdown",
      "metadata": {
        "id": "view-in-github",
        "colab_type": "text"
      },
      "source": [
        "<a href=\"https://colab.research.google.com/github/aleylani/Python/blob/main/Lec11_OOP_basics.ipynb\" target=\"_parent\"><img src=\"https://colab.research.google.com/assets/colab-badge.svg\" alt=\"Open In Colab\"/></a>"
      ]
    },
    {
      "cell_type": "markdown",
      "metadata": {
        "id": "1wzcgDH6JA2F"
      },
      "source": [
        "# OOP basics"
      ]
    },
    {
      "cell_type": "code",
      "execution_count": null,
      "metadata": {
        "id": "fUsDeiQUJA2H"
      },
      "outputs": [],
      "source": [
        "# created a class called Person\n",
        "class Person:\n",
        "    pass\n",
        "\n",
        "# instantiates an instance from the class Person using the callable syntax ()\n",
        "person1 = Person()\n",
        "person1"
      ]
    },
    {
      "cell_type": "code",
      "execution_count": null,
      "metadata": {
        "id": "1WuM82hXJA2H"
      },
      "outputs": [],
      "source": [
        "# creates an instance attribute on the fly\n",
        "person1.name = \"Ada\"\n",
        "person1.name"
      ]
    },
    {
      "cell_type": "code",
      "execution_count": null,
      "metadata": {
        "id": "zjUrCrBcJA2I"
      },
      "outputs": [],
      "source": [
        "person2 = Person()\n",
        "person2"
      ]
    },
    {
      "cell_type": "code",
      "execution_count": null,
      "metadata": {
        "id": "0C7rrPDkJA2I"
      },
      "outputs": [],
      "source": [
        "person2.name"
      ]
    },
    {
      "cell_type": "markdown",
      "metadata": {
        "id": "OXWJlThmJA2I"
      },
      "source": [
        "## `__init__()`\n",
        "\n",
        "- dunder init method (special method)\n",
        "- initializer method that runs after the object has been created\n",
        "- used for setting initial values of attributes to an instance object"
      ]
    },
    {
      "cell_type": "code",
      "execution_count": null,
      "metadata": {
        "id": "9qWlRex0JA2J"
      },
      "outputs": [],
      "source": [
        "class Antagning:\n",
        "    # initializer\n",
        "    # for methods it's a convention to have first argument as self\n",
        "    def __init__(self, school, program, name, accept):\n",
        "        # assigns arguments to instance attributes\n",
        "        self.school = school\n",
        "        self.program = program\n",
        "        self.name = name\n",
        "        self.accept = accept\n",
        "\n",
        "    # __repr__() a representation for the instance object -> used for other developers\n",
        "    # pronounciation: \"dunder repper\"\n",
        "    def __repr__(self):\n",
        "        return f\"Antagning('{self.school}', '{self.program}', '{self.name}', '{self.accept}')\"\n",
        "\n",
        "# when a method is called -> the instance itself is injected to the method as the first argument\n",
        "\n",
        "# here we instantiate from the class Antagning\n",
        "person1 = Antagning(\"Supa cool school\", \"AI\", \"Kokchun\", accept = True)\n",
        "person2 = Antagning(\"OKay school\", \"Java\", \"Bella\", False)\n",
        "\n",
        "# accessed instance attributes using the dot notation\n",
        "print(f\"{person1.name=}\")\n",
        "print(f\"{person2.name=}\")\n",
        "\n",
        "print(f\"{person1.accept=}\")\n",
        "print(f\"{person2.accept=}\")\n",
        "\n",
        "# using the dot notation we change an instance attribute of person2\n",
        "person2.program = \"Data science\"\n",
        "print(f\"{person2.program=}\")\n",
        "\n",
        "person1"
      ]
    },
    {
      "cell_type": "code",
      "execution_count": null,
      "metadata": {
        "id": "sbrB2ok8JA2J"
      },
      "outputs": [],
      "source": [
        "person2"
      ]
    },
    {
      "cell_type": "code",
      "execution_count": null,
      "metadata": {
        "id": "vSkVN-mnJA2K"
      },
      "outputs": [],
      "source": [
        "# the __repr__ of list gives output [1,2,3]\n",
        "example_list = [1,2,3]\n",
        "example_list"
      ]
    },
    {
      "cell_type": "markdown",
      "metadata": {
        "id": "G6OOdNEtJA2O"
      },
      "source": [
        "## Encapsulation\n",
        "\n",
        "- hide information that is used within the class, but shouldn't be accessed from outside the class\n",
        "- so want to create some kind of interface between attributes within the class and outside to prevent from misuse\n",
        "- in many OOP languages, we can make attributes private, this is not possible in Python\n",
        "- all attributes in Python are public\n",
        "- in Python: private by convention, use an underscore before the attribute, e.g. _name\n",
        "- also possible to use double underscore __name (symbol mangling)"
      ]
    },
    {
      "cell_type": "code",
      "execution_count": null,
      "metadata": {
        "id": "k6A67PzGJA2P"
      },
      "outputs": [],
      "source": [
        "class Patient:\n",
        "    def __init__(self, name, diagnosis):\n",
        "        self._name = name\n",
        "        self.__diagnosis = diagnosis\n",
        "\n",
        "    def __repr__(self):\n",
        "        return f\"Patient(name='{self._name}', diagnosis='{self.__diagnosis}')\"\n",
        "\n",
        "patient1 = Patient(\"Ada\", \"Influenza\")\n",
        "patient2 = Patient(\"Beda\", \"Covid\")\n",
        "\n",
        "print(patient1)\n",
        "print(patient2)\n",
        "\n",
        "# can access the private attribute, but really shouldn't\n",
        "patient1._name = \"Ceda\"\n",
        "print(patient1)\n",
        "\n",
        "# due to name mangling\n",
        "patient1.__diagnosis = \"Migraine\"\n",
        "print(patient1)\n",
        "\n",
        "print(patient1.__dict__)\n",
        "patient1._Patient__diagnosis"
      ]
    },
    {
      "cell_type": "code",
      "execution_count": null,
      "metadata": {
        "id": "3301EQWbJA2P"
      },
      "outputs": [],
      "source": [
        "patient1.__diagnosis"
      ]
    },
    {
      "cell_type": "code",
      "execution_count": null,
      "metadata": {
        "id": "NwoLGnXGJA2Q"
      },
      "outputs": [],
      "source": [
        "# another example\n",
        "class OldCoinsStash:\n",
        "    def __init__(self, owner):\n",
        "        self.owner = owner\n",
        "\n",
        "        # private attributes\n",
        "        self._riksdaler = 0\n",
        "        self._skilling = 0\n",
        "\n",
        "    def deposit(self, riksdaler, skilling):\n",
        "        if riksdaler < 0 or skilling < 0:\n",
        "            raise ValueError(\"You can only deposit non-negative values\")\n",
        "        self._riksdaler += riksdaler\n",
        "        self._skilling += skilling\n",
        "\n",
        "    def withdraw(self, riksdaler, skilling):\n",
        "        if riksdaler > self._riksdaler or skilling > self._skilling:\n",
        "            raise ValueError(\"Can't withdraw more than in stash\")\n",
        "\n",
        "        # check also for negative values\n",
        "\n",
        "        self._riksdaler -= riksdaler\n",
        "        self._skilling -= skilling\n",
        "\n",
        "    def balance(self):\n",
        "        return f\"In stash: {self._riksdaler} riksdaler, {self._skilling} skillingar\"\n",
        "\n",
        "    def __repr__(self):\n",
        "        return f\"OldCoinsStash(owner='{self.owner}')\"\n",
        "\n",
        "\n",
        "stash = OldCoinsStash(\"Ragnar Lothbroke\")\n",
        "print(stash)\n",
        "print(stash.balance())\n",
        "\n",
        "stash.deposit(20, 10)\n",
        "print(stash.balance())\n",
        "\n",
        "try:\n",
        "    # can't deposit negative amount\n",
        "    stash.deposit(-5, 10)\n",
        "except ValueError as err:\n",
        "    print(err)\n",
        "print(stash.balance())\n",
        "\n",
        "try:\n",
        "    # can't deposit negative amount\n",
        "    stash.withdraw(50, 10)\n",
        "except ValueError as err:\n",
        "    print(err)"
      ]
    },
    {
      "cell_type": "markdown",
      "metadata": {
        "id": "keQEs08RJA2Q"
      },
      "source": [
        "## Property\n",
        "\n",
        "- want to expose few to none bare attributes\n",
        "- when wanting to change attributes\n",
        "  - getter and setter (common in many other languages)\n",
        "  - in Python make into property\n",
        "\n",
        "With property:\n",
        "- can include error handling\n",
        "- computed properties\n",
        "- can make read-only and write-only properties"
      ]
    },
    {
      "cell_type": "code",
      "execution_count": null,
      "metadata": {
        "id": "_fJ1VM_NJA2Q"
      },
      "outputs": [],
      "source": [
        "class Student:\n",
        "    \"\"\"Student class for representing students with name, age and activity\"\"\" # docstring\n",
        "\n",
        "    # class attribute\n",
        "    number_students = 0\n",
        "\n",
        "    # note type hinting\n",
        "    def __init__(self, name: str, age: int, active: bool) -> None:\n",
        "        # instance attributes\n",
        "        self._name = name\n",
        "        self.age = age\n",
        "        self.active = active\n",
        "        Student.number_students += 1\n",
        "\n",
        "    # read-only property - @ symbol makes it into a decorator\n",
        "    # read only because we haven't defined a setter\n",
        "    @property\n",
        "    def name(self) -> str:\n",
        "        \"\"\"Read-only property, we can't write to name\"\"\"\n",
        "        return self._name\n",
        "\n",
        "    # getter\n",
        "    @property\n",
        "    def age(self) -> int:\n",
        "        print(\"age getter is running .... \")\n",
        "        return self._age\n",
        "\n",
        "    # setter\n",
        "    @age.setter\n",
        "    def age(self, value: int):\n",
        "        \"\"\"Setter for age with error handling\"\"\"\n",
        "\n",
        "        print(\"age setter is running\")\n",
        "\n",
        "        # validation code\n",
        "        if not isinstance(value, int):\n",
        "            raise TypeError(f\"Age must be an int, not {type(value)}\")\n",
        "\n",
        "        if not (0 <= value <= 125):\n",
        "            raise ValueError(\"Age must be between 0 and 125\")\n",
        "\n",
        "        self._age = value\n",
        "\n",
        "\n",
        "student1 = Student(\"David\", 30, True)\n",
        "student1.name = \"Ella\""
      ]
    },
    {
      "cell_type": "code",
      "execution_count": null,
      "metadata": {
        "id": "hnZYUio2JA2Q"
      },
      "outputs": [],
      "source": [
        "Student(\"Meda\", -5, False)"
      ]
    },
    {
      "cell_type": "code",
      "execution_count": null,
      "metadata": {
        "id": "fbCLhG5DJA2R"
      },
      "outputs": [],
      "source": [
        "student2 = Student(\"Heda\", 5, False)\n",
        "student2.age = 50\n",
        "print(f\"{student2.age=}\")\n",
        "\n",
        "student2.age = -50\n",
        "print(f\"{student2.age=}\")\n"
      ]
    },
    {
      "cell_type": "code",
      "execution_count": null,
      "metadata": {
        "id": "x15sV3WHJA2R"
      },
      "outputs": [],
      "source": [
        "help(Student)"
      ]
    }
  ],
  "metadata": {
    "kernelspec": {
      "display_name": "Python 3 (ipykernel)",
      "language": "python",
      "name": "python3"
    },
    "language_info": {
      "codemirror_mode": {
        "name": "ipython",
        "version": 3
      },
      "file_extension": ".py",
      "mimetype": "text/x-python",
      "name": "python",
      "nbconvert_exporter": "python",
      "pygments_lexer": "ipython3",
      "version": "3.8.13"
    },
    "vscode": {
      "interpreter": {
        "hash": "3b136723b0d4708e16bf623335cc8688085bd3f1313316a001291a7f1d2024db"
      }
    },
    "colab": {
      "provenance": [],
      "include_colab_link": true
    }
  },
  "nbformat": 4,
  "nbformat_minor": 0
}