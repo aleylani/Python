{
  "cells": [
    {
      "cell_type": "markdown",
      "metadata": {
        "colab_type": "text",
        "id": "view-in-github"
      },
      "source": [
        "<a href=\"https://colab.research.google.com/github/aleylani/Python/blob/main/Lecture_notes/L8_file_handling.ipynb\" target=\"_parent\"><img src=\"https://colab.research.google.com/assets/colab-badge.svg\" alt=\"Open In Colab\"/></a>"
      ]
    },
    {
      "cell_type": "markdown",
      "metadata": {
        "id": "YfpgYKd0VnCR"
      },
      "source": [
        "---\n",
        "# Lecture notes - file handling\n",
        "\n",
        "---\n",
        "This is the lecture note for **file handling**, but it's built upon contents from previous lectures such as:\n",
        "- input-output\n",
        "- variables\n",
        "- if-statement\n",
        "- for loop\n",
        "- while\n",
        "- lists\n",
        "- random\n",
        "- strings\n",
        "- functions\n",
        "- error handling\n",
        "\n",
        "<p class = \"alert alert-info\" role=\"alert\"><b>Note</b> that this lecture note gives a brief introduction to file handling. I encourage you to read further about file handling.\n",
        "\n",
        "Read more [w3schools - file handling](https://www.w3schools.com/python/python_file_handling.asp). Learn about the different functions of file handling in this resource, but don't use it exactly as stated. Use in combination with the **with** statement to ensure safe working with files.\n",
        "\n",
        "Read more [real python - with statement](https://realpython.com/python-with-statement/)\n",
        "\n",
        "Files used is found here: [Files](https://github.com/kokchun/Programmering-med-Python-21/tree/main/Files)\n",
        "\n",
        "---"
      ]
    },
    {
      "cell_type": "markdown",
      "metadata": {
        "id": "GpzSZjwnVnCT"
      },
      "source": [
        "## with statement\n",
        "- **with** statement together with **open** is used to safely open files and cleaning up the resource afterwards\n",
        "- another way is to use try..except..finally and remember to close the file, but is too verbose\n",
        "\n",
        "syntax:\n",
        "```python\n",
        "with open(path, option) as file_name:\n",
        "    statements\n",
        "    ...\n",
        "```\n",
        "option\n",
        "- \"r\" - read\n",
        "- \"a\" - append, creates the file if it doesn't exist\n",
        "- \"w\" - write - opens a file for writing, creates it if it doesn't exist\n",
        "- \"x\" - create - creates a file, error if it already exists"
      ]
    },
    {
      "cell_type": "markdown",
      "metadata": {},
      "source": [
        "## read"
      ]
    },
    {
      "cell_type": "code",
      "execution_count": 5,
      "metadata": {
        "id": "7e28xyVUVnCT"
      },
      "outputs": [],
      "source": [
        "path = \"../data/quotes.txt\"        # it's a relative path from '..' goes up a folder\n",
        "\n",
        "with open(path, \"r\") as f:\n",
        "    \n",
        "    text = f.read()                 # reads the whole file"
      ]
    },
    {
      "cell_type": "markdown",
      "metadata": {},
      "source": [
        "## write"
      ]
    },
    {
      "cell_type": "code",
      "execution_count": 13,
      "metadata": {},
      "outputs": [],
      "source": [
        "path = '../data/names.txt'\n",
        "\n",
        "some_names = ['ali', 'amir', 'rozann']\n",
        "\n",
        "with open(path, 'w') as f:\n",
        "    \n",
        "    for name in some_names:\n",
        "\n",
        "        to_write = f'{name}\\n'\n",
        "        \n",
        "        f.write(to_write)\n"
      ]
    },
    {
      "cell_type": "markdown",
      "metadata": {},
      "source": [
        "Note that write erases everything, if anything, in the chosen file - and overwrites it!"
      ]
    },
    {
      "cell_type": "markdown",
      "metadata": {},
      "source": [
        "## append"
      ]
    },
    {
      "cell_type": "markdown",
      "metadata": {},
      "source": [
        "append is, instead of write, used when we want to add things to a file - without erasing any pre-existing text"
      ]
    },
    {
      "cell_type": "code",
      "execution_count": 14,
      "metadata": {},
      "outputs": [],
      "source": [
        "path = '../data/names.txt'\n",
        "\n",
        "some_snacks = ['banana', 'lemon', 'orange']\n",
        "\n",
        "with open(path, 'a') as f:\n",
        "    \n",
        "    for snack in some_snacks:\n",
        "\n",
        "        to_write = f'{snack}\\n'\n",
        "        \n",
        "        f.write(to_write)"
      ]
    }
  ],
  "metadata": {
    "colab": {
      "include_colab_link": true,
      "provenance": []
    },
    "kernelspec": {
      "display_name": "Python 3 (ipykernel)",
      "language": "python",
      "name": "python3"
    },
    "language_info": {
      "codemirror_mode": {
        "name": "ipython",
        "version": 3
      },
      "file_extension": ".py",
      "mimetype": "text/x-python",
      "name": "python",
      "nbconvert_exporter": "python",
      "pygments_lexer": "ipython3",
      "version": "3.11.4"
    },
    "vscode": {
      "interpreter": {
        "hash": "0da836a34428266995a795f1e1e27b816fa1c02f148d9728b3fbbbc5459afca6"
      }
    }
  },
  "nbformat": 4,
  "nbformat_minor": 0
}
