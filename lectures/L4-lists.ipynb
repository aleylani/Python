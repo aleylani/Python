{
 "cells": [
  {
   "cell_type": "markdown",
   "metadata": {},
   "source": [
    "\n",
    "<a href=\"https://colab.research.google.com/github/aleylani/Python/blob/main/lectures/L4-lists.ipynb\" target=\"_parent\"><img align=\"left\" src=\"https://colab.research.google.com/assets/colab-badge.svg\" alt=\"Open In Colab\"/></a> &nbsp; for interacting with the code"
   ]
  },
  {
   "cell_type": "markdown",
   "metadata": {},
   "source": [
    "---\n",
    "# Lecture notes - lists\n",
    "\n",
    "---\n",
    "This is the lecture note for **lists**, but it's built upon contents from previous lectures such as: \n",
    "- input-output\n",
    "- variables\n",
    "- if-statement\n",
    "- for loop\n",
    "- random\n",
    "\n",
    "lists are used for storing several items in a variable\n",
    "\n",
    "<p class = \"alert alert-info\" role=\"alert\"><b>Note</b> that this lecture note gives a brief introduction to lists. I encourage you to read further about lists, when there is some functionality that you need.  \n",
    "\n",
    "Read more [w3schools - lists](https://www.w3schools.com/python/python_lists.asp)\n",
    "\n",
    "---"
   ]
  },
  {
   "cell_type": "markdown",
   "metadata": {},
   "source": [
    "## Access items\n",
    "\n",
    "- items have indices from 0 to length-1\n",
    "- items can be accessed through the indexing operator [] \n",
    "- can also access from right to left with negative indexing\n",
    "  - last element is at index -1\n",
    "\n",
    "Read more [w3schools - access list items](https://www.w3schools.com/python/python_lists_access.asp)"
   ]
  },
  {
   "cell_type": "code",
   "execution_count": null,
   "metadata": {},
   "outputs": [],
   "source": [
    "tv_shows = [\"Antikrundan\", \"Mästerkockarna\", \"Aktuellt\" , \"Talang\"]\n",
    "print(f\"tv_shows[0]: {tv_shows[0]}\")\n",
    "print(f\"tv_shows[1]: {tv_shows[1]}\")\n",
    "print(f\"tv_shows[2]: {tv_shows[2]}\")\n",
    "\n",
    "print(f\"tv_shows[-1]: {tv_shows[-1]}\") # access from right"
   ]
  },
  {
   "cell_type": "markdown",
   "metadata": {},
   "source": [
    "---\n",
    "## Iterate through list"
   ]
  },
  {
   "cell_type": "code",
   "execution_count": null,
   "metadata": {},
   "outputs": [],
   "source": [
    "for tv_show in tv_shows: \n",
    "    print(tv_show)"
   ]
  },
  {
   "cell_type": "code",
   "execution_count": null,
   "metadata": {},
   "outputs": [],
   "source": [
    "for i, tv_show in enumerate(tv_shows): # with enumerate you also get index of the list item\n",
    "    print(f\"{i}. {tv_show}\")"
   ]
  },
  {
   "cell_type": "markdown",
   "metadata": {},
   "source": [
    "---\n",
    "## Change list items\n",
    "\n",
    "Lists are mutable meaning: \n",
    "- can modify elements\n",
    "- can replace values\n",
    "- can change order of elements\n",
    "\n",
    "Read more [w3schools - change list items](https://www.w3schools.com/python/python_lists_change.asp)"
   ]
  },
  {
   "cell_type": "code",
   "execution_count": null,
   "metadata": {},
   "outputs": [],
   "source": [
    "tv_shows = [\"Antikrundan\", \"Mästerkockarna\", \"Aktuellt\" , \"Talang\"]\n",
    "tv_shows[0] = \"Vetenskapens värld\"\n",
    "print(f\"Replaced first element: {tv_shows}\") \n",
    "\n",
    "tv_shows.append(\"Pokemon\")\n",
    "print(f\"Added an element: {tv_shows}\")"
   ]
  },
  {
   "cell_type": "markdown",
   "metadata": {},
   "source": [
    "---\n",
    "## Slicing operator :\n",
    "\n",
    "The slicing operator is used for accessing a range of values in the list.\n"
   ]
  },
  {
   "cell_type": "code",
   "execution_count": null,
   "metadata": {},
   "outputs": [],
   "source": [
    "print(tv_shows[1:3]) # returns value at index 1 and index 2"
   ]
  },
  {
   "cell_type": "markdown",
   "metadata": {},
   "source": [
    "---\n",
    "## Sort a list \n",
    "\n",
    "- default: ascending order\n",
    "- sort descending: ```reverse = True```\n",
    "- alphabetically\n",
    "- numerically\n",
    "\n",
    "Read more [w3schools - sort list](https://www.w3schools.com/python/python_lists_sort.asp)"
   ]
  },
  {
   "cell_type": "code",
   "execution_count": null,
   "metadata": {},
   "outputs": [],
   "source": [
    "greek_letters = [\"beta\",\"alfa\", \"gamma\", \"delta\"]\n",
    "print(greek_letters)\n",
    "\n",
    "greek_letters =sorted(greek_letters)\n",
    "print(greek_letters)"
   ]
  },
  {
   "cell_type": "code",
   "execution_count": 3,
   "metadata": {},
   "outputs": [
    {
     "name": "stdout",
     "output_type": "stream",
     "text": [
      "Unsorted:   [21, 3, -321, 2, 0, 0]\n",
      "Ascending:  [-321, 0, 0, 2, 3, 21]\n",
      "Descending: [21, 3, 2, 0, 0, -321]\n"
     ]
    }
   ],
   "source": [
    "numbers = [21,3,-321,2,0,0]\n",
    "print(f\"Unsorted:   {numbers}\")\n",
    "\n",
    "numbers = sorted(numbers)\n",
    "print(f\"Ascending:  {numbers}\")\n",
    "\n",
    "numbers = sorted(numbers, reverse=True)\n",
    "print(f\"Descending: {numbers}\")"
   ]
  },
  {
   "cell_type": "markdown",
   "metadata": {},
   "source": [
    "---\n",
    "## List comprehension\n",
    "\n",
    "Shorter syntax to create a list"
   ]
  },
  {
   "cell_type": "code",
   "execution_count": null,
   "metadata": {},
   "outputs": [],
   "source": [
    "cubes = [x**3 for x in range(1,10)] # x will get the values 1,...,9 -> [1^3, 2^3,...,9^3]\n",
    "print(cubes)"
   ]
  },
  {
   "cell_type": "markdown",
   "metadata": {},
   "source": [
    "---\n",
    "## Plot graph\n",
    "\n",
    "To plot simple graphs from lists, we use **matplotlib**. You need to install matplotlib and it is recommended that you install it with the dependency manager pipenv. \n",
    "\n",
    "```\n",
    "pipenv install matplotlib\n",
    "```\n",
    "\n",
    "Read more [w3schools - matplotlib](https://www.w3schools.com/python/matplotlib_intro.asp)"
   ]
  },
  {
   "cell_type": "code",
   "execution_count": null,
   "metadata": {},
   "outputs": [],
   "source": [
    "import matplotlib.pyplot as plt \n",
    "\n",
    "x = list(range(10)) # creates a list of integers from 0-9\n",
    "k = 2\n",
    "m = 2\n",
    "y = [k*x+m for x in x]\n",
    "\n",
    "plt.plot(x,y) # plots y vs x \n",
    "plt.title(\"Plot y = 2x+2\")\n",
    "plt.xlabel(\"x\")\n",
    "plt.ylabel(\"y\")"
   ]
  }
 ],
 "metadata": {
  "kernelspec": {
   "display_name": "Python 3.9.6 64-bit",
   "language": "python",
   "name": "python3"
  },
  "language_info": {
   "codemirror_mode": {
    "name": "ipython",
    "version": 3
   },
   "file_extension": ".py",
   "mimetype": "text/x-python",
   "name": "python",
   "nbconvert_exporter": "python",
   "pygments_lexer": "ipython3",
   "version": "3.11.4"
  },
  "orig_nbformat": 4,
  "vscode": {
   "interpreter": {
    "hash": "0da836a34428266995a795f1e1e27b816fa1c02f148d9728b3fbbbc5459afca6"
   }
  }
 },
 "nbformat": 4,
 "nbformat_minor": 2
}
