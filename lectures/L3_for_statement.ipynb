{
 "cells": [
  {
   "cell_type": "markdown",
   "metadata": {},
   "source": [
    "\n",
    "<a href=\"https://colab.research.google.com/github/aleylani/Python/blob/main/lectures/L3-for-statement.ipynb\" target=\"_parent\"><img align=\"left\" src=\"https://colab.research.google.com/assets/colab-badge.svg\" alt=\"Open In Colab\"/></a> &nbsp; for interacting with the code"
   ]
  },
  {
   "cell_type": "markdown",
   "metadata": {},
   "source": [
    "---\n",
    "# Lecture notes - for-statement\n",
    "\n",
    "---\n",
    "This is the lecture note for **for-statement**, but it's built upon contents from previous lectures such as: \n",
    "- input-output\n",
    "- variables\n",
    "- if-statement\n",
    "\n",
    "for loop is used for repeating code by iterating over a sequence such as a list. \n",
    "\n",
    "Read more [w3schools - for loop](https://www.w3schools.com/python/python_for_loops.asp)\n",
    "\n",
    "---"
   ]
  },
  {
   "cell_type": "markdown",
   "metadata": {},
   "source": [
    "## List\n",
    "\n",
    "A simple list is an object that can contain other objects. We will talk more about lists next lecture."
   ]
  },
  {
   "cell_type": "code",
   "execution_count": null,
   "metadata": {},
   "outputs": [],
   "source": [
    "my_first_list = ['Monday', 'Tuesday', 'Wednesday', 'Thursday', 'Friday','Saturday', 'Sunday']\n",
    "\n",
    "print(my_first_list)"
   ]
  },
  {
   "cell_type": "markdown",
   "metadata": {},
   "source": [
    "You can access individual items in a list as such:"
   ]
  },
  {
   "cell_type": "code",
   "execution_count": null,
   "metadata": {},
   "outputs": [],
   "source": [
    "print(my_first_list[0])   # Python starts counting from 0!\n",
    "print(my_first_list[1])\n",
    "print(my_first_list[2])\n",
    "print(my_first_list[3])\n",
    "print(my_first_list[4])\n",
    "print(my_first_list[5])\n",
    "print(my_first_list[6])"
   ]
  },
  {
   "cell_type": "markdown",
   "metadata": {},
   "source": [
    "However, we can also us a for-loop to iterate through these items. \n",
    "\n",
    "During each loop, Python will assign the variable 'day' to each item in the list 'my_first_list' - in the order they show up."
   ]
  },
  {
   "cell_type": "code",
   "execution_count": null,
   "metadata": {},
   "outputs": [],
   "source": [
    "for day in my_first_list:\n",
    "\n",
    "    print(f'Today is {day}')"
   ]
  },
  {
   "cell_type": "markdown",
   "metadata": {},
   "source": [
    "**Note:** It doesn't matter what variable you want Python to dynamically assign. It's totally up to you.\n",
    "\n",
    "A great suggestion is, as always, to use logical variable names."
   ]
  },
  {
   "cell_type": "code",
   "execution_count": null,
   "metadata": {},
   "outputs": [],
   "source": [
    "for aabb in my_first_list:             # works just fine, but not at all a good choice of name for the iterating variable\n",
    "\n",
    "    print(f'Today is {aabb}')"
   ]
  },
  {
   "cell_type": "markdown",
   "metadata": {},
   "source": [
    "## range() function\n",
    "\n",
    "Used together with for loop to repeat code a certain number of times. \n",
    "\n",
    "```python\n",
    "for i in range(n): \n",
    "    print(i)\n",
    "```\n",
    "i will start from 0 and end with n-1. n must be an integer. \n",
    "\n",
    "```python\n",
    "for i in range(start, end, step):\n",
    "    print(i)\n",
    "``` \n",
    "prints i from start to end-1 with step as the increment"
   ]
  },
  {
   "cell_type": "code",
   "execution_count": null,
   "metadata": {},
   "outputs": [],
   "source": [
    "for i in range(3): # note that the count starts from 0\n",
    "    print(f\"{i} Hello\")"
   ]
  },
  {
   "cell_type": "code",
   "execution_count": null,
   "metadata": {},
   "outputs": [],
   "source": [
    "# print out numbers without newlines\n",
    "for i in range(10):\n",
    "    print(i, end=\" \")"
   ]
  },
  {
   "cell_type": "code",
   "execution_count": null,
   "metadata": {},
   "outputs": [],
   "source": [
    "sum = 0\n",
    "# calculate sum from 0-5\n",
    "for i in range(6): # note that 6\n",
    "    sum += i\n",
    "\n",
    "print(f\"0+1+2+3+4+5={sum}\")"
   ]
  },
  {
   "cell_type": "code",
   "execution_count": null,
   "metadata": {},
   "outputs": [],
   "source": [
    "sum = 0\n",
    "# calculate sum of all odd numbers between 1 and 100\n",
    "for i in range(1,20,2):\n",
    "    sum += i # addition\n",
    "\n",
    "    # nice printing\n",
    "    print(f\"{i}\", end = \"\")\n",
    "    if i != 19:\n",
    "        print(\"+\", end=\"\")\n",
    "\n",
    "    if i == 19:\n",
    "        print(f\"={sum}\", end=\"\")"
   ]
  },
  {
   "cell_type": "markdown",
   "metadata": {},
   "source": [
    "---\n",
    "## random module\n",
    "\n",
    "Used to generate random numbers. \n",
    "\n",
    "Read more: [w3schools - random module](https://www.w3schools.com/python/module_random.asp)"
   ]
  },
  {
   "cell_type": "code",
   "execution_count": null,
   "metadata": {},
   "outputs": [],
   "source": [
    "import random as rnd # the random module can now be accessed through rnd \n",
    "\n",
    "num_six = 0\n",
    "dice_rolls = 10000\n",
    "\n",
    "# dice simulations - count number of sixes \n",
    "for i in range(dice_rolls):\n",
    "    dice = rnd.randint(1,6) # generates a random integer between 1 and 6\n",
    "    if dice == 6:\n",
    "        num_six += 1\n",
    "\n",
    "print(f\"Number of sixes {num_six} in {dice_rolls} dice rolls\")  \n",
    "print(f\"Probability of six {num_six/dice_rolls}\")"
   ]
  },
  {
   "cell_type": "markdown",
   "metadata": {},
   "source": [
    "---\n",
    "## Loop through list\n",
    "\n",
    "A list is a data type to store several items in a variable. There will be a separate lecture note for lists.\n",
    "\n",
    "Read more [w3schools - lists](https://www.w3schools.com/python/python_lists.asp)"
   ]
  },
  {
   "cell_type": "code",
   "execution_count": null,
   "metadata": {},
   "outputs": [],
   "source": [
    "fruits = [\"apple\", \"orange\", \"grape\", \"strawberry\"]\n",
    "\n",
    "print(\"I love to eat\")\n",
    "for fruit in fruits: # variable fruit will contain a value at a time from fruits\n",
    "    print(fruit)"
   ]
  },
  {
   "cell_type": "code",
   "execution_count": null,
   "metadata": {},
   "outputs": [],
   "source": [
    "print(\"My favorite fruits are: \")\n",
    "# enumerate to get a number for each element in a list that you loop through\n",
    "for i, fruit in enumerate(fruits,1): # 1 gives the starting number\n",
    "    print(f\"{i}. {fruit}\")\n"
   ]
  },
  {
   "cell_type": "markdown",
   "metadata": {},
   "source": [
    "---\n",
    "## Nested for loop\n",
    "\n",
    "A for loop inside another for loop. The inner loop will run for each iteration of the outer loop."
   ]
  },
  {
   "cell_type": "code",
   "execution_count": null,
   "metadata": {},
   "outputs": [],
   "source": [
    "# matrix coordinates\n",
    "for x in range(0,3):\n",
    "    for j in range(0,3):\n",
    "        print(f\"({x},{j})\", end=\"\")    \n",
    "    print() "
   ]
  }
 ],
 "metadata": {
  "kernelspec": {
   "display_name": "Python 3.9.6 64-bit",
   "language": "python",
   "name": "python3"
  },
  "language_info": {
   "codemirror_mode": {
    "name": "ipython",
    "version": 3
   },
   "file_extension": ".py",
   "mimetype": "text/x-python",
   "name": "python",
   "nbconvert_exporter": "python",
   "pygments_lexer": "ipython3",
   "version": "3.11.4"
  },
  "orig_nbformat": 4,
  "vscode": {
   "interpreter": {
    "hash": "0da836a34428266995a795f1e1e27b816fa1c02f148d9728b3fbbbc5459afca6"
   }
  }
 },
 "nbformat": 4,
 "nbformat_minor": 2
}
