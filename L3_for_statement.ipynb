{
  "cells": [
    {
      "cell_type": "markdown",
      "metadata": {
        "id": "view-in-github",
        "colab_type": "text"
      },
      "source": [
        "<a href=\"https://colab.research.google.com/github/aleylani/Python/blob/main/L3_for_statement.ipynb\" target=\"_parent\"><img src=\"https://colab.research.google.com/assets/colab-badge.svg\" alt=\"Open In Colab\"/></a>"
      ]
    },
    {
      "cell_type": "markdown",
      "metadata": {
        "id": "hj0i6tX1ITft"
      },
      "source": [
        "# for loop"
      ]
    },
    {
      "cell_type": "code",
      "execution_count": null,
      "metadata": {
        "id": "-7vF4ZueITfv"
      },
      "outputs": [],
      "source": [
        "for i in range(5):\n",
        "    print(i, \"hej\")\n",
        "\n",
        "# other languages\n",
        "# for (int i = 0; i < 5; i++){\n",
        "#   statements\n",
        "# }"
      ]
    },
    {
      "cell_type": "code",
      "execution_count": null,
      "metadata": {
        "id": "ftXjQNb8ITfv"
      },
      "outputs": [],
      "source": [
        "for i in range(10):\n",
        "    print(i, end = \"\\t\")"
      ]
    },
    {
      "cell_type": "code",
      "execution_count": null,
      "metadata": {
        "id": "7R4LzbJWITfw"
      },
      "outputs": [],
      "source": [
        "my_sum = 0\n",
        "\n",
        "for i in range(10):\n",
        "    my_sum += i\n",
        "\n",
        "print(f\"0+1+2+...+9 = {my_sum}\")"
      ]
    },
    {
      "cell_type": "markdown",
      "metadata": {
        "id": "4JUBZVarITfw"
      },
      "source": [
        "## Loop through a list"
      ]
    },
    {
      "cell_type": "code",
      "execution_count": null,
      "metadata": {
        "id": "LBVnjcd9ITfw"
      },
      "outputs": [],
      "source": [
        "cute_animals = [\"rabbit\", \"guinea pig\", \"cat\", \"guppy\"]\n",
        "\n",
        "for animal in cute_animals:\n",
        "    print(f\"{animal} is cute\")"
      ]
    },
    {
      "cell_type": "markdown",
      "metadata": {
        "id": "ng8epviEITfx"
      },
      "source": [
        "## random module"
      ]
    },
    {
      "cell_type": "code",
      "execution_count": null,
      "metadata": {
        "id": "92aZ0e7aITfx"
      },
      "outputs": [],
      "source": [
        "import random as rnd\n",
        "\n",
        "number_sixes = 0\n",
        "number_rolls = 1000000\n",
        "\n",
        "for i in range(number_rolls):\n",
        "    dice = rnd.randint(1,6)\n",
        "    if dice == 6:\n",
        "        number_sixes += 1\n",
        "\n",
        "print(f\"{number_sixes=}\")\n",
        "print(f\"Proportion of sixes {number_sixes/number_rolls}\")\n",
        "\n",
        "# why does it seem to converge towards 0.166..."
      ]
    },
    {
      "cell_type": "markdown",
      "metadata": {
        "id": "fo6zoRc3ITfx"
      },
      "source": [
        "## Pasta\n",
        "\n",
        "Nationella prov ma3c ht14 - uppgift 18"
      ]
    },
    {
      "cell_type": "code",
      "execution_count": null,
      "metadata": {
        "id": "VahrprvOITfy"
      },
      "outputs": [],
      "source": [
        "import math\n",
        "\n",
        "for year in range(10000):\n",
        "    pasta_consumption = .791*math.exp(.0526*year)\n",
        "    if pasta_consumption >= 15:\n",
        "        print(f\"År {year+1960} är pastakonsumptionen 15kg/person per år\")\n",
        "        break\n"
      ]
    },
    {
      "cell_type": "code",
      "execution_count": null,
      "metadata": {
        "id": "urY8Ww_bITfz"
      },
      "outputs": [],
      "source": [
        "## b)\n",
        "\n",
        "import matplotlib.pyplot as plt\n",
        "\n",
        "# creates an empty list\n",
        "pasta_per_year = []\n",
        "\n",
        "# loops 140 years - because 2100-1960\n",
        "for year in range(140):\n",
        "    pasta_consumption = .791*math.exp(.0526*year)\n",
        "    # append - adds an element to the list\n",
        "    pasta_per_year.append(pasta_consumption)\n",
        "\n",
        "plt.plot(range(1960, 2100), pasta_per_year)\n",
        "plt.xlabel(\"År\")\n",
        "plt.ylabel(\"Pastakonsumtion i kg\")\n",
        "plt.title(\"Pastakonsumtion/kg per person per år från 1960\")\n",
        "\n",
        "plt.show()\n",
        "print(\"Supermycket PASTA\")"
      ]
    },
    {
      "cell_type": "markdown",
      "metadata": {
        "id": "hRlpB-ZbITf3"
      },
      "source": [
        "## Nested loops\n",
        "\n",
        "- a loop in a loop\n",
        "\n",
        "Want to print this\n",
        "```\n",
        "(1,1)(1,2)(1,3)\n",
        "(2,1)(2,2)(2,3)\n",
        "(3,1)(3,2)(3,3)\n",
        "```"
      ]
    },
    {
      "cell_type": "code",
      "execution_count": null,
      "metadata": {
        "id": "QEWIhCP_ITf4"
      },
      "outputs": [],
      "source": [
        "\n",
        "for row in range(1,4):\n",
        "    for col in range(1,4):\n",
        "        print(f\"({row},{col})\", end=\"\")\n",
        "    print() # newline"
      ]
    }
  ],
  "metadata": {
    "kernelspec": {
      "display_name": "Python 3 (ipykernel)",
      "language": "python",
      "name": "python3"
    },
    "language_info": {
      "codemirror_mode": {
        "name": "ipython",
        "version": 3
      },
      "file_extension": ".py",
      "mimetype": "text/x-python",
      "name": "python",
      "nbconvert_exporter": "python",
      "pygments_lexer": "ipython3",
      "version": "3.8.13"
    },
    "vscode": {
      "interpreter": {
        "hash": "3b136723b0d4708e16bf623335cc8688085bd3f1313316a001291a7f1d2024db"
      }
    },
    "colab": {
      "provenance": [],
      "include_colab_link": true
    }
  },
  "nbformat": 4,
  "nbformat_minor": 0
}