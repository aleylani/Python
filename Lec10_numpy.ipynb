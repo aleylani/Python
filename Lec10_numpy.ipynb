{
  "cells": [
    {
      "cell_type": "markdown",
      "metadata": {
        "id": "view-in-github",
        "colab_type": "text"
      },
      "source": [
        "<a href=\"https://colab.research.google.com/github/aleylani/Python/blob/main/Lec10_numpy.ipynb\" target=\"_parent\"><img src=\"https://colab.research.google.com/assets/colab-badge.svg\" alt=\"Open In Colab\"/></a>"
      ]
    },
    {
      "cell_type": "markdown",
      "metadata": {
        "id": "Q0iQPanbV9L9"
      },
      "source": [
        "---\n",
        "# Lecture notes - numpy arrays\n",
        "\n",
        "---\n",
        "This is the lecture note for **numpy arrays**, but it's built upon contents from previous lectures such as:\n",
        "- input-output\n",
        "- variables\n",
        "- if-statement\n",
        "- for loop\n",
        "- random\n",
        "\n",
        "Numpy is a very important package for numerical computations in Python. It has a ndarrays for efficient arithmetic operations and tons of mathematical functionalities without loops.\n",
        "\n",
        "<p class = \"alert alert-info\" role=\"alert\"><b>Note</b> that this lecture note gives a brief introduction to lists. I encourage you to read further about lists, when there is some functionality that you need. If you haven't you need to install numpy using\n",
        "\n",
        "```py\n",
        "pipenv install numpy\n",
        "```\n",
        "\n",
        "Read more\n",
        "\n",
        "- [what is numpy - documentation](https://numpy.org/devdocs/user/whatisnumpy.html)\n",
        "- [numpy arrays - documentation](https://numpy.org/devdocs/user/basics.creation.html)\n",
        "\n",
        "---"
      ]
    },
    {
      "cell_type": "markdown",
      "metadata": {
        "id": "FOHBxMwbV9L_"
      },
      "source": [
        "## Arrays (vector)\n",
        "\n",
        "Numpy arrays can't change size, after it's created. It is strongly typed, which means we can't change a value to a type that's different from its current data type. Numpy array is much more performant compared to lists. Also it is very well suited for performant mathematical operations. To master numpy and its power, one must know linear algebra, the concepts of vectors, matrices and different mathematical operations related to them."
      ]
    },
    {
      "cell_type": "code",
      "execution_count": null,
      "metadata": {
        "id": "_jcqVC9BV9ME"
      },
      "outputs": [],
      "source": [
        "import numpy as np\n",
        "\n",
        "# creating an array from list, it is also a data structure for representing a mathematical vector\n",
        "vector1 = np.array([2,5,1])\n",
        "print(f\"{vector1=}\")\n",
        "# the multiplication performs element-wise\n",
        "print(f\"{vector1*2=}\")\n",
        "# note the difference in list\n",
        "print([2,5,1]*2)\n",
        "\n",
        "vector2 = np.ones(3)\n",
        "print(f\"{vector2=}\")\n",
        "print(f\"{vector1+vector2=}\")\n",
        "vector2[-1]=99\n",
        "print(f\"{vector2=}\")\n",
        "\n",
        "# sort\n",
        "vector1.sort()\n",
        "print(f\"{vector1=}\")\n",
        "\n",
        "# mathematical methods\n",
        "print(f\"{vector1.sum()=}\")\n",
        "print(f\"{vector1.mean()=:.2f}\")"
      ]
    },
    {
      "cell_type": "markdown",
      "metadata": {
        "id": "_JyGhuTLV9ME"
      },
      "source": [
        "---\n",
        "## 2D array (matrix)"
      ]
    },
    {
      "cell_type": "code",
      "execution_count": null,
      "metadata": {
        "id": "M8o4P2VAV9MF"
      },
      "outputs": [],
      "source": [
        "matrix1 = np.array([[1, 2, 3], [4, 5, 6]])\n",
        "\n",
        "print(\"Matrix\")\n",
        "print(matrix1)\n",
        "\n",
        "# indexing\n",
        "matrix1[1,2]=55\n",
        "\n",
        "print(matrix1)\n",
        "\n",
        "print(\"Slicing\")\n",
        "print(f\"All rows in column 2: {matrix1[:,1]}\") # slicing :\n",
        "\n",
        "# random integer matrix\n",
        "print(f\"{np.random.randint(-1,10, size=(4,4))}\")\n",
        "# zeros\n",
        "print(f\"{np.zeros(shape=(3,4))}\")"
      ]
    },
    {
      "cell_type": "markdown",
      "metadata": {
        "id": "59MgZzcDV9MF"
      },
      "source": [
        "---\n",
        "## Linspace\n",
        "\n",
        "- creates a vector between (start, end, number of values evenly spaced)\n",
        "- useful for creating graphs\n"
      ]
    },
    {
      "cell_type": "code",
      "execution_count": null,
      "metadata": {
        "id": "a2a5l9DMV9MF"
      },
      "outputs": [],
      "source": [
        "import matplotlib.pyplot as plt\n",
        "plt.style.use(\"seaborn-white\")\n",
        "\n",
        "print(f\"{np.linspace(1,4,7)}\")\n",
        "\n",
        "x = np.linspace(-5,5) # default gives 50 points\n",
        "print(f\"{x.shape=}\")\n",
        "\n",
        "f = lambda x: x**2+2\n",
        "\n",
        "plt.plot(x, f(x))\n",
        "plt.title(r\"$f(x) = x^2$\")"
      ]
    },
    {
      "cell_type": "markdown",
      "metadata": {
        "id": "nXbQiLIhV9MG"
      },
      "source": [
        "---\n",
        "## Performance\n",
        "\n",
        "The typing in Python is dynamic which means that we also can create heterogenous lists, that is lists with different types. However this creates an overhead since each item needs to have information about its type, which means that each element in the list is an object. The information is redundant in case of all elements are one data type.\n",
        "\n",
        "- loops in Python are very slow due to its dynamic typing, it can't efficiently be compiled to machine code\n",
        "- numpy arrays have one fixed data type for each element\n",
        "  - less flexibility\n",
        "  - higher performance\n",
        "- don't loop through numpy arrays as loops are very slow\n",
        "- use numpy's methods (vectorization), which under the hood is implemented with ufuncs that operates on an array elementwise\n",
        "- these ufuncs gives the array processing to C, which is much faster than Python loops"
      ]
    },
    {
      "cell_type": "code",
      "execution_count": null,
      "metadata": {
        "id": "82qSzz0YV9MG"
      },
      "outputs": [],
      "source": [
        "%%timeit\n",
        "import random as rnd\n",
        "\n",
        "number_dices = 1000000\n",
        "\n",
        "many_dices = [rnd.randint(1,6) for _ in range(number_dices)]"
      ]
    },
    {
      "cell_type": "code",
      "execution_count": null,
      "metadata": {
        "id": "mHarN6HIV9MH"
      },
      "outputs": [],
      "source": [
        "%%timeit\n",
        "\n",
        "number_dices = 1000000\n",
        "\n",
        "many_dices = np.random.randint(1,6,number_dices)"
      ]
    }
  ],
  "metadata": {
    "kernelspec": {
      "display_name": "Python 3 (ipykernel)",
      "language": "python",
      "name": "python3"
    },
    "language_info": {
      "codemirror_mode": {
        "name": "ipython",
        "version": 3
      },
      "file_extension": ".py",
      "mimetype": "text/x-python",
      "name": "python",
      "nbconvert_exporter": "python",
      "pygments_lexer": "ipython3",
      "version": "3.8.13"
    },
    "vscode": {
      "interpreter": {
        "hash": "2163858a1cb747571b479610ffa1da36240a523145d5162fffa1bc4aebda0e4e"
      }
    },
    "colab": {
      "provenance": [],
      "include_colab_link": true
    }
  },
  "nbformat": 4,
  "nbformat_minor": 0
}