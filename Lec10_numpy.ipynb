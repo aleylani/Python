{
  "cells": [
    {
      "cell_type": "markdown",
      "metadata": {
        "id": "view-in-github",
        "colab_type": "text"
      },
      "source": [
        "<a href=\"https://colab.research.google.com/github/aleylani/Python/blob/main/Lec10_numpy.ipynb\" target=\"_parent\"><img src=\"https://colab.research.google.com/assets/colab-badge.svg\" alt=\"Open In Colab\"/></a>"
      ]
    },
    {
      "cell_type": "markdown",
      "metadata": {
        "id": "JCt85_dGI39B"
      },
      "source": [
        "# Numpy"
      ]
    },
    {
      "cell_type": "code",
      "execution_count": null,
      "metadata": {
        "id": "jDW5MxlQI39D"
      },
      "outputs": [],
      "source": [
        "numbers_list = [1,2,3]\n",
        "numbers_list = numbers_list*2\n",
        "print(numbers_list)\n",
        "\n",
        "# in a list we can place different data types\n",
        "mixed_list = [1, \"ett\", True, 2.3] # dynamic typing in Python\n",
        "# element in the list is an object, it has information on what type it is\n",
        "# this requires some overhead, which slows down the program\n",
        "# note that when we have one data type, it is unnecessary to have this overhead\n",
        "print(mixed_list)"
      ]
    },
    {
      "cell_type": "code",
      "execution_count": null,
      "metadata": {
        "id": "mIImGnN0I39E"
      },
      "outputs": [],
      "source": [
        "# in numpy we have statically typed\n",
        "import numpy as np\n",
        "\n",
        "# create an array from a list\n",
        "vector1 = np.array([2,5,1])\n",
        "print(vector1)\n",
        "\n",
        "# elementwise multiplication\n",
        "vector2 = vector1*2\n",
        "print(vector2)\n",
        "\n",
        "print(f\"{vector1+2=}\")\n",
        "\n",
        "# indexing\n",
        "print(f\"{vector1[2]=}\")\n",
        "print(f\"{vector1[-1]=}\")\n",
        "# slicing\n",
        "print(f\"{vector1[1:]=}\")\n",
        "\n",
        "vector1[1] = 1337\n",
        "print(vector1)\n",
        "\n",
        "# can't append to an array - can't change its size\n",
        "# can't have different types in an array\n",
        "\n",
        "# sort\n",
        "vector1.sort()\n",
        "print(f\"{vector1=}\")\n",
        "\n",
        "# sum\n",
        "print(f\"{vector1.sum()=}\")\n",
        "print(f\"{vector1.mean()=:.2f}\")"
      ]
    },
    {
      "cell_type": "code",
      "execution_count": null,
      "metadata": {
        "id": "qAhTnZ0HI39E"
      },
      "outputs": [],
      "source": [
        "ones_vector = np.ones(10)\n",
        "print(f\"{ones_vector=}\")\n",
        "\n",
        "# 2d array of shape (3,3)\n",
        "matrix_3x3 = np.ones((3,3))\n",
        "\n",
        "print(f\"{matrix_3x3=}\")\n",
        "\n",
        "# [row, index] - counts from 0\n",
        "matrix_3x3[2,1] = 10\n",
        "\n",
        "matrix_3x3"
      ]
    },
    {
      "cell_type": "code",
      "execution_count": null,
      "metadata": {
        "id": "_UENOGLBI39E"
      },
      "outputs": [],
      "source": [
        "np.zeros([2,5]) # shapelike - takes in a tuple or a list\n"
      ]
    },
    {
      "cell_type": "code",
      "execution_count": null,
      "metadata": {
        "id": "q9JkzFhKI39E"
      },
      "outputs": [],
      "source": [
        "print(matrix_3x3.shape)\n",
        "\n",
        "# slicing operator to get a row\n",
        "print(f\"{matrix_3x3[2,:]=}\")\n",
        "\n",
        "# slicing operator to get a column\n",
        "print(f\"{matrix_3x3[:,1]=}\")\n",
        "\n",
        "# add 2 vectors\n",
        "matrix_3x3[2,:] + matrix_3x3[:,1]"
      ]
    },
    {
      "cell_type": "markdown",
      "metadata": {
        "id": "_dDnlYKrI39F"
      },
      "source": [
        "## Dice simulations"
      ]
    },
    {
      "cell_type": "code",
      "execution_count": null,
      "metadata": {
        "id": "DztiNSPGI39F"
      },
      "outputs": [],
      "source": [
        "dices = np.random.randint(1, 7, 100)\n",
        "dices\n"
      ]
    },
    {
      "cell_type": "markdown",
      "metadata": {
        "id": "lKxOhddiI39F"
      },
      "source": [
        "## Linspace"
      ]
    },
    {
      "cell_type": "code",
      "execution_count": null,
      "metadata": {
        "id": "qsO8tC1_I39G"
      },
      "outputs": [],
      "source": [
        "x = np.linspace(-5,5) # default 50 equally spaces numbers between low and high\n",
        "print(x.shape)\n",
        "x"
      ]
    },
    {
      "cell_type": "code",
      "execution_count": null,
      "metadata": {
        "id": "JR_pqTJmI39H"
      },
      "outputs": [],
      "source": [
        "import matplotlib.pyplot as plt\n",
        "\n",
        "# <=> def f(x): return x + 2\n",
        "f = lambda x: x+2\n",
        "g = lambda x: -x\n",
        "\n",
        "print(f(x))\n",
        "plt.plot(x, f(x))\n",
        "plt.plot(x, g(x))"
      ]
    },
    {
      "cell_type": "code",
      "execution_count": null,
      "metadata": {
        "id": "F4tQx4fwI39H"
      },
      "outputs": [],
      "source": [
        "np.arange(10)"
      ]
    },
    {
      "cell_type": "markdown",
      "metadata": {
        "id": "VPdxA-eGI39H"
      },
      "source": [
        "## Performance"
      ]
    },
    {
      "cell_type": "code",
      "execution_count": null,
      "metadata": {
        "id": "kCSatmdPI39I"
      },
      "outputs": [],
      "source": [
        "%%timeit\n",
        "import random as rnd\n",
        "\n",
        "number_dices = 1_000_000\n",
        "\n",
        "many_dices = []\n",
        "\n",
        "for dice in range(number_dices):\n",
        "    many_dices.append(rnd.randint(1,6))"
      ]
    },
    {
      "cell_type": "code",
      "execution_count": null,
      "metadata": {
        "id": "54EhdgVvI39I"
      },
      "outputs": [],
      "source": [
        "%%timeit\n",
        "import random as rnd\n",
        "\n",
        "number_dices = 1_000_000\n",
        "\n",
        "many_dices = [rnd.randint(1,6) for _ in range(number_dices)]"
      ]
    },
    {
      "cell_type": "code",
      "execution_count": null,
      "metadata": {
        "id": "jxIVhyHdI39I"
      },
      "outputs": [],
      "source": [
        "%%timeit\n",
        "import random as rnd\n",
        "\n",
        "number_dices = 1_000_000\n",
        "\n",
        "many_dices = np.random.randint(1,7, number_dices)"
      ]
    },
    {
      "cell_type": "code",
      "execution_count": null,
      "metadata": {
        "id": "zGpnyXqjI39I"
      },
      "outputs": [],
      "source": [
        "703/9.67"
      ]
    },
    {
      "cell_type": "markdown",
      "metadata": {
        "id": "ts31uG37I39J"
      },
      "source": []
    }
  ],
  "metadata": {
    "kernelspec": {
      "display_name": "Python 3 (ipykernel)",
      "language": "python",
      "name": "python3"
    },
    "language_info": {
      "codemirror_mode": {
        "name": "ipython",
        "version": 3
      },
      "file_extension": ".py",
      "mimetype": "text/x-python",
      "name": "python",
      "nbconvert_exporter": "python",
      "pygments_lexer": "ipython3",
      "version": "3.8.13"
    },
    "vscode": {
      "interpreter": {
        "hash": "3b136723b0d4708e16bf623335cc8688085bd3f1313316a001291a7f1d2024db"
      }
    },
    "colab": {
      "provenance": [],
      "include_colab_link": true
    }
  },
  "nbformat": 4,
  "nbformat_minor": 0
}