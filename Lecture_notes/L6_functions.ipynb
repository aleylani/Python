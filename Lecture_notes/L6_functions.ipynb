{
  "cells": [
    {
      "cell_type": "markdown",
      "metadata": {
        "colab_type": "text",
        "id": "view-in-github"
      },
      "source": [
        "<a href=\"https://colab.research.google.com/github/aleylani/Python/blob/main/Lecture_notes/L6_functions.ipynb\" target=\"_parent\"><img src=\"https://colab.research.google.com/assets/colab-badge.svg\" alt=\"Open In Colab\"/></a>"
      ]
    },
    {
      "cell_type": "markdown",
      "metadata": {
        "id": "fgXwYfa0VXPg"
      },
      "source": [
        "---\n",
        "# Lecture notes - functions\n",
        "\n",
        "---\n",
        "This is the lecture note for **functions**, but it's built upon contents from previous lectures such as:\n",
        "- input-output\n",
        "- variables\n",
        "- if-statement\n",
        "- for loop\n",
        "- while\n",
        "- lists\n",
        "- random\n",
        "- strings\n",
        "\n",
        "A function is a block of code that runs when it is called. A function can have parameters and it can return some data.\n",
        "\n",
        "<p class = \"alert alert-info\" role=\"alert\"><b>Note</b> that this lecture note gives a brief introduction to functions. I encourage you to read further about functions.\n",
        "\n",
        "Read more [w3schools - functions](https://www.w3schools.com/python/python_functions.asp)\n",
        "\n",
        "---"
      ]
    },
    {
      "cell_type": "markdown",
      "metadata": {
        "id": "qxaWL80nVXPh"
      },
      "source": [
        "## Creating a function - def\n",
        "\n",
        "```py\n",
        "def name(param1, param2, ...):\n",
        "    statements\n",
        "    ...\n",
        "\n",
        "name(arg1, arg2, ...)\n",
        "```"
      ]
    },
    {
      "cell_type": "code",
      "execution_count": null,
      "metadata": {
        "id": "-M38mK_fVXPh"
      },
      "outputs": [],
      "source": [
        "def squarer(x): # input parameter x\n",
        "    return x**2 # returns x**2\n",
        "\n",
        "print(squarer(3))\n",
        "squares = [squarer(x) for x in range(10)]\n",
        "print(squares)"
      ]
    },
    {
      "cell_type": "markdown",
      "metadata": {
        "id": "dLIHxWFSVXPi"
      },
      "source": [
        "---\n",
        "## Default value"
      ]
    },
    {
      "cell_type": "code",
      "execution_count": null,
      "metadata": {
        "id": "7B53pQUwVXPi"
      },
      "outputs": [],
      "source": [
        "# this function returns None but prints out\n",
        "def say_hello(name = \"friend\"):\n",
        "    print(f\"Hi {name}\")\n",
        "\n",
        "say_hello(\"Ada\")\n",
        "say_hello() # since no argument is sent - name is assigned the default value \"friend\"\n",
        "print(say_hello(\"Beda\")) #it returns None after the statements have executed"
      ]
    },
    {
      "cell_type": "markdown",
      "metadata": {
        "id": "u-CcboXvVXPi"
      },
      "source": [
        "<img src = \"../assets/function_fig.png\" width=400>"
      ]
    },
    {
      "cell_type": "code",
      "execution_count": null,
      "metadata": {
        "id": "8lgdVsZtVXPj"
      },
      "outputs": [],
      "source": [
        "def smallest(number1, number2):\n",
        "    if number1 > number2:\n",
        "        return number2\n",
        "    else:\n",
        "        return number1\n",
        "\n",
        "print(smallest(3,5))"
      ]
    },
    {
      "cell_type": "markdown",
      "metadata": {
        "id": "2I6GeVrrVXPj"
      },
      "source": [
        "---\n",
        "## Keyword arguments\n",
        "- key = value syntax"
      ]
    },
    {
      "cell_type": "code",
      "execution_count": null,
      "metadata": {
        "id": "8pjOZxQxVXPj"
      },
      "outputs": [],
      "source": [
        "def count_words(text):\n",
        "    words = text.split() # assuming a word ends with space\n",
        "    return len(words)\n",
        "\n",
        "quote = \"I stand on the shoulders of giants\"\n",
        "print(count_words(text = quote)) # used keyword arguments to call this function"
      ]
    },
    {
      "cell_type": "markdown",
      "metadata": {
        "id": "SGnBSRzrVXPk"
      },
      "source": [
        "---\n",
        "## Arbitrary arguments, *args\n",
        "- will receive a tuple of arguments, which can be accessed\n",
        "- use * before parameter name e.g.\n",
        "```py\n",
        "def func_name(*args):\n",
        "    statements\n",
        "    ....\n",
        "```"
      ]
    },
    {
      "cell_type": "code",
      "execution_count": null,
      "metadata": {
        "id": "PNB4LVybVXPk"
      },
      "outputs": [],
      "source": [
        "def my_mean(*args):\n",
        "    sum_ = 0\n",
        "    for arg in args:\n",
        "        sum_ += arg\n",
        "    return sum_/len(args)\n",
        "\n",
        "print(my_mean(1,2,3,4))"
      ]
    },
    {
      "cell_type": "markdown",
      "metadata": {
        "id": "zULhQu0FVXPl"
      },
      "source": [
        "---\n",
        "## Draw lines"
      ]
    },
    {
      "cell_type": "code",
      "execution_count": null,
      "metadata": {
        "id": "VizcMc3_VXPl"
      },
      "outputs": [],
      "source": [
        "import matplotlib.pyplot as plt\n",
        "\n",
        "x = list(range(-5, 5))\n",
        "\n",
        "# y = ax + b\n",
        "def draw_line(x, a=1, b=1):\n",
        "    y = [a*x_+b for x_ in x]\n",
        "\n",
        "    plt.plot(x,y)\n",
        "    plt.title(\"y = ax + b lines\")\n",
        "    plt.xlabel(\"x\")\n",
        "    plt.ylabel(\"y\")\n",
        "\n",
        "\n",
        "draw_line(x)\n",
        "draw_line(x,a=-1,b=-1)"
      ]
    },
    {
      "cell_type": "markdown",
      "metadata": {
        "id": "F5Zqb2bzVXPl"
      },
      "source": [
        "---\n",
        "## Draw circle"
      ]
    },
    {
      "cell_type": "code",
      "execution_count": null,
      "metadata": {
        "id": "gsfr9byLVXPm"
      },
      "outputs": [],
      "source": [
        "import numpy as np\n",
        "import matplotlib.pyplot as plt\n",
        "\n",
        "def draw_circle(radius = 1, center = (0,0)):\n",
        "    x = np.linspace(0, 2*np.pi)\n",
        "    plt.plot(radius*np.sin(x)+center[0], radius*np.cos(x)+center[1])\n",
        "    plt.plot(center[0], center[1], '*r')\n",
        "    plt.axis(\"equal\")\n",
        "\n",
        "draw_circle()\n",
        "draw_circle(radius=10,center=(2,2))\n"
      ]
    },
    {
      "cell_type": "markdown",
      "metadata": {
        "id": "qR1gAxLUVXPm"
      },
      "source": [
        "---\n",
        "## Lambda functions\n",
        "- an anonymous function\n",
        "- can take many arguments but have one expression\n",
        "- can be used inside another function\n",
        "\n",
        "Read more [w3schools - lambda functions](https://www.w3schools.com/python/python_lambda.asp)"
      ]
    },
    {
      "cell_type": "code",
      "execution_count": null,
      "metadata": {
        "id": "6LQb4ZVUVXPm"
      },
      "outputs": [],
      "source": [
        "squarer = lambda x: x**2\n",
        "print(squarer(5))"
      ]
    },
    {
      "cell_type": "code",
      "execution_count": null,
      "metadata": {
        "id": "dn-scxOqVXPm"
      },
      "outputs": [],
      "source": [
        "def n_power(n):\n",
        "    return lambda x: x**n\n",
        "\n",
        "third_power = n_power(3)\n",
        "\n",
        "print(third_power(2))"
      ]
    }
  ],
  "metadata": {
    "colab": {
      "include_colab_link": true,
      "provenance": []
    },
    "kernelspec": {
      "display_name": "Python 3 (ipykernel)",
      "language": "python",
      "name": "python3"
    },
    "language_info": {
      "codemirror_mode": {
        "name": "ipython",
        "version": 3
      },
      "file_extension": ".py",
      "mimetype": "text/x-python",
      "name": "python",
      "nbconvert_exporter": "python",
      "pygments_lexer": "ipython3",
      "version": "3.8.13"
    },
    "vscode": {
      "interpreter": {
        "hash": "0da836a34428266995a795f1e1e27b816fa1c02f148d9728b3fbbbc5459afca6"
      }
    }
  },
  "nbformat": 4,
  "nbformat_minor": 0
}
