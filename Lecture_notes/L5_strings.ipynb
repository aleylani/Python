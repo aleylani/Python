{
  "cells": [
    {
      "cell_type": "markdown",
      "metadata": {
        "id": "view-in-github",
        "colab_type": "text"
      },
      "source": [
        "<a href=\"https://colab.research.google.com/github/aleylani/Python/blob/main/L5_strings.ipynb\" target=\"_parent\"><img src=\"https://colab.research.google.com/assets/colab-badge.svg\" alt=\"Open In Colab\"/></a>"
      ]
    },
    {
      "cell_type": "markdown",
      "metadata": {
        "id": "l4vzc0A1VKlT"
      },
      "source": [
        "---\n",
        "# Lecture notes - strings\n",
        "\n",
        "---\n",
        "This is the lecture note for **strings**, but it's built upon contents from previous lectures such as:\n",
        "- input-output\n",
        "- variables\n",
        "- if-statement\n",
        "- for loop\n",
        "- while\n",
        "- lists\n",
        "- random\n",
        "\n",
        "strings are arrays of bytes that represents unicode characters\n",
        "\n",
        "<p class = \"alert alert-info\" role=\"alert\"><b>Note</b> that this lecture note gives a brief introduction to strings. I encourage you to read further about strings, when there is some functionality that you need.  \n",
        "\n",
        "Read more [w3schools - strings](https://www.w3schools.com/python/python_strings.asp)\n",
        "\n",
        "---"
      ]
    },
    {
      "cell_type": "markdown",
      "metadata": {
        "id": "6uSf0BFgVKlV"
      },
      "source": [
        "## Concatenate strings"
      ]
    },
    {
      "cell_type": "code",
      "execution_count": null,
      "metadata": {
        "id": "4-37tOYEVKlV",
        "outputId": "2db41d42-2ab1-4094-bb4f-5134ff18cfb7"
      },
      "outputs": [
        {
          "name": "stdout",
          "output_type": "stream",
          "text": [
            "\n",
            "Name: Ali Leylani\n",
            "School: IT-Högskolan\n",
            "Adress: Ebbe Lieberathsgatan 18C, 412 65 Göteborg\n",
            "Phone: 112\n",
            "\n"
          ]
        }
      ],
      "source": [
        "firstname = \"Ali\"\n",
        "lastname = \"Leylani\"\n",
        "\n",
        "fullname = firstname + \" \" + lastname # concatenating strings\n",
        "school = \"IT-Högskolan\"\n",
        "address = \"Ebbe Lieberathsgatan 18C, 412 65 Göteborg\"\n",
        "phone = \"112\"\n",
        "\n",
        "# multiline f-string\n",
        "contact_details = f\"\"\"\n",
        "Name: {fullname}\n",
        "School: {school}\n",
        "Adress: {address}\n",
        "Phone: {phone}\n",
        "\"\"\"\n",
        "\n",
        "print(contact_details)"
      ]
    },
    {
      "cell_type": "markdown",
      "metadata": {
        "id": "B-RVOsPJVKlW"
      },
      "source": [
        "---\n",
        "### Concatenate with loop"
      ]
    },
    {
      "cell_type": "code",
      "execution_count": null,
      "metadata": {
        "id": "jOZYIsD_VKlW"
      },
      "outputs": [],
      "source": [
        "bamba = [\"Chili sin carne\", \"Nudlar\", \"Pokebowl\", \"Pannkakor\", \"Tacos\"]\n",
        "days = [\"Må\", \"Ti\", \"On\", \"To\", \"Fr\"]\n",
        "\n",
        "menu = \"Veckomeny\\n\" # \\n gives newline\n",
        "\n",
        "for day, food in zip(days, bamba):\n",
        "    menu += f\"{day}: {food} \\n\"\n",
        "\n",
        "print(menu)\n"
      ]
    },
    {
      "cell_type": "markdown",
      "metadata": {
        "id": "OaW0nvKLVKlX"
      },
      "source": [
        "---\n",
        "## Indexing\n",
        "\n",
        "- a string is an array of bytes that represents unicode characters\n",
        "- use the indexing operator [] to access elements\n",
        "- combine with slice operator : to get a section in the string"
      ]
    },
    {
      "cell_type": "code",
      "execution_count": null,
      "metadata": {
        "id": "TnQo8BuWVKlX"
      },
      "outputs": [],
      "source": [
        "# note the different types of quotes, can't use '' for denoting string here, as ' is already used\n",
        "quote = \"!False - it's funny because it's True\"\n",
        "print(f\"quote[0]: {quote[0]}\")\n",
        "print(f\"quote[5]: {quote[5:10]}\") # [start:end-1]\n",
        "print(f\"quote[-4]: {quote[-4]}\") # indexing starting from the end\n",
        "print(f\"quote[-4:]: {quote[-4:]}\") # slice from -4 to the end\n",
        "print(f\"Backwards quote[::-1]: {quote[::-1]}\") # reversing"
      ]
    },
    {
      "cell_type": "markdown",
      "metadata": {
        "id": "SCL18AMiVKlY"
      },
      "source": [
        "---\n",
        "## Split a string\n",
        "- splitting a string\n"
      ]
    },
    {
      "cell_type": "code",
      "execution_count": null,
      "metadata": {
        "id": "aWhvU3U1VKlY"
      },
      "outputs": [],
      "source": [
        "subjects = \"Math, biology  ,   cHeMistry  ,  PrOgramming      \"\n",
        "subjects = subjects.split(\",\") # argument defines the pattern which the string should be splitted\n",
        "\n",
        "subjects = [subject.strip().upper() for subject in subjects] # strips and make uppercase\n",
        "\n",
        "for subject in subjects:\n",
        "    print(f\"{subject} has {len(subject)} letters\")\n",
        "    # len() returns the number of items, for a string it returns the number of characters"
      ]
    },
    {
      "cell_type": "code",
      "execution_count": null,
      "metadata": {
        "id": "Ylt_qR7xVKla"
      },
      "outputs": [],
      "source": [
        "# mean from input\n",
        "numbers = input(\"Ange några tal separerade med mellanslag: \").split()\n",
        "numbers = [float(number) for number in numbers]\n",
        "\n",
        "sum = 0\n",
        "\n",
        "for number in numbers:\n",
        "    sum += number\n",
        "\n",
        "mean = sum/len(numbers)\n",
        "print(f\"Medelvärdet av dina tal är {mean:.1f}\")"
      ]
    },
    {
      "cell_type": "markdown",
      "metadata": {
        "id": "hWJnNxfkVKla"
      },
      "source": [
        "---\n",
        "## Regular expressions\n",
        "\n",
        "Used for finding particular patterns in strings by using descriptors and matching.\n",
        "- findall(regex, string) returns a list of all matches\n",
        "- read more [w3schools - regular expressions](https://www.w3schools.com/python/python_regex.asp)\n",
        "\n",
        "we will cover more regular expressions in future lectures"
      ]
    },
    {
      "cell_type": "code",
      "execution_count": null,
      "metadata": {
        "id": "-aG9pWleVKlb"
      },
      "outputs": [],
      "source": [
        "import re\n",
        "\n",
        "# find all words ending with att in this text\n",
        "text = \"Det var en gång en katt som tog på sig en hatt.\"\n",
        "# need to use raw strings for regexp\n",
        "match_list = re.findall(r\".att\", text) # dot . matches all characters\n",
        "print(match_list)"
      ]
    },
    {
      "cell_type": "code",
      "execution_count": null,
      "metadata": {
        "id": "TlJGkFoBVKlb"
      },
      "outputs": [],
      "source": [
        "import re\n",
        "\n",
        "personal_numbers = \"Ida: 19950516-2235, Berit: 19581212-3213, Ada: 050524-1513, FEL: 19932235-3213\"\n",
        "\n",
        "match_long = re.findall(r\"\\d{8}-\\d{4}\", personal_numbers) #\\d - digit, {x} number of times it repeats\n",
        "print(f\"Naive YYYYMMDD-XXXX: {match_long}\")\n",
        "\n",
        "match_short = re.findall(r\"\\d{6}-\\d{4}\", personal_numbers)\n",
        "print(f\"Naive YYMMDD-XXXX: {match_short}\")"
      ]
    },
    {
      "cell_type": "markdown",
      "metadata": {
        "id": "OpBf2YQtVKlb"
      },
      "source": [
        "---\n",
        "## String methods\n",
        "\n",
        "There are many string methods available, reference [w3schools - string methods](https://www.w3schools.com/python/python_strings_methods.asp) when you need a specific method"
      ]
    }
  ],
  "metadata": {
    "kernelspec": {
      "display_name": "Python 3 (ipykernel)",
      "language": "python",
      "name": "python3"
    },
    "language_info": {
      "codemirror_mode": {
        "name": "ipython",
        "version": 3
      },
      "file_extension": ".py",
      "mimetype": "text/x-python",
      "name": "python",
      "nbconvert_exporter": "python",
      "pygments_lexer": "ipython3",
      "version": "3.8.13"
    },
    "vscode": {
      "interpreter": {
        "hash": "0da836a34428266995a795f1e1e27b816fa1c02f148d9728b3fbbbc5459afca6"
      }
    },
    "colab": {
      "provenance": [],
      "include_colab_link": true
    }
  },
  "nbformat": 4,
  "nbformat_minor": 0
}