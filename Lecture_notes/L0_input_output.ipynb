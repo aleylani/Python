{
  "cells": [
    {
      "cell_type": "markdown",
      "metadata": {
        "id": "view-in-github",
        "colab_type": "text"
      },
      "source": [
        "<a href=\"https://colab.research.google.com/github/aleylani/Python/blob/main/L0_input_output.ipynb\" target=\"_parent\"><img src=\"https://colab.research.google.com/assets/colab-badge.svg\" alt=\"Open In Colab\"/></a>"
      ]
    },
    {
      "cell_type": "markdown",
      "metadata": {
        "id": "ZM_6RsYdSUex"
      },
      "source": [
        "---\n",
        "# Lecture notes - input-output\n",
        "\n",
        "---\n",
        "This is the lecture note for **input**, **output** and **variables**. You will learn:\n",
        "- comments\n",
        "- how to use print\n",
        "- how to create variables\n",
        "- how to prompt user for input\n",
        "- basic f-strings\n",
        "\n",
        "## Python code\n",
        "Since this is the first lecture you should know that Python can be written in:\n",
        "- Python interactive shell\n",
        "- a Python script file (.py)\n",
        "- a Jupyter Notebook file (.ipynb)\n",
        "---"
      ]
    },
    {
      "cell_type": "markdown",
      "metadata": {
        "id": "8r8barOHSUey"
      },
      "source": [
        "## Print statement\n",
        "\n",
        "- Read more here: [w3schools - print()](https://www.w3schools.com/python/ref_func_print.asp)"
      ]
    },
    {
      "cell_type": "code",
      "execution_count": null,
      "metadata": {
        "id": "p03IJg1PSUey"
      },
      "outputs": [],
      "source": [
        "# this is a comment starting with hashtag. Comments are ignored by Python interpretor\n",
        "print(\"Hello world!\") # prints Hello world!\n",
        "print('My name is Ali') # notice that you can write strings with '' as well as with \"\""
      ]
    },
    {
      "cell_type": "markdown",
      "metadata": {
        "id": "YshrXjxnSUez"
      },
      "source": [
        "---\n",
        "## Variables\n",
        "With variables you store data in a container. You create variable and assigns a value to it. The data type is inferred by the interpretor. Important when creating variable name is to use describing names, so that it is easy to understand your code.\n",
        "\n",
        "<img src=\"../assets/variables.png\" width=600>\n",
        "\n",
        "Read more here:\n",
        "- [w3schools - variables](https://www.w3schools.com/python/python_variables.asp)\n",
        "- [w3schools - data type](https://www.w3schools.com/python/python_datatypes.asp)\n",
        "- [real python - f-strings](https://realpython.com/python-f-strings/)"
      ]
    },
    {
      "cell_type": "code",
      "execution_count": null,
      "metadata": {
        "id": "sBfw6HcwSUez"
      },
      "outputs": [],
      "source": [
        "firstname = \"Ali\" # firstname is assigned with the value \"Kokchun\"\n",
        "lastname = \"Leylani\"\n",
        "age = 33\n",
        "\n",
        "# this is an f-string, which allows you to incorporate variable into the strings\n",
        "print(f\"My name is {firstname} {lastname}\")\n",
        "print(f\"My age is {age}\")\n",
        "\n",
        "# reassign another value to an existing variable\n",
        "age = 30.4\n",
        "print(f\"More specifically, I am {age} years old\")"
      ]
    },
    {
      "cell_type": "markdown",
      "metadata": {
        "id": "mzgLNUlKSUe0"
      },
      "source": [
        "---\n",
        "## Input from user\n",
        "\n",
        "Read more here:\n",
        "- [w3schools - input](https://www.w3schools.com/python/ref_func_input.asp)"
      ]
    },
    {
      "cell_type": "code",
      "execution_count": null,
      "metadata": {
        "id": "o1LrVxS7SUe0"
      },
      "outputs": [],
      "source": [
        "name = input(\"What is your name? \") # Hanna\n",
        "age = input(\"How old are you {name}? \") # 22\n",
        "print(f\"{name} is {age} years old\")"
      ]
    },
    {
      "cell_type": "markdown",
      "metadata": {
        "id": "80VZrhvcSUe0"
      },
      "source": [
        "---\n",
        "## Type conversions\n",
        "\n",
        "Sometimes you need to convert data types from one type to another. For example when prompting users for a number using ```input()```, you need to convert it to either an **int** or a **float** to be able to do calculations with it. Note that it has to be numeric in order for it to work, e.g. ```int(\"five\")``` will generate a ValueError."
      ]
    },
    {
      "cell_type": "markdown",
      "metadata": {
        "id": "UR5yFsk7SUe1"
      },
      "source": [
        "### Force"
      ]
    },
    {
      "cell_type": "code",
      "execution_count": null,
      "metadata": {
        "id": "UsMFByBMSUe2"
      },
      "outputs": [],
      "source": [
        "gravity = 9.82\n",
        "# converts the string from input() to float\n",
        "mass = float(input(\"Enter your weight in kg? \")) # try to skip the conversion and see what happens\n",
        "force = mass*gravity\n",
        "\n",
        "print(f\"Your force is {force}N\") # entered 65, note the output\n",
        "\n",
        "# you can use f-string to format the output to 1 decimal\n",
        "print(f\"Your force is {force:.1f}N\")"
      ]
    },
    {
      "cell_type": "markdown",
      "metadata": {
        "id": "4jmL2N1-SUe2"
      },
      "source": [
        "### Circle geometry\n",
        "\n",
        "$\n",
        "A_{circle} = \\pi r^2\n",
        "$\n",
        "<br>\n",
        "$\n",
        "O_{circle} = 2\\pi r\n",
        "$"
      ]
    },
    {
      "cell_type": "code",
      "execution_count": null,
      "metadata": {
        "id": "Y-IKeCjTSUe3"
      },
      "outputs": [],
      "source": [
        "import math # math module has many constants and functions for mathematics\n",
        "radius = float(input(\"Enter a radius: \"))\n",
        "area = math.pi*radius**2 # ** is the power operator\n",
        "circumference = 2*math.pi*radius\n",
        "\n",
        "# \\n gives newlines in prints\n",
        "print(f\"Circle with radius {radius} has \\n area: {area:.2f} a.u. \\n circumference: {circumference:.2f} l.u.\")"
      ]
    },
    {
      "cell_type": "markdown",
      "metadata": {
        "id": "BUCp1sO6SUe3"
      },
      "source": [
        "---\n",
        "\n",
        "Ali Leylani\n",
        "\n",
        "[LinkedIn][linkedIn_kokchun]\n",
        "\n",
        "[linkedIn_kokchun]: https://www.linkedin.com/in/ali-leylani/\n",
        "\n",
        "---"
      ]
    }
  ],
  "metadata": {
    "kernelspec": {
      "display_name": "Python 3 (ipykernel)",
      "language": "python",
      "name": "python3"
    },
    "language_info": {
      "codemirror_mode": {
        "name": "ipython",
        "version": 3
      },
      "file_extension": ".py",
      "mimetype": "text/x-python",
      "name": "python",
      "nbconvert_exporter": "python",
      "pygments_lexer": "ipython3",
      "version": "3.8.13"
    },
    "vscode": {
      "interpreter": {
        "hash": "0da836a34428266995a795f1e1e27b816fa1c02f148d9728b3fbbbc5459afca6"
      }
    },
    "colab": {
      "provenance": [],
      "include_colab_link": true
    }
  },
  "nbformat": 4,
  "nbformat_minor": 0
}