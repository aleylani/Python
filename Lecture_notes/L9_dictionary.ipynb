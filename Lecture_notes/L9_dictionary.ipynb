{
  "cells": [
    {
      "cell_type": "markdown",
      "metadata": {
        "colab_type": "text",
        "id": "view-in-github"
      },
      "source": [
        "<a href=\"https://colab.research.google.com/github/aleylani/Python/blob/main/Lecture_notes/L9_dictionary.ipynb\" target=\"_parent\"><img src=\"https://colab.research.google.com/assets/colab-badge.svg\" alt=\"Open In Colab\"/></a>"
      ]
    },
    {
      "cell_type": "markdown",
      "metadata": {
        "id": "zDTry5P4V08P"
      },
      "source": [
        "---\n",
        "# Lecture notes - dictionary\n",
        "\n",
        "---\n",
        "This is the lecture note for **dictionary**, but it's built upon contents from previous lectures such as:\n",
        "- input-output\n",
        "- variables\n",
        "- if-statement\n",
        "- for loop\n",
        "- while\n",
        "- lists\n",
        "- random\n",
        "- strings\n",
        "- functions\n",
        "- error handling\n",
        "- file handling\n",
        "\n",
        "<p class = \"alert alert-info\" role=\"alert\"><b>Note</b> that this lecture note gives a brief introduction to dictionary. I encourage you to read further about dictionary.\n",
        "\n",
        "Read more [w3schools - dictionary](https://www.w3schools.com/python/python_dictionaries.asp).\n",
        "\n",
        "Files used is found here: [Files](https://github.com/kokchun/Programmering-med-Python-21/tree/main/Files)\n",
        "\n",
        "---"
      ]
    },
    {
      "cell_type": "markdown",
      "metadata": {
        "id": "_LTstp6pV08S"
      },
      "source": [
        "## dictionary\n",
        "\n",
        "- datastructure for storing data in key:value pairs"
      ]
    },
    {
      "cell_type": "code",
      "execution_count": null,
      "metadata": {
        "id": "3c4MMFw6V08S"
      },
      "outputs": [],
      "source": [
        "# create dictionary with dict()\n",
        "person = dict(\n",
        "    name = \"Ali\",\n",
        "    age = 30.4,\n",
        "    work = \"teacher\",\n",
        "    interest = [\"math\", \"AI\", \"calisthenics\"],\n",
        "    phone = 112 # don't call\n",
        ")\n",
        "\n",
        "print(f\"person dictionary: {person}\")\n",
        "print(f\"Persons name is {person['name']}\") # note different ''  \"\"\n",
        "print(f\"Persons age is {person['age']} years old\")\n",
        "\n",
        "print(f\"{person['name']} loves {person['interest']}\")\n",
        "\n",
        "for interest in person[\"interest\"]:\n",
        "    print(f\"{person['name']} loves {interest}\")"
      ]
    },
    {
      "cell_type": "code",
      "execution_count": null,
      "metadata": {
        "id": "5w9q4M5lV08S"
      },
      "outputs": [],
      "source": [
        "# create dictionary with curly braces {}\n",
        "words = {\n",
        "    \"data structure\": \"means of organizing and storing data\",\n",
        "    \"regression\": \"find a function that best fits observered data\",\n",
        "    \"dictionary\": \"store data in key-value pair\",\n",
        "    \"method\": \"a function bound to an object\",\n",
        "    \"lambda\": \"an anonymous function\"\n",
        "} # note quotes in key, quotes in value is for creating strings\n",
        "\n",
        "print(\"Vi ska lära oss dessa ord: \", end=\"\")\n",
        "for key in words:\n",
        "     print(key, end=\", \")\n",
        "\n",
        "print(f\"\\n\\nGlosa{'':<15} Betydelse\") # '':<15 right align with width 15\n",
        "# loops through key and values\n",
        "for key, value in words.items():\n",
        "    print(f\"{key:<20} {value}\")"
      ]
    },
    {
      "cell_type": "code",
      "execution_count": null,
      "metadata": {
        "id": "iret2W5qV08S"
      },
      "outputs": [],
      "source": [
        "# F<10, E: 10, D: 20, C: 30, B: 40, A: 50\n",
        "grade_limit = {}\n",
        "\n",
        "for i,char in enumerate(\"ABCDEF\"[::-1]):\n",
        "    grade_limit[char] = i*10\n",
        "\n",
        "# change value in a dictionary\n",
        "grade_limit[\"F\"] = \"<10\"\n",
        "print(grade_limit)"
      ]
    },
    {
      "cell_type": "markdown",
      "metadata": {
        "id": "5nClhVMpV08T"
      },
      "source": [
        "## Dictionary comprehension"
      ]
    },
    {
      "cell_type": "code",
      "execution_count": null,
      "metadata": {
        "id": "1ohTx6ACV08U"
      },
      "outputs": [],
      "source": [
        "import random as rnd\n",
        "grade_limit = {grade: i*10 for i, grade in enumerate(\"FEDCBA\")}\n",
        "print(f\"Grade limits {grade_limit}\")\n",
        "\n",
        "def generate_scores(number_scores):\n",
        "    rnd.seed(42)\n",
        "    scores = [rnd.randint(0,60) for _ in range(number_scores)]\n",
        "    return scores\n",
        "\n",
        "scores = generate_scores(30)\n",
        "print(f\"Scores {scores}\")\n",
        "\n",
        "# count number in each grade category\n",
        "grade_count = {key: 0 for key in grade_limit}\n",
        "\n",
        "for score in scores:\n",
        "    for grade, limit in grade_limit.items():\n",
        "        if limit <= score < limit+10:\n",
        "            grade_count[grade] += 1\n",
        "\n",
        "print(f\"Grade count {grade_count}\")"
      ]
    }
  ],
  "metadata": {
    "colab": {
      "include_colab_link": true,
      "provenance": []
    },
    "kernelspec": {
      "display_name": "Python 3 (ipykernel)",
      "language": "python",
      "name": "python3"
    },
    "language_info": {
      "codemirror_mode": {
        "name": "ipython",
        "version": 3
      },
      "file_extension": ".py",
      "mimetype": "text/x-python",
      "name": "python",
      "nbconvert_exporter": "python",
      "pygments_lexer": "ipython3",
      "version": "3.8.13"
    },
    "vscode": {
      "interpreter": {
        "hash": "0da836a34428266995a795f1e1e27b816fa1c02f148d9728b3fbbbc5459afca6"
      }
    }
  },
  "nbformat": 4,
  "nbformat_minor": 0
}
