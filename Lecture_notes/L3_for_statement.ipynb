{
  "cells": [
    {
      "cell_type": "markdown",
      "metadata": {
        "colab_type": "text",
        "id": "view-in-github"
      },
      "source": [
        "<a href=\"https://colab.research.google.com/github/aleylani/Python/blob/main/Lecture_notes/L3_for_statement.ipynb\" target=\"_parent\"><img src=\"https://colab.research.google.com/assets/colab-badge.svg\" alt=\"Open In Colab\"/></a>"
      ]
    },
    {
      "cell_type": "markdown",
      "metadata": {
        "id": "RHd8xmWkUuZb"
      },
      "source": [
        "---\n",
        "# Lecture notes - for-statement\n",
        "\n",
        "---\n",
        "This is the lecture note for **for-statement**, but it's built upon contents from previous lectures such as:\n",
        "- input-output\n",
        "- variables\n",
        "- if-statement\n",
        "\n",
        "for loop is used for repeating code by iterating over a sequence such as a list.\n",
        "\n",
        "Read more [w3schools - for loop](https://www.w3schools.com/python/python_for_loops.asp)\n",
        "\n",
        "---"
      ]
    },
    {
      "cell_type": "markdown",
      "metadata": {
        "id": "t_9_MfbEUuZd"
      },
      "source": [
        "## range() function\n",
        "\n",
        "Used together with for loop to repeat code a certain number of times.\n",
        "\n",
        "```python\n",
        "for i in range(n):\n",
        "    print(i)\n",
        "```\n",
        "i will start from 0 and end with n-1. n must be an integer.\n",
        "\n",
        "```python\n",
        "for i in range(start, end, step):\n",
        "    print(i)\n",
        "```\n",
        "prints i from start to end-1 with step as the increment"
      ]
    },
    {
      "cell_type": "code",
      "execution_count": null,
      "metadata": {
        "id": "xhe5cIFIUuZd"
      },
      "outputs": [],
      "source": [
        "for i in range(3): # note that the count starts from 0\n",
        "    print(f\"{i} Hello\")"
      ]
    },
    {
      "cell_type": "code",
      "execution_count": null,
      "metadata": {
        "id": "7BqdlozlUuZe"
      },
      "outputs": [],
      "source": [
        "# print out numbers without newlines\n",
        "for i in range(10):\n",
        "    print(i, end=\" \")"
      ]
    },
    {
      "cell_type": "code",
      "execution_count": null,
      "metadata": {
        "id": "DhwNEG9yUuZe"
      },
      "outputs": [],
      "source": [
        "sum = 0\n",
        "# calculate sum from 0-5\n",
        "for i in range(6): # note that 6\n",
        "    sum += i\n",
        "\n",
        "print(f\"0+1+2+3+4+5={sum}\")"
      ]
    },
    {
      "cell_type": "code",
      "execution_count": null,
      "metadata": {
        "id": "f9zecggEUuZe"
      },
      "outputs": [],
      "source": [
        "sum = 0\n",
        "# calculate sum of all odd numbers between 1 and 100\n",
        "for i in range(1,20,2):\n",
        "    sum += i # addition\n",
        "\n",
        "    # nice printing\n",
        "    print(f\"{i}\", end = \"\")\n",
        "    if i != 19:\n",
        "        print(\"+\", end=\"\")\n",
        "\n",
        "    if i == 19:\n",
        "        print(f\"={sum}\", end=\"\")"
      ]
    },
    {
      "cell_type": "markdown",
      "metadata": {
        "id": "17650m_WUuZf"
      },
      "source": [
        "---\n",
        "## random module\n",
        "\n",
        "Used to generate random numbers.\n",
        "\n",
        "Read more: [w3schools - random module](https://www.w3schools.com/python/module_random.asp)"
      ]
    },
    {
      "cell_type": "code",
      "execution_count": null,
      "metadata": {
        "id": "chDRP2ndUuZf"
      },
      "outputs": [],
      "source": [
        "import random as rnd # the random module can now be accessed through rnd\n",
        "\n",
        "num_six = 0\n",
        "dice_rolls = 10000\n",
        "\n",
        "# dice simulations - count number of sixes\n",
        "for i in range(dice_rolls):\n",
        "    dice = rnd.randint(1,6) # generates a random integer between 1 and 6\n",
        "    if dice == 6:\n",
        "        num_six += 1\n",
        "\n",
        "print(f\"Number of sixes {num_six} in {dice_rolls} dice rolls\")\n",
        "print(f\"Probability of six {num_six/dice_rolls}\")"
      ]
    },
    {
      "cell_type": "markdown",
      "metadata": {
        "id": "YWhpf8vZUuZf"
      },
      "source": [
        "---\n",
        "## Loop through list\n",
        "\n",
        "A list is a data type to store several items in a variable. There will be a separate lecture note for lists.\n",
        "\n",
        "Read more [w3schools - lists](https://www.w3schools.com/python/python_lists.asp)"
      ]
    },
    {
      "cell_type": "code",
      "execution_count": null,
      "metadata": {
        "id": "0kr9oNnnUuZg"
      },
      "outputs": [],
      "source": [
        "fruits = [\"apple\", \"orange\", \"grape\", \"strawberry\"]\n",
        "\n",
        "print(\"I love to eat\")\n",
        "for fruit in fruits: # variable fruit will contain a value at a time from fruits\n",
        "    print(fruit)"
      ]
    },
    {
      "cell_type": "code",
      "execution_count": null,
      "metadata": {
        "id": "O3Y7tH7KUuZg"
      },
      "outputs": [],
      "source": [
        "print(\"My favorite fruits are: \")\n",
        "# enumerate to get a number for each element in a list that you loop through\n",
        "for i, fruit in enumerate(fruits,1): # 1 gives the starting number\n",
        "    print(f\"{i}. {fruit}\")\n"
      ]
    },
    {
      "cell_type": "markdown",
      "metadata": {
        "id": "VsU_pejLUuZh"
      },
      "source": [
        "---\n",
        "## Nested for loop\n",
        "\n",
        "A for loop inside another for loop. The inner loop will run for each iteration of the outer loop."
      ]
    },
    {
      "cell_type": "code",
      "execution_count": null,
      "metadata": {
        "id": "_Ez-gNy4UuZh"
      },
      "outputs": [],
      "source": [
        "# matrix coordinates\n",
        "for x in range(0,3):\n",
        "    for j in range(0,3):\n",
        "        print(f\"({x},{j})\", end=\"\")\n",
        "    print()"
      ]
    }
  ],
  "metadata": {
    "colab": {
      "include_colab_link": true,
      "provenance": []
    },
    "kernelspec": {
      "display_name": "Python 3 (ipykernel)",
      "language": "python",
      "name": "python3"
    },
    "language_info": {
      "codemirror_mode": {
        "name": "ipython",
        "version": 3
      },
      "file_extension": ".py",
      "mimetype": "text/x-python",
      "name": "python",
      "nbconvert_exporter": "python",
      "pygments_lexer": "ipython3",
      "version": "3.8.13"
    },
    "vscode": {
      "interpreter": {
        "hash": "0da836a34428266995a795f1e1e27b816fa1c02f148d9728b3fbbbc5459afca6"
      }
    }
  },
  "nbformat": 4,
  "nbformat_minor": 0
}
