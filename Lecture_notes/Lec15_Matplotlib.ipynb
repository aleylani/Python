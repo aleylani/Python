{
  "cells": [
    {
      "cell_type": "markdown",
      "metadata": {
        "id": "view-in-github",
        "colab_type": "text"
      },
      "source": [
        "<a href=\"https://colab.research.google.com/github/aleylani/Python/blob/main/Lec15_Matplotlib.ipynb\" target=\"_parent\"><img src=\"https://colab.research.google.com/assets/colab-badge.svg\" alt=\"Open In Colab\"/></a>"
      ]
    },
    {
      "cell_type": "markdown",
      "metadata": {
        "id": "W_cmHKg-WhTS"
      },
      "source": [
        "---\n",
        "# Lecture notes - Matplotlib\n",
        "\n",
        "---\n",
        "This is the lecture note for **Matplotlib** - but it's built upon contents from previous lectures such as:\n",
        "- input-output\n",
        "- variables\n",
        "- lists\n",
        "- random\n",
        "- strings\n",
        "- functions\n",
        "- file handling\n",
        "- OOP\n",
        "\n",
        "<p class = \"alert alert-info\" role=\"alert\"><b>Note</b> that this lecture note gives a brief introduction to Matplotlib. I encourage you to read further about matplotlib.\n",
        "\n",
        "Read more\n",
        "\n",
        "- [matplotlib official documentation](https://matplotlib.org/stable/gallery/index.html)\n",
        "\n",
        "---"
      ]
    },
    {
      "cell_type": "code",
      "execution_count": null,
      "metadata": {
        "id": "pM_72twhWhTT"
      },
      "outputs": [],
      "source": [
        "# setup\n",
        "import numpy as np\n",
        "import matplotlib.pyplot as plt\n",
        "\n",
        "x = np.linspace(-5,5,100)\n",
        "f = np.sin(x)"
      ]
    },
    {
      "cell_type": "markdown",
      "metadata": {
        "id": "ck2OyYmsWhTU"
      },
      "source": [
        "---\n",
        "## MATLAB style interface"
      ]
    },
    {
      "cell_type": "code",
      "execution_count": null,
      "metadata": {
        "id": "uDXgsCsOWhTU"
      },
      "outputs": [],
      "source": [
        "plt.figure(dpi = 100)\n",
        "plt.plot(x,f)\n",
        "plt.title(\"sin(x)\")\n",
        "plt.xlabel(\"x\")\n",
        "plt.ylabel(\"y\")\n",
        "# plt.show() # needed for .py-script"
      ]
    },
    {
      "cell_type": "markdown",
      "metadata": {
        "id": "hfj79lLjWhTV"
      },
      "source": [
        "---\n",
        "## OOP approach\n",
        "\n",
        "- fig is the canvas where you can put draw one or several axes\n",
        "- an axes can contain axis, xlabel, ylabel, title, plot, scatter, histogram, bar, ..."
      ]
    },
    {
      "cell_type": "code",
      "execution_count": null,
      "metadata": {
        "id": "C60ijiYAWhTW"
      },
      "outputs": [],
      "source": [
        "# instantiates the objects fig and ax from Figure and AxesSubplot\n",
        "fig, ax = plt.figure(dpi=100),plt.axes()\n",
        "ax.plot(x, f) # the ax object has a plot\n",
        "# calling the method set from ax object to set the axis, labels and title\n",
        "ax.set(xlim = (-6,6), ylim = (-1.5,1.5), xlabel=\"x\", ylabel=\"y\", title=\"$\\sin{x}$\");\n",
        "# plt.show() # needed for .py-script"
      ]
    },
    {
      "cell_type": "markdown",
      "metadata": {
        "id": "ag0xJ-brWhTW"
      },
      "source": [
        "---\n",
        "## Subplots"
      ]
    },
    {
      "cell_type": "code",
      "execution_count": null,
      "metadata": {
        "id": "rHcWGXGBWhTW"
      },
      "outputs": [],
      "source": [
        "# MATLAB-style\n",
        "\n",
        "plt.figure(figsize=(16,5), dpi=100)\n",
        "plt.subplot(1,2,1) # (rows, columns, panel number)\n",
        "plt.plot(x, np.sin(x))\n",
        "plt.plot(x, np.cos(x))\n",
        "plt.title(\"Plots\")\n",
        "plt.legend((\"sin(x)\", \"cos(x)\"))\n",
        "\n",
        "plt.subplot(1,2,2)\n",
        "plt.plot(x, np.cos(x))\n",
        "plt.title(\"cos(x)\");\n",
        "# plt.show() # needed for .py-script"
      ]
    },
    {
      "cell_type": "code",
      "execution_count": null,
      "metadata": {
        "id": "ucyXWYhgWhTX"
      },
      "outputs": [],
      "source": [
        "# OOP approach\n",
        "\n",
        "fig, ax = plt.subplots(1, 2, dpi=150, figsize=(10, 4))\n",
        "\n",
        "rng = np.random.RandomState(42)\n",
        "# randn - draws random number from normal distribution\n",
        "data_normal_dist = rng.randn(1000)\n",
        "\n",
        "ax[0].hist(data_normal_dist, bins=30, alpha=.5)\n",
        "ax[0].set(title=\"Histogram\", xlabel=\"x\", ylabel=\"y\")\n",
        "\n",
        "size = 1000*rng.rand(100)\n",
        "sc = ax[1].scatter(x=rng.randn(100), y=rng.randn(100), c= rng.randn(100), alpha=.3, cmap=\"viridis\", s=size)\n",
        "fig.colorbar(sc)\n",
        "ax[1].set(title=\"Bubble chart\", xlabel=\"x\", ylabel=\"y\")\n",
        "\n",
        "plt.savefig(\"../assets/beautiful_plots.png\", transparent=True, facecolor=\"white\")\n",
        "# plt.show() # needed for .py-script"
      ]
    }
  ],
  "metadata": {
    "interpreter": {
      "hash": "aee8b7b246df8f9039afb4144a1f6fd8d2ca17a180786b69acc140d282b71a49"
    },
    "kernelspec": {
      "display_name": "Python 3 (ipykernel)",
      "language": "python",
      "name": "python3"
    },
    "language_info": {
      "codemirror_mode": {
        "name": "ipython",
        "version": 3
      },
      "file_extension": ".py",
      "mimetype": "text/x-python",
      "name": "python",
      "nbconvert_exporter": "python",
      "pygments_lexer": "ipython3",
      "version": "3.8.13"
    },
    "colab": {
      "provenance": [],
      "include_colab_link": true
    }
  },
  "nbformat": 4,
  "nbformat_minor": 0
}