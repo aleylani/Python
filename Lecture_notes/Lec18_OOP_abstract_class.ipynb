{
  "cells": [
    {
      "cell_type": "markdown",
      "metadata": {
        "colab_type": "text",
        "id": "view-in-github"
      },
      "source": [
        "<a href=\"https://colab.research.google.com/github/aleylani/Python/blob/main/Lecture_notes/Lec18_OOP_abstract_class.ipynb\" target=\"_parent\"><img src=\"https://colab.research.google.com/assets/colab-badge.svg\" alt=\"Open In Colab\"/></a>"
      ]
    },
    {
      "cell_type": "markdown",
      "metadata": {
        "id": "kAurQ0PzW6Cu"
      },
      "source": [
        "---\n",
        "# Lecture notes - OOP abstract class\n",
        "\n",
        "---\n",
        "This is the lecture note for **OOP abstract class** - but it's built upon contents from previous lectures such as:\n",
        "- input-output\n",
        "- variables\n",
        "- if-statement\n",
        "- for loop\n",
        "- while\n",
        "- lists\n",
        "- random\n",
        "- strings\n",
        "- functions\n",
        "- error handling\n",
        "- file handling\n",
        "- dictionary\n",
        "- OOP\n",
        "\n",
        "<p class = \"alert alert-info\" role=\"alert\"><b>Note</b> that this lecture note gives some introduction to OOP abstract classes.\n",
        "\n",
        "\n",
        "Read more\n",
        "- [abstract base class - Markovic P. teclado](https://blog.teclado.com/python-abc-abstract-base-classes/)\n",
        "\n",
        "---"
      ]
    },
    {
      "cell_type": "markdown",
      "metadata": {
        "id": "VUT4_aocW6Cv"
      },
      "source": [
        "## Example problem\n",
        "\n",
        "Many developers may implement similar classes in different ways\n",
        "- issue when similar method has different names\n",
        "- this makes it harder to e.g. iterate over different classes and utilise polymorphism"
      ]
    },
    {
      "cell_type": "code",
      "execution_count": null,
      "metadata": {
        "id": "jDUgFfG9W6Cv"
      },
      "outputs": [],
      "source": [
        "class VenusFlyTrap:\n",
        "    def venus_photosynthesis(self):\n",
        "        print(\"Fly trap does photosynthesis\")\n",
        "\n",
        "\n",
        "class Monstera:\n",
        "    def monstera_photosynthesis(self):\n",
        "        print(\"Monstera does photosynthesis\")\n",
        "\n",
        "class MoneyPlant:\n",
        "    def photosynthesis(self):\n",
        "        print(\"Money plant photosynthesis\")\n",
        "\n",
        "plants = (VenusFlyTrap(), Monstera(), MoneyPlant())\n",
        "\n",
        "for plant in plants:\n",
        "    plant.photosynthesis()\n",
        "\n",
        "# here it would be good to have all these plants classes to implement photosynthesis and\n",
        "# not different variants of it stopping us from using polymorphism"
      ]
    },
    {
      "cell_type": "markdown",
      "metadata": {
        "id": "I8G6F695W6Cw"
      },
      "source": [
        "## `ABC abstract base class`\n",
        "\n",
        "A class that inherits from ABC can make a method abstract using the decorator abstractmethod. Once a method or property is abstract, the whole class becomes abstract and you can't instantiate directly from that class. All subclasses must implemenet all abstract methods/properties in order for it to be possible to instantiate object from that class. If at least one abstract method/property is not implemented the subclass is also an abstract class as it has inherited the abstract method/property.\n",
        "\n"
      ]
    },
    {
      "cell_type": "code",
      "execution_count": null,
      "metadata": {
        "id": "ZInSvOCKW6Cx"
      },
      "outputs": [],
      "source": [
        "from abc import abstractmethod, ABC\n",
        "\n",
        "class Plant(ABC):\n",
        "    @abstractmethod\n",
        "    def photosynthesis(self):\n",
        "        pass\n",
        "\n",
        "class VenusFlyTrap(Plant):\n",
        "    def do_photosynthesis(self):\n",
        "        print(\"Fly trap does photosynthesis\")\n",
        "\n",
        "class Monstera(Plant):\n",
        "    def photosynthesis(self):\n",
        "        print(\"Monstera does photosynthesis\")\n",
        "\n",
        "\n",
        "class MoneyPlant(Plant):\n",
        "    def photosynthesis(self):\n",
        "        print(\"Money plant photosynthesis\")\n",
        "\n",
        "monsteru = Monstera()\n",
        "\n",
        "# we see that we can't instantiate VenusFlyTrap as it is an abstract class\n",
        "VenusFlyTrap()\n"
      ]
    },
    {
      "cell_type": "code",
      "execution_count": null,
      "metadata": {
        "id": "aBTkbNUJW6Cx"
      },
      "outputs": [],
      "source": [
        "from abc import abstractmethod, ABC\n",
        "\n",
        "class Plant(ABC):\n",
        "    @abstractmethod\n",
        "    def photosynthesis(self):\n",
        "        pass\n",
        "\n",
        "class VenusFlyTrap(Plant):\n",
        "    def photosynthesis(self):\n",
        "        print(\"Fly trap does photosynthesis\")\n",
        "\n",
        "class Monstera(Plant):\n",
        "    def photosynthesis(self):\n",
        "        print(\"Monstera does photosynthesis\")\n",
        "\n",
        "\n",
        "class MoneyPlant(Plant):\n",
        "    def photosynthesis(self):\n",
        "        print(\"Money plant photosynthesis\")\n",
        "\n",
        "# now all implement photosynthesis\n",
        "monsteru = Monstera()\n",
        "venusu = VenusFlyTrap()\n",
        "monet = MoneyPlant()\n",
        "\n",
        "for plant in (monsteru, venusu, monet):\n",
        "    plant.photosynthesis()"
      ]
    }
  ],
  "metadata": {
    "colab": {
      "include_colab_link": true,
      "provenance": []
    },
    "kernelspec": {
      "display_name": "Python 3 (ipykernel)",
      "language": "python",
      "name": "python3"
    },
    "language_info": {
      "codemirror_mode": {
        "name": "ipython",
        "version": 3
      },
      "file_extension": ".py",
      "mimetype": "text/x-python",
      "name": "python",
      "nbconvert_exporter": "python",
      "pygments_lexer": "ipython3",
      "version": "3.8.13"
    },
    "vscode": {
      "interpreter": {
        "hash": "2163858a1cb747571b479610ffa1da36240a523145d5162fffa1bc4aebda0e4e"
      }
    }
  },
  "nbformat": 4,
  "nbformat_minor": 0
}
