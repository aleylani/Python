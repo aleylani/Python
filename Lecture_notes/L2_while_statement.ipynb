{
  "cells": [
    {
      "cell_type": "markdown",
      "metadata": {
        "colab_type": "text",
        "id": "view-in-github"
      },
      "source": [
        "<a href=\"https://colab.research.google.com/github/aleylani/Python/blob/main/Lecture_notes/L2_while_statement.ipynb\" target=\"_parent\"><img src=\"https://colab.research.google.com/assets/colab-badge.svg\" alt=\"Open In Colab\"/></a>"
      ]
    },
    {
      "cell_type": "markdown",
      "metadata": {
        "id": "jYdIVDoLTdUK"
      },
      "source": [
        "---\n",
        "# Lecture notes - while-statement\n",
        "\n",
        "---\n",
        "This is the lecture note for **while-statement**, but it's built upon contents from previous lectures such as:\n",
        "- input-output\n",
        "- variables\n",
        "- if-statement\n",
        "---"
      ]
    },
    {
      "cell_type": "markdown",
      "metadata": {
        "id": "2XQyTLiqTdUL"
      },
      "source": [
        "## while\n",
        "\n",
        "Informally you can view a while statement as an \"if-loop\" where code is repeated as long as the condition evaluates to True. Note that the code that is repeated is under the code scope, that is indented.\n",
        "\n",
        "```python\n",
        "while condition:\n",
        "    statements\n",
        "    ...\n",
        "```\n",
        "\n",
        "While loop is preferred when not knowing in beforehand the number of iterations\n",
        "\n",
        "Read more [w3schools while](https://www.w3schools.com/python/python_while_loops.asp)"
      ]
    },
    {
      "cell_type": "code",
      "execution_count": null,
      "metadata": {
        "id": "Uy3wxPfETdUL"
      },
      "outputs": [],
      "source": [
        "n = 0\n",
        "while n < 5:\n",
        "    print(f\"Hello {n}\")\n",
        "    n += 1 # adds one to n"
      ]
    },
    {
      "cell_type": "markdown",
      "metadata": {
        "id": "jV6HUOi8TdUM"
      },
      "source": [
        "### Example - oil leakage\n",
        "There is an oil leakage causing the bird population in an island to 1/2 in each year. From start there were 80000 birds, how many years does it take for it to have 1/10 remaining?"
      ]
    },
    {
      "cell_type": "code",
      "execution_count": null,
      "metadata": {
        "id": "CAv-ilChTdUM"
      },
      "outputs": [],
      "source": [
        "birds = 80000\n",
        "year = 0\n",
        "\n",
        "while birds > 8000:\n",
        "    print(f\"Year {year} there were {birds:.0f} birds\")\n",
        "    birds /= 2 # divide by half\n",
        "    year += 1\n",
        "\n",
        "print(f\"It takes {year} years for the birds to have 1/10 remaining\")"
      ]
    },
    {
      "cell_type": "markdown",
      "metadata": {
        "id": "3s7bU-rWTdUN"
      },
      "source": [
        "## Assignment operators\n",
        "\n",
        "As we have seen already in previous examples, assignment operators can be useful in loops. Used for assigning values to variables. For example\n",
        "\n",
        "```python\n",
        "x = 0 # assigns 0 to variable x\n",
        "x += 1 # x = x + 1 i.e. adds one to x\n",
        "```\n",
        "\n",
        "| Operator | Example | Result    |\n",
        "| :------: | :-----: | --------- |\n",
        "|    =     |  x = 4  | x = 4     |\n",
        "|    +=    | x += 2  | x = x + 2 |\n",
        "|    -=    | x -= 2  | x = x - 2 |\n",
        "|    /=    | x /= 2  | x = x / 2 |\n",
        "|    *=    | x *= 2  | x = x * 2 |\n",
        "\n",
        "For more assignment operators see [w3schools - assignment operators](https://www.w3schools.com/python/gloss_python_assignment_operators.asp)"
      ]
    },
    {
      "cell_type": "code",
      "execution_count": null,
      "metadata": {
        "id": "bCsD1EYMTdUN"
      },
      "outputs": [],
      "source": [
        "# print out all odd numbers between -10 and 10\n",
        "n = -9\n",
        "while n <= 10:\n",
        "    print(n, end=\" \") # by default print ends with \\n a newline, but here we end it with an empty space\n",
        "    n += 2"
      ]
    },
    {
      "cell_type": "markdown",
      "metadata": {
        "id": "FIYLH_X4TdUN"
      },
      "source": [
        "---\n",
        "## break statement\n",
        "\n",
        "With the **break** statement, we can break a while loop when it is running. A common use case for this is when you have an infinite loop.  "
      ]
    },
    {
      "cell_type": "code",
      "execution_count": null,
      "metadata": {
        "id": "KR9UKIn1TdUO"
      },
      "outputs": [],
      "source": [
        "import random as rnd # this module has functions for generating random numbers\n",
        "\n",
        "while True:\n",
        "    number1 = rnd.randint(1,10)\n",
        "    number2 = rnd.randint(1,10)\n",
        "\n",
        "    user_answer = int(input(f\"What is {number1}*{number2}? \"))\n",
        "    if user_answer == number1*number2:\n",
        "        print(\"Correct\")\n",
        "    else:\n",
        "        print(f\"{user_answer} is unfortunately wrong\")\n",
        "\n",
        "    play_again = input(\"Wanna play again (y for yes)? \")\n",
        "\n",
        "    if play_again != \"y\":\n",
        "        print(\"Have a nice day!\")\n",
        "        break"
      ]
    },
    {
      "cell_type": "code",
      "execution_count": null,
      "metadata": {
        "id": "90Il9HClTdUO"
      },
      "outputs": [],
      "source": []
    }
  ],
  "metadata": {
    "colab": {
      "include_colab_link": true,
      "provenance": []
    },
    "kernelspec": {
      "display_name": "Python 3 (ipykernel)",
      "language": "python",
      "name": "python3"
    },
    "language_info": {
      "codemirror_mode": {
        "name": "ipython",
        "version": 3
      },
      "file_extension": ".py",
      "mimetype": "text/x-python",
      "name": "python",
      "nbconvert_exporter": "python",
      "pygments_lexer": "ipython3",
      "version": "3.8.13"
    },
    "vscode": {
      "interpreter": {
        "hash": "0da836a34428266995a795f1e1e27b816fa1c02f148d9728b3fbbbc5459afca6"
      }
    }
  },
  "nbformat": 4,
  "nbformat_minor": 0
}
