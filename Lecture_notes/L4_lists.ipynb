{
  "cells": [
    {
      "cell_type": "markdown",
      "metadata": {
        "colab_type": "text",
        "id": "view-in-github"
      },
      "source": [
        "<a href=\"https://colab.research.google.com/github/aleylani/Python/blob/main/Lecture_notes/L4_lists.ipynb\" target=\"_parent\"><img src=\"https://colab.research.google.com/assets/colab-badge.svg\" alt=\"Open In Colab\"/></a>"
      ]
    },
    {
      "cell_type": "markdown",
      "metadata": {
        "id": "DgbbmVURU5cq"
      },
      "source": [
        "---\n",
        "# Lecture notes - lists\n",
        "\n",
        "---\n",
        "This is the lecture note for **lists**, but it's built upon contents from previous lectures such as:\n",
        "- input-output\n",
        "- variables\n",
        "- if-statement\n",
        "- for loop\n",
        "- random\n",
        "\n",
        "lists are used for storing several items in a variable\n",
        "\n",
        "<p class = \"alert alert-info\" role=\"alert\"><b>Note</b> that this lecture note gives a brief introduction to lists. I encourage you to read further about lists, when there is some functionality that you need.  \n",
        "\n",
        "Read more [w3schools - lists](https://www.w3schools.com/python/python_lists.asp)\n",
        "\n",
        "---"
      ]
    },
    {
      "cell_type": "markdown",
      "metadata": {
        "id": "HxfZxS3cU5cr"
      },
      "source": [
        "## Access items\n",
        "\n",
        "- items have indices from 0 to length-1\n",
        "- items can be accessed through the indexing operator []\n",
        "- can also access from right to left with negative indexing\n",
        "  - last element is at index -1\n",
        "\n",
        "Read more [w3schools - access list items](https://www.w3schools.com/python/python_lists_access.asp)"
      ]
    },
    {
      "cell_type": "code",
      "execution_count": null,
      "metadata": {
        "id": "mUKV37d1U5cs"
      },
      "outputs": [],
      "source": [
        "tv_shows = [\"Antikrundan\", \"Mästerkockarna\", \"Aktuellt\" , \"Talang\"]\n",
        "print(f\"tv_shows[0]: {tv_shows[0]}\")\n",
        "print(f\"tv_shows[1]: {tv_shows[1]}\")\n",
        "print(f\"tv_shows[2]: {tv_shows[2]}\")\n",
        "\n",
        "print(f\"tv_shows[-1]: {tv_shows[-1]}\") # access from right"
      ]
    },
    {
      "cell_type": "markdown",
      "metadata": {
        "id": "iaMSEKUsU5cs"
      },
      "source": [
        "---\n",
        "## Iterate through list"
      ]
    },
    {
      "cell_type": "code",
      "execution_count": null,
      "metadata": {
        "id": "HMLDXlySU5cs"
      },
      "outputs": [],
      "source": [
        "for tv_show in tv_shows:\n",
        "    print(tv_show)"
      ]
    },
    {
      "cell_type": "code",
      "execution_count": null,
      "metadata": {
        "id": "42nSeHSPU5ct"
      },
      "outputs": [],
      "source": [
        "for i, tv_show in enumerate(tv_shows): # with enumerate you also get index of the list item\n",
        "    print(f\"{i}. {tv_show}\")"
      ]
    },
    {
      "cell_type": "markdown",
      "metadata": {
        "id": "1wdq5afeU5ct"
      },
      "source": [
        "---\n",
        "## Change list items\n",
        "\n",
        "Lists are mutable meaning:\n",
        "- can modify elements\n",
        "- can replace values\n",
        "- can change order of elements\n",
        "\n",
        "Read more [w3schools - change list items](https://www.w3schools.com/python/python_lists_change.asp)"
      ]
    },
    {
      "cell_type": "code",
      "execution_count": null,
      "metadata": {
        "id": "-f7_un9YU5cu"
      },
      "outputs": [],
      "source": [
        "tv_shows = [\"Antikrundan\", \"Mästerkockarna\", \"Aktuellt\" , \"Talang\"]\n",
        "tv_shows[0] = \"Vetenskapens värld\"\n",
        "print(f\"Replaced first element: {tv_shows}\")\n",
        "\n",
        "tv_shows.append(\"Pokemon\")\n",
        "print(f\"Added an element: {tv_shows}\")"
      ]
    },
    {
      "cell_type": "markdown",
      "metadata": {
        "id": "XWUEyYq5U5cu"
      },
      "source": [
        "---\n",
        "## Slicing operator :\n",
        "\n",
        "The slicing operator is used for accessing a range of values in the list.\n"
      ]
    },
    {
      "cell_type": "code",
      "execution_count": null,
      "metadata": {
        "id": "p5BbdXeGU5cv"
      },
      "outputs": [],
      "source": [
        "print(tv_shows[1:3]) # returns value at index 1 and index 2"
      ]
    },
    {
      "cell_type": "markdown",
      "metadata": {
        "id": "JRC1JRv8U5cv"
      },
      "source": [
        "---\n",
        "## Sort a list\n",
        "\n",
        "- default: ascending order\n",
        "- sort descending: ```reverse = True```\n",
        "- alphabetically\n",
        "- numerically\n",
        "\n",
        "Read more [w3schools - sort list](https://www.w3schools.com/python/python_lists_sort.asp)"
      ]
    },
    {
      "cell_type": "code",
      "execution_count": null,
      "metadata": {
        "id": "MkuVYuEHU5cw"
      },
      "outputs": [],
      "source": [
        "greek_letters = [\"beta\",\"alfa\", \"gamma\", \"delta\"]\n",
        "greek_letters.sort() # note no assignment due to sort() returning None\n",
        "\n",
        "print(greek_letters)"
      ]
    },
    {
      "cell_type": "code",
      "execution_count": null,
      "metadata": {
        "id": "ufPRs-WvU5cw"
      },
      "outputs": [],
      "source": [
        "numbers = [21,3,-321,2,0,0]\n",
        "print(f\"Unsorted: {numbers}\")\n",
        "numbers.sort()\n",
        "print(f\"Sorted: {numbers}\")\n",
        "numbers.sort(reverse=True)\n",
        "print(f\"Sorted descending: {numbers}\")"
      ]
    },
    {
      "cell_type": "markdown",
      "metadata": {
        "id": "IPgiK-qAU5cx"
      },
      "source": [
        "---\n",
        "## List comprehension\n",
        "\n",
        "Shorter syntax to create a list"
      ]
    },
    {
      "cell_type": "code",
      "execution_count": null,
      "metadata": {
        "id": "NrwGFkr8U5cx"
      },
      "outputs": [],
      "source": [
        "cubes = [x**3 for x in range(1,10)] # x will get the values 1,...,9 -> [1^3, 2^3,...,9^3]\n",
        "print(cubes)"
      ]
    },
    {
      "cell_type": "markdown",
      "metadata": {
        "id": "bIzTSiZOU5cx"
      },
      "source": [
        "---\n",
        "## Plot graph\n",
        "\n",
        "To plot simple graphs from lists, we use **matplotlib**. You need to install matplotlib and it is recommended that you install it with the dependency manager pipenv.\n",
        "\n",
        "```\n",
        "pipenv install matplotlib\n",
        "```\n",
        "\n",
        "Read more [w3schools - matplotlib](https://www.w3schools.com/python/matplotlib_intro.asp)"
      ]
    },
    {
      "cell_type": "code",
      "execution_count": null,
      "metadata": {
        "id": "x1loJrMvU5cx"
      },
      "outputs": [],
      "source": [
        "import matplotlib.pyplot as plt\n",
        "\n",
        "x = list(range(10)) # creates a list of integers from 0-9\n",
        "k = 2\n",
        "m = 2\n",
        "y = [k*x+m for x in x]\n",
        "\n",
        "plt.plot(x,y) # plots y vs x\n",
        "plt.title(\"Plot y = 2x+2\")\n",
        "plt.xlabel(\"x\")\n",
        "plt.ylabel(\"y\")"
      ]
    }
  ],
  "metadata": {
    "colab": {
      "include_colab_link": true,
      "provenance": []
    },
    "kernelspec": {
      "display_name": "Python 3 (ipykernel)",
      "language": "python",
      "name": "python3"
    },
    "language_info": {
      "codemirror_mode": {
        "name": "ipython",
        "version": 3
      },
      "file_extension": ".py",
      "mimetype": "text/x-python",
      "name": "python",
      "nbconvert_exporter": "python",
      "pygments_lexer": "ipython3",
      "version": "3.8.13"
    },
    "vscode": {
      "interpreter": {
        "hash": "0da836a34428266995a795f1e1e27b816fa1c02f148d9728b3fbbbc5459afca6"
      }
    }
  },
  "nbformat": 4,
  "nbformat_minor": 0
}
