{
  "cells": [
    {
      "cell_type": "markdown",
      "metadata": {
        "colab_type": "text",
        "id": "view-in-github"
      },
      "source": [
        "<a href=\"https://colab.research.google.com/github/aleylani/Python/blob/main/Lecture_notes/Lec12_polymorphism.ipynb\" target=\"_parent\"><img src=\"https://colab.research.google.com/assets/colab-badge.svg\" alt=\"Open In Colab\"/></a>"
      ]
    },
    {
      "cell_type": "markdown",
      "metadata": {
        "id": "0Z_nA23aWJJ1"
      },
      "source": [
        "---\n",
        "# Lecture notes - OOP polymorphism\n",
        "\n",
        "---\n",
        "This is the lecture note for **OOP polymorphism** - but it's built upon contents from previous lectures such as:\n",
        "- input-output\n",
        "- variables\n",
        "- if-statement\n",
        "- for loop\n",
        "- while\n",
        "- lists\n",
        "- random\n",
        "- strings\n",
        "- functions\n",
        "- error handling\n",
        "- file handling\n",
        "- dictionary\n",
        "- OOP\n",
        "\n",
        "<p class = \"alert alert-info\" role=\"alert\"><b>Note</b> that this lecture note gives a brief introduction to polymorphism. I encourage you to read further about polymorphism.\n",
        "\n",
        "Read more [polymorphism](https://www.programiz.com/python-programming/polymorphism).\n",
        "\n",
        "---"
      ]
    },
    {
      "cell_type": "markdown",
      "metadata": {
        "id": "okBYzTAXWJJ2"
      },
      "source": [
        "## Polymorphism\n",
        "\n",
        "- same function name or operator used for different types\n",
        "- e.g. len() on a string, len() on a list\n",
        "- plus operator + on a string concatenates the string while on an int performs integer addition"
      ]
    },
    {
      "cell_type": "code",
      "execution_count": null,
      "metadata": {
        "id": "YAKuEEpaWJJ3"
      },
      "outputs": [],
      "source": [
        "print(f\"len(['a','b','c']): {len(['a','b','c'])}\")\n",
        "print(f\"len('abc'): {len('abc')}\")"
      ]
    },
    {
      "cell_type": "markdown",
      "metadata": {
        "id": "7LR4xHbyWJJ4"
      },
      "source": [
        "## Polymorphism in class methods"
      ]
    },
    {
      "cell_type": "code",
      "execution_count": null,
      "metadata": {
        "id": "Gz75ynLTWJJ4"
      },
      "outputs": [],
      "source": [
        "class Fish:\n",
        "    def __init__(self, name):\n",
        "        self.name = name\n",
        "\n",
        "    def __str__(self):\n",
        "        return f\"I am a fish, my name is {self.name}\"\n",
        "\n",
        "    def speak(self):\n",
        "        print(\"Blupp blupp\")\n",
        "\n",
        "\n",
        "class Fox:\n",
        "    def __init__(self, name):\n",
        "        self.name = name\n",
        "\n",
        "    def __str__(self):\n",
        "        return f\"I am a fox, my name is {self.name}, no one knows how I sound\"\n",
        "\n",
        "    def speak(self):\n",
        "        return NotImplemented # as we don't know the sound of the fox\n",
        "\n",
        "\n",
        "animals = (Fish(\"Pelle\"), Fox(\"Ylvis\"))\n",
        "\n",
        "# although animals have different types, you can iterate through it and call same method as they are bound to different objects\n",
        "for animal in animals:\n",
        "    print(animal)\n",
        "    animal.speak()\n"
      ]
    },
    {
      "cell_type": "markdown",
      "metadata": {
        "id": "Ml-f7vqeWJJ4"
      },
      "source": [
        "---\n",
        "## Operator overloading\n",
        "\n",
        "- giving additional functionality to an operator\n",
        "- e.g. + is overloaded for strings, int, float etc.\n",
        "- Read more: [operator overloading](https://www.geeksforgeeks.org/operator-overloading-in-python/)\n",
        "\n",
        "| Operator |        Dunder method         |\n",
        "| :------: | :--------------------------: |\n",
        "|    +     |   \\_\\_add\\_\\_(self,other)    |\n",
        "|    -     |   \\_\\_sub\\_\\_(self,other)    |\n",
        "|    \\*    |   \\_\\_mul\\_\\_(self,other)    |\n",
        "|    /     |   \\_\\_div\\_\\_(self,other)    |\n",
        "|    //    | \\_\\_floordiv\\_\\_(self,other) |\n",
        "|    %     |   \\_\\_mod\\_\\_(self,other)    |\n",
        "|   \\*\\*   |   \\_\\_pow\\_\\_(self,other)    |\n",
        "|    <     |    \\_\\_lt\\_\\_(self,other)    |\n",
        "|    <=    |    \\_\\_le\\_\\_(self,other)    |\n",
        "|    >     |    \\_\\_gt\\_\\_(self,other)    |\n",
        "|    >=    |    \\_\\_ge\\_\\_(self,other)    |\n",
        "|    ==    |    \\_\\_eq\\_\\_(self,other)    |\n",
        "\n",
        "- Note that there are more operators that can be overloaded than those specified in this list"
      ]
    },
    {
      "cell_type": "code",
      "execution_count": null,
      "metadata": {
        "id": "Y3N8fiE8WJJ5"
      },
      "outputs": [],
      "source": [
        "import matplotlib.pyplot as plt\n",
        "\n",
        "plt.style.use(\"seaborn-white\")\n",
        "\n",
        "class Vector:\n",
        "    \"\"\" A class to represent a Euclidean vector with magnitude and direction\"\"\"\n",
        "\n",
        "    # in Python >= 3.10 - can use float | int in annotation\n",
        "    def __init__(self, *numbers: float) -> None:  # *numbers is variadic parameter\n",
        "        # error checking\n",
        "        for number in numbers:\n",
        "            if not isinstance(number, (float, int)):\n",
        "                raise TypeError(f\"{number} is not valid number in a vector\")\n",
        "\n",
        "        if len(numbers) <= 0:\n",
        "            raise ValueError(\"Vector can't be empty\")\n",
        "\n",
        "        # to take care of booleans\n",
        "        self._numbers = tuple(float(number) for number in numbers)\n",
        "\n",
        "    @property\n",
        "    def numbers(self) -> tuple:\n",
        "        return self._numbers\n",
        "\n",
        "    def __add__(self, other: \"Vector\") -> \"Vector\":\n",
        "        if self.validate_vectors(other):\n",
        "            numbers = (a+b for a, b in zip(self.numbers, other.numbers))\n",
        "            return Vector(*numbers)\n",
        "\n",
        "    def __sub__(self, other: \"Vector\") -> \"Vector\":\n",
        "        if self.validate_vectors(other):\n",
        "            numbers = (a-b for a, b in zip(self.numbers, other.numbers))\n",
        "            return Vector(*numbers)\n",
        "\n",
        "    def __mul__(self, value: float) -> \"Vector\":\n",
        "        print(\"__mul__ is called\")\n",
        "        if not isinstance(value, (int, float)):\n",
        "            raise TypeError(\n",
        "                f\"The value for multiplication must be int or float not {type(value)}\")\n",
        "        numbers = (value*a for a in self.numbers)\n",
        "        return Vector(*numbers)\n",
        "\n",
        "    # to make multiplication commutative, i.e. a*v = v*a\n",
        "    def __rmul__(self, value: float) -> \"Vector\":\n",
        "        print(\"__rmul__ is called ...\")\n",
        "        return self*value\n",
        "\n",
        "    # for using len() method on a Vector object\n",
        "    def __len__(self) -> int:\n",
        "        \"\"\" Returns number of components in a Vector not the length\"\"\"\n",
        "        return len(self.numbers)\n",
        "\n",
        "    def __abs__(self) -> float:\n",
        "        \"\"\" Returns the Euclidean norm of a Vector\"\"\"\n",
        "        return sum(a**2 for a in self.numbers)**.5\n",
        "\n",
        "    def validate_vectors(self, other: \"Vector\") -> bool:\n",
        "        \"\"\"Validates if two vectors have same length \"\"\"\n",
        "        if not isinstance(other, Vector) or len(other) != len(self):\n",
        "            raise TypeError(f\"Both must be Vector and have the same length\")\n",
        "        return len(self) == len(other)\n",
        "\n",
        "    def __getitem__(self, item: int) -> float:\n",
        "        return self.numbers[item]\n",
        "\n",
        "    def plot(self, *others: \"Vector\") -> None:\n",
        "        \"\"\" Visualize 2D vectors\"\"\"\n",
        "        X, Y = [], []\n",
        "\n",
        "        for vector in tuple(others):\n",
        "            if Vector.is2D(vector) and Vector.is2D(self):\n",
        "                X.append(vector[0])\n",
        "                Y.append(vector[1])\n",
        "\n",
        "        X.append(self[0])\n",
        "        Y.append(self[1])\n",
        "\n",
        "        originX = originY = tuple(0 for _ in range(len(X)))\n",
        "\n",
        "        plt.quiver(originX, originY, X, Y, scale=1,\n",
        "                   scale_units=\"xy\", angles=\"xy\")\n",
        "        plt.xlim(-2, 10)\n",
        "        plt.ylim(-2, 10)\n",
        "        plt.xlabel(\"x\")\n",
        "        plt.ylabel(\"y\")\n",
        "        plt.title(f\"{self}, {others}\")\n",
        "        plt.grid()\n",
        "        plt.show()\n",
        "\n",
        "        # TODO: make xlim and ylim adapt after the vectors dimensions\n",
        "        # TODO: fix title paranthesis\n",
        "\n",
        "    # not bound to the class and not bound to the instance\n",
        "    # staticmethods can be used when you want a function that makes sense to be in the class\n",
        "    # but doesn't need to be bound to either class or instance\n",
        "    @staticmethod\n",
        "    def is2D(vector: \"Vector\") -> bool:\n",
        "        return len(vector) == 2\n",
        "\n",
        "    def __repr__(self) -> str:\n",
        "        return f\"Vector{self.numbers}\"\n",
        "\n",
        "    # NOTE: There are many more features to be implemented, feel free to do it\n",
        "    # TODO: implement norm between vectors\n",
        "    # TODO: implement dot product\n",
        "    # TODO: implement vector product\n",
        "    # TODO: implement conjugate\n",
        "    # TODO: implement projection\n",
        "\n",
        "v1 = Vector(2, 3, 51.5, 67, True)\n",
        "print(v1)\n",
        "print(f\"len(v1): {len(v1)}\")\n",
        "\n",
        "v2 = Vector(1, 2)\n",
        "try:\n",
        "    v1+v2\n",
        "except TypeError as err:\n",
        "    print(err)\n",
        "\n",
        "v3 = Vector(2, 2)\n",
        "\n",
        "v_23 = v3+v2\n",
        "print(f\"{v_23=}\")\n",
        "print(f\"{abs(v_23)=}\")\n",
        "\n",
        "print(v3*2)\n",
        "# 2*v3 not work if you haven't implemented __rmul__()\n",
        "2*v3\n",
        "\n",
        "a = Vector(3,4)\n",
        "b = Vector(2,5)\n",
        "c = a + b\n",
        "\n",
        "c.plot(a,b)"
      ]
    },
    {
      "cell_type": "markdown",
      "metadata": {
        "id": "gA_DuZQtWJJ5"
      },
      "source": [
        "## Polymorphism with inheritance\n",
        "\n",
        "This is covered in the inheritance lecture"
      ]
    }
  ],
  "metadata": {
    "colab": {
      "include_colab_link": true,
      "provenance": []
    },
    "kernelspec": {
      "display_name": "Python 3 (ipykernel)",
      "language": "python",
      "name": "python3"
    },
    "language_info": {
      "codemirror_mode": {
        "name": "ipython",
        "version": 3
      },
      "file_extension": ".py",
      "mimetype": "text/x-python",
      "name": "python",
      "nbconvert_exporter": "python",
      "pygments_lexer": "ipython3",
      "version": "3.8.13"
    },
    "vscode": {
      "interpreter": {
        "hash": "2163858a1cb747571b479610ffa1da36240a523145d5162fffa1bc4aebda0e4e"
      }
    }
  },
  "nbformat": 4,
  "nbformat_minor": 0
}
