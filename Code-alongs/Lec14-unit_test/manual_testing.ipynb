{
  "cells": [
    {
      "cell_type": "markdown",
      "metadata": {
        "id": "view-in-github",
        "colab_type": "text"
      },
      "source": [
        "<a href=\"https://colab.research.google.com/github/aleylani/Python/blob/main/manual_testing.ipynb\" target=\"_parent\"><img src=\"https://colab.research.google.com/assets/colab-badge.svg\" alt=\"Open In Colab\"/></a>"
      ]
    },
    {
      "cell_type": "markdown",
      "metadata": {
        "id": "IGhiGfaQLWFY"
      },
      "source": [
        "# Manual testing my vector class"
      ]
    },
    {
      "cell_type": "code",
      "execution_count": null,
      "metadata": {
        "id": "VniStBVaLWFa"
      },
      "outputs": [],
      "source": [
        "import vector as vec\n",
        "\n",
        "v1 = vec.Vector(1,2)\n",
        "v2 = vec.Vector(3,4)\n",
        "\n",
        "v3 = v2 + v1\n",
        "\n",
        "v1.plot(v2, v3)"
      ]
    },
    {
      "cell_type": "code",
      "execution_count": null,
      "metadata": {
        "id": "aKVfNuNdLWFa"
      },
      "outputs": [],
      "source": [
        "len(v3), len(v2)"
      ]
    },
    {
      "cell_type": "code",
      "execution_count": null,
      "metadata": {
        "id": "9sCIicLYLWFb"
      },
      "outputs": [],
      "source": [
        "len(vec.Vector(1,2,3,4,1,5))"
      ]
    },
    {
      "cell_type": "code",
      "execution_count": null,
      "metadata": {
        "id": "qsUS5NtjLWFb"
      },
      "outputs": [],
      "source": [
        "v3, v3[1]"
      ]
    },
    {
      "cell_type": "code",
      "execution_count": null,
      "metadata": {
        "id": "BeAsHBJ5LWFb"
      },
      "outputs": [],
      "source": [
        "v1*3, 3*v1"
      ]
    },
    {
      "cell_type": "code",
      "execution_count": null,
      "metadata": {
        "id": "acMQgvjOLWFc"
      },
      "outputs": [],
      "source": [
        "print(v1)\n",
        "print(v2)\n",
        "v1 == v2"
      ]
    },
    {
      "cell_type": "code",
      "execution_count": null,
      "metadata": {
        "id": "yC6mPC_aLWFc"
      },
      "outputs": [],
      "source": [
        "v2 == v1+vec.Vector(2,2)"
      ]
    },
    {
      "cell_type": "markdown",
      "metadata": {
        "id": "VntvaTsHLWFc"
      },
      "source": []
    }
  ],
  "metadata": {
    "kernelspec": {
      "display_name": "Python 3 (ipykernel)",
      "language": "python",
      "name": "python3"
    },
    "language_info": {
      "codemirror_mode": {
        "name": "ipython",
        "version": 3
      },
      "file_extension": ".py",
      "mimetype": "text/x-python",
      "name": "python",
      "nbconvert_exporter": "python",
      "pygments_lexer": "ipython3",
      "version": "3.8.13"
    },
    "vscode": {
      "interpreter": {
        "hash": "3b136723b0d4708e16bf623335cc8688085bd3f1313316a001291a7f1d2024db"
      }
    },
    "colab": {
      "provenance": [],
      "include_colab_link": true
    }
  },
  "nbformat": 4,
  "nbformat_minor": 0
}