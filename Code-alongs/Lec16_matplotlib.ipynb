{
  "cells": [
    {
      "cell_type": "markdown",
      "metadata": {
        "id": "view-in-github",
        "colab_type": "text"
      },
      "source": [
        "<a href=\"https://colab.research.google.com/github/aleylani/Python/blob/main/Lec16_matplotlib.ipynb\" target=\"_parent\"><img src=\"https://colab.research.google.com/assets/colab-badge.svg\" alt=\"Open In Colab\"/></a>"
      ]
    },
    {
      "cell_type": "markdown",
      "metadata": {
        "id": "NDiUKaVoJa4x"
      },
      "source": [
        "# Matplotlib"
      ]
    },
    {
      "cell_type": "code",
      "execution_count": null,
      "metadata": {
        "id": "60lNHiR1Ja42"
      },
      "outputs": [],
      "source": [
        "import matplotlib.pyplot as plt\n",
        "import numpy as np\n",
        "\n",
        "# array from -10 to 10 with 100 numbers equally spaced between\n",
        "x = np.linspace(-10,10, 20)\n",
        "\n",
        "f = lambda x: np.cos(x)\n",
        "# equivalent\n",
        "# def f(x):\n",
        "#   return np.cos(x)"
      ]
    },
    {
      "cell_type": "markdown",
      "metadata": {
        "id": "C_IKIXubJa42"
      },
      "source": [
        "## MATLAB style interface"
      ]
    },
    {
      "cell_type": "code",
      "execution_count": null,
      "metadata": {
        "id": "uUQ-mNyhJa43"
      },
      "outputs": [],
      "source": [
        "plt.plot(x, f(x), 'o--')"
      ]
    },
    {
      "cell_type": "code",
      "execution_count": null,
      "metadata": {
        "id": "Byqw-RdaJa43"
      },
      "outputs": [],
      "source": [
        "x = np.linspace(-10,10, 200)\n",
        "\n",
        "plt.figure(figsize=(8, 4), dpi = 200)\n",
        "plt.plot(x, f(x))\n",
        "plt.title(\"cos(x)\")\n",
        "plt.xlabel(\"x\")\n",
        "plt.ylabel(\"y\")\n",
        "#plt.box(False)"
      ]
    },
    {
      "cell_type": "markdown",
      "metadata": {
        "id": "iF2ZVR5TJa43"
      },
      "source": [
        "## OOP approach"
      ]
    },
    {
      "cell_type": "code",
      "execution_count": null,
      "metadata": {
        "id": "iYlyjPwaJa44"
      },
      "outputs": [],
      "source": [
        "# instantiated fig, ax from figure and axes\n",
        "fig, ax = plt.figure(figsize = (8,4)), plt.axes()\n",
        "ax.plot(x, f(x)) # ax object has a plot method\n",
        "ax.set(xlabel = \"x\", ylabel=\"y\", title = \"$\\cos{x}$\", xlim = (-5,5), ylim = (-1.2,1.2))\n",
        "fig.savefig(\"../assets/cos(x).png\", dpi=200)"
      ]
    },
    {
      "cell_type": "markdown",
      "metadata": {
        "id": "MXaXy-40Ja44"
      },
      "source": [
        "## Subplots"
      ]
    },
    {
      "cell_type": "code",
      "execution_count": null,
      "metadata": {
        "id": "Vf_NmISRJa44"
      },
      "outputs": [],
      "source": [
        "# MATLAB style\n",
        "plt.figure(figsize=(16,5))\n",
        "plt.subplot(1,2,1) # (#rows, #columns, panel number)\n",
        "plt.plot(x, f(x))\n",
        "plt.plot(x, np.sin(x))\n",
        "plt.title(\"cos(x), sin(x)\")\n",
        "\n",
        "plt.subplot(1,2,2)\n",
        "plt.plot(x, f(x))\n",
        "plt.title(\"cos(x)\")\n",
        "\n",
        "plt.suptitle(\"Trigonometric functions\", fontweight = \"bold\")"
      ]
    },
    {
      "cell_type": "code",
      "execution_count": null,
      "metadata": {
        "id": "OY3OUOZHJa45"
      },
      "outputs": [],
      "source": [
        "fig, ax = plt.subplots(1,2, figsize=(16,5))\n",
        "\n",
        "ax[0].plot(x,f(x))\n",
        "ax[0].plot(x, np.sin(x))\n",
        "ax[1].plot(x, np.sin(x))\n",
        "\n",
        "ax[0].set(title = \"cos(x) & sin(x)\")\n",
        "fig.suptitle(\"Big title\", fontsize = 25)\n",
        "\n",
        "# if we would have 2x2 -> ex 3rd ax: ax[1][0]"
      ]
    },
    {
      "cell_type": "markdown",
      "metadata": {
        "id": "vobvuUKtJa45"
      },
      "source": [
        "## Example plots"
      ]
    },
    {
      "cell_type": "code",
      "execution_count": null,
      "metadata": {
        "id": "-8f9WBbSJa46"
      },
      "outputs": [],
      "source": [
        "fig, ax = plt.subplots(1, 2, figsize=(10, 4))\n",
        "\n",
        "data_normal = np.random.randn(1000)\n",
        "\n",
        "ax[0].hist(data_normal, bins=20, alpha=0.7)\n",
        "ax[0].set(title=\"Histogram of normally distributed data\", xlabel=\"x\", ylabel=\"y\")\n",
        "\n",
        "\n",
        "size = 1000 * np.random.randn(100)\n",
        "\n",
        "\n",
        "scatter = ax[1].scatter(\n",
        "    x=np.random.randn(100),\n",
        "    y=np.random.randn(100),\n",
        "    s=size,\n",
        "    alpha=0.3,\n",
        "    cmap=\"viridis\",\n",
        "    c=np.random.randn(100),\n",
        ")\n",
        "\n",
        "ax[1].set(title=\"Bubble chart\", xlabel = \"x\", ylabel = \"y\");\n",
        "fig.colorbar(scatter)\n",
        "fig.set_facecolor(\"lightblue\")"
      ]
    }
  ],
  "metadata": {
    "kernelspec": {
      "display_name": "Python 3 (ipykernel)",
      "language": "python",
      "name": "python3"
    },
    "language_info": {
      "codemirror_mode": {
        "name": "ipython",
        "version": 3
      },
      "file_extension": ".py",
      "mimetype": "text/x-python",
      "name": "python",
      "nbconvert_exporter": "python",
      "pygments_lexer": "ipython3",
      "version": "3.8.13"
    },
    "vscode": {
      "interpreter": {
        "hash": "3b136723b0d4708e16bf623335cc8688085bd3f1313316a001291a7f1d2024db"
      }
    },
    "colab": {
      "provenance": [],
      "include_colab_link": true
    }
  },
  "nbformat": 4,
  "nbformat_minor": 0
}