{
  "cells": [
    {
      "cell_type": "markdown",
      "metadata": {
        "id": "view-in-github",
        "colab_type": "text"
      },
      "source": [
        "<a href=\"https://colab.research.google.com/github/aleylani/Python/blob/main/Code-alongs/L1_if_statements.ipynb\" target=\"_parent\"><img src=\"https://colab.research.google.com/assets/colab-badge.svg\" alt=\"Open In Colab\"/></a>"
      ]
    },
    {
      "cell_type": "markdown",
      "metadata": {
        "id": "XtOTh2vlnqrY"
      },
      "source": [
        "# if-statements\n",
        "\n",
        "## if-else"
      ]
    },
    {
      "cell_type": "code",
      "execution_count": null,
      "metadata": {
        "id": "EXHm4S_Dnqra"
      },
      "outputs": [],
      "source": [
        "age = int(input(\"Hur gammal är du?\"))\n",
        "\n",
        "if age < 18:\n",
        "    print(f\"Du är {age} år gammal, gränsen är 18\")\n",
        "    print(\"Du får inte gå in i puben\")\n",
        "else:\n",
        "    print(\"Välkommen in\")"
      ]
    },
    {
      "cell_type": "code",
      "execution_count": null,
      "metadata": {
        "id": "3LfKTbrlnqrb"
      },
      "outputs": [],
      "source": [
        "age = 15\n",
        "height = 135\n",
        "\n",
        "# other languages\n",
        "# && for and\n",
        "# || for or\n",
        "if age > 10 and height > 130:\n",
        "    print(\"Du får åka balder\")\n",
        "else:\n",
        "    print(\"Du får inte åka balder\")"
      ]
    },
    {
      "cell_type": "code",
      "execution_count": null,
      "metadata": {
        "id": "9Uoh1Yrsnqrb"
      },
      "outputs": [],
      "source": [
        "age = 15\n",
        "height = 210\n",
        "\n",
        "if age > 10 and 130 < height <= 210:\n",
        "    print(\"Du får åka balder\")\n",
        "else:\n",
        "    print(\"Du får inte åka balder\")"
      ]
    },
    {
      "cell_type": "markdown",
      "metadata": {
        "id": "OQR0FT4Pnqrc"
      },
      "source": [
        "### Modulo operator %\n",
        "\n",
        "Gives the rest after an integer division\n",
        "\n",
        "Ex\n",
        "\n",
        "- 5 % 3 = 2\n",
        "- 22 % 9 = 4"
      ]
    },
    {
      "cell_type": "code",
      "execution_count": null,
      "metadata": {
        "id": "03yT2pMinqrc",
        "outputId": "1214e9c3-0d47-436e-e3d7-070306fe7d83"
      },
      "outputs": [
        {
          "name": "stdout",
          "output_type": "stream",
          "text": [
            "jämnt tal\n"
          ]
        }
      ],
      "source": [
        "number = 42\n",
        "\n",
        "# 2 equal signs => checks if left is equal to right\n",
        "if number % 2 == 0:\n",
        "    print(\"jämnt tal\")\n"
      ]
    },
    {
      "cell_type": "code",
      "execution_count": null,
      "metadata": {
        "id": "LZIPDoR_nqrc",
        "outputId": "17a63609-929c-4c42-ac6b-0083689ee068"
      },
      "outputs": [
        {
          "name": "stdout",
          "output_type": "stream",
          "text": [
            "3==4: False\n",
            "3==3: True\n",
            "3>=3: True\n",
            "3!=3: False\n"
          ]
        }
      ],
      "source": [
        "print(f\"3==4: {3 == 4}\")\n",
        "print(f\"3==3: {3 == 3}\") # equal operator\n",
        "print(f\"3>=3: {3 >= 3}\") # larger than or equal operator\n",
        "print(f\"3!=3: {3 != 3}\") # not equal operator"
      ]
    },
    {
      "cell_type": "markdown",
      "metadata": {
        "id": "4mnYZ0lFnqrd"
      },
      "source": [
        "## if - elif - else\n",
        "\n",
        "```py\n",
        "if condition:\n",
        "    statement_1\n",
        "    ...\n",
        "    statement_n\n",
        "elif condition:\n",
        "    statement_1\n",
        "    ...\n",
        "    statement_m\n",
        "...\n",
        "elif condition:\n",
        "    ...\n",
        "else:\n",
        "    statements\n",
        "    ...\n",
        "\n",
        "program continues ...\n",
        "\n",
        "```"
      ]
    },
    {
      "cell_type": "code",
      "execution_count": null,
      "metadata": {
        "id": "_7vpEVlunqrd"
      },
      "outputs": [],
      "source": [
        "# weight is a string here\n",
        "weight = input(\"Enter patients weight (kg): \")\n",
        "print(f\"{weight=}\")\n",
        "\n",
        "# now we convert it to a float\n",
        "weight = float(weight)\n",
        "print(f\"{weight=}\")\n",
        "\n",
        "if weight < 20:\n",
        "    print(\"Give patient 500mg\")\n",
        "elif weight < 40:\n",
        "    print(\"Give patient 750mg\")\n",
        "else:\n",
        "    print(\"Give patient 1000mg\")"
      ]
    },
    {
      "cell_type": "markdown",
      "metadata": {
        "id": "XvIDEA-Gnqre"
      },
      "source": [
        "## Nested if-statements"
      ]
    },
    {
      "cell_type": "code",
      "execution_count": null,
      "metadata": {
        "id": "vObL90hRnqrf"
      },
      "outputs": [],
      "source": [
        "number = 11\n",
        "\n",
        "if number % 5 == 0:\n",
        "    print(f\"{number} divisible by 5\")\n",
        "    if number % 2 == 0:\n",
        "        print(\"Even number\")\n",
        "    else:\n",
        "        print(\"Odd number\")\n",
        "else:\n",
        "    print(\"Not divisible by 5\")"
      ]
    }
  ],
  "metadata": {
    "kernelspec": {
      "display_name": "Python 3.9.6 ('Python-course-AI22-FPwBLMbm')",
      "language": "python",
      "name": "python3"
    },
    "language_info": {
      "codemirror_mode": {
        "name": "ipython",
        "version": 3
      },
      "file_extension": ".py",
      "mimetype": "text/x-python",
      "name": "python",
      "nbconvert_exporter": "python",
      "pygments_lexer": "ipython3",
      "version": "3.9.6"
    },
    "orig_nbformat": 4,
    "vscode": {
      "interpreter": {
        "hash": "3b136723b0d4708e16bf623335cc8688085bd3f1313316a001291a7f1d2024db"
      }
    },
    "colab": {
      "provenance": [],
      "include_colab_link": true
    }
  },
  "nbformat": 4,
  "nbformat_minor": 0
}