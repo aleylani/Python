{
  "cells": [
    {
      "cell_type": "markdown",
      "metadata": {
        "id": "view-in-github",
        "colab_type": "text"
      },
      "source": [
        "<a href=\"https://colab.research.google.com/github/aleylani/Python/blob/main/L9_dictionary.ipynb\" target=\"_parent\"><img src=\"https://colab.research.google.com/assets/colab-badge.svg\" alt=\"Open In Colab\"/></a>"
      ]
    },
    {
      "cell_type": "markdown",
      "metadata": {
        "id": "-XWQzK5QIi9-"
      },
      "source": [
        "# Dictionary\n",
        "\n",
        "- datastructure that stores data in key:value pairs"
      ]
    },
    {
      "cell_type": "code",
      "execution_count": null,
      "metadata": {
        "id": "WKfRRw8CIi-A"
      },
      "outputs": [],
      "source": [
        "# create a dictionary with dict keyword\n",
        "person = dict(\n",
        "    name=\"Ali\",\n",
        "    age=31,\n",
        "    work=\"AI teacher\",\n",
        "    interests=[\"math\", \"calisthenics\", \"programming\", \"diving\", \"extreme hiking\"],\n",
        "    phone=112,\n",
        ")\n",
        "\n",
        "print(f\"person dictionary {person}\")\n",
        "print(f\"persons work: {person['work']}\")\n",
        "print(f\"persons age: {person['age']}\")\n",
        "\n",
        "print(f\"persons interests: {person['interests'][:2]} \\n\")\n",
        "\n",
        "for interest in person[\"interests\"]:\n",
        "    print(f\"Kokchun likes {interest}\")"
      ]
    },
    {
      "cell_type": "code",
      "execution_count": null,
      "metadata": {
        "id": "QQ2yBSE8Ii-B"
      },
      "outputs": [],
      "source": [
        "# create dictionary with curly brace {}\n",
        "words = {\n",
        "    \"assign\": \"assigns a value to a variable\",\n",
        "    \"dictionary\": \"datastructure to store data in key-value pairs\",\n",
        "    \"method\": \"a function bound to an object\",\n",
        "}\n",
        "\n",
        "print(words)\n",
        "print(\"Vi ska lära oss de här glosorna \\n\")\n",
        "\n",
        "for key in words:\n",
        "    print(key,\" - \" ,words[key])"
      ]
    },
    {
      "cell_type": "code",
      "execution_count": null,
      "metadata": {
        "id": "xT4X6iPbIi-B"
      },
      "outputs": [],
      "source": [
        "print(\"Glosor \\n\")\n",
        "for key, value in words.items():\n",
        "    print(f\"{key:<20}{value}\") # :<20 -> right align with width 20\n",
        "\n",
        "print(\".\"*20)"
      ]
    },
    {
      "cell_type": "code",
      "execution_count": null,
      "metadata": {
        "id": "kx1JSNGzIi-B"
      },
      "outputs": [],
      "source": [
        "# F < 10, E: 10, D: 20, C: 30, B: 40, A: 50\n",
        "\n",
        "# empty dictionary\n",
        "grade_limit = {}\n",
        "\n",
        "for i, character in enumerate(\"ABCDEF\"[::-1]):\n",
        "    grade_limit[character] = i*10\n",
        "\n",
        "print(grade_limit)\n",
        "\n",
        "# assigns a new value that is associated with the key F\n",
        "grade_limit[\"F\"] = \"< 10\"\n",
        "grade_limit[\"Course\"] = \"Programmering 1\"\n",
        "\n",
        "print(grade_limit)\n"
      ]
    },
    {
      "cell_type": "markdown",
      "metadata": {
        "id": "ibrkEJqqIi-B"
      },
      "source": [
        "## Dictionary comprehension"
      ]
    },
    {
      "cell_type": "code",
      "execution_count": null,
      "metadata": {
        "id": "kvSjj027Ii-C"
      },
      "outputs": [],
      "source": [
        "import random as rnd\n",
        "\n",
        "grade_limit = {grade: i*10 for i, grade in enumerate(\"ABCDEF\"[::-1])}\n",
        "\n",
        "def generate_scores(number_students):\n",
        "    rnd.seed(1337)\n",
        "    scores = [rnd.randint(0,60) for _ in range(number_students)]\n",
        "    return scores\n",
        "\n",
        "scores = generate_scores(30)\n",
        "\n",
        "print(f\"{grade_limit=}\")\n",
        "print(f\"{scores=}\")\n",
        "\n",
        "# number of students in each grade category\n",
        "students_in_grade = {key: 0 for key in grade_limit}\n",
        "\n",
        "# för varje score\n",
        "for score in scores:\n",
        "    # för varje score plockar vi ut alla grade och limits\n",
        "    for grade, limit in grade_limit.items():\n",
        "        # checka vilken limit score hamnar under\n",
        "        if limit <= score < limit+10:\n",
        "            students_in_grade[grade] += 1\n",
        "\n",
        "print(students_in_grade)\n"
      ]
    },
    {
      "cell_type": "code",
      "execution_count": null,
      "metadata": {
        "id": "iu5uUfO1Ii-C"
      },
      "outputs": [],
      "source": [
        "# check that all students have been put into categories\n",
        "total_students = 0\n",
        "for _, number_students in students_in_grade.items():\n",
        "    total_students += number_students\n",
        "\n",
        "total_students\n"
      ]
    }
  ],
  "metadata": {
    "kernelspec": {
      "display_name": "Python 3 (ipykernel)",
      "language": "python",
      "name": "python3"
    },
    "language_info": {
      "codemirror_mode": {
        "name": "ipython",
        "version": 3
      },
      "file_extension": ".py",
      "mimetype": "text/x-python",
      "name": "python",
      "nbconvert_exporter": "python",
      "pygments_lexer": "ipython3",
      "version": "3.8.13"
    },
    "vscode": {
      "interpreter": {
        "hash": "3b136723b0d4708e16bf623335cc8688085bd3f1313316a001291a7f1d2024db"
      }
    },
    "colab": {
      "provenance": [],
      "include_colab_link": true
    }
  },
  "nbformat": 4,
  "nbformat_minor": 0
}