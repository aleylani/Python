{
  "cells": [
    {
      "cell_type": "markdown",
      "metadata": {
        "id": "view-in-github",
        "colab_type": "text"
      },
      "source": [
        "<a href=\"https://colab.research.google.com/github/aleylani/Python/blob/main/Lec19_OOP_abstract_class.ipynb\" target=\"_parent\"><img src=\"https://colab.research.google.com/assets/colab-badge.svg\" alt=\"Open In Colab\"/></a>"
      ]
    },
    {
      "cell_type": "markdown",
      "metadata": {
        "id": "2ueZMIo_KRKg"
      },
      "source": [
        "# Abstract classes"
      ]
    },
    {
      "cell_type": "markdown",
      "metadata": {
        "id": "EI0elzOZKRKh"
      },
      "source": [
        "## Problem description\n",
        "\n",
        "3 developers, the task is to implement a photosynthesis method for 3 different plants"
      ]
    },
    {
      "cell_type": "code",
      "execution_count": null,
      "metadata": {
        "id": "5iziKCkoKRKi"
      },
      "outputs": [],
      "source": [
        "# developer 1\n",
        "class VenusFlyTrap:\n",
        "    def venus_photosynthesis(self):\n",
        "        print(\"Venus eating bugs\")\n",
        "        # checks the instance class and its name\n",
        "        print(f\"{self.__class__.__name__} does photosynthesis\")\n",
        "\n",
        "# developer 2\n",
        "class Monstera:\n",
        "    def monstera_photosynthesis(self):\n",
        "        print(\"Monstera looking cool ...\")\n",
        "        print(f\"{self.__class__.__name__} does photosynthesis\")\n",
        "\n",
        "# developer 3\n",
        "class MoneyPlant:\n",
        "    def photosynthesis(self):\n",
        "        print(\"Money hopefully comes in ...\")\n",
        "        print(f\"{self.__class__.__name__} does photosynthesis\")\n",
        "\n",
        "venus = VenusFlyTrap()\n",
        "venus.venus_photosynthesis()"
      ]
    },
    {
      "cell_type": "code",
      "execution_count": null,
      "metadata": {
        "id": "OHaMdY_zKRKj"
      },
      "outputs": [],
      "source": [
        "# want to use polymorphism and loop through these plants\n",
        "plants = (VenusFlyTrap(), Monstera(), MoneyPlant())\n",
        "for plant in plants:\n",
        "    plant.photosynthesis()"
      ]
    },
    {
      "cell_type": "markdown",
      "metadata": {
        "id": "s6Gn8RJJKRKj"
      },
      "source": [
        "## ABC - abstract base class\n",
        "\n",
        "- can make a base class abstract by giving it at least 1 abstract method\n",
        "- can't instantiate from an abstract class\n",
        "- subclasses of this abstract class, must implement the abstract methods in order to be instantiable"
      ]
    },
    {
      "cell_type": "code",
      "execution_count": null,
      "metadata": {
        "id": "XmqJHfStKRKj"
      },
      "outputs": [],
      "source": [
        "from abc import abstractmethod, ABC\n",
        "\n",
        "# the abstract class must inherit from ABC - abstract base class\n",
        "class Plant(ABC):\n",
        "    @abstractmethod\n",
        "    def photosynthesis(self):\n",
        "        pass\n",
        "\n",
        "# can't instantiate from an abstract class, a class is abstract if it has an abstract method\n",
        "planty = Plant()"
      ]
    },
    {
      "cell_type": "code",
      "execution_count": null,
      "metadata": {
        "id": "NLO9G_RvKRKk"
      },
      "outputs": [],
      "source": [
        "from abc import abstractmethod, ABC\n",
        "\n",
        "# the abstract class must inherit from ABC - abstract base class\n",
        "class Plant(ABC):\n",
        "    @abstractmethod\n",
        "    def photosynthesis(self):\n",
        "        pass\n",
        "\n",
        "# developer 1\n",
        "class VenusFlyTrap(Plant):\n",
        "    def venus_photosynthesis(self):\n",
        "        print(\"Venus eating bugs\")\n",
        "        # checks the instance class and its name\n",
        "        print(f\"{self.__class__.__name__} does photosynthesis\")\n",
        "\n",
        "# developer 2\n",
        "class Monstera(Plant):\n",
        "    def monstera_photosynthesis(self):\n",
        "        print(\"Monstera looking cool ...\")\n",
        "        print(f\"{self.__class__.__name__} does photosynthesis\")\n",
        "\n",
        "# developer 3\n",
        "class MoneyPlant(Plant):\n",
        "    def photosynthesis(self):\n",
        "        print(\"Money hopefully comes in ...\")\n",
        "        print(f\"{self.__class__.__name__} does photosynthesis\")\n",
        "\n",
        "monet = MoneyPlant()\n",
        "print(monet)\n",
        "\n",
        "# we inherit from Plant, so Monstera has a method called photosynthesis that is abstract, which makes Monstera abstract\n",
        "monsteru = Monstera()"
      ]
    },
    {
      "cell_type": "code",
      "execution_count": null,
      "metadata": {
        "id": "a39grzWTKRKk"
      },
      "outputs": [],
      "source": [
        "from abc import abstractmethod, ABC\n",
        "\n",
        "# the abstract class must inherit from ABC - abstract base class\n",
        "class Plant(ABC):\n",
        "    @abstractmethod\n",
        "    def photosynthesis(self):\n",
        "        pass\n",
        "\n",
        "\n",
        "# developer 1\n",
        "class VenusFlyTrap(Plant):\n",
        "    def photosynthesis(self):\n",
        "        print(\"Venus eating bugs\")\n",
        "        # checks the instance class and its name\n",
        "        print(f\"{self.__class__.__name__} does photosynthesis\")\n",
        "\n",
        "# developer 2\n",
        "class Monstera(Plant):\n",
        "    def photosynthesis(self):\n",
        "        print(\"Monstera looking cool ...\")\n",
        "        print(f\"{self.__class__.__name__} does photosynthesis\")\n",
        "\n",
        "# developer 3\n",
        "class MoneyPlant(Plant):\n",
        "    def photosynthesis(self):\n",
        "        print(\"Money hopefully comes in ...\")\n",
        "        print(f\"{self.__class__.__name__} does photosynthesis\")\n",
        "\n",
        "monet = MoneyPlant()\n",
        "\n",
        "# we inherit from Plant, so Monstera has a method called photosynthesis that is abstract, which makes Monstera abstract\n",
        "monsteru = Monstera()\n",
        "\n",
        "venus = VenusFlyTrap()\n",
        "\n",
        "for plant in (monsteru, monet, venus):\n",
        "    plant.photosynthesis()"
      ]
    },
    {
      "cell_type": "markdown",
      "metadata": {
        "id": "eFmLI98oKRKk"
      },
      "source": []
    }
  ],
  "metadata": {
    "kernelspec": {
      "display_name": "Python 3 (ipykernel)",
      "language": "python",
      "name": "python3"
    },
    "language_info": {
      "codemirror_mode": {
        "name": "ipython",
        "version": 3
      },
      "file_extension": ".py",
      "mimetype": "text/x-python",
      "name": "python",
      "nbconvert_exporter": "python",
      "pygments_lexer": "ipython3",
      "version": "3.8.13"
    },
    "vscode": {
      "interpreter": {
        "hash": "3b136723b0d4708e16bf623335cc8688085bd3f1313316a001291a7f1d2024db"
      }
    },
    "colab": {
      "provenance": [],
      "include_colab_link": true
    }
  },
  "nbformat": 4,
  "nbformat_minor": 0
}