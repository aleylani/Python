{
  "cells": [
    {
      "cell_type": "markdown",
      "metadata": {
        "id": "view-in-github",
        "colab_type": "text"
      },
      "source": [
        "<a href=\"https://colab.research.google.com/github/aleylani/Python/blob/main/L2_while_statement.ipynb\" target=\"_parent\"><img src=\"https://colab.research.google.com/assets/colab-badge.svg\" alt=\"Open In Colab\"/></a>"
      ]
    },
    {
      "cell_type": "markdown",
      "metadata": {
        "id": "ydcA8TpQHDP2"
      },
      "source": [
        "# while loop\n",
        "\n",
        "- \"if-loop\"\n",
        "- as long as a condition is True -> the statements inside the while loop will run\n",
        "  \n",
        "```py\n",
        "while condition:\n",
        "    statements\n",
        "    ...\n",
        "\n",
        "program continues here\n",
        "```"
      ]
    },
    {
      "cell_type": "code",
      "execution_count": null,
      "metadata": {
        "id": "W9NtcXlhHDP3"
      },
      "outputs": [],
      "source": [
        "i = 0\n",
        "\n",
        "while i < 4:\n",
        "    print(f\"Hej {i=}\")\n",
        "    i += 1 # adds one to i <=> i = i + 1\n",
        "print(\"Program continues here\")"
      ]
    },
    {
      "cell_type": "markdown",
      "metadata": {
        "id": "RgBMbrSdHDP4"
      },
      "source": [
        "## Example - birds and oil\n",
        "\n",
        "There is an oil leakage causing the bird population in an island to 1/2 in each year. From start there were 80 000 birds, how many years does it take for it to have 1/10 remaining?\n"
      ]
    },
    {
      "cell_type": "code",
      "execution_count": null,
      "metadata": {
        "id": "iTP4Vb71HDP4"
      },
      "outputs": [],
      "source": [
        "birds, years = 80000, 0 # tuple unpacking\n",
        "\n",
        "limit = birds/10\n",
        "\n",
        "while birds >= limit:\n",
        "    birds /= 2\n",
        "    years += 1\n",
        "    print(f\"Year {years}: number of birds {birds:.0f} left\")\n",
        "\n"
      ]
    },
    {
      "cell_type": "markdown",
      "metadata": {
        "id": "lo7tTtulHDP5"
      },
      "source": [
        "## Example - Milk\n",
        "\n",
        "- 1L of milk has 1 500 000 bacterias in room temperature\n",
        "- Bacterias increases with 50% each hour in room temp\n",
        "- Milk get soured after 10 000 000 bacterias\n",
        "- How many hours does it take til milk sours (whole hours)"
      ]
    },
    {
      "cell_type": "code",
      "execution_count": null,
      "metadata": {
        "id": "-RNwUwwPHDP5"
      },
      "outputs": [],
      "source": [
        "import matplotlib.pyplot as plt\n",
        "\n",
        "bacterias = 1.5e6 # 1.5 * 10^6\n",
        "factor = 1.5\n",
        "hours = 0\n",
        "sour = 1e7 # 10^7\n",
        "\n",
        "bacterias_list = [bacterias]\n",
        "\n",
        "print(bacterias_list)\n",
        "\n",
        "while bacterias < sour:\n",
        "    bacterias *= factor\n",
        "    hours += 1\n",
        "    bacterias_list.append(bacterias) # adds element into the list\n",
        "\n",
        "print(bacterias_list)\n",
        "print(f\"Takes {hours}h for milk to get soured\")\n",
        "\n",
        "# creates a range object with numbers: 0,1,2,...,hours\n",
        "hours_list = range(0, hours+1)\n",
        "\n",
        "plt.plot(hours_list, bacterias_list, 'o-')\n",
        "\n",
        "plt.plot(hours_list, [sour]*(hours+1))\n",
        "\n",
        "plt.grid()\n",
        "plt.xlabel(\"Hours\")\n",
        "plt.ylabel(\"Number of bacterias\")\n",
        "plt.title(\"Bacterias in milk in room temperature\")\n"
      ]
    }
  ],
  "metadata": {
    "kernelspec": {
      "display_name": "Python 3 (ipykernel)",
      "language": "python",
      "name": "python3"
    },
    "language_info": {
      "codemirror_mode": {
        "name": "ipython",
        "version": 3
      },
      "file_extension": ".py",
      "mimetype": "text/x-python",
      "name": "python",
      "nbconvert_exporter": "python",
      "pygments_lexer": "ipython3",
      "version": "3.8.13"
    },
    "vscode": {
      "interpreter": {
        "hash": "3b136723b0d4708e16bf623335cc8688085bd3f1313316a001291a7f1d2024db"
      }
    },
    "colab": {
      "provenance": [],
      "include_colab_link": true
    }
  },
  "nbformat": 4,
  "nbformat_minor": 0
}