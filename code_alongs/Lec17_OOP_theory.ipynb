{
  "cells": [
    {
      "cell_type": "markdown",
      "metadata": {
        "id": "view-in-github",
        "colab_type": "text"
      },
      "source": [
        "<a href=\"https://colab.research.google.com/github/aleylani/Python/blob/main/Lec17_OOP_theory.ipynb\" target=\"_parent\"><img src=\"https://colab.research.google.com/assets/colab-badge.svg\" alt=\"Open In Colab\"/></a>"
      ]
    },
    {
      "cell_type": "markdown",
      "metadata": {
        "id": "JFSTUAx4JfRZ"
      },
      "source": [
        "# OOP theory"
      ]
    },
    {
      "cell_type": "markdown",
      "metadata": {
        "id": "M1GwQR0iJfRa"
      },
      "source": [
        "## Class instantiation\n",
        "\n",
        "When instantiating an object from a class\n",
        "1. `__new__()` is run\n",
        "2. `__init__()` is run -> gives the instance object its initial state"
      ]
    },
    {
      "cell_type": "code",
      "execution_count": null,
      "metadata": {
        "id": "VVtMx5fpJfRa"
      },
      "outputs": [],
      "source": [
        "# convention for classes is PascalCase\n",
        "class Student:\n",
        "    pass\n",
        "\n",
        "# variable names have snake_case\n",
        "# functions also snake_case\n",
        "\n",
        "s1 = Student()\n",
        "# s1 has a __repr__(), but this __repr__() is in the object class\n",
        "print(repr(s1))\n",
        "\n",
        "print(type(s1))\n",
        "\n",
        "isinstance(s1, object)"
      ]
    },
    {
      "cell_type": "code",
      "execution_count": null,
      "metadata": {
        "id": "n08Z3jjKJfRb"
      },
      "outputs": [],
      "source": [
        "isinstance(Student, object), isinstance(s1, int)"
      ]
    },
    {
      "cell_type": "code",
      "execution_count": null,
      "metadata": {
        "id": "CDW_9iObJfRb"
      },
      "outputs": [],
      "source": [
        "s2 = Student()\n",
        "s1 is s2"
      ]
    },
    {
      "cell_type": "code",
      "execution_count": null,
      "metadata": {
        "id": "vM9_7GxMJfRc"
      },
      "outputs": [],
      "source": [
        "s1 == s2"
      ]
    },
    {
      "cell_type": "code",
      "execution_count": null,
      "metadata": {
        "id": "3-6-ITcGJfRc"
      },
      "outputs": [],
      "source": [
        "fruit1 = \"apple\"\n",
        "fruit2 = \"apple\"\n",
        "\n",
        "# don't know exactly how is works here\n",
        "fruit1 == fruit2, fruit1 is fruit2"
      ]
    },
    {
      "cell_type": "code",
      "execution_count": null,
      "metadata": {
        "id": "14gwZedWJfRc"
      },
      "outputs": [],
      "source": [
        "hex(id(s1)), hex(id(s2))"
      ]
    },
    {
      "cell_type": "code",
      "execution_count": null,
      "metadata": {
        "id": "c5yWAfpBJfRd"
      },
      "outputs": [],
      "source": [
        "l1 = [1,2,3]\n",
        "l2 = [1,2,3]\n",
        "\n",
        "l1 is l2, l1 == l2"
      ]
    },
    {
      "cell_type": "markdown",
      "metadata": {
        "id": "VIADaQ09JfRd"
      },
      "source": [
        "## Attribute\n",
        "\n",
        "- can be defined in class\n",
        "- can be created on the fly (during runtime) using dot notation\n",
        "- can be created inside methods"
      ]
    },
    {
      "cell_type": "code",
      "execution_count": null,
      "metadata": {
        "id": "gDAhWwcjJfRe"
      },
      "outputs": [],
      "source": [
        "class Student:\n",
        "    name = \"default\"\n",
        "\n",
        "# Student's namespace\n",
        "print(Student.__dict__)\n",
        "\n",
        "# gets the name attribute from the class\n",
        "Student.name"
      ]
    },
    {
      "cell_type": "code",
      "execution_count": null,
      "metadata": {
        "id": "DKxdMmmqJfRf"
      },
      "outputs": [],
      "source": [
        "s1 = Student()\n",
        "print(s1.__dict__)\n",
        "s1.name"
      ]
    },
    {
      "cell_type": "code",
      "execution_count": null,
      "metadata": {
        "id": "iYDfqXQ2JfRf"
      },
      "outputs": [],
      "source": [
        "# created an attribute on the fly with dot notation\n",
        "s1.name = \"Ada\"\n",
        "s1.shoe_size = 43\n",
        "print(s1.__dict__)"
      ]
    },
    {
      "cell_type": "code",
      "execution_count": null,
      "metadata": {
        "id": "-kE7cMTaJfRf"
      },
      "outputs": [],
      "source": [
        "Student.__dict__"
      ]
    },
    {
      "cell_type": "code",
      "execution_count": null,
      "metadata": {
        "id": "OSz7-c6OJfRf"
      },
      "outputs": [],
      "source": [
        "s2 = Student()\n",
        "s2.__dict__"
      ]
    },
    {
      "cell_type": "code",
      "execution_count": null,
      "metadata": {
        "id": "ubkY_1itJfRf"
      },
      "outputs": [],
      "source": [
        "s2.name"
      ]
    },
    {
      "cell_type": "code",
      "execution_count": null,
      "metadata": {
        "id": "VE1w67jgJfRg"
      },
      "outputs": [],
      "source": [
        "s2.shoe_size"
      ]
    },
    {
      "cell_type": "markdown",
      "metadata": {
        "id": "NxswtDptJfRg"
      },
      "source": [
        "## Namespace\n",
        "\n",
        "- class attributes live in the class namespace\n",
        "- namespace - dictionary of symbols (keys): reference to objects (values)\n",
        "\n",
        "Python will look at local scope -> enclosing scope -> global scope -> built-in scope"
      ]
    },
    {
      "cell_type": "code",
      "execution_count": null,
      "metadata": {
        "id": "TKGcxMAuJfRg"
      },
      "outputs": [],
      "source": [
        "\n",
        "# global scope\n",
        "class Functions:\n",
        "    # enclosing scope\n",
        "    def f(x):\n",
        "        # local scope\n",
        "        return x"
      ]
    },
    {
      "cell_type": "code",
      "execution_count": null,
      "metadata": {
        "id": "v0sUN-tCJfRg"
      },
      "outputs": [],
      "source": [
        "class Rabbit:\n",
        "    # class attributes - class namespace, not in instance namespace\n",
        "    eyes = 2\n",
        "    nose = 1\n",
        "    has_tail = True\n",
        "\n",
        "    def __init__(self, name) -> None:\n",
        "        # name exists in instance namespace, not the class namespace\n",
        "        self.name = name\n",
        "\n",
        "\n",
        "rabbit1 = Rabbit(\"Bella\")\n",
        "print(Rabbit.__dict__)\n",
        "\n",
        "print(rabbit1.__dict__)\n"
      ]
    },
    {
      "cell_type": "code",
      "execution_count": null,
      "metadata": {
        "id": "gKQm0OS8JfRg"
      },
      "outputs": [],
      "source": [
        "rabbit1.name, rabbit1.nose"
      ]
    },
    {
      "cell_type": "code",
      "execution_count": null,
      "metadata": {
        "id": "SYPfcCafJfRh"
      },
      "outputs": [],
      "source": [
        "class Rabbit:\n",
        "    # class attributes - class namespace, not in instance namespace\n",
        "    eyes = 2\n",
        "    nose = 1\n",
        "    has_tail = True\n",
        "\n",
        "    def __init__(self, name) -> None:\n",
        "        # name exists in instance namespace, not the class namespace\n",
        "        self.name = name\n",
        "        self.has_tail = False\n",
        "\n",
        "rabbit1 = Rabbit(\"Skutt\")\n",
        "rabbit1.has_tail"
      ]
    },
    {
      "cell_type": "code",
      "execution_count": null,
      "metadata": {
        "id": "Ljk5iEzNJfRh"
      },
      "outputs": [],
      "source": [
        "import numpy as np\n",
        "\n",
        "# x is in global scope\n",
        "x = np.linspace(-5,5)\n",
        "\n",
        "# x here is in local scope\n",
        "#f = lambda x: x**2\n",
        "def f(x):\n",
        "    # local x = 2\n",
        "    y = x + 2\n",
        "    return y\n",
        "\n",
        "f(2)"
      ]
    },
    {
      "cell_type": "markdown",
      "metadata": {
        "id": "lPrxZwTXJfRi"
      },
      "source": [
        "## Property"
      ]
    },
    {
      "cell_type": "code",
      "execution_count": null,
      "metadata": {
        "id": "eIVlP8Z0JfRi"
      },
      "outputs": [],
      "source": [
        "# without property\n",
        "class Square:\n",
        "    def __init__(self, side) -> None:\n",
        "        self._side = side # NOTE\n",
        "\n",
        "    # method\n",
        "    def get_side(self):\n",
        "        print(\"getter run\")\n",
        "        return self._side\n",
        "\n",
        "    # method\n",
        "    def set_side(self, value):\n",
        "        # validation code\n",
        "        print(\"setter run\")\n",
        "\n",
        "        self._side = value\n",
        "\n",
        "unit_square = Square(1)\n",
        "print(Square.__dict__)\n",
        "print(unit_square.__dict__)\n",
        "\n",
        "try:\n",
        "    unit_square.side\n",
        "except AttributeError as err:\n",
        "    print(err)\n"
      ]
    },
    {
      "cell_type": "code",
      "execution_count": null,
      "metadata": {
        "id": "0h9vn3YCJfRi"
      },
      "outputs": [],
      "source": [
        "unit_square.get_side() # this returns _side\n",
        "unit_square.set_side(2) # this sets _side to 2\n",
        "unit_square.get_side() # this returns _side\n",
        "unit_square.__dict__"
      ]
    },
    {
      "cell_type": "code",
      "execution_count": null,
      "metadata": {
        "id": "NV7BW-5xJfRi"
      },
      "outputs": [],
      "source": [
        "# property function\n",
        "class Square:\n",
        "    def __init__(self, side) -> None:\n",
        "        self.side = side\n",
        "\n",
        "    def get_side(self):\n",
        "        print(\"getter run\")\n",
        "        return self._side\n",
        "\n",
        "    def set_side(self, value):\n",
        "        # validation code\n",
        "        print(\"setter run\")\n",
        "        self._side = value\n",
        "\n",
        "\n",
        "    side = property(fget = get_side, fset = set_side)\n",
        "\n",
        "square2 = Square(2)\n",
        "square2.side = 4\n",
        "square2.side"
      ]
    },
    {
      "cell_type": "code",
      "execution_count": null,
      "metadata": {
        "id": "f3wK8GH1JfRi"
      },
      "outputs": [],
      "source": [
        "class Square:\n",
        "    def __init__(self, side) -> None:\n",
        "        self.side = side\n",
        "\n",
        "    # side = property(fget=side)\n",
        "    @property\n",
        "    def side(self):\n",
        "        print(\"getter run\")\n",
        "        return self._side\n",
        "\n",
        "    @side.setter\n",
        "    def side(self, value):\n",
        "        # validation code\n",
        "        print(\"setter run\")\n",
        "        self._side = value\n",
        "\n",
        "square3 = Square(3)\n",
        "square3.side"
      ]
    },
    {
      "cell_type": "code",
      "execution_count": null,
      "metadata": {
        "id": "PQ4druSBJfRi"
      },
      "outputs": [],
      "source": [
        "square2.__dict__"
      ]
    },
    {
      "cell_type": "code",
      "execution_count": null,
      "metadata": {
        "id": "Wy7BhnXLJfRj"
      },
      "outputs": [],
      "source": [
        "fruit1 = \"apple\"\n",
        "fruit2 = \"apple\"\n",
        "\n",
        "# don't know exactly how is works here\n",
        "fruit1 == fruit2, fruit1 is fruit2"
      ]
    },
    {
      "cell_type": "code",
      "execution_count": null,
      "metadata": {
        "id": "Em3on3HKJfRj"
      },
      "outputs": [],
      "source": [
        "# id is same here\n",
        "id(fruit1), id(fruit2)"
      ]
    },
    {
      "cell_type": "code",
      "execution_count": null,
      "metadata": {
        "id": "ufVWQ3vfJfRj"
      },
      "outputs": [],
      "source": [
        "question1 = \"En bild säger mer än 1000 ord, en matematisk formel säger mer än 1000 bilder. Hur många gånger fler säger en formel än ett ord?\"\n",
        "\n",
        "question2 = \"En bild säger mer än 1000 ord, en matematisk formel säger mer än 1000 bilder. Hur många gånger fler säger en formel än ett ord?\"\n",
        "\n",
        "question1 == question2, question1 is question2"
      ]
    },
    {
      "cell_type": "code",
      "execution_count": null,
      "metadata": {
        "id": "Mhqfil1EJfRj"
      },
      "outputs": [],
      "source": [
        "id(question1), id(question2)"
      ]
    }
  ],
  "metadata": {
    "kernelspec": {
      "display_name": "Python 3 (ipykernel)",
      "language": "python",
      "name": "python3"
    },
    "language_info": {
      "codemirror_mode": {
        "name": "ipython",
        "version": 3
      },
      "file_extension": ".py",
      "mimetype": "text/x-python",
      "name": "python",
      "nbconvert_exporter": "python",
      "pygments_lexer": "ipython3",
      "version": "3.8.13"
    },
    "vscode": {
      "interpreter": {
        "hash": "3b136723b0d4708e16bf623335cc8688085bd3f1313316a001291a7f1d2024db"
      }
    },
    "colab": {
      "provenance": [],
      "include_colab_link": true
    }
  },
  "nbformat": 4,
  "nbformat_minor": 0
}