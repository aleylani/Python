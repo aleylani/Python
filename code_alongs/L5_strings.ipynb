{
 "cells": [
  {
   "cell_type": "code",
   "execution_count": 11,
   "metadata": {},
   "outputs": [],
   "source": [
    "firstname = 'ali'            #antingen singel citat-tecken\n",
    "lastname = \"leylani\"      # eller dubbel. Båda går bra\n",
    "\n",
    "phone_number = 112"
   ]
  },
  {
   "cell_type": "code",
   "execution_count": 9,
   "metadata": {},
   "outputs": [
    {
     "name": "stdout",
     "output_type": "stream",
     "text": [
      "ali leylani\n"
     ]
    }
   ],
   "source": [
    "full_name = f'{firstname} {lastname}'\n",
    "print(full_name)\n",
    "\n",
    "another_full_name = firstname + \" \" + lastname\n",
    "print(another_full_name)"
   ]
  },
  {
   "cell_type": "code",
   "execution_count": 25,
   "metadata": {},
   "outputs": [
    {
     "name": "stdout",
     "output_type": "stream",
     "text": [
      "firstname: ali, lastname: leylani, phone_number: 112\n"
     ]
    }
   ],
   "source": [
    "contact_details = f'firstname: {firstname}, lastname: {lastname}, phone_number: {phone_number}'\n",
    "\n",
    "print(contact_details)"
   ]
  },
  {
   "cell_type": "code",
   "execution_count": 26,
   "metadata": {},
   "outputs": [
    {
     "name": "stdout",
     "output_type": "stream",
     "text": [
      "\n",
      "firstname: ali,\n",
      "lastname: leylani,\n",
      "phone_number: 112\n",
      "hasdjahsda\n",
      "dasdasd\n",
      "\n"
     ]
    }
   ],
   "source": [
    "contact_details = f'''\n",
    "firstname: {firstname},\n",
    "lastname: {lastname},\n",
    "phone_number: {phone_number}\n",
    "hasdjahsda\n",
    "dasdasd\n",
    "'''\n",
    "\n",
    "print(contact_details)"
   ]
  },
  {
   "cell_type": "code",
   "execution_count": 27,
   "metadata": {},
   "outputs": [
    {
     "name": "stdout",
     "output_type": "stream",
     "text": [
      "['word', 'another', 'a third word', 'etcetera']\n"
     ]
    }
   ],
   "source": [
    "min_lista = ['word','another','a third word', 'etcetera']\n",
    "\n",
    "print(min_lista)"
   ]
  },
  {
   "cell_type": "code",
   "execution_count": 29,
   "metadata": {},
   "outputs": [
    {
     "name": "stdout",
     "output_type": "stream",
     "text": [
      "word\n",
      "another\n",
      "a third word\n"
     ]
    }
   ],
   "source": [
    "print(min_lista[0])\n",
    "print(min_lista[1])\n",
    "print(min_lista[2])"
   ]
  },
  {
   "cell_type": "code",
   "execution_count": 30,
   "metadata": {},
   "outputs": [],
   "source": [
    "full_name = 'Ali Leylani'"
   ]
  },
  {
   "cell_type": "code",
   "execution_count": 34,
   "metadata": {},
   "outputs": [
    {
     "name": "stdout",
     "output_type": "stream",
     "text": [
      "A\n",
      "l\n",
      "i\n",
      " \n",
      "L\n"
     ]
    }
   ],
   "source": [
    "print(full_name[0])\n",
    "print(full_name[1])\n",
    "print(full_name[2])\n",
    "print(full_name[3])\n",
    "print(full_name[4])"
   ]
  },
  {
   "cell_type": "code",
   "execution_count": 35,
   "metadata": {},
   "outputs": [
    {
     "data": {
      "text/plain": [
       "'i'"
      ]
     },
     "execution_count": 35,
     "metadata": {},
     "output_type": "execute_result"
    }
   ],
   "source": [
    "full_name[-1]"
   ]
  },
  {
   "cell_type": "code",
   "execution_count": null,
   "metadata": {},
   "outputs": [
    {
     "name": "stdout",
     "output_type": "stream",
     "text": [
      "ali leylani\n"
     ]
    }
   ],
   "source": [
    "another_full_name = firstname + \" \" + lastname\n",
    "print(another_full_name)"
   ]
  },
  {
   "cell_type": "code",
   "execution_count": 36,
   "metadata": {},
   "outputs": [
    {
     "data": {
      "text/plain": [
       "['word', 'another', 'a third word', 'etcetera']"
      ]
     },
     "execution_count": 36,
     "metadata": {},
     "output_type": "execute_result"
    }
   ],
   "source": [
    "min_lista"
   ]
  },
  {
   "cell_type": "code",
   "execution_count": 43,
   "metadata": {},
   "outputs": [],
   "source": [
    "my_desired_word = min_lista[2]"
   ]
  },
  {
   "cell_type": "markdown",
   "metadata": {},
   "source": [
    "upper() och lower() funktionerna"
   ]
  },
  {
   "cell_type": "code",
   "execution_count": 49,
   "metadata": {},
   "outputs": [
    {
     "data": {
      "text/plain": [
       "'ALI'"
      ]
     },
     "execution_count": 49,
     "metadata": {},
     "output_type": "execute_result"
    }
   ],
   "source": [
    "\n",
    "\n",
    "firstname.upper() # gör om strängen till stora bokstäver"
   ]
  },
  {
   "cell_type": "code",
   "execution_count": 51,
   "metadata": {},
   "outputs": [
    {
     "name": "stdout",
     "output_type": "stream",
     "text": [
      "ALI\n"
     ]
    }
   ],
   "source": [
    "firstname = firstname.upper()\n",
    "print(firstname)"
   ]
  },
  {
   "cell_type": "markdown",
   "metadata": {},
   "source": [
    "split(), den här kan ni använda för att splitta strängar"
   ]
  },
  {
   "cell_type": "code",
   "execution_count": 58,
   "metadata": {},
   "outputs": [],
   "source": [
    "long_string = 'Det är så sjuuukt roligt att lära sig list comprehension'\n",
    "another_string = 'Jaaa, ibland är det sjysst att ba chilla. Eller hur, vad tycker du?'"
   ]
  },
  {
   "cell_type": "code",
   "execution_count": 61,
   "metadata": {},
   "outputs": [
    {
     "data": {
      "text/plain": [
       "['Jaaa, ibland är det sjysst att ba chilla. Eller hur, vad tycker du?']"
      ]
     },
     "execution_count": 61,
     "metadata": {},
     "output_type": "execute_result"
    }
   ],
   "source": [
    "another_string.split('ö')"
   ]
  },
  {
   "cell_type": "code",
   "execution_count": 57,
   "metadata": {},
   "outputs": [
    {
     "data": {
      "text/plain": [
       "['Det',\n",
       " 'är',\n",
       " 'så',\n",
       " 'sjuuukt',\n",
       " 'roligt',\n",
       " 'att',\n",
       " 'lära',\n",
       " 'sig',\n",
       " 'list',\n",
       " 'comprehension']"
      ]
     },
     "execution_count": 57,
     "metadata": {},
     "output_type": "execute_result"
    }
   ],
   "source": [
    "long_string.split(' ')"
   ]
  },
  {
   "cell_type": "markdown",
   "metadata": {},
   "source": [
    "zip()-funktioner"
   ]
  },
  {
   "cell_type": "code",
   "execution_count": 63,
   "metadata": {},
   "outputs": [
    {
     "name": "stdout",
     "output_type": "stream",
     "text": [
      "('A', 1)\n",
      "('B', 2)\n",
      "('C', 3)\n"
     ]
    }
   ],
   "source": [
    "letters = ['A','B','C']\n",
    "numbers = [1,2,3]\n",
    "\n",
    "for x in zip(letters, numbers):\n",
    "\n",
    "    print(x)\n"
   ]
  },
  {
   "cell_type": "code",
   "execution_count": 65,
   "metadata": {},
   "outputs": [
    {
     "name": "stdout",
     "output_type": "stream",
     "text": [
      "my letter is now A and number is 1\n",
      "my letter is now B and number is 2\n",
      "my letter is now C and number is 3\n"
     ]
    }
   ],
   "source": [
    "letters = ['A','B','C']\n",
    "numbers = [1,2,3]\n",
    "\n",
    "for letter, number in zip(letters, numbers):\n",
    "\n",
    "    print(f'my letter is now {letter} and number is {number}')"
   ]
  },
  {
   "cell_type": "markdown",
   "metadata": {},
   "source": [
    "# len()\n",
    "\n",
    "rätt nice funktion för att ta reda på längden av olika saker"
   ]
  },
  {
   "cell_type": "code",
   "execution_count": 68,
   "metadata": {},
   "outputs": [
    {
     "name": "stdout",
     "output_type": "stream",
     "text": [
      "['A', 'B', 'C']\n"
     ]
    },
    {
     "data": {
      "text/plain": [
       "3"
      ]
     },
     "execution_count": 68,
     "metadata": {},
     "output_type": "execute_result"
    }
   ],
   "source": [
    "print(letters)\n",
    "len(letters)"
   ]
  },
  {
   "cell_type": "code",
   "execution_count": 70,
   "metadata": {},
   "outputs": [
    {
     "name": "stdout",
     "output_type": "stream",
     "text": [
      "Ali Leylani\n"
     ]
    },
    {
     "data": {
      "text/plain": [
       "11"
      ]
     },
     "execution_count": 70,
     "metadata": {},
     "output_type": "execute_result"
    }
   ],
   "source": [
    "print(full_name)\n",
    "len(full_name)"
   ]
  },
  {
   "cell_type": "markdown",
   "metadata": {},
   "source": [
    "Ni kan använda .islower() och .isupper() för att se om en viss bokstav är stor eller liten"
   ]
  },
  {
   "cell_type": "code",
   "execution_count": 74,
   "metadata": {},
   "outputs": [
    {
     "name": "stdout",
     "output_type": "stream",
     "text": [
      "False\n",
      "True\n",
      "True\n"
     ]
    }
   ],
   "source": [
    "print('A'.islower())  \n",
    "print('a'.islower())\n",
    "\n",
    "print('A'.isupper())"
   ]
  },
  {
   "cell_type": "markdown",
   "metadata": {},
   "source": []
  }
 ],
 "metadata": {
  "kernelspec": {
   "display_name": "deeplearning",
   "language": "python",
   "name": "python3"
  },
  "language_info": {
   "codemirror_mode": {
    "name": "ipython",
    "version": 3
   },
   "file_extension": ".py",
   "mimetype": "text/x-python",
   "name": "python",
   "nbconvert_exporter": "python",
   "pygments_lexer": "ipython3",
   "version": "3.11.4"
  },
  "orig_nbformat": 4
 },
 "nbformat": 4,
 "nbformat_minor": 2
}
