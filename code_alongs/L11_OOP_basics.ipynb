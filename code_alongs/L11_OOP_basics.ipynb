{
 "cells": [
  {
   "cell_type": "markdown",
   "metadata": {},
   "source": [
    "## CLASSES"
   ]
  },
  {
   "cell_type": "markdown",
   "metadata": {},
   "source": [
    "Allting i Python är byggt kring objekt - det är vad vi kallar för ett objektorienterat språk.\n",
    "\n"
   ]
  },
  {
   "cell_type": "markdown",
   "metadata": {},
   "source": [
    "Vi bygger 'objekt' i Python och jobbar med de. Objekt delar egenskaper"
   ]
  },
  {
   "cell_type": "markdown",
   "metadata": {},
   "source": [
    "Exempel på objekt som är unika, men ändå delar egenskaper:\n",
    "\n",
    "**strängar**\n",
    "\n",
    "**listor**\n",
    "\n",
    "**tupels**\n",
    "\n",
    "**dictionaries**\n",
    "\n",
    "**integers**\n",
    "\n",
    "etc..."
   ]
  },
  {
   "cell_type": "markdown",
   "metadata": {},
   "source": [
    "På vilket sätt delar dessa egenskaper?"
   ]
  },
  {
   "cell_type": "code",
   "execution_count": null,
   "metadata": {},
   "outputs": [],
   "source": [
    "my_word = 'IT-skolan'\n",
    "\n",
    "your_word = 'Banan'\n",
    "\n",
    "my_f_string = f'Våra sammansatta ord är {my_word} {your_word}'\n",
    "\n",
    "print(my_word)\n",
    "print(your_word)\n",
    "print(my_f_string)\n",
    "\n",
    "\n",
    "print(type(my_word))\n",
    "print(type(your_word))\n",
    "print(type(my_f_string))\n",
    "\n",
    "print(my_word == your_word)"
   ]
  },
  {
   "cell_type": "code",
   "execution_count": null,
   "metadata": {},
   "outputs": [],
   "source": []
  },
  {
   "cell_type": "code",
   "execution_count": null,
   "metadata": {},
   "outputs": [],
   "source": [
    "print(my_word.upper())\n",
    "print(your_word.upper())\n",
    "print(my_f_string.upper())"
   ]
  },
  {
   "cell_type": "markdown",
   "metadata": {},
   "source": [
    "Detta var bara ett exempel, men faktum är att ALLA metoder som funkar på en sträng - kommer även funka på **alla** strängar"
   ]
  },
  {
   "cell_type": "markdown",
   "metadata": {},
   "source": [
    "Exempel med listor:"
   ]
  },
  {
   "cell_type": "code",
   "execution_count": null,
   "metadata": {},
   "outputs": [],
   "source": [
    "min_lista = [2,6,3,99,76]\n",
    "din_lista = [99, 98, 101, 95, 105]\n",
    "\n",
    "ord_lista = ['Ali', 'Kanske', 'Har', 'Fel']\n",
    "\n",
    "print(type(min_lista))\n",
    "print(type(din_lista))"
   ]
  },
  {
   "cell_type": "markdown",
   "metadata": {},
   "source": [
    "Som vi ser nedan, funkar det INTE att använda metoden upper() på listor! Den är unikt definierad för strängar, och funkar inte nödväntigtvis på andra typer av objekt (klasser)"
   ]
  },
  {
   "cell_type": "code",
   "execution_count": null,
   "metadata": {},
   "outputs": [],
   "source": [
    "ord_lista.upper()"
   ]
  },
  {
   "cell_type": "code",
   "execution_count": null,
   "metadata": {},
   "outputs": [],
   "source": [
    "print(type(ord_lista[0]))\n",
    "\n",
    "print(ord_lista[0].upper())"
   ]
  },
  {
   "cell_type": "markdown",
   "metadata": {},
   "source": [
    "Exempel på metod som fungerar för listor: append(), reverse(), sort(), count()"
   ]
  },
  {
   "cell_type": "code",
   "execution_count": null,
   "metadata": {},
   "outputs": [],
   "source": [
    "min_lista = [2,6,3,99,76, ['haha', 'hoho'], 'Apa']\n",
    "print(min_lista)\n",
    "\n",
    "min_lista.append(1989)\n",
    "print(min_lista)"
   ]
  },
  {
   "cell_type": "code",
   "execution_count": null,
   "metadata": {},
   "outputs": [],
   "source": [
    "min_tuple = (1,2,3)\n",
    "min_tuple.append(5)"
   ]
  },
  {
   "cell_type": "markdown",
   "metadata": {},
   "source": [
    "Olika klasser beter sig på olika sätt typ överallt"
   ]
  },
  {
   "cell_type": "code",
   "execution_count": null,
   "metadata": {},
   "outputs": [],
   "source": [
    "namn = 'Allan'\n",
    "efternamn = 'Brallan'\n",
    "\n",
    "print(namn + efternamn)\n",
    "print(namn - efternamn)"
   ]
  },
  {
   "cell_type": "code",
   "execution_count": null,
   "metadata": {},
   "outputs": [],
   "source": [
    "min_lista = [2,6,3,99,76]\n",
    "din_lista = [99, 98, 101, 95, 105]\n",
    "\n",
    "print(min_lista + din_lista)\n",
    "print(min_lista - din_lista)"
   ]
  },
  {
   "cell_type": "markdown",
   "metadata": {},
   "source": [
    "## Fantastiskt, hur bygger vi egna klasser då?!"
   ]
  },
  {
   "cell_type": "code",
   "execution_count": null,
   "metadata": {},
   "outputs": [],
   "source": [
    "class Person:\n",
    "\n",
    "    # strängen nedan, även kallad doc-sträng, kommer dyka upp när användaren kallar på help()\n",
    "    '''Här kan jag lägga in ytterligare nyttig informatiom som dyker upp när jag kallar på help()'''\n",
    "    \n",
    "    # init är en funktion som INITIALISERAR din instans, när du skapar den - och ger den vissa egenskaper\n",
    "    def __init__(self, namn, skola, program, ålder):\n",
    "        \n",
    "        # samtliga av dessa kallas för klass-attribut\n",
    "        \n",
    "        self.name = namn\n",
    "        self.school = skola\n",
    "        self.programme = program\n",
    "        self.age = ålder\n",
    "\n",
    "    # här definierar vi en klass-funktion. Det fungerar PRECIS likadant som vanliga funktioner, dock endast gilltig för \n",
    "    # instanser av den här klassen. Klass-funktioner kallas för METODER\n",
    "\n",
    "    def birthday(self):\n",
    "\n",
    "        self.age += 1\n",
    "\n",
    "    def back_in_time(self):\n",
    "\n",
    "        self.age -= 1\n",
    "\n",
    "    # nu skapar vi en metod för att möjliggöra namnbyte\n",
    "    def change_name(self,new_name):\n",
    "\n",
    "        self.name = new_name\n",
    "\n",
    "    # denna funktion kommer att kallas på när vi skriver print() på en instans av den här klassen\n",
    "    \n",
    "    def __repr__(self):\n",
    "\n",
    "        return f'Namnet på personen är {self.name} och åldern är {self.age}'\n"
   ]
  },
  {
   "cell_type": "code",
   "execution_count": null,
   "metadata": {},
   "outputs": [],
   "source": [
    "# detta kallas att skapa INSTANSER av klasser\n",
    "\n",
    "person1 = Person(namn='Ali', skola='IT-Högskolan', program='AI For Pros', ålder=33)\n",
    "person2 = Person(namn='Mark Z', skola='Stanford', program='Dropout...', ålder=45)\n",
    "\n",
    "# ovan har vi skapat två instanser av klassen person"
   ]
  },
  {
   "cell_type": "code",
   "execution_count": null,
   "metadata": {},
   "outputs": [],
   "source": [
    "print(person1)"
   ]
  },
  {
   "cell_type": "code",
   "execution_count": null,
   "metadata": {},
   "outputs": [],
   "source": [
    "print(type(person1))\n",
    "\n",
    "print(person1.name)\n",
    "print(person1.school)\n",
    "print(person1.programme)\n",
    "print(person1.age)\n",
    "\n",
    "print(person2.name)\n",
    "print(person2.school)\n",
    "print(person2.programme)\n",
    "print(person2.age)\n"
   ]
  },
  {
   "cell_type": "code",
   "execution_count": null,
   "metadata": {},
   "outputs": [],
   "source": [
    "print(person1.age)\n",
    "person1.birthday()\n",
    "print(person1.age)"
   ]
  },
  {
   "cell_type": "code",
   "execution_count": null,
   "metadata": {},
   "outputs": [],
   "source": [
    "person1.back_in_time()\n",
    "print(person1.age)"
   ]
  },
  {
   "cell_type": "code",
   "execution_count": null,
   "metadata": {},
   "outputs": [],
   "source": [
    "print(person1.name)\n",
    "\n",
    "person1.change_name('Max Power')\n",
    "\n",
    "print(person1.name)"
   ]
  },
  {
   "cell_type": "code",
   "execution_count": null,
   "metadata": {},
   "outputs": [],
   "source": [
    "min_lista = [1,2,3]\n",
    "print(min_lista)"
   ]
  },
  {
   "cell_type": "code",
   "execution_count": null,
   "metadata": {},
   "outputs": [],
   "source": [
    "print(person1)"
   ]
  },
  {
   "cell_type": "markdown",
   "metadata": {},
   "source": [
    "## help()"
   ]
  },
  {
   "cell_type": "code",
   "execution_count": null,
   "metadata": {},
   "outputs": [],
   "source": [
    "# help() ger ofta nyttig information (doch ofta rätt tekniskt) om klassen\n",
    "\n",
    "help(str)"
   ]
  },
  {
   "cell_type": "code",
   "execution_count": null,
   "metadata": {},
   "outputs": [],
   "source": [
    "help(person1)"
   ]
  },
  {
   "cell_type": "markdown",
   "metadata": {},
   "source": [
    "## ÄNDRA PÅ ATTRIBUT SAMT PRIVATA ATTRIBUT"
   ]
  },
  {
   "cell_type": "code",
   "execution_count": null,
   "metadata": {},
   "outputs": [],
   "source": [
    "class Person:\n",
    "\n",
    "    '''Här kan jag lägga in ytterligare nyttig informatiom som dyker upp när jag kallar på help()'''\n",
    "    \n",
    "    def __init__(self, namn, skola, program, ålder):\n",
    "\n",
    "        # markera för användaren att detta attribut INTE ska ändras direkt utifrån, genom att lägga till _  \n",
    "        # obs, notera att det ändå fortfarande går att göra det\n",
    "        self._name = namn\n",
    "\n",
    "        # genom att lägga till två stycken __ framför attributnamnet, kan vi göra det till s.k. privat\n",
    "        # den kan man inte längre komma åt direkt genom att skriva .__school\n",
    "        self.__school = skola\n",
    "        self.programme = program\n",
    "        self.age = ålder\n",
    "\n",
    "    @property\n",
    "    def school(self):\n",
    "\n",
    "        return self.__school \n",
    "\n",
    "    def __repr__(self):\n",
    "\n",
    "        return f'Namnet på personen är {self._name}, åldern är {self.age} och skolan är {self.__school}'"
   ]
  },
  {
   "cell_type": "code",
   "execution_count": null,
   "metadata": {},
   "outputs": [],
   "source": [
    "person1 = Person(namn='Ali', skola='IT-Högskolan', program='AI For Pros', ålder=33)"
   ]
  },
  {
   "cell_type": "code",
   "execution_count": null,
   "metadata": {},
   "outputs": [],
   "source": [
    "output = person1.school"
   ]
  },
  {
   "cell_type": "code",
   "execution_count": null,
   "metadata": {},
   "outputs": [],
   "source": [
    "output"
   ]
  },
  {
   "cell_type": "code",
   "execution_count": null,
   "metadata": {},
   "outputs": [],
   "source": [
    "output + ' rocks'"
   ]
  },
  {
   "cell_type": "markdown",
   "metadata": {},
   "source": [
    "**Övning**\n",
    "\n",
    "Jag vill att ni nu skapar en ny klass. Klassen ska heta Varor.\n",
    "\n",
    "Varje instans av klassen ska vara en vara som säljs i en butik. \n",
    "\n",
    "1) Ni kommer behöva initiera (med __init__) varje instans med ett namn, ett pris, ett brand, giltighetsdatum, varusaldo\n",
    "\n",
    "2) Skapa en doc-sträng som förklarar vad klassen är för något\n",
    "\n",
    "3) skapa __repr__ metoden, som returnerar en f-sträng med alla instansens attribut\n",
    "\n",
    "4) skapa en metod som tar ett argument *discount*, och som applicerar discount på priset\n",
    "\n",
    "5) skapa en metod som ska representera ett köp av varan, och därför minskar på varusaldo\n",
    "\n",
    "6) skapa fler klassmetoder, experimentera lite\n",
    "\n",
    "7) omvandla minst ett attribut till ett privat attritub (med __)\n",
    "\n",
    "8) skapa en @property metod för att komma åt det privata attributet ni precis omvandlade\n"
   ]
  },
  {
   "cell_type": "markdown",
   "metadata": {},
   "source": [
    "**svar:**"
   ]
  },
  {
   "cell_type": "code",
   "execution_count": 289,
   "metadata": {},
   "outputs": [],
   "source": [
    "class Wares:\n",
    "\n",
    "    '''This class describes and handles wares that are sold in our store'''\n",
    "\n",
    "    def __init__(self, name, price, brand, expiry, stock):\n",
    "        \n",
    "        self.name = name\n",
    "        self.price = price\n",
    "        self.brand = brand\n",
    "        self.expiry = expiry\n",
    "        self.__stock = stock\n",
    "\n",
    "    # applies discount to price corresponding to the argument percentage (in decimal)\n",
    "    def discount(self, percentage):\n",
    "\n",
    "        self.price *= (1-percentage)\n",
    "\n",
    "    # subtracts the amount just bought from the current value of the stock\n",
    "    # if the customer tries to buy more than available, push back against the customer instead\n",
    "    def purchase(self, amount):\n",
    "    \n",
    "        if amount <= self.__stock:\n",
    "            self.__stock -= amount    \n",
    "        else:\n",
    "            print(f\"Sorry, but we're unable to proceed with your purchase of {amount} {self.name}'s - we have {self.__stock} available.\")\n",
    "\n",
    "    @property\n",
    "    def stock(self):\n",
    "        return self.__stock\n",
    "    \n",
    "    def change_stock(self, value):\n",
    "        self.__stock = value\n",
    "    \n",
    "    def __repr__(self):\n",
    "        return f'''Information:\n",
    "                   name         : {self.name}\n",
    "                   price        : {self.price}\n",
    "                   brand        : {self.brand}\n",
    "                   expiry       : {self.expiry}\n",
    "                   stock        : {self.__stock}\n",
    "                '''\n"
   ]
  },
  {
   "cell_type": "code",
   "execution_count": 290,
   "metadata": {},
   "outputs": [],
   "source": [
    "demonstration = Wares('banana', 5, 'Chichquita', '2023-10-18', 200)"
   ]
  },
  {
   "cell_type": "code",
   "execution_count": 286,
   "metadata": {},
   "outputs": [
    {
     "ename": "NameError",
     "evalue": "name 'demonstration' is not defined",
     "output_type": "error",
     "traceback": [
      "\u001b[1;31m---------------------------------------------------------------------------\u001b[0m",
      "\u001b[1;31mNameError\u001b[0m                                 Traceback (most recent call last)",
      "\u001b[1;32mc:\\Users\\Leyla\\Desktop\\Quantum State\\IT högskolan\\Courses\\Python\\code_alongs\\L11_OOP_basics.ipynb Cell 44\u001b[0m line \u001b[0;36m1\n\u001b[1;32m----> <a href='vscode-notebook-cell:/c%3A/Users/Leyla/Desktop/Quantum%20State/IT%20h%C3%B6gskolan/Courses/Python/code_alongs/L11_OOP_basics.ipynb#Y223sZmlsZQ%3D%3D?line=0'>1</a>\u001b[0m demonstration\n",
      "\u001b[1;31mNameError\u001b[0m: name 'demonstration' is not defined"
     ]
    }
   ],
   "source": [
    "demonstration"
   ]
  },
  {
   "cell_type": "code",
   "execution_count": 284,
   "metadata": {},
   "outputs": [
    {
     "ename": "TypeError",
     "evalue": "",
     "output_type": "error",
     "traceback": [
      "\u001b[1;31m---------------------------------------------------------------------------\u001b[0m",
      "\u001b[1;31mTypeError\u001b[0m                                 Traceback (most recent call last)",
      "\u001b[1;32mc:\\Users\\Leyla\\Desktop\\Quantum State\\IT högskolan\\Courses\\Python\\code_alongs\\L11_OOP_basics.ipynb Cell 43\u001b[0m line \u001b[0;36m1\n\u001b[1;32m----> <a href='vscode-notebook-cell:/c%3A/Users/Leyla/Desktop/Quantum%20State/IT%20h%C3%B6gskolan/Courses/Python/code_alongs/L11_OOP_basics.ipynb#Y221sZmlsZQ%3D%3D?line=0'>1</a>\u001b[0m banana \u001b[39m=\u001b[39m Wares(\u001b[39m'\u001b[39m\u001b[39mbanana\u001b[39m\u001b[39m'\u001b[39m, \u001b[39m5\u001b[39m, \u001b[39m'\u001b[39m\u001b[39mChichquita\u001b[39m\u001b[39m'\u001b[39m, \u001b[39m'\u001b[39m\u001b[39m2023-10-18\u001b[39m\u001b[39m'\u001b[39m, \u001b[39m200\u001b[39m)\n",
      "\u001b[1;32mc:\\Users\\Leyla\\Desktop\\Quantum State\\IT högskolan\\Courses\\Python\\code_alongs\\L11_OOP_basics.ipynb Cell 43\u001b[0m line \u001b[0;36m7\n\u001b[0;32m      <a href='vscode-notebook-cell:/c%3A/Users/Leyla/Desktop/Quantum%20State/IT%20h%C3%B6gskolan/Courses/Python/code_alongs/L11_OOP_basics.ipynb#Y221sZmlsZQ%3D%3D?line=4'>5</a>\u001b[0m \u001b[39mdef\u001b[39;00m \u001b[39m__init__\u001b[39m(\u001b[39mself\u001b[39m, name, price, brand, expiry, stock):\n\u001b[1;32m----> <a href='vscode-notebook-cell:/c%3A/Users/Leyla/Desktop/Quantum%20State/IT%20h%C3%B6gskolan/Courses/Python/code_alongs/L11_OOP_basics.ipynb#Y221sZmlsZQ%3D%3D?line=6'>7</a>\u001b[0m     \u001b[39mraise\u001b[39;00m \u001b[39mTypeError\u001b[39;00m\n\u001b[0;32m      <a href='vscode-notebook-cell:/c%3A/Users/Leyla/Desktop/Quantum%20State/IT%20h%C3%B6gskolan/Courses/Python/code_alongs/L11_OOP_basics.ipynb#Y221sZmlsZQ%3D%3D?line=8'>9</a>\u001b[0m     \u001b[39mself\u001b[39m\u001b[39m.\u001b[39mname \u001b[39m=\u001b[39m name\n\u001b[0;32m     <a href='vscode-notebook-cell:/c%3A/Users/Leyla/Desktop/Quantum%20State/IT%20h%C3%B6gskolan/Courses/Python/code_alongs/L11_OOP_basics.ipynb#Y221sZmlsZQ%3D%3D?line=9'>10</a>\u001b[0m     \u001b[39mself\u001b[39m\u001b[39m.\u001b[39mprice \u001b[39m=\u001b[39m price\n",
      "\u001b[1;31mTypeError\u001b[0m: "
     ]
    }
   ],
   "source": [
    "banana = Wares('banana', 5, 'Chichquita', '2023-10-18', 200)"
   ]
  },
  {
   "cell_type": "code",
   "execution_count": 82,
   "metadata": {},
   "outputs": [],
   "source": [
    "banana = Wares('banana', 5, 'Chichquita', '2023-10-18', 200)\n",
    "apple = Wares('apple', 4, 'Granny Smith', '2023-10-24', 100)\n",
    "orange = Wares('orange', 8, 'Umami', '2023-11-03', 100)"
   ]
  },
  {
   "cell_type": "code",
   "execution_count": 87,
   "metadata": {},
   "outputs": [
    {
     "name": "stdout",
     "output_type": "stream",
     "text": [
      "Information:\n",
      "                   name         : banana\n",
      "                   price        : 5\n",
      "                   brand        : Chichquita\n",
      "                   expiry       : 2023-10-18\n",
      "                   stock        : 10\n",
      "                \n"
     ]
    }
   ],
   "source": [
    "print(banana)"
   ]
  },
  {
   "cell_type": "markdown",
   "metadata": {},
   "source": [
    "## Type hints"
   ]
  },
  {
   "cell_type": "code",
   "execution_count": 92,
   "metadata": {},
   "outputs": [],
   "source": [
    "def print_personal_info(name, age):\n",
    "\n",
    "    to_print = name + age\n",
    "\n",
    "    print(to_print)\n",
    "    "
   ]
  },
  {
   "cell_type": "code",
   "execution_count": 93,
   "metadata": {},
   "outputs": [
    {
     "name": "stdout",
     "output_type": "stream",
     "text": [
      "Help on function print_personal_info in module __main__:\n",
      "\n",
      "print_personal_info(name, age)\n",
      "\n"
     ]
    }
   ],
   "source": [
    "help(print_personal_info)"
   ]
  },
  {
   "cell_type": "code",
   "execution_count": 94,
   "metadata": {},
   "outputs": [
    {
     "ename": "TypeError",
     "evalue": "can only concatenate str (not \"int\") to str",
     "output_type": "error",
     "traceback": [
      "\u001b[1;31m---------------------------------------------------------------------------\u001b[0m",
      "\u001b[1;31mTypeError\u001b[0m                                 Traceback (most recent call last)",
      "\u001b[1;32mc:\\Users\\Leyla\\Desktop\\Quantum State\\IT högskolan\\Courses\\Python\\code_alongs\\L11_OOP_basics.ipynb Cell 48\u001b[0m line \u001b[0;36m1\n\u001b[1;32m----> <a href='vscode-notebook-cell:/c%3A/Users/Leyla/Desktop/Quantum%20State/IT%20h%C3%B6gskolan/Courses/Python/code_alongs/L11_OOP_basics.ipynb#Y112sZmlsZQ%3D%3D?line=0'>1</a>\u001b[0m print_personal_info(\u001b[39m'\u001b[39m\u001b[39mAli\u001b[39m\u001b[39m'\u001b[39m, \u001b[39m24\u001b[39m)\n",
      "\u001b[1;32mc:\\Users\\Leyla\\Desktop\\Quantum State\\IT högskolan\\Courses\\Python\\code_alongs\\L11_OOP_basics.ipynb Cell 48\u001b[0m line \u001b[0;36m3\n\u001b[0;32m      <a href='vscode-notebook-cell:/c%3A/Users/Leyla/Desktop/Quantum%20State/IT%20h%C3%B6gskolan/Courses/Python/code_alongs/L11_OOP_basics.ipynb#Y112sZmlsZQ%3D%3D?line=0'>1</a>\u001b[0m \u001b[39mdef\u001b[39;00m \u001b[39mprint_personal_info\u001b[39m(name, age):\n\u001b[1;32m----> <a href='vscode-notebook-cell:/c%3A/Users/Leyla/Desktop/Quantum%20State/IT%20h%C3%B6gskolan/Courses/Python/code_alongs/L11_OOP_basics.ipynb#Y112sZmlsZQ%3D%3D?line=2'>3</a>\u001b[0m     to_print \u001b[39m=\u001b[39m name \u001b[39m+\u001b[39m age\n\u001b[0;32m      <a href='vscode-notebook-cell:/c%3A/Users/Leyla/Desktop/Quantum%20State/IT%20h%C3%B6gskolan/Courses/Python/code_alongs/L11_OOP_basics.ipynb#Y112sZmlsZQ%3D%3D?line=4'>5</a>\u001b[0m     \u001b[39mprint\u001b[39m(to_print)\n",
      "\u001b[1;31mTypeError\u001b[0m: can only concatenate str (not \"int\") to str"
     ]
    }
   ],
   "source": [
    "print_personal_info('Ali', 24)"
   ]
  },
  {
   "cell_type": "markdown",
   "metadata": {},
   "source": [
    "Vi har nu demonstrerat hur viktigt det är att användaren vet vilka datatyper som funktionerna förväntar sig."
   ]
  },
  {
   "cell_type": "markdown",
   "metadata": {},
   "source": [
    "För att göra detta lättare kan vi lägga till sk Type Hints"
   ]
  },
  {
   "cell_type": "code",
   "execution_count": 95,
   "metadata": {},
   "outputs": [],
   "source": [
    "def print_personal_info(name: str, age: str):\n",
    "\n",
    "    to_print = name + age\n",
    "\n",
    "    print(to_print)"
   ]
  },
  {
   "cell_type": "code",
   "execution_count": 96,
   "metadata": {},
   "outputs": [
    {
     "name": "stdout",
     "output_type": "stream",
     "text": [
      "Help on function print_personal_info in module __main__:\n",
      "\n",
      "print_personal_info(name: str, age: str)\n",
      "\n"
     ]
    }
   ],
   "source": [
    "help(print_personal_info)"
   ]
  },
  {
   "cell_type": "markdown",
   "metadata": {},
   "source": [
    "**OBS** type hints är precis vad det låter som, hints. Det är inte _INTE_ forcerande"
   ]
  },
  {
   "cell_type": "code",
   "execution_count": 98,
   "metadata": {},
   "outputs": [
    {
     "ename": "TypeError",
     "evalue": "can only concatenate str (not \"int\") to str",
     "output_type": "error",
     "traceback": [
      "\u001b[1;31m---------------------------------------------------------------------------\u001b[0m",
      "\u001b[1;31mTypeError\u001b[0m                                 Traceback (most recent call last)",
      "\u001b[1;32mc:\\Users\\Leyla\\Desktop\\Quantum State\\IT högskolan\\Courses\\Python\\code_alongs\\L11_OOP_basics.ipynb Cell 54\u001b[0m line \u001b[0;36m1\n\u001b[1;32m----> <a href='vscode-notebook-cell:/c%3A/Users/Leyla/Desktop/Quantum%20State/IT%20h%C3%B6gskolan/Courses/Python/code_alongs/L11_OOP_basics.ipynb#Y122sZmlsZQ%3D%3D?line=0'>1</a>\u001b[0m print_personal_info(\u001b[39m'\u001b[39m\u001b[39mAli\u001b[39m\u001b[39m'\u001b[39m, \u001b[39m33\u001b[39m)\n",
      "\u001b[1;32mc:\\Users\\Leyla\\Desktop\\Quantum State\\IT högskolan\\Courses\\Python\\code_alongs\\L11_OOP_basics.ipynb Cell 54\u001b[0m line \u001b[0;36m3\n\u001b[0;32m      <a href='vscode-notebook-cell:/c%3A/Users/Leyla/Desktop/Quantum%20State/IT%20h%C3%B6gskolan/Courses/Python/code_alongs/L11_OOP_basics.ipynb#Y122sZmlsZQ%3D%3D?line=0'>1</a>\u001b[0m \u001b[39mdef\u001b[39;00m \u001b[39mprint_personal_info\u001b[39m(name: \u001b[39mstr\u001b[39m, age: \u001b[39mstr\u001b[39m):\n\u001b[1;32m----> <a href='vscode-notebook-cell:/c%3A/Users/Leyla/Desktop/Quantum%20State/IT%20h%C3%B6gskolan/Courses/Python/code_alongs/L11_OOP_basics.ipynb#Y122sZmlsZQ%3D%3D?line=2'>3</a>\u001b[0m     to_print \u001b[39m=\u001b[39m name \u001b[39m+\u001b[39m age\n\u001b[0;32m      <a href='vscode-notebook-cell:/c%3A/Users/Leyla/Desktop/Quantum%20State/IT%20h%C3%B6gskolan/Courses/Python/code_alongs/L11_OOP_basics.ipynb#Y122sZmlsZQ%3D%3D?line=4'>5</a>\u001b[0m     \u001b[39mprint\u001b[39m(to_print)\n",
      "\u001b[1;31mTypeError\u001b[0m: can only concatenate str (not \"int\") to str"
     ]
    }
   ],
   "source": [
    "print_personal_info('Ali', 33)"
   ]
  },
  {
   "cell_type": "markdown",
   "metadata": {},
   "source": [
    "Type hints kan även användas för att markera vilken datatyp en funktion returnerar"
   ]
  },
  {
   "cell_type": "code",
   "execution_count": 121,
   "metadata": {},
   "outputs": [],
   "source": [
    "def full_name(name: str, lastname: str) -> str:\n",
    "\n",
    "    to_return = f'{name} {lastname}'\n",
    "\n",
    "    return to_return"
   ]
  },
  {
   "cell_type": "code",
   "execution_count": 111,
   "metadata": {},
   "outputs": [
    {
     "name": "stdout",
     "output_type": "stream",
     "text": [
      "Ali Leylani\n"
     ]
    }
   ],
   "source": [
    "my_full_name = full_name('Ali', 'Leylani')\n",
    "\n",
    "print(my_full_name)"
   ]
  },
  {
   "cell_type": "code",
   "execution_count": 117,
   "metadata": {},
   "outputs": [
    {
     "name": "stdout",
     "output_type": "stream",
     "text": [
      "Help on function full_name in module __main__:\n",
      "\n",
      "full_name(name: str, lastname: str) -> str\n",
      "\n"
     ]
    }
   ],
   "source": [
    "help(full_name)"
   ]
  },
  {
   "cell_type": "markdown",
   "metadata": {},
   "source": [
    "Vad finns det för andra typer av situationer som vi kan använda type hints?"
   ]
  },
  {
   "cell_type": "code",
   "execution_count": null,
   "metadata": {},
   "outputs": [],
   "source": [
    "dict, list, int, float, tuple, bool, Wares"
   ]
  },
  {
   "cell_type": "markdown",
   "metadata": {},
   "source": [
    "bool står för Boolean och är True eller False"
   ]
  },
  {
   "cell_type": "code",
   "execution_count": 122,
   "metadata": {},
   "outputs": [],
   "source": [
    "def min_bool_demonstrator(value: bool):\n",
    "\n",
    "    if value:\n",
    "        print('japp, det var sant')\n"
   ]
  },
  {
   "cell_type": "code",
   "execution_count": 123,
   "metadata": {},
   "outputs": [
    {
     "name": "stdout",
     "output_type": "stream",
     "text": [
      "japp, det var sant\n"
     ]
    }
   ],
   "source": [
    "min_bool_demonstrator(True)"
   ]
  },
  {
   "cell_type": "code",
   "execution_count": 126,
   "metadata": {},
   "outputs": [
    {
     "data": {
      "text/plain": [
       "dict_keys(['Ali', 'Amir'])"
      ]
     },
     "execution_count": 126,
     "metadata": {},
     "output_type": "execute_result"
    }
   ],
   "source": [
    "exempel_dictionary = {'Ali': 'Leylani', 'Amir':'Leylani'}\n",
    "\n",
    "exempel_dictionary.keys()"
   ]
  },
  {
   "cell_type": "code",
   "execution_count": 127,
   "metadata": {},
   "outputs": [],
   "source": [
    "def min_dictionary_printer(en_dictionary: dict) -> list:\n",
    "\n",
    "    all_keys = [key for key in en_dictionary.keys()]\n",
    "\n",
    "    return all_keys"
   ]
  },
  {
   "cell_type": "code",
   "execution_count": 129,
   "metadata": {},
   "outputs": [
    {
     "name": "stdout",
     "output_type": "stream",
     "text": [
      "['Ali', 'Amir']\n",
      "<class 'list'>\n"
     ]
    }
   ],
   "source": [
    "mina_nycklar = min_dictionary_printer(exempel_dictionary)\n",
    "\n",
    "print(mina_nycklar)\n",
    "print(type(mina_nycklar))"
   ]
  },
  {
   "cell_type": "markdown",
   "metadata": {},
   "source": [
    "Ibland vill vi returnera fler saker, hur visar vi det med type hints?"
   ]
  },
  {
   "cell_type": "code",
   "execution_count": 131,
   "metadata": {},
   "outputs": [
    {
     "data": {
      "text/plain": [
       "['Ali', 'Leylani']"
      ]
     },
     "execution_count": 131,
     "metadata": {},
     "output_type": "execute_result"
    }
   ],
   "source": [
    "exempel_input = 'Ali Leylani'\n",
    "\n",
    "exempel_input.split()"
   ]
  },
  {
   "cell_type": "code",
   "execution_count": 158,
   "metadata": {},
   "outputs": [],
   "source": [
    "def name_splitter(full_name: str) -> tuple[str, str, int]:\n",
    "\n",
    "    import random\n",
    "\n",
    "    first_name = full_name.split()[0]\n",
    "    last_name = full_name.split()[1]\n",
    "    random_number = random.randint(1,6)\n",
    "\n",
    "    return first_name, last_name, random_number"
   ]
  },
  {
   "cell_type": "code",
   "execution_count": 159,
   "metadata": {},
   "outputs": [
    {
     "data": {
      "text/plain": [
       "('Ali', 'Leylani', 5)"
      ]
     },
     "execution_count": 159,
     "metadata": {},
     "output_type": "execute_result"
    }
   ],
   "source": [
    "name_splitter(exempel_input)"
   ]
  },
  {
   "cell_type": "markdown",
   "metadata": {},
   "source": [
    "## Globala och lokala variabler"
   ]
  },
  {
   "cell_type": "code",
   "execution_count": 259,
   "metadata": {},
   "outputs": [],
   "source": [
    "name = 'Ali' #  GLOBAL variabel. Tillgänglig överallt i den här miljön"
   ]
  },
  {
   "cell_type": "code",
   "execution_count": 260,
   "metadata": {},
   "outputs": [],
   "source": [
    "def en_funktion():\n",
    "\n",
    "    name = 'Hussein'\n",
    "    a_variable = 100   # LOKALA variabel, skapad i och endast tillgänglig i den här funktionen\n",
    "    print(a_variable)\n",
    "    print(name)"
   ]
  },
  {
   "cell_type": "code",
   "execution_count": 261,
   "metadata": {},
   "outputs": [
    {
     "name": "stdout",
     "output_type": "stream",
     "text": [
      "100\n",
      "Hussein\n"
     ]
    }
   ],
   "source": [
    "en_funktion()"
   ]
  },
  {
   "cell_type": "code",
   "execution_count": 266,
   "metadata": {},
   "outputs": [
    {
     "data": {
      "text/plain": [
       "'Ali'"
      ]
     },
     "execution_count": 266,
     "metadata": {},
     "output_type": "execute_result"
    }
   ],
   "source": [
    "name"
   ]
  },
  {
   "cell_type": "markdown",
   "metadata": {},
   "source": [
    "**isinstance() funktionen**"
   ]
  },
  {
   "cell_type": "code",
   "execution_count": 273,
   "metadata": {},
   "outputs": [
    {
     "data": {
      "text/plain": [
       "True"
      ]
     },
     "execution_count": 273,
     "metadata": {},
     "output_type": "execute_result"
    }
   ],
   "source": [
    "min_variabel = 33\n",
    "\n",
    "isinstance(min_variabel, int)"
   ]
  },
  {
   "cell_type": "code",
   "execution_count": 274,
   "metadata": {},
   "outputs": [
    {
     "data": {
      "text/plain": [
       "True"
      ]
     },
     "execution_count": 274,
     "metadata": {},
     "output_type": "execute_result"
    }
   ],
   "source": [
    "min_variabel = 33\n",
    "\n",
    "isinstance(min_variabel, (int, float))"
   ]
  },
  {
   "cell_type": "code",
   "execution_count": 295,
   "metadata": {},
   "outputs": [
    {
     "ename": "TypeError",
     "evalue": "Din input är inte av typen int eller float.",
     "output_type": "error",
     "traceback": [
      "\u001b[1;31m---------------------------------------------------------------------------\u001b[0m",
      "\u001b[1;31mTypeError\u001b[0m                                 Traceback (most recent call last)",
      "\u001b[1;32mc:\\Users\\Leyla\\Desktop\\Quantum State\\IT högskolan\\Courses\\Python\\code_alongs\\L11_OOP_basics.ipynb Cell 82\u001b[0m line \u001b[0;36m5\n\u001b[0;32m      <a href='vscode-notebook-cell:/c%3A/Users/Leyla/Desktop/Quantum%20State/IT%20h%C3%B6gskolan/Courses/Python/code_alongs/L11_OOP_basics.ipynb#Y215sZmlsZQ%3D%3D?line=0'>1</a>\u001b[0m min_nya_variabel \u001b[39m=\u001b[39m \u001b[39m'\u001b[39m\u001b[39m33\u001b[39m\u001b[39m'\u001b[39m\n\u001b[0;32m      <a href='vscode-notebook-cell:/c%3A/Users/Leyla/Desktop/Quantum%20State/IT%20h%C3%B6gskolan/Courses/Python/code_alongs/L11_OOP_basics.ipynb#Y215sZmlsZQ%3D%3D?line=2'>3</a>\u001b[0m \u001b[39mif\u001b[39;00m \u001b[39mnot\u001b[39;00m \u001b[39misinstance\u001b[39m(min_nya_variabel, (\u001b[39mint\u001b[39m, \u001b[39mfloat\u001b[39m)):\n\u001b[1;32m----> <a href='vscode-notebook-cell:/c%3A/Users/Leyla/Desktop/Quantum%20State/IT%20h%C3%B6gskolan/Courses/Python/code_alongs/L11_OOP_basics.ipynb#Y215sZmlsZQ%3D%3D?line=4'>5</a>\u001b[0m     \u001b[39mraise\u001b[39;00m \u001b[39mTypeError\u001b[39;00m(\u001b[39m'\u001b[39m\u001b[39mDin input är inte av typen int eller float.\u001b[39m\u001b[39m'\u001b[39m)\n",
      "\u001b[1;31mTypeError\u001b[0m: Din input är inte av typen int eller float."
     ]
    }
   ],
   "source": [
    "min_nya_variabel = '33'\n",
    "\n",
    "if not isinstance(min_nya_variabel, (int, float)):\n",
    "\n",
    "    raise TypeError('Din input är inte av typen int eller float.')"
   ]
  },
  {
   "cell_type": "markdown",
   "metadata": {},
   "source": [
    "**Uppgift**"
   ]
  },
  {
   "cell_type": "markdown",
   "metadata": {},
   "source": [
    "**a)** I klassen Wares ni byggde tidigare (eller den jag gjorde ovan) ska ni nu lägga in type hints på alla metoder. Dvs, indikera datatyp för alla argument samt det du returnerar (om det returnas något)"
   ]
  },
  {
   "cell_type": "markdown",
   "metadata": {},
   "source": [
    "**b)** Kontroller så att argumenten användaren matar in när den skapar instansen är av korrekt datatyp. Annars, raise TypeError\n",
    "\n",
    "**c)** kontrollera även att alla argument som användaren eventuellt behöver ange i metoder (förutom __init__) också är av rätt datatyp, returnera TypeError annars"
   ]
  },
  {
   "cell_type": "markdown",
   "metadata": {},
   "source": [
    "**Svar**"
   ]
  },
  {
   "cell_type": "code",
   "execution_count": 306,
   "metadata": {},
   "outputs": [],
   "source": [
    "class Wares:\n",
    "\n",
    "    '''This class describes and handles wares that are sold in our store'''\n",
    "\n",
    "    def __init__(self, name: str, price: float, brand: str, expiry: str, stock: int):\n",
    "        \n",
    "        if not isinstance(name, str):\n",
    "            raise TypeError('Namnet på varan måste vara en sträng')\n",
    "        \n",
    "        if not isinstance(price, (float, int)):\n",
    "            raise TypeError('Ditt pris måste vara antingen ett heltal eller ett flyttal')\n",
    "        \n",
    "        if not isinstance(brand, str):\n",
    "            raise TypeError('Varumärket måste anges som en sträng')\n",
    "        \n",
    "        if not isinstance(expiry, str):\n",
    "            raise TypeError('Bäst-före-datum måste anges som en sträng')\n",
    "        \n",
    "        if not isinstance(stock, int):\n",
    "            raise TypeError('Lagersaldot anges i heltal.')\n",
    "        \n",
    "\n",
    "\n",
    "        self.name = name\n",
    "        self.price = price\n",
    "        self.brand = brand\n",
    "        self.expiry = expiry\n",
    "        self.__stock = stock\n",
    "\n",
    "    # applies discount to price corresponding to the argument percentage (in decimal)\n",
    "    def discount(self, percentage: float):\n",
    "\n",
    "        self.price *= (1-percentage)\n",
    "\n",
    "    # subtracts the amount just bought from the current value of the stock\n",
    "    # if the customer tries to buy more than available, push back against the customer instead\n",
    "    def purchase(self, amount: int):\n",
    "    \n",
    "        if amount <= self.__stock:\n",
    "            self.__stock -= amount    \n",
    "        else:\n",
    "            print(f\"Sorry, but we're unable to proceed with your purchase of {amount} {self.name}'s - we have {self.__stock} available.\")\n",
    "\n",
    "    @property\n",
    "    def stock(self) -> int:\n",
    "        return self.__stock\n",
    "    \n",
    "    def change_stock(self, value: int):\n",
    "        self.__stock = value\n",
    "    \n",
    "    def __repr__(self) -> str:\n",
    "        return f'''Information:\n",
    "                   name         : {self.name}\n",
    "                   price        : {self.price}\n",
    "                   brand        : {self.brand}\n",
    "                   expiry       : {self.expiry}\n",
    "                   stock        : {self.__stock}\n",
    "                '''"
   ]
  },
  {
   "cell_type": "code",
   "execution_count": 308,
   "metadata": {},
   "outputs": [],
   "source": [
    "banana = Wares('banana', 5, 'Chichquita', '2023-10-18', 200)\n",
    "apple = Wares('apple', 4, 'Granny Smith', '2023-10-24', 100)"
   ]
  },
  {
   "cell_type": "code",
   "execution_count": 313,
   "metadata": {},
   "outputs": [
    {
     "ename": "TypeError",
     "evalue": "unsupported operand type(s) for /: 'Wares' and 'Wares'",
     "output_type": "error",
     "traceback": [
      "\u001b[1;31m---------------------------------------------------------------------------\u001b[0m",
      "\u001b[1;31mTypeError\u001b[0m                                 Traceback (most recent call last)",
      "\u001b[1;32mc:\\Users\\Leyla\\Desktop\\Quantum State\\IT högskolan\\Courses\\Python\\code_alongs\\L11_OOP_basics.ipynb Cell 89\u001b[0m line \u001b[0;36m1\n\u001b[1;32m----> <a href='vscode-notebook-cell:/c%3A/Users/Leyla/Desktop/Quantum%20State/IT%20h%C3%B6gskolan/Courses/Python/code_alongs/L11_OOP_basics.ipynb#Y244sZmlsZQ%3D%3D?line=0'>1</a>\u001b[0m banana \u001b[39m/\u001b[39m apple\n",
      "\u001b[1;31mTypeError\u001b[0m: unsupported operand type(s) for /: 'Wares' and 'Wares'"
     ]
    }
   ],
   "source": [
    "banana / apple"
   ]
  },
  {
   "cell_type": "code",
   "execution_count": null,
   "metadata": {},
   "outputs": [],
   "source": []
  }
 ],
 "metadata": {
  "kernelspec": {
   "display_name": "deeplearning",
   "language": "python",
   "name": "python3"
  },
  "language_info": {
   "codemirror_mode": {
    "name": "ipython",
    "version": 3
   },
   "file_extension": ".py",
   "mimetype": "text/x-python",
   "name": "python",
   "nbconvert_exporter": "python",
   "pygments_lexer": "ipython3",
   "version": "3.11.4"
  },
  "orig_nbformat": 4
 },
 "nbformat": 4,
 "nbformat_minor": 2
}
