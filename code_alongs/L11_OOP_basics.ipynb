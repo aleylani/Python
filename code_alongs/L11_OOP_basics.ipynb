{
 "cells": [
  {
   "cell_type": "markdown",
   "metadata": {},
   "source": [
    "## CLASSES"
   ]
  },
  {
   "cell_type": "markdown",
   "metadata": {},
   "source": [
    "Allting i Python är byggt kring objekt - det är vad vi kallar för ett objektorienterat språk.\n",
    "\n"
   ]
  },
  {
   "cell_type": "markdown",
   "metadata": {},
   "source": [
    "Vi bygger 'objekt' i Python och jobbar med de. Objekt delar egenskaper"
   ]
  },
  {
   "cell_type": "markdown",
   "metadata": {},
   "source": [
    "Exempel på objekt som är unika, men ändå delar egenskaper:\n",
    "\n",
    "**strängar**\n",
    "\n",
    "**listor**\n",
    "\n",
    "**tupels**\n",
    "\n",
    "**dictionaries**\n",
    "\n",
    "**integers**\n",
    "\n",
    "etc..."
   ]
  },
  {
   "cell_type": "markdown",
   "metadata": {},
   "source": [
    "På vilket sätt delar dessa egenskaper?"
   ]
  },
  {
   "cell_type": "code",
   "execution_count": 8,
   "metadata": {},
   "outputs": [
    {
     "name": "stdout",
     "output_type": "stream",
     "text": [
      "IT-skolan\n",
      "Banan\n",
      "Våra sammansatta ord är IT-skolan Banan\n",
      "<class 'str'>\n",
      "<class 'str'>\n",
      "<class 'str'>\n",
      "False\n"
     ]
    }
   ],
   "source": [
    "my_word = 'IT-skolan'\n",
    "\n",
    "your_word = 'Banan'\n",
    "\n",
    "my_f_string = f'Våra sammansatta ord är {my_word} {your_word}'\n",
    "\n",
    "print(my_word)\n",
    "print(your_word)\n",
    "print(my_f_string)\n",
    "\n",
    "\n",
    "print(type(my_word))\n",
    "print(type(your_word))\n",
    "print(type(my_f_string))\n",
    "\n",
    "print(my_word == your_word)"
   ]
  },
  {
   "cell_type": "code",
   "execution_count": null,
   "metadata": {},
   "outputs": [],
   "source": []
  },
  {
   "cell_type": "code",
   "execution_count": 9,
   "metadata": {},
   "outputs": [
    {
     "name": "stdout",
     "output_type": "stream",
     "text": [
      "IT-SKOLAN\n",
      "BANAN\n",
      "VÅRA SAMMANSATTA ORD ÄR IT-SKOLAN BANAN\n"
     ]
    }
   ],
   "source": [
    "print(my_word.upper())\n",
    "print(your_word.upper())\n",
    "print(my_f_string.upper())"
   ]
  },
  {
   "cell_type": "markdown",
   "metadata": {},
   "source": [
    "Detta var bara ett exempel, men faktum är att ALLA metoder som funkar på en sträng - kommer även funka på **alla** strängar"
   ]
  },
  {
   "cell_type": "markdown",
   "metadata": {},
   "source": [
    "Exempel med listor:"
   ]
  },
  {
   "cell_type": "code",
   "execution_count": 4,
   "metadata": {},
   "outputs": [
    {
     "name": "stdout",
     "output_type": "stream",
     "text": [
      "<class 'list'>\n",
      "<class 'list'>\n"
     ]
    }
   ],
   "source": [
    "min_lista = [2,6,3,99,76]\n",
    "din_lista = [99, 98, 101, 95, 105]\n",
    "\n",
    "ord_lista = ['Ali', 'Kanske', 'Har', 'Fel']\n",
    "\n",
    "print(type(min_lista))\n",
    "print(type(din_lista))"
   ]
  },
  {
   "cell_type": "markdown",
   "metadata": {},
   "source": [
    "Som vi ser nedan, funkar det INTE att använda metoden upper() på listor! Den är unikt definierad för strängar, och funkar inte nödväntigtvis på andra typer av objekt (klasser)"
   ]
  },
  {
   "cell_type": "code",
   "execution_count": 5,
   "metadata": {},
   "outputs": [
    {
     "ename": "AttributeError",
     "evalue": "'list' object has no attribute 'upper'",
     "output_type": "error",
     "traceback": [
      "\u001b[1;31m---------------------------------------------------------------------------\u001b[0m",
      "\u001b[1;31mAttributeError\u001b[0m                            Traceback (most recent call last)",
      "\u001b[1;32mc:\\Users\\Leyla\\Desktop\\Quantum State\\IT högskolan\\Courses\\Python\\code_alongs\\L11_OOP_basics.ipynb Cell 13\u001b[0m line \u001b[0;36m1\n\u001b[1;32m----> <a href='vscode-notebook-cell:/c%3A/Users/Leyla/Desktop/Quantum%20State/IT%20h%C3%B6gskolan/Courses/Python/code_alongs/L11_OOP_basics.ipynb#X14sZmlsZQ%3D%3D?line=0'>1</a>\u001b[0m ord_lista\u001b[39m.\u001b[39mupper()\n",
      "\u001b[1;31mAttributeError\u001b[0m: 'list' object has no attribute 'upper'"
     ]
    }
   ],
   "source": [
    "ord_lista.upper()"
   ]
  },
  {
   "cell_type": "code",
   "execution_count": 8,
   "metadata": {},
   "outputs": [
    {
     "name": "stdout",
     "output_type": "stream",
     "text": [
      "<class 'str'>\n",
      "ALI\n"
     ]
    }
   ],
   "source": [
    "print(type(ord_lista[0]))\n",
    "\n",
    "print(ord_lista[0].upper())"
   ]
  },
  {
   "cell_type": "markdown",
   "metadata": {},
   "source": [
    "Exempel på metod som fungerar för listor: append(), reverse(), sort(), count()"
   ]
  },
  {
   "cell_type": "code",
   "execution_count": 10,
   "metadata": {},
   "outputs": [
    {
     "name": "stdout",
     "output_type": "stream",
     "text": [
      "[2, 6, 3, 99, 76, ['haha', 'hoho'], 'Apa']\n",
      "[2, 6, 3, 99, 76, ['haha', 'hoho'], 'Apa', 1989]\n"
     ]
    }
   ],
   "source": [
    "min_lista = [2,6,3,99,76, ['haha', 'hoho'], 'Apa']\n",
    "print(min_lista)\n",
    "\n",
    "min_lista.append(1989)\n",
    "print(min_lista)"
   ]
  },
  {
   "cell_type": "code",
   "execution_count": 12,
   "metadata": {},
   "outputs": [
    {
     "ename": "AttributeError",
     "evalue": "'tuple' object has no attribute 'append'",
     "output_type": "error",
     "traceback": [
      "\u001b[1;31m---------------------------------------------------------------------------\u001b[0m",
      "\u001b[1;31mAttributeError\u001b[0m                            Traceback (most recent call last)",
      "\u001b[1;32mc:\\Users\\Leyla\\Desktop\\Quantum State\\IT högskolan\\Courses\\Python\\code_alongs\\L11_OOP_basics.ipynb Cell 17\u001b[0m line \u001b[0;36m2\n\u001b[0;32m      <a href='vscode-notebook-cell:/c%3A/Users/Leyla/Desktop/Quantum%20State/IT%20h%C3%B6gskolan/Courses/Python/code_alongs/L11_OOP_basics.ipynb#X16sZmlsZQ%3D%3D?line=0'>1</a>\u001b[0m min_tuple \u001b[39m=\u001b[39m (\u001b[39m1\u001b[39m,\u001b[39m2\u001b[39m,\u001b[39m3\u001b[39m)\n\u001b[1;32m----> <a href='vscode-notebook-cell:/c%3A/Users/Leyla/Desktop/Quantum%20State/IT%20h%C3%B6gskolan/Courses/Python/code_alongs/L11_OOP_basics.ipynb#X16sZmlsZQ%3D%3D?line=1'>2</a>\u001b[0m min_tuple\u001b[39m.\u001b[39mappend(\u001b[39m5\u001b[39m)\n",
      "\u001b[1;31mAttributeError\u001b[0m: 'tuple' object has no attribute 'append'"
     ]
    }
   ],
   "source": [
    "min_tuple = (1,2,3)\n",
    "min_tuple.append(5)"
   ]
  },
  {
   "cell_type": "markdown",
   "metadata": {},
   "source": [
    "Olika klasser beter sig på olika sätt typ överallt"
   ]
  },
  {
   "cell_type": "code",
   "execution_count": 21,
   "metadata": {},
   "outputs": [
    {
     "name": "stdout",
     "output_type": "stream",
     "text": [
      "AllanBrallan\n"
     ]
    },
    {
     "ename": "TypeError",
     "evalue": "unsupported operand type(s) for -: 'str' and 'str'",
     "output_type": "error",
     "traceback": [
      "\u001b[1;31m---------------------------------------------------------------------------\u001b[0m",
      "\u001b[1;31mTypeError\u001b[0m                                 Traceback (most recent call last)",
      "\u001b[1;32mc:\\Users\\Leyla\\Desktop\\Quantum State\\IT högskolan\\Courses\\Python\\code_alongs\\L11_OOP_basics.ipynb Cell 19\u001b[0m line \u001b[0;36m5\n\u001b[0;32m      <a href='vscode-notebook-cell:/c%3A/Users/Leyla/Desktop/Quantum%20State/IT%20h%C3%B6gskolan/Courses/Python/code_alongs/L11_OOP_basics.ipynb#X32sZmlsZQ%3D%3D?line=1'>2</a>\u001b[0m efternamn \u001b[39m=\u001b[39m \u001b[39m'\u001b[39m\u001b[39mBrallan\u001b[39m\u001b[39m'\u001b[39m\n\u001b[0;32m      <a href='vscode-notebook-cell:/c%3A/Users/Leyla/Desktop/Quantum%20State/IT%20h%C3%B6gskolan/Courses/Python/code_alongs/L11_OOP_basics.ipynb#X32sZmlsZQ%3D%3D?line=3'>4</a>\u001b[0m \u001b[39mprint\u001b[39m(namn \u001b[39m+\u001b[39m efternamn)\n\u001b[1;32m----> <a href='vscode-notebook-cell:/c%3A/Users/Leyla/Desktop/Quantum%20State/IT%20h%C3%B6gskolan/Courses/Python/code_alongs/L11_OOP_basics.ipynb#X32sZmlsZQ%3D%3D?line=4'>5</a>\u001b[0m \u001b[39mprint\u001b[39m(namn \u001b[39m-\u001b[39m efternamn)\n",
      "\u001b[1;31mTypeError\u001b[0m: unsupported operand type(s) for -: 'str' and 'str'"
     ]
    }
   ],
   "source": [
    "namn = 'Allan'\n",
    "efternamn = 'Brallan'\n",
    "\n",
    "print(namn + efternamn)\n",
    "print(namn - efternamn)"
   ]
  },
  {
   "cell_type": "code",
   "execution_count": 23,
   "metadata": {},
   "outputs": [
    {
     "name": "stdout",
     "output_type": "stream",
     "text": [
      "[2, 6, 3, 99, 76, 99, 98, 101, 95, 105]\n"
     ]
    },
    {
     "ename": "TypeError",
     "evalue": "unsupported operand type(s) for -: 'list' and 'list'",
     "output_type": "error",
     "traceback": [
      "\u001b[1;31m---------------------------------------------------------------------------\u001b[0m",
      "\u001b[1;31mTypeError\u001b[0m                                 Traceback (most recent call last)",
      "\u001b[1;32mc:\\Users\\Leyla\\Desktop\\Quantum State\\IT högskolan\\Courses\\Python\\code_alongs\\L11_OOP_basics.ipynb Cell 20\u001b[0m line \u001b[0;36m5\n\u001b[0;32m      <a href='vscode-notebook-cell:/c%3A/Users/Leyla/Desktop/Quantum%20State/IT%20h%C3%B6gskolan/Courses/Python/code_alongs/L11_OOP_basics.ipynb#X26sZmlsZQ%3D%3D?line=1'>2</a>\u001b[0m din_lista \u001b[39m=\u001b[39m [\u001b[39m99\u001b[39m, \u001b[39m98\u001b[39m, \u001b[39m101\u001b[39m, \u001b[39m95\u001b[39m, \u001b[39m105\u001b[39m]\n\u001b[0;32m      <a href='vscode-notebook-cell:/c%3A/Users/Leyla/Desktop/Quantum%20State/IT%20h%C3%B6gskolan/Courses/Python/code_alongs/L11_OOP_basics.ipynb#X26sZmlsZQ%3D%3D?line=3'>4</a>\u001b[0m \u001b[39mprint\u001b[39m(min_lista \u001b[39m+\u001b[39m din_lista)\n\u001b[1;32m----> <a href='vscode-notebook-cell:/c%3A/Users/Leyla/Desktop/Quantum%20State/IT%20h%C3%B6gskolan/Courses/Python/code_alongs/L11_OOP_basics.ipynb#X26sZmlsZQ%3D%3D?line=4'>5</a>\u001b[0m \u001b[39mprint\u001b[39m(min_lista \u001b[39m-\u001b[39m din_lista)\n",
      "\u001b[1;31mTypeError\u001b[0m: unsupported operand type(s) for -: 'list' and 'list'"
     ]
    }
   ],
   "source": [
    "min_lista = [2,6,3,99,76]\n",
    "din_lista = [99, 98, 101, 95, 105]\n",
    "\n",
    "print(min_lista + din_lista)\n",
    "print(min_lista - din_lista)"
   ]
  },
  {
   "cell_type": "markdown",
   "metadata": {},
   "source": [
    "## Fantastiskt, hur bygger vi egna klasser då?!"
   ]
  },
  {
   "cell_type": "code",
   "execution_count": 216,
   "metadata": {},
   "outputs": [],
   "source": [
    "class Person:\n",
    "\n",
    "    # strängen nedan, även kallad doc-sträng, kommer dyka upp när användaren kallar på help()\n",
    "    '''Här kan jag lägga in ytterligare nyttig informatiom som dyker upp när jag kallar på help()'''\n",
    "    \n",
    "    # init är en funktion som INITIALISERAR din instans, när du skapar den - och ger den vissa egenskaper\n",
    "    def __init__(self, namn, skola, program, ålder):\n",
    "        \n",
    "        # samtliga av dessa kallas för klass-attribut\n",
    "        \n",
    "        self.name = namn\n",
    "        self.school = skola\n",
    "        self.programme = program\n",
    "        self.age = ålder\n",
    "\n",
    "    # här definierar vi en klass-funktion. Det fungerar PRECIS likadant som vanliga funktioner, dock endast gilltig för \n",
    "    # instanser av den här klassen. Klass-funktioner kallas för METODER\n",
    "\n",
    "    def birthday(self):\n",
    "\n",
    "        self.age += 1\n",
    "\n",
    "    def back_in_time(self):\n",
    "\n",
    "        self.age -= 1\n",
    "\n",
    "    # nu skapar vi en metod för att möjliggöra namnbyte\n",
    "    def change_name(self,new_name):\n",
    "\n",
    "        self.name = new_name\n",
    "\n",
    "    # denna funktion kommer att kallas på när vi skriver print() på en instans av den här klassen\n",
    "    \n",
    "    def __repr__(self):\n",
    "\n",
    "        return f'Namnet på personen är {self.name} och åldern är {self.age}'\n"
   ]
  },
  {
   "cell_type": "code",
   "execution_count": 209,
   "metadata": {},
   "outputs": [],
   "source": [
    "# detta kallas att skapa INSTANSER av klasser\n",
    "\n",
    "person1 = Person(namn='Ali', skola='IT-Högskolan', program='AI For Pros', ålder=33)\n",
    "person2 = Person(namn='Mark Z', skola='Stanford', program='Dropout...', ålder=45)\n",
    "\n",
    "# ovan har vi skapat två instanser av klassen person"
   ]
  },
  {
   "cell_type": "code",
   "execution_count": 195,
   "metadata": {},
   "outputs": [
    {
     "name": "stdout",
     "output_type": "stream",
     "text": [
      "Namnet på personen är Ali och åldern är 33\n"
     ]
    }
   ],
   "source": [
    "print(person1)"
   ]
  },
  {
   "cell_type": "code",
   "execution_count": 169,
   "metadata": {},
   "outputs": [
    {
     "name": "stdout",
     "output_type": "stream",
     "text": [
      "<class '__main__.Person'>\n",
      "Ali\n",
      "IT-Högskolan\n",
      "AI For Pros\n",
      "33\n",
      "Mark Z\n",
      "Stanford\n",
      "Dropout...\n",
      "45\n"
     ]
    }
   ],
   "source": [
    "print(type(person1))\n",
    "\n",
    "print(person1.name)\n",
    "print(person1.school)\n",
    "print(person1.programme)\n",
    "print(person1.age)\n",
    "\n",
    "print(person2.name)\n",
    "print(person2.school)\n",
    "print(person2.programme)\n",
    "print(person2.age)\n"
   ]
  },
  {
   "cell_type": "code",
   "execution_count": 143,
   "metadata": {},
   "outputs": [
    {
     "name": "stdout",
     "output_type": "stream",
     "text": [
      "33\n",
      "34\n"
     ]
    }
   ],
   "source": [
    "print(person1.age)\n",
    "person1.birthday()\n",
    "print(person1.age)"
   ]
  },
  {
   "cell_type": "code",
   "execution_count": 154,
   "metadata": {},
   "outputs": [
    {
     "name": "stdout",
     "output_type": "stream",
     "text": [
      "23\n"
     ]
    }
   ],
   "source": [
    "person1.back_in_time()\n",
    "print(person1.age)"
   ]
  },
  {
   "cell_type": "code",
   "execution_count": 115,
   "metadata": {},
   "outputs": [
    {
     "name": "stdout",
     "output_type": "stream",
     "text": [
      "Ali\n",
      "Max Power\n"
     ]
    }
   ],
   "source": [
    "print(person1.name)\n",
    "\n",
    "person1.change_name('Max Power')\n",
    "\n",
    "print(person1.name)"
   ]
  },
  {
   "cell_type": "code",
   "execution_count": 178,
   "metadata": {},
   "outputs": [
    {
     "name": "stdout",
     "output_type": "stream",
     "text": [
      "[1, 2, 3]\n"
     ]
    }
   ],
   "source": [
    "min_lista = [1,2,3]\n",
    "print(min_lista)"
   ]
  },
  {
   "cell_type": "code",
   "execution_count": 179,
   "metadata": {},
   "outputs": [
    {
     "name": "stdout",
     "output_type": "stream",
     "text": [
      "<__main__.Person object at 0x00000157ED1B5650>\n"
     ]
    }
   ],
   "source": [
    "print(person1)"
   ]
  },
  {
   "cell_type": "markdown",
   "metadata": {},
   "source": [
    "## help()"
   ]
  },
  {
   "cell_type": "code",
   "execution_count": 212,
   "metadata": {},
   "outputs": [
    {
     "name": "stdout",
     "output_type": "stream",
     "text": [
      "Help on class str in module builtins:\n",
      "\n",
      "class str(object)\n",
      " |  str(object='') -> str\n",
      " |  str(bytes_or_buffer[, encoding[, errors]]) -> str\n",
      " |  \n",
      " |  Create a new string object from the given object. If encoding or\n",
      " |  errors is specified, then the object must expose a data buffer\n",
      " |  that will be decoded using the given encoding and error handler.\n",
      " |  Otherwise, returns the result of object.__str__() (if defined)\n",
      " |  or repr(object).\n",
      " |  encoding defaults to sys.getdefaultencoding().\n",
      " |  errors defaults to 'strict'.\n",
      " |  \n",
      " |  Methods defined here:\n",
      " |  \n",
      " |  __add__(self, value, /)\n",
      " |      Return self+value.\n",
      " |  \n",
      " |  __contains__(self, key, /)\n",
      " |      Return key in self.\n",
      " |  \n",
      " |  __eq__(self, value, /)\n",
      " |      Return self==value.\n",
      " |  \n",
      " |  __format__(self, format_spec, /)\n",
      " |      Return a formatted version of the string as described by format_spec.\n",
      " |  \n",
      " |  __ge__(self, value, /)\n",
      " |      Return self>=value.\n",
      " |  \n",
      " |  __getattribute__(self, name, /)\n",
      " |      Return getattr(self, name).\n",
      " |  \n",
      " |  __getitem__(self, key, /)\n",
      " |      Return self[key].\n",
      " |  \n",
      " |  __getnewargs__(...)\n",
      " |  \n",
      " |  __gt__(self, value, /)\n",
      " |      Return self>value.\n",
      " |  \n",
      " |  __hash__(self, /)\n",
      " |      Return hash(self).\n",
      " |  \n",
      " |  __iter__(self, /)\n",
      " |      Implement iter(self).\n",
      " |  \n",
      " |  __le__(self, value, /)\n",
      " |      Return self<=value.\n",
      " |  \n",
      " |  __len__(self, /)\n",
      " |      Return len(self).\n",
      " |  \n",
      " |  __lt__(self, value, /)\n",
      " |      Return self<value.\n",
      " |  \n",
      " |  __mod__(self, value, /)\n",
      " |      Return self%value.\n",
      " |  \n",
      " |  __mul__(self, value, /)\n",
      " |      Return self*value.\n",
      " |  \n",
      " |  __ne__(self, value, /)\n",
      " |      Return self!=value.\n",
      " |  \n",
      " |  __repr__(self, /)\n",
      " |      Return repr(self).\n",
      " |  \n",
      " |  __rmod__(self, value, /)\n",
      " |      Return value%self.\n",
      " |  \n",
      " |  __rmul__(self, value, /)\n",
      " |      Return value*self.\n",
      " |  \n",
      " |  __sizeof__(self, /)\n",
      " |      Return the size of the string in memory, in bytes.\n",
      " |  \n",
      " |  __str__(self, /)\n",
      " |      Return str(self).\n",
      " |  \n",
      " |  capitalize(self, /)\n",
      " |      Return a capitalized version of the string.\n",
      " |      \n",
      " |      More specifically, make the first character have upper case and the rest lower\n",
      " |      case.\n",
      " |  \n",
      " |  casefold(self, /)\n",
      " |      Return a version of the string suitable for caseless comparisons.\n",
      " |  \n",
      " |  center(self, width, fillchar=' ', /)\n",
      " |      Return a centered string of length width.\n",
      " |      \n",
      " |      Padding is done using the specified fill character (default is a space).\n",
      " |  \n",
      " |  count(...)\n",
      " |      S.count(sub[, start[, end]]) -> int\n",
      " |      \n",
      " |      Return the number of non-overlapping occurrences of substring sub in\n",
      " |      string S[start:end].  Optional arguments start and end are\n",
      " |      interpreted as in slice notation.\n",
      " |  \n",
      " |  encode(self, /, encoding='utf-8', errors='strict')\n",
      " |      Encode the string using the codec registered for encoding.\n",
      " |      \n",
      " |      encoding\n",
      " |        The encoding in which to encode the string.\n",
      " |      errors\n",
      " |        The error handling scheme to use for encoding errors.\n",
      " |        The default is 'strict' meaning that encoding errors raise a\n",
      " |        UnicodeEncodeError.  Other possible values are 'ignore', 'replace' and\n",
      " |        'xmlcharrefreplace' as well as any other name registered with\n",
      " |        codecs.register_error that can handle UnicodeEncodeErrors.\n",
      " |  \n",
      " |  endswith(...)\n",
      " |      S.endswith(suffix[, start[, end]]) -> bool\n",
      " |      \n",
      " |      Return True if S ends with the specified suffix, False otherwise.\n",
      " |      With optional start, test S beginning at that position.\n",
      " |      With optional end, stop comparing S at that position.\n",
      " |      suffix can also be a tuple of strings to try.\n",
      " |  \n",
      " |  expandtabs(self, /, tabsize=8)\n",
      " |      Return a copy where all tab characters are expanded using spaces.\n",
      " |      \n",
      " |      If tabsize is not given, a tab size of 8 characters is assumed.\n",
      " |  \n",
      " |  find(...)\n",
      " |      S.find(sub[, start[, end]]) -> int\n",
      " |      \n",
      " |      Return the lowest index in S where substring sub is found,\n",
      " |      such that sub is contained within S[start:end].  Optional\n",
      " |      arguments start and end are interpreted as in slice notation.\n",
      " |      \n",
      " |      Return -1 on failure.\n",
      " |  \n",
      " |  format(...)\n",
      " |      S.format(*args, **kwargs) -> str\n",
      " |      \n",
      " |      Return a formatted version of S, using substitutions from args and kwargs.\n",
      " |      The substitutions are identified by braces ('{' and '}').\n",
      " |  \n",
      " |  format_map(...)\n",
      " |      S.format_map(mapping) -> str\n",
      " |      \n",
      " |      Return a formatted version of S, using substitutions from mapping.\n",
      " |      The substitutions are identified by braces ('{' and '}').\n",
      " |  \n",
      " |  index(...)\n",
      " |      S.index(sub[, start[, end]]) -> int\n",
      " |      \n",
      " |      Return the lowest index in S where substring sub is found,\n",
      " |      such that sub is contained within S[start:end].  Optional\n",
      " |      arguments start and end are interpreted as in slice notation.\n",
      " |      \n",
      " |      Raises ValueError when the substring is not found.\n",
      " |  \n",
      " |  isalnum(self, /)\n",
      " |      Return True if the string is an alpha-numeric string, False otherwise.\n",
      " |      \n",
      " |      A string is alpha-numeric if all characters in the string are alpha-numeric and\n",
      " |      there is at least one character in the string.\n",
      " |  \n",
      " |  isalpha(self, /)\n",
      " |      Return True if the string is an alphabetic string, False otherwise.\n",
      " |      \n",
      " |      A string is alphabetic if all characters in the string are alphabetic and there\n",
      " |      is at least one character in the string.\n",
      " |  \n",
      " |  isascii(self, /)\n",
      " |      Return True if all characters in the string are ASCII, False otherwise.\n",
      " |      \n",
      " |      ASCII characters have code points in the range U+0000-U+007F.\n",
      " |      Empty string is ASCII too.\n",
      " |  \n",
      " |  isdecimal(self, /)\n",
      " |      Return True if the string is a decimal string, False otherwise.\n",
      " |      \n",
      " |      A string is a decimal string if all characters in the string are decimal and\n",
      " |      there is at least one character in the string.\n",
      " |  \n",
      " |  isdigit(self, /)\n",
      " |      Return True if the string is a digit string, False otherwise.\n",
      " |      \n",
      " |      A string is a digit string if all characters in the string are digits and there\n",
      " |      is at least one character in the string.\n",
      " |  \n",
      " |  isidentifier(self, /)\n",
      " |      Return True if the string is a valid Python identifier, False otherwise.\n",
      " |      \n",
      " |      Call keyword.iskeyword(s) to test whether string s is a reserved identifier,\n",
      " |      such as \"def\" or \"class\".\n",
      " |  \n",
      " |  islower(self, /)\n",
      " |      Return True if the string is a lowercase string, False otherwise.\n",
      " |      \n",
      " |      A string is lowercase if all cased characters in the string are lowercase and\n",
      " |      there is at least one cased character in the string.\n",
      " |  \n",
      " |  isnumeric(self, /)\n",
      " |      Return True if the string is a numeric string, False otherwise.\n",
      " |      \n",
      " |      A string is numeric if all characters in the string are numeric and there is at\n",
      " |      least one character in the string.\n",
      " |  \n",
      " |  isprintable(self, /)\n",
      " |      Return True if the string is printable, False otherwise.\n",
      " |      \n",
      " |      A string is printable if all of its characters are considered printable in\n",
      " |      repr() or if it is empty.\n",
      " |  \n",
      " |  isspace(self, /)\n",
      " |      Return True if the string is a whitespace string, False otherwise.\n",
      " |      \n",
      " |      A string is whitespace if all characters in the string are whitespace and there\n",
      " |      is at least one character in the string.\n",
      " |  \n",
      " |  istitle(self, /)\n",
      " |      Return True if the string is a title-cased string, False otherwise.\n",
      " |      \n",
      " |      In a title-cased string, upper- and title-case characters may only\n",
      " |      follow uncased characters and lowercase characters only cased ones.\n",
      " |  \n",
      " |  isupper(self, /)\n",
      " |      Return True if the string is an uppercase string, False otherwise.\n",
      " |      \n",
      " |      A string is uppercase if all cased characters in the string are uppercase and\n",
      " |      there is at least one cased character in the string.\n",
      " |  \n",
      " |  join(self, iterable, /)\n",
      " |      Concatenate any number of strings.\n",
      " |      \n",
      " |      The string whose method is called is inserted in between each given string.\n",
      " |      The result is returned as a new string.\n",
      " |      \n",
      " |      Example: '.'.join(['ab', 'pq', 'rs']) -> 'ab.pq.rs'\n",
      " |  \n",
      " |  ljust(self, width, fillchar=' ', /)\n",
      " |      Return a left-justified string of length width.\n",
      " |      \n",
      " |      Padding is done using the specified fill character (default is a space).\n",
      " |  \n",
      " |  lower(self, /)\n",
      " |      Return a copy of the string converted to lowercase.\n",
      " |  \n",
      " |  lstrip(self, chars=None, /)\n",
      " |      Return a copy of the string with leading whitespace removed.\n",
      " |      \n",
      " |      If chars is given and not None, remove characters in chars instead.\n",
      " |  \n",
      " |  partition(self, sep, /)\n",
      " |      Partition the string into three parts using the given separator.\n",
      " |      \n",
      " |      This will search for the separator in the string.  If the separator is found,\n",
      " |      returns a 3-tuple containing the part before the separator, the separator\n",
      " |      itself, and the part after it.\n",
      " |      \n",
      " |      If the separator is not found, returns a 3-tuple containing the original string\n",
      " |      and two empty strings.\n",
      " |  \n",
      " |  removeprefix(self, prefix, /)\n",
      " |      Return a str with the given prefix string removed if present.\n",
      " |      \n",
      " |      If the string starts with the prefix string, return string[len(prefix):].\n",
      " |      Otherwise, return a copy of the original string.\n",
      " |  \n",
      " |  removesuffix(self, suffix, /)\n",
      " |      Return a str with the given suffix string removed if present.\n",
      " |      \n",
      " |      If the string ends with the suffix string and that suffix is not empty,\n",
      " |      return string[:-len(suffix)]. Otherwise, return a copy of the original\n",
      " |      string.\n",
      " |  \n",
      " |  replace(self, old, new, count=-1, /)\n",
      " |      Return a copy with all occurrences of substring old replaced by new.\n",
      " |      \n",
      " |        count\n",
      " |          Maximum number of occurrences to replace.\n",
      " |          -1 (the default value) means replace all occurrences.\n",
      " |      \n",
      " |      If the optional argument count is given, only the first count occurrences are\n",
      " |      replaced.\n",
      " |  \n",
      " |  rfind(...)\n",
      " |      S.rfind(sub[, start[, end]]) -> int\n",
      " |      \n",
      " |      Return the highest index in S where substring sub is found,\n",
      " |      such that sub is contained within S[start:end].  Optional\n",
      " |      arguments start and end are interpreted as in slice notation.\n",
      " |      \n",
      " |      Return -1 on failure.\n",
      " |  \n",
      " |  rindex(...)\n",
      " |      S.rindex(sub[, start[, end]]) -> int\n",
      " |      \n",
      " |      Return the highest index in S where substring sub is found,\n",
      " |      such that sub is contained within S[start:end].  Optional\n",
      " |      arguments start and end are interpreted as in slice notation.\n",
      " |      \n",
      " |      Raises ValueError when the substring is not found.\n",
      " |  \n",
      " |  rjust(self, width, fillchar=' ', /)\n",
      " |      Return a right-justified string of length width.\n",
      " |      \n",
      " |      Padding is done using the specified fill character (default is a space).\n",
      " |  \n",
      " |  rpartition(self, sep, /)\n",
      " |      Partition the string into three parts using the given separator.\n",
      " |      \n",
      " |      This will search for the separator in the string, starting at the end. If\n",
      " |      the separator is found, returns a 3-tuple containing the part before the\n",
      " |      separator, the separator itself, and the part after it.\n",
      " |      \n",
      " |      If the separator is not found, returns a 3-tuple containing two empty strings\n",
      " |      and the original string.\n",
      " |  \n",
      " |  rsplit(self, /, sep=None, maxsplit=-1)\n",
      " |      Return a list of the substrings in the string, using sep as the separator string.\n",
      " |      \n",
      " |        sep\n",
      " |          The separator used to split the string.\n",
      " |      \n",
      " |          When set to None (the default value), will split on any whitespace\n",
      " |          character (including \\\\n \\\\r \\\\t \\\\f and spaces) and will discard\n",
      " |          empty strings from the result.\n",
      " |        maxsplit\n",
      " |          Maximum number of splits (starting from the left).\n",
      " |          -1 (the default value) means no limit.\n",
      " |      \n",
      " |      Splitting starts at the end of the string and works to the front.\n",
      " |  \n",
      " |  rstrip(self, chars=None, /)\n",
      " |      Return a copy of the string with trailing whitespace removed.\n",
      " |      \n",
      " |      If chars is given and not None, remove characters in chars instead.\n",
      " |  \n",
      " |  split(self, /, sep=None, maxsplit=-1)\n",
      " |      Return a list of the substrings in the string, using sep as the separator string.\n",
      " |      \n",
      " |        sep\n",
      " |          The separator used to split the string.\n",
      " |      \n",
      " |          When set to None (the default value), will split on any whitespace\n",
      " |          character (including \\\\n \\\\r \\\\t \\\\f and spaces) and will discard\n",
      " |          empty strings from the result.\n",
      " |        maxsplit\n",
      " |          Maximum number of splits (starting from the left).\n",
      " |          -1 (the default value) means no limit.\n",
      " |      \n",
      " |      Note, str.split() is mainly useful for data that has been intentionally\n",
      " |      delimited.  With natural text that includes punctuation, consider using\n",
      " |      the regular expression module.\n",
      " |  \n",
      " |  splitlines(self, /, keepends=False)\n",
      " |      Return a list of the lines in the string, breaking at line boundaries.\n",
      " |      \n",
      " |      Line breaks are not included in the resulting list unless keepends is given and\n",
      " |      true.\n",
      " |  \n",
      " |  startswith(...)\n",
      " |      S.startswith(prefix[, start[, end]]) -> bool\n",
      " |      \n",
      " |      Return True if S starts with the specified prefix, False otherwise.\n",
      " |      With optional start, test S beginning at that position.\n",
      " |      With optional end, stop comparing S at that position.\n",
      " |      prefix can also be a tuple of strings to try.\n",
      " |  \n",
      " |  strip(self, chars=None, /)\n",
      " |      Return a copy of the string with leading and trailing whitespace removed.\n",
      " |      \n",
      " |      If chars is given and not None, remove characters in chars instead.\n",
      " |  \n",
      " |  swapcase(self, /)\n",
      " |      Convert uppercase characters to lowercase and lowercase characters to uppercase.\n",
      " |  \n",
      " |  title(self, /)\n",
      " |      Return a version of the string where each word is titlecased.\n",
      " |      \n",
      " |      More specifically, words start with uppercased characters and all remaining\n",
      " |      cased characters have lower case.\n",
      " |  \n",
      " |  translate(self, table, /)\n",
      " |      Replace each character in the string using the given translation table.\n",
      " |      \n",
      " |        table\n",
      " |          Translation table, which must be a mapping of Unicode ordinals to\n",
      " |          Unicode ordinals, strings, or None.\n",
      " |      \n",
      " |      The table must implement lookup/indexing via __getitem__, for instance a\n",
      " |      dictionary or list.  If this operation raises LookupError, the character is\n",
      " |      left untouched.  Characters mapped to None are deleted.\n",
      " |  \n",
      " |  upper(self, /)\n",
      " |      Return a copy of the string converted to uppercase.\n",
      " |  \n",
      " |  zfill(self, width, /)\n",
      " |      Pad a numeric string with zeros on the left, to fill a field of the given width.\n",
      " |      \n",
      " |      The string is never truncated.\n",
      " |  \n",
      " |  ----------------------------------------------------------------------\n",
      " |  Static methods defined here:\n",
      " |  \n",
      " |  __new__(*args, **kwargs) from builtins.type\n",
      " |      Create and return a new object.  See help(type) for accurate signature.\n",
      " |  \n",
      " |  maketrans(...)\n",
      " |      Return a translation table usable for str.translate().\n",
      " |      \n",
      " |      If there is only one argument, it must be a dictionary mapping Unicode\n",
      " |      ordinals (integers) or characters to Unicode ordinals, strings or None.\n",
      " |      Character keys will be then converted to ordinals.\n",
      " |      If there are two arguments, they must be strings of equal length, and\n",
      " |      in the resulting dictionary, each character in x will be mapped to the\n",
      " |      character at the same position in y. If there is a third argument, it\n",
      " |      must be a string, whose characters will be mapped to None in the result.\n",
      "\n"
     ]
    }
   ],
   "source": [
    "# help() ger ofta nyttig information (doch ofta rätt tekniskt) om klassen\n",
    "\n",
    "help(str)"
   ]
  },
  {
   "cell_type": "code",
   "execution_count": null,
   "metadata": {},
   "outputs": [
    {
     "name": "stdout",
     "output_type": "stream",
     "text": [
      "Help on Person in module __main__ object:\n",
      "\n",
      "class Person(builtins.object)\n",
      " |  Person(namn, skola, program, ålder)\n",
      " |  \n",
      " |  Här kan jag lägga in ytterligare nyttig informatiom som dyker upp när jag kallar på help()\n",
      " |  \n",
      " |  Methods defined here:\n",
      " |  \n",
      " |  __init__(self, namn, skola, program, ålder)\n",
      " |      Initialize self.  See help(type(self)) for accurate signature.\n",
      " |  \n",
      " |  __repr__(self)\n",
      " |      Return repr(self).\n",
      " |  \n",
      " |  back_in_time(self)\n",
      " |  \n",
      " |  birthday(self)\n",
      " |  \n",
      " |  change_name(self, new_name)\n",
      " |      # nu skapar vi en metod för att möjliggöra namnbyte\n",
      " |  \n",
      " |  ----------------------------------------------------------------------\n",
      " |  Data descriptors defined here:\n",
      " |  \n",
      " |  __dict__\n",
      " |      dictionary for instance variables (if defined)\n",
      " |  \n",
      " |  __weakref__\n",
      " |      list of weak references to the object (if defined)\n",
      "\n"
     ]
    }
   ],
   "source": [
    "help(person1)"
   ]
  },
  {
   "cell_type": "markdown",
   "metadata": {},
   "source": [
    "## ÄNDRA PÅ ATTRIBUT SAMT PRIVATA ATTRIBUT"
   ]
  },
  {
   "cell_type": "code",
   "execution_count": 338,
   "metadata": {},
   "outputs": [],
   "source": [
    "class Person:\n",
    "\n",
    "    '''Här kan jag lägga in ytterligare nyttig informatiom som dyker upp när jag kallar på help()'''\n",
    "    \n",
    "    def __init__(self, namn, skola, program, ålder):\n",
    "\n",
    "        # markera för användaren att detta attribut INTE ska ändras direkt utifrån, genom att lägga till _  \n",
    "        # obs, notera att det ändå fortfarande går att göra det\n",
    "        self._name = namn\n",
    "\n",
    "        # genom att lägga till två stycken __ framför attributnamnet, kan vi göra det till s.k. privat\n",
    "        # den kan man inte längre komma åt direkt genom att skriva .__school\n",
    "        self.__school = skola\n",
    "        self.programme = program\n",
    "        self.age = ålder\n",
    "\n",
    "    @property\n",
    "    def school(self):\n",
    "\n",
    "        return self.__school \n",
    "\n",
    "    def __repr__(self):\n",
    "\n",
    "        return f'Namnet på personen är {self._name}, åldern är {self.age} och skolan är {self.__school}'"
   ]
  },
  {
   "cell_type": "code",
   "execution_count": 339,
   "metadata": {},
   "outputs": [],
   "source": [
    "person1 = Person(namn='Ali', skola='IT-Högskolan', program='AI For Pros', ålder=33)"
   ]
  },
  {
   "cell_type": "code",
   "execution_count": 340,
   "metadata": {},
   "outputs": [],
   "source": [
    "output = person1.school"
   ]
  },
  {
   "cell_type": "code",
   "execution_count": 341,
   "metadata": {},
   "outputs": [
    {
     "data": {
      "text/plain": [
       "'IT-Högskolan'"
      ]
     },
     "execution_count": 341,
     "metadata": {},
     "output_type": "execute_result"
    }
   ],
   "source": [
    "output"
   ]
  },
  {
   "cell_type": "code",
   "execution_count": 342,
   "metadata": {},
   "outputs": [
    {
     "data": {
      "text/plain": [
       "'IT-Högskolan rocks'"
      ]
     },
     "execution_count": 342,
     "metadata": {},
     "output_type": "execute_result"
    }
   ],
   "source": [
    "output + ' rocks'"
   ]
  },
  {
   "cell_type": "markdown",
   "metadata": {},
   "source": [
    "**Övning**\n",
    "\n",
    "Jag vill att ni nu skapar en ny klass. Klassen ska heta Varor.\n",
    "\n",
    "Varje instans av klassen ska vara en vara som säljs i en butik. \n",
    "\n",
    "1) Ni kommer behöva initiera (med __init__) varje instans med ett namn, ett pris, ett brand, giltighetsdatum, varusaldo\n",
    "\n",
    "2) Skapa en doc-sträng som förklarar vad klassen är för något\n",
    "\n",
    "3) skapa __repr__ metoden, som returnerar en f-sträng med alla instansens attribut\n",
    "\n",
    "4) skapa en metod som tar ett argument *discount*, och som applicerar discount på priset\n",
    "\n",
    "5) skapa en metod som ska representera ett köp av varan, och därför minskar på varusaldo\n",
    "\n",
    "6) skapa fler klassmetoder, experimentera lite\n",
    "\n",
    "7) omvandla minst ett attribut till ett privat attritub (med __)\n",
    "\n",
    "8) skapa en @property metod för att komma åt det privata attributet ni precis omvandlade\n"
   ]
  },
  {
   "cell_type": "markdown",
   "metadata": {},
   "source": [
    "**svar:**"
   ]
  },
  {
   "cell_type": "code",
   "execution_count": 443,
   "metadata": {},
   "outputs": [],
   "source": [
    "class Wares:\n",
    "\n",
    "    '''This class describes and handles wares that are sold in our store'''\n",
    "\n",
    "    def __init__(self, name, price, brand, expiry, stock):\n",
    "    \n",
    "        self.name = name\n",
    "        self.price = price\n",
    "        self.brand = brand\n",
    "        self.expiry = expiry\n",
    "        self.__stock = stock\n",
    "\n",
    "    # applies discount to price corresponding to the argument percentage (in decimal)\n",
    "    def discount(self, percentage):\n",
    "\n",
    "        self.price *= (1-percentage)\n",
    "\n",
    "    # subtracts the amount just bought from the current value of the stock\n",
    "    # if the customer tries to buy more than available, push back against the customer instead\n",
    "    def purchase(self, amount):\n",
    "    \n",
    "        if amount <= self.stock:\n",
    "            self.__stock -= amount    \n",
    "        else:\n",
    "            print(f\"Sorry, but we're unable to proceed with your purchase of {amount} {self.name}'s - we have {self.__stock} available.\")\n",
    "\n",
    "    @property\n",
    "    def stock(self):\n",
    "        return self.__stock\n",
    "    \n",
    "    def __repr__(self):\n",
    "        return f'''Information:\n",
    "                   name         : {self.name}\n",
    "                   price        : {self.price}\n",
    "                   brand        : {self.brand}\n",
    "                   expiry       : {self.expiry}\n",
    "                   stock        : {self.stock}\n",
    "                '''"
   ]
  },
  {
   "cell_type": "code",
   "execution_count": 444,
   "metadata": {},
   "outputs": [],
   "source": [
    "banana = Wares('banana', 5, 'Chichquita', '2023-10-18', 200)"
   ]
  },
  {
   "cell_type": "code",
   "execution_count": 445,
   "metadata": {},
   "outputs": [
    {
     "name": "stdout",
     "output_type": "stream",
     "text": [
      "Information:\n",
      "                   name         : banana\n",
      "                   price        : 5\n",
      "                   brand        : Chichquita\n",
      "                   expiry       : 2023-10-18\n",
      "                   stock        : 200\n",
      "                \n"
     ]
    }
   ],
   "source": [
    "print(banana)"
   ]
  }
 ],
 "metadata": {
  "kernelspec": {
   "display_name": "deeplearning",
   "language": "python",
   "name": "python3"
  },
  "language_info": {
   "codemirror_mode": {
    "name": "ipython",
    "version": 3
   },
   "file_extension": ".py",
   "mimetype": "text/x-python",
   "name": "python",
   "nbconvert_exporter": "python",
   "pygments_lexer": "ipython3",
   "version": "3.11.4"
  },
  "orig_nbformat": 4
 },
 "nbformat": 4,
 "nbformat_minor": 2
}
