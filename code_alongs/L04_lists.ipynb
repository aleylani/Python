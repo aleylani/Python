{
 "cells": [
  {
   "cell_type": "markdown",
   "metadata": {},
   "source": [
    "## List"
   ]
  },
  {
   "cell_type": "markdown",
   "metadata": {},
   "source": [
    "En lista är bara en container (dvs en behållare) av andra objekt. Det kan vara en behållare av namn, tal eller kombinationer av dessa. Eller vad som helst."
   ]
  },
  {
   "cell_type": "code",
   "execution_count": null,
   "metadata": {},
   "outputs": [],
   "source": [
    "studenter = ['Johanna', 'Paul', 'Simon']\n",
    "\n",
    "print(studenter)\n",
    "print( type(studenter) )"
   ]
  },
  {
   "cell_type": "markdown",
   "metadata": {},
   "source": [
    "Vi kan access de olika elementen i listan genom att kalla på dem"
   ]
  },
  {
   "cell_type": "code",
   "execution_count": null,
   "metadata": {},
   "outputs": [],
   "source": [
    "print(studenter[0])   # kom ihåg, python räknar från 0\n",
    "print(studenter[1])\n",
    "print(studenter[2])"
   ]
  },
  {
   "cell_type": "code",
   "execution_count": null,
   "metadata": {},
   "outputs": [],
   "source": [
    "print(studenter[3])   # vi kan ej, eftersom att listan inte innehåller tillräckligt många element"
   ]
  },
  {
   "cell_type": "code",
   "execution_count": null,
   "metadata": {},
   "outputs": [],
   "source": [
    "print(studenter)"
   ]
  },
  {
   "cell_type": "code",
   "execution_count": null,
   "metadata": {},
   "outputs": [],
   "source": [
    "print(studenter[-1])    # vi kan också räkna baklänges!\n",
    "print(studenter[-2])\n",
    "print(studenter[-3])"
   ]
  },
  {
   "cell_type": "code",
   "execution_count": null,
   "metadata": {},
   "outputs": [],
   "source": [
    "for student in studenter:\n",
    "\n",
    "    print(student)"
   ]
  },
  {
   "cell_type": "markdown",
   "metadata": {},
   "source": [
    "## enumerate()"
   ]
  },
  {
   "cell_type": "code",
   "execution_count": null,
   "metadata": {},
   "outputs": [],
   "source": [
    "studenter"
   ]
  },
  {
   "cell_type": "code",
   "execution_count": null,
   "metadata": {},
   "outputs": [],
   "source": [
    "for i, student in enumerate(studenter): # med enumerate får du också indexet (platsen) som respektive value\n",
    "                                        # i listan studenter har'\n",
    "\n",
    "    print(f'på plats nummer {i} har vi studenten {student}')"
   ]
  },
  {
   "cell_type": "markdown",
   "metadata": {},
   "source": [
    "## Ändra values i listor"
   ]
  },
  {
   "cell_type": "code",
   "execution_count": null,
   "metadata": {},
   "outputs": [],
   "source": [
    "print(studenter)\n",
    "print(studenter[0])\n"
   ]
  },
  {
   "cell_type": "code",
   "execution_count": null,
   "metadata": {},
   "outputs": [],
   "source": [
    "studenter[0] = 'Oscar'        # assigna om värdet på given plats i listan"
   ]
  },
  {
   "cell_type": "code",
   "execution_count": null,
   "metadata": {},
   "outputs": [],
   "source": [
    "print(studenter)"
   ]
  },
  {
   "cell_type": "markdown",
   "metadata": {},
   "source": [
    "## append()"
   ]
  },
  {
   "cell_type": "markdown",
   "metadata": {},
   "source": [
    "med append kan ni utöka er lista med andra värden"
   ]
  },
  {
   "cell_type": "code",
   "execution_count": null,
   "metadata": {},
   "outputs": [],
   "source": [
    "studenter"
   ]
  },
  {
   "cell_type": "code",
   "execution_count": null,
   "metadata": {},
   "outputs": [],
   "source": [
    "studenter.append('Ylva')         # kommer att utöka listan studenter med Ylva"
   ]
  },
  {
   "cell_type": "code",
   "execution_count": null,
   "metadata": {},
   "outputs": [],
   "source": [
    "print(studenter)            # lägg märke till att värdet vi appenda hamnar sist!"
   ]
  },
  {
   "cell_type": "code",
   "execution_count": null,
   "metadata": {},
   "outputs": [],
   "source": [
    "studenter.append('Alexi')"
   ]
  },
  {
   "cell_type": "code",
   "execution_count": null,
   "metadata": {},
   "outputs": [],
   "source": [
    "print(studenter)"
   ]
  },
  {
   "cell_type": "markdown",
   "metadata": {},
   "source": [
    "## Slicing"
   ]
  },
  {
   "cell_type": "markdown",
   "metadata": {},
   "source": [
    "Används när man endast vill se vissa delar av en lista"
   ]
  },
  {
   "cell_type": "code",
   "execution_count": null,
   "metadata": {},
   "outputs": [],
   "source": [
    "print(studenter)"
   ]
  },
  {
   "cell_type": "code",
   "execution_count": null,
   "metadata": {},
   "outputs": [],
   "source": [
    "studenter[3]   # såhär kan man skriva om man vill ha ut ETT värde ur listan"
   ]
  },
  {
   "cell_type": "code",
   "execution_count": null,
   "metadata": {},
   "outputs": [],
   "source": [
    "print(studenter[0:2]) # kommer att visa er listans värden i indexen 0,1 (inkluderar ej tvåan!!)\n",
    "print(studenter[0])\n",
    "print(studenter[1])"
   ]
  },
  {
   "cell_type": "code",
   "execution_count": null,
   "metadata": {},
   "outputs": [],
   "source": [
    "print(studenter[2:4]) # kommer att visa er listans värden i indexen 2,3 (inkluderar ej fyran!!)\n",
    "print(studenter[2])\n",
    "print(studenter[3])"
   ]
  },
  {
   "cell_type": "markdown",
   "metadata": {},
   "source": [
    "## Sortera en lista"
   ]
  },
  {
   "cell_type": "code",
   "execution_count": null,
   "metadata": {},
   "outputs": [],
   "source": [
    "greek_letters = ['beta', 'alfa', 'gamma', 'delta']\n",
    "\n",
    "print(greek_letters)\n",
    "\n",
    "greek_letters = sorted(greek_letters)  # funktionen sorted() kommer att sortera vår lista\n",
    "\n",
    "print(greek_letters)\n",
    "\n",
    "greek_letters = sorted(greek_letters, reverse=True)\n",
    "\n",
    "print(greek_letters)"
   ]
  },
  {
   "cell_type": "code",
   "execution_count": null,
   "metadata": {},
   "outputs": [],
   "source": [
    "greek_letters = [100, 20, 19, 184]\n",
    "\n",
    "print(greek_letters)\n",
    "\n",
    "greek_letters = sorted(greek_letters)  # funktionen sorted() kommer att sortera vår lista\n",
    "\n",
    "print(greek_letters)\n",
    "\n",
    "greek_letters = sorted(greek_letters, reverse=True)\n",
    "\n",
    "print(greek_letters)"
   ]
  },
  {
   "cell_type": "code",
   "execution_count": null,
   "metadata": {},
   "outputs": [],
   "source": [
    "min_nya_lista = ['Ali', 32, 'Skola']"
   ]
  },
  {
   "cell_type": "code",
   "execution_count": null,
   "metadata": {},
   "outputs": [],
   "source": [
    "print(sorted(min_nya_lista))"
   ]
  },
  {
   "cell_type": "code",
   "execution_count": null,
   "metadata": {},
   "outputs": [],
   "source": [
    "min_nya_lista = ['Ali', '32', 'Skola']\n",
    "print(sorted(min_nya_lista))"
   ]
  },
  {
   "cell_type": "markdown",
   "metadata": {},
   "source": [
    "\n",
    "## List comprehension"
   ]
  },
  {
   "cell_type": "code",
   "execution_count": null,
   "metadata": {},
   "outputs": [],
   "source": [
    "squares = [x**2 for x in range(0,4)]  # läses x i kvadrat för alla x i spannet (0,4)\n",
    "\n",
    "print(squares)"
   ]
  },
  {
   "cell_type": "code",
   "execution_count": null,
   "metadata": {},
   "outputs": [],
   "source": [
    "cubes = [x**3 for x in range(0,4)]  # läses x upphöjt till tre för alla x i spannet (0,4)\n",
    "\n",
    "print(cubes)"
   ]
  },
  {
   "cell_type": "code",
   "execution_count": null,
   "metadata": {},
   "outputs": [],
   "source": [
    "en_operation = [x**2+x+5 for x in range(0,4)]  # läses x upphöjt till tre för alla x i spannet (0,4)\n",
    "\n",
    "print(en_operation)"
   ]
  },
  {
   "cell_type": "markdown",
   "metadata": {},
   "source": [
    "## Matplotlib"
   ]
  },
  {
   "cell_type": "markdown",
   "metadata": {},
   "source": [
    "Vi använder matplotlib för att plotta enkla grafer.\n"
   ]
  },
  {
   "cell_type": "markdown",
   "metadata": {},
   "source": [
    "Vi behöver dock installera det först!\n",
    "\n",
    "**conda install matplotlib**"
   ]
  },
  {
   "cell_type": "markdown",
   "metadata": {},
   "source": []
  }
 ],
 "metadata": {
  "kernelspec": {
   "display_name": "deeplearning",
   "language": "python",
   "name": "python3"
  },
  "language_info": {
   "codemirror_mode": {
    "name": "ipython",
    "version": 3
   },
   "file_extension": ".py",
   "mimetype": "text/x-python",
   "name": "python",
   "nbconvert_exporter": "python",
   "pygments_lexer": "ipython3",
   "version": "3.11.4"
  },
  "orig_nbformat": 4
 },
 "nbformat": 4,
 "nbformat_minor": 2
}
