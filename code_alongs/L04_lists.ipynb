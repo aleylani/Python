{
 "cells": [
  {
   "cell_type": "markdown",
   "metadata": {},
   "source": [
    "## List"
   ]
  },
  {
   "cell_type": "markdown",
   "metadata": {},
   "source": [
    "En lista är bara en container (dvs en behållare) av andra objekt. Det kan vara en behållare av namn, tal eller kombinationer av dessa. Eller vad som helst."
   ]
  },
  {
   "cell_type": "code",
   "execution_count": 3,
   "metadata": {},
   "outputs": [
    {
     "name": "stdout",
     "output_type": "stream",
     "text": [
      "['Johanna', 'Paul', 'Simon']\n",
      "<class 'list'>\n"
     ]
    }
   ],
   "source": [
    "studenter = ['Johanna', 'Paul', 'Simon']\n",
    "\n",
    "print(studenter)\n",
    "print( type(studenter) )"
   ]
  },
  {
   "cell_type": "markdown",
   "metadata": {},
   "source": [
    "Vi kan access de olika elementen i listan genom att kalla på dem"
   ]
  },
  {
   "cell_type": "code",
   "execution_count": 5,
   "metadata": {},
   "outputs": [
    {
     "name": "stdout",
     "output_type": "stream",
     "text": [
      "Johanna\n",
      "Paul\n",
      "Simon\n"
     ]
    }
   ],
   "source": [
    "print(studenter[0])   # kom ihåg, python räknar från 0\n",
    "print(studenter[1])\n",
    "print(studenter[2])"
   ]
  },
  {
   "cell_type": "code",
   "execution_count": 7,
   "metadata": {},
   "outputs": [
    {
     "ename": "IndexError",
     "evalue": "list index out of range",
     "output_type": "error",
     "traceback": [
      "\u001b[1;31m---------------------------------------------------------------------------\u001b[0m",
      "\u001b[1;31mIndexError\u001b[0m                                Traceback (most recent call last)",
      "Cell \u001b[1;32mIn[7], line 1\u001b[0m\n\u001b[1;32m----> 1\u001b[0m \u001b[39mprint\u001b[39m(studenter[\u001b[39m3\u001b[39m])\n",
      "\u001b[1;31mIndexError\u001b[0m: list index out of range"
     ]
    }
   ],
   "source": [
    "print(studenter[3])   # vi kan ej, eftersom att listan inte innehåller tillräckligt många element"
   ]
  },
  {
   "cell_type": "code",
   "execution_count": 8,
   "metadata": {},
   "outputs": [
    {
     "name": "stdout",
     "output_type": "stream",
     "text": [
      "['Johanna', 'Paul', 'Simon']\n"
     ]
    }
   ],
   "source": [
    "print(studenter)"
   ]
  },
  {
   "cell_type": "code",
   "execution_count": 11,
   "metadata": {},
   "outputs": [
    {
     "name": "stdout",
     "output_type": "stream",
     "text": [
      "Simon\n",
      "Paul\n",
      "Johanna\n"
     ]
    }
   ],
   "source": [
    "print(studenter[-1])    # vi kan också räkna baklänges!\n",
    "print(studenter[-2])\n",
    "print(studenter[-3])"
   ]
  },
  {
   "cell_type": "code",
   "execution_count": 12,
   "metadata": {},
   "outputs": [
    {
     "name": "stdout",
     "output_type": "stream",
     "text": [
      "Johanna\n",
      "Paul\n",
      "Simon\n"
     ]
    }
   ],
   "source": [
    "for student in studenter:\n",
    "\n",
    "    print(student)"
   ]
  },
  {
   "cell_type": "markdown",
   "metadata": {},
   "source": [
    "## enumerate()"
   ]
  },
  {
   "cell_type": "code",
   "execution_count": 14,
   "metadata": {},
   "outputs": [
    {
     "data": {
      "text/plain": [
       "['Johanna', 'Paul', 'Simon']"
      ]
     },
     "execution_count": 14,
     "metadata": {},
     "output_type": "execute_result"
    }
   ],
   "source": [
    "studenter"
   ]
  },
  {
   "cell_type": "code",
   "execution_count": 17,
   "metadata": {},
   "outputs": [
    {
     "name": "stdout",
     "output_type": "stream",
     "text": [
      "på plats nummer 0 har vi studenten Johanna\n",
      "på plats nummer 1 har vi studenten Paul\n",
      "på plats nummer 2 har vi studenten Simon\n"
     ]
    }
   ],
   "source": [
    "for i, student in enumerate(studenter): # med enumerate får du också indexet (platsen) som respektive value\n",
    "                                        # i listan studenter har'\n",
    "\n",
    "    print(f'på plats nummer {i} har vi studenten {student}')"
   ]
  },
  {
   "cell_type": "markdown",
   "metadata": {},
   "source": [
    "## Ändra values i listor"
   ]
  },
  {
   "cell_type": "code",
   "execution_count": 19,
   "metadata": {},
   "outputs": [
    {
     "name": "stdout",
     "output_type": "stream",
     "text": [
      "['Johanna', 'Paul', 'Simon']\n",
      "Johanna\n"
     ]
    }
   ],
   "source": [
    "print(studenter)\n",
    "print(studenter[0])\n"
   ]
  },
  {
   "cell_type": "code",
   "execution_count": 22,
   "metadata": {},
   "outputs": [],
   "source": [
    "studenter[0] = 'Oscar'        # assigna om värdet på given plats i listan"
   ]
  },
  {
   "cell_type": "code",
   "execution_count": 23,
   "metadata": {},
   "outputs": [
    {
     "name": "stdout",
     "output_type": "stream",
     "text": [
      "['Oscar', 'Paul', 'Simon']\n"
     ]
    }
   ],
   "source": [
    "print(studenter)"
   ]
  },
  {
   "cell_type": "markdown",
   "metadata": {},
   "source": [
    "## append()"
   ]
  },
  {
   "cell_type": "markdown",
   "metadata": {},
   "source": [
    "med append kan ni utöka er lista med andra värden"
   ]
  },
  {
   "cell_type": "code",
   "execution_count": 24,
   "metadata": {},
   "outputs": [
    {
     "data": {
      "text/plain": [
       "['Oscar', 'Paul', 'Simon']"
      ]
     },
     "execution_count": 24,
     "metadata": {},
     "output_type": "execute_result"
    }
   ],
   "source": [
    "studenter"
   ]
  },
  {
   "cell_type": "code",
   "execution_count": 25,
   "metadata": {},
   "outputs": [],
   "source": [
    "studenter.append('Ylva')         # kommer att utöka listan studenter med Ylva"
   ]
  },
  {
   "cell_type": "code",
   "execution_count": 27,
   "metadata": {},
   "outputs": [
    {
     "name": "stdout",
     "output_type": "stream",
     "text": [
      "['Oscar', 'Paul', 'Simon', 'Ylva']\n"
     ]
    }
   ],
   "source": [
    "print(studenter)            # lägg märke till att värdet vi appenda hamnar sist!"
   ]
  },
  {
   "cell_type": "code",
   "execution_count": 28,
   "metadata": {},
   "outputs": [],
   "source": [
    "studenter.append('Alexi')"
   ]
  },
  {
   "cell_type": "code",
   "execution_count": 29,
   "metadata": {},
   "outputs": [
    {
     "name": "stdout",
     "output_type": "stream",
     "text": [
      "['Oscar', 'Paul', 'Simon', 'Ylva', 'Alexi']\n"
     ]
    }
   ],
   "source": [
    "print(studenter)"
   ]
  },
  {
   "cell_type": "markdown",
   "metadata": {},
   "source": [
    "## Slicing"
   ]
  },
  {
   "cell_type": "markdown",
   "metadata": {},
   "source": [
    "Används när man endast vill se vissa delar av en lista"
   ]
  },
  {
   "cell_type": "code",
   "execution_count": 30,
   "metadata": {},
   "outputs": [
    {
     "name": "stdout",
     "output_type": "stream",
     "text": [
      "['Oscar', 'Paul', 'Simon', 'Ylva', 'Alexi']\n"
     ]
    }
   ],
   "source": [
    "print(studenter)"
   ]
  },
  {
   "cell_type": "code",
   "execution_count": 32,
   "metadata": {},
   "outputs": [
    {
     "data": {
      "text/plain": [
       "'Ylva'"
      ]
     },
     "execution_count": 32,
     "metadata": {},
     "output_type": "execute_result"
    }
   ],
   "source": [
    "studenter[3]   # såhär kan man skriva om man vill ha ut ETT värde ur listan"
   ]
  },
  {
   "cell_type": "code",
   "execution_count": 37,
   "metadata": {},
   "outputs": [
    {
     "name": "stdout",
     "output_type": "stream",
     "text": [
      "['Oscar', 'Paul']\n",
      "Oscar\n",
      "Paul\n"
     ]
    }
   ],
   "source": [
    "print(studenter[0:2]) # kommer att visa er listans värden i indexen 0,1 (inkluderar ej tvåan!!)\n",
    "print(studenter[0])\n",
    "print(studenter[1])"
   ]
  },
  {
   "cell_type": "code",
   "execution_count": 38,
   "metadata": {},
   "outputs": [
    {
     "name": "stdout",
     "output_type": "stream",
     "text": [
      "['Simon', 'Ylva']\n",
      "Simon\n",
      "Ylva\n"
     ]
    }
   ],
   "source": [
    "print(studenter[2:4]) # kommer att visa er listans värden i indexen 2,3 (inkluderar ej fyran!!)\n",
    "print(studenter[2])\n",
    "print(studenter[3])"
   ]
  },
  {
   "cell_type": "markdown",
   "metadata": {},
   "source": [
    "## Sortera en lista"
   ]
  },
  {
   "cell_type": "code",
   "execution_count": 43,
   "metadata": {},
   "outputs": [
    {
     "name": "stdout",
     "output_type": "stream",
     "text": [
      "['beta', 'alfa', 'gamma', 'delta']\n",
      "['alfa', 'beta', 'delta', 'gamma']\n",
      "['gamma', 'delta', 'beta', 'alfa']\n"
     ]
    }
   ],
   "source": [
    "greek_letters = ['beta', 'alfa', 'gamma', 'delta']\n",
    "\n",
    "print(greek_letters)\n",
    "\n",
    "greek_letters = sorted(greek_letters)  # funktionen sorted() kommer att sortera vår lista\n",
    "\n",
    "print(greek_letters)\n",
    "\n",
    "greek_letters = sorted(greek_letters, reverse=True)\n",
    "\n",
    "print(greek_letters)"
   ]
  },
  {
   "cell_type": "code",
   "execution_count": 44,
   "metadata": {},
   "outputs": [
    {
     "name": "stdout",
     "output_type": "stream",
     "text": [
      "[100, 20, 19, 184]\n",
      "[19, 20, 100, 184]\n",
      "[184, 100, 20, 19]\n"
     ]
    }
   ],
   "source": [
    "greek_letters = [100, 20, 19, 184]\n",
    "\n",
    "print(greek_letters)\n",
    "\n",
    "greek_letters = sorted(greek_letters)  # funktionen sorted() kommer att sortera vår lista\n",
    "\n",
    "print(greek_letters)\n",
    "\n",
    "greek_letters = sorted(greek_letters, reverse=True)\n",
    "\n",
    "print(greek_letters)"
   ]
  },
  {
   "cell_type": "code",
   "execution_count": 45,
   "metadata": {},
   "outputs": [],
   "source": [
    "min_nya_lista = ['Ali', 32, 'Skola']"
   ]
  },
  {
   "cell_type": "code",
   "execution_count": 46,
   "metadata": {},
   "outputs": [
    {
     "ename": "TypeError",
     "evalue": "'<' not supported between instances of 'int' and 'str'",
     "output_type": "error",
     "traceback": [
      "\u001b[1;31m---------------------------------------------------------------------------\u001b[0m",
      "\u001b[1;31mTypeError\u001b[0m                                 Traceback (most recent call last)",
      "Cell \u001b[1;32mIn[46], line 1\u001b[0m\n\u001b[1;32m----> 1\u001b[0m \u001b[39mprint\u001b[39m(\u001b[39msorted\u001b[39m(min_nya_lista))\n",
      "\u001b[1;31mTypeError\u001b[0m: '<' not supported between instances of 'int' and 'str'"
     ]
    }
   ],
   "source": [
    "print(sorted(min_nya_lista))"
   ]
  },
  {
   "cell_type": "code",
   "execution_count": 47,
   "metadata": {},
   "outputs": [
    {
     "name": "stdout",
     "output_type": "stream",
     "text": [
      "['32', 'Ali', 'Skola']\n"
     ]
    }
   ],
   "source": [
    "min_nya_lista = ['Ali', '32', 'Skola']\n",
    "print(sorted(min_nya_lista))"
   ]
  },
  {
   "cell_type": "markdown",
   "metadata": {},
   "source": [
    "\n",
    "## List comprehension"
   ]
  },
  {
   "cell_type": "code",
   "execution_count": 50,
   "metadata": {},
   "outputs": [
    {
     "name": "stdout",
     "output_type": "stream",
     "text": [
      "[0, 1, 4, 9]\n"
     ]
    }
   ],
   "source": [
    "squares = [x**2 for x in range(0,4)]  # läses x i kvadrat för alla x i spannet (0,4)\n",
    "\n",
    "print(squares)"
   ]
  },
  {
   "cell_type": "code",
   "execution_count": 52,
   "metadata": {},
   "outputs": [
    {
     "name": "stdout",
     "output_type": "stream",
     "text": [
      "[0, 1, 8, 27]\n"
     ]
    }
   ],
   "source": [
    "cubes = [x**3 for x in range(0,4)]  # läses x upphöjt till tre för alla x i spannet (0,4)\n",
    "\n",
    "print(cubes)"
   ]
  },
  {
   "cell_type": "code",
   "execution_count": null,
   "metadata": {},
   "outputs": [
    {
     "name": "stdout",
     "output_type": "stream",
     "text": [
      "[5, 7, 11, 17]\n"
     ]
    }
   ],
   "source": [
    "en_operation = [x**2+x+5 for x in range(0,4)]  # läses x upphöjt till tre för alla x i spannet (0,4)\n",
    "\n",
    "print(en_operation)"
   ]
  },
  {
   "cell_type": "markdown",
   "metadata": {},
   "source": [
    "## Matplotlib"
   ]
  },
  {
   "cell_type": "markdown",
   "metadata": {},
   "source": [
    "Vi använder matplotlib för att plotta enkla grafer.\n"
   ]
  },
  {
   "cell_type": "markdown",
   "metadata": {},
   "source": [
    "Vi behöver dock installera det först!\n",
    "\n",
    "**conda install matplotlib**"
   ]
  },
  {
   "cell_type": "markdown",
   "metadata": {},
   "source": []
  }
 ],
 "metadata": {
  "kernelspec": {
   "display_name": "deeplearning",
   "language": "python",
   "name": "python3"
  },
  "language_info": {
   "codemirror_mode": {
    "name": "ipython",
    "version": 3
   },
   "file_extension": ".py",
   "mimetype": "text/x-python",
   "name": "python",
   "nbconvert_exporter": "python",
   "pygments_lexer": "ipython3",
   "version": "3.11.4"
  },
  "orig_nbformat": 4
 },
 "nbformat": 4,
 "nbformat_minor": 2
}
