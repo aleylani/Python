{
 "cells": [
  {
   "cell_type": "markdown",
   "metadata": {},
   "source": [
    "## List"
   ]
  },
  {
   "cell_type": "markdown",
   "metadata": {},
   "source": [
    "En lista är bara en container (dvs en behållare) av andra objekt. Det kan vara en behållare av namn, tal eller kombinationer av dessa. Eller vad som helst."
   ]
  },
  {
   "cell_type": "code",
   "execution_count": null,
   "metadata": {},
   "outputs": [],
   "source": [
    "studenter = ['Johanna', 'Paul', 'Simon']\n",
    "\n",
    "print(studenter)\n",
    "print( type(studenter) )"
   ]
  },
  {
   "cell_type": "markdown",
   "metadata": {},
   "source": [
    "Vi kan access de olika elementen i listan genom att kalla på dem"
   ]
  },
  {
   "cell_type": "code",
   "execution_count": null,
   "metadata": {},
   "outputs": [],
   "source": [
    "print(studenter[0])   # kom ihåg, python räknar från 0\n",
    "print(studenter[1])\n",
    "print(studenter[2])"
   ]
  },
  {
   "cell_type": "code",
   "execution_count": null,
   "metadata": {},
   "outputs": [],
   "source": [
    "print(studenter[3])   # vi kan ej, eftersom att listan inte innehåller tillräckligt många element"
   ]
  },
  {
   "cell_type": "code",
   "execution_count": null,
   "metadata": {},
   "outputs": [],
   "source": [
    "print(studenter)"
   ]
  },
  {
   "cell_type": "code",
   "execution_count": null,
   "metadata": {},
   "outputs": [],
   "source": [
    "print(studenter[-1])    # vi kan också räkna baklänges!\n",
    "print(studenter[-2])\n",
    "print(studenter[-3])"
   ]
  },
  {
   "cell_type": "code",
   "execution_count": null,
   "metadata": {},
   "outputs": [],
   "source": [
    "for student in studenter:\n",
    "\n",
    "    print(student)"
   ]
  },
  {
   "cell_type": "markdown",
   "metadata": {},
   "source": [
    "## enumerate()"
   ]
  },
  {
   "cell_type": "code",
   "execution_count": null,
   "metadata": {},
   "outputs": [],
   "source": [
    "studenter"
   ]
  },
  {
   "cell_type": "code",
   "execution_count": null,
   "metadata": {},
   "outputs": [],
   "source": [
    "for i, student in enumerate(studenter): # med enumerate får du också indexet (platsen) som respektive value\n",
    "                                        # i listan studenter har'\n",
    "\n",
    "    print(f'på plats nummer {i} har vi studenten {student}')"
   ]
  },
  {
   "cell_type": "markdown",
   "metadata": {},
   "source": [
    "## Ändra values i listor"
   ]
  },
  {
   "cell_type": "code",
   "execution_count": null,
   "metadata": {},
   "outputs": [],
   "source": [
    "print(studenter)\n",
    "print(studenter[0])\n"
   ]
  },
  {
   "cell_type": "code",
   "execution_count": null,
   "metadata": {},
   "outputs": [],
   "source": [
    "studenter[0] = 'Oscar'        # assigna om värdet på given plats i listan"
   ]
  },
  {
   "cell_type": "code",
   "execution_count": null,
   "metadata": {},
   "outputs": [],
   "source": [
    "print(studenter)"
   ]
  },
  {
   "cell_type": "markdown",
   "metadata": {},
   "source": [
    "## append()"
   ]
  },
  {
   "cell_type": "markdown",
   "metadata": {},
   "source": [
    "med append kan ni utöka er lista med andra värden"
   ]
  },
  {
   "cell_type": "code",
   "execution_count": null,
   "metadata": {},
   "outputs": [],
   "source": [
    "studenter"
   ]
  },
  {
   "cell_type": "code",
   "execution_count": null,
   "metadata": {},
   "outputs": [],
   "source": [
    "studenter.append('Ylva')         # kommer att utöka listan studenter med Ylva"
   ]
  },
  {
   "cell_type": "code",
   "execution_count": null,
   "metadata": {},
   "outputs": [],
   "source": [
    "print(studenter)            # lägg märke till att värdet vi appenda hamnar sist!"
   ]
  },
  {
   "cell_type": "code",
   "execution_count": null,
   "metadata": {},
   "outputs": [],
   "source": [
    "studenter.append('Alexi')"
   ]
  },
  {
   "cell_type": "code",
   "execution_count": null,
   "metadata": {},
   "outputs": [],
   "source": [
    "print(studenter)"
   ]
  },
  {
   "cell_type": "markdown",
   "metadata": {},
   "source": [
    "## Slicing"
   ]
  },
  {
   "cell_type": "markdown",
   "metadata": {},
   "source": [
    "Används när man endast vill se vissa delar av en lista"
   ]
  },
  {
   "cell_type": "code",
   "execution_count": null,
   "metadata": {},
   "outputs": [],
   "source": [
    "print(studenter)"
   ]
  },
  {
   "cell_type": "code",
   "execution_count": null,
   "metadata": {},
   "outputs": [],
   "source": [
    "studenter[3]   # såhär kan man skriva om man vill ha ut ETT värde ur listan"
   ]
  },
  {
   "cell_type": "code",
   "execution_count": null,
   "metadata": {},
   "outputs": [],
   "source": [
    "print(studenter[0:2]) # kommer att visa er listans värden i indexen 0,1 (inkluderar ej tvåan!!)\n",
    "print(studenter[0])\n",
    "print(studenter[1])"
   ]
  },
  {
   "cell_type": "code",
   "execution_count": null,
   "metadata": {},
   "outputs": [],
   "source": [
    "print(studenter[2:4]) # kommer att visa er listans värden i indexen 2,3 (inkluderar ej fyran!!)\n",
    "print(studenter[2])\n",
    "print(studenter[3])"
   ]
  },
  {
   "cell_type": "markdown",
   "metadata": {},
   "source": [
    "## Sortera en lista"
   ]
  },
  {
   "cell_type": "code",
   "execution_count": null,
   "metadata": {},
   "outputs": [],
   "source": [
    "greek_letters = ['beta', 'alfa', 'gamma', 'delta']\n",
    "\n",
    "print(greek_letters)\n",
    "\n",
    "greek_letters = sorted(greek_letters)  # funktionen sorted() kommer att sortera vår lista\n",
    "\n",
    "print(greek_letters)\n",
    "\n",
    "greek_letters = sorted(greek_letters, reverse=True)\n",
    "\n",
    "print(greek_letters)"
   ]
  },
  {
   "cell_type": "code",
   "execution_count": null,
   "metadata": {},
   "outputs": [],
   "source": [
    "greek_letters = [100, 20, 19, 184]\n",
    "\n",
    "print(greek_letters)\n",
    "\n",
    "greek_letters = sorted(greek_letters)  # funktionen sorted() kommer att sortera vår lista\n",
    "\n",
    "print(greek_letters)\n",
    "\n",
    "greek_letters = sorted(greek_letters, reverse=True)\n",
    "\n",
    "print(greek_letters)"
   ]
  },
  {
   "cell_type": "code",
   "execution_count": null,
   "metadata": {},
   "outputs": [],
   "source": [
    "min_nya_lista = ['Ali', 32, 'Skola']"
   ]
  },
  {
   "cell_type": "code",
   "execution_count": null,
   "metadata": {},
   "outputs": [],
   "source": [
    "print(sorted(min_nya_lista))"
   ]
  },
  {
   "cell_type": "code",
   "execution_count": null,
   "metadata": {},
   "outputs": [],
   "source": [
    "min_nya_lista = ['Ali', '32', 'Skola']\n",
    "print(sorted(min_nya_lista))"
   ]
  },
  {
   "cell_type": "markdown",
   "metadata": {},
   "source": [
    "\n",
    "## List comprehension"
   ]
  },
  {
   "cell_type": "code",
   "execution_count": null,
   "metadata": {},
   "outputs": [],
   "source": [
    "squares = [x**2 for x in range(0,4)]  # läses x i kvadrat för alla x i spannet (0,4)\n",
    "\n",
    "print(squares)"
   ]
  },
  {
   "cell_type": "code",
   "execution_count": null,
   "metadata": {},
   "outputs": [],
   "source": [
    "cubes = [x**3 for x in range(0,4)]  # läses x upphöjt till tre för alla x i spannet (0,4)\n",
    "\n",
    "print(cubes)"
   ]
  },
  {
   "cell_type": "code",
   "execution_count": null,
   "metadata": {},
   "outputs": [],
   "source": [
    "en_operation = [x**2+x+5 for x in range(0,4)]  # läses x upphöjt till tre för alla x i spannet (0,4)\n",
    "\n",
    "print(en_operation)"
   ]
  },
  {
   "cell_type": "markdown",
   "metadata": {},
   "source": [
    "## Matplotlib"
   ]
  },
  {
   "cell_type": "markdown",
   "metadata": {},
   "source": [
    "Vi använder matplotlib för att plotta enkla grafer.\n"
   ]
  },
  {
   "cell_type": "markdown",
   "metadata": {},
   "source": [
    "Vi behöver dock installera det först!\n",
    "\n",
    "**conda install matplotlib**"
   ]
  },
  {
   "cell_type": "markdown",
   "metadata": {},
   "source": []
  },
  {
   "cell_type": "code",
   "execution_count": 1,
   "metadata": {},
   "outputs": [],
   "source": [
    "import matplotlib.pyplot as plt     # vi ger här pyplot-funktionen från Matplotlib aliaset plt     "
   ]
  },
  {
   "cell_type": "code",
   "execution_count": 2,
   "metadata": {},
   "outputs": [],
   "source": [
    "y_values = [1, 2, 4, 8, 16, 32]     # låt oss plotta dessa i en graf!\n"
   ]
  },
  {
   "cell_type": "code",
   "execution_count": 5,
   "metadata": {},
   "outputs": [
    {
     "data": {
      "text/plain": [
       "[<matplotlib.lines.Line2D at 0x180204561d0>]"
      ]
     },
     "execution_count": 5,
     "metadata": {},
     "output_type": "execute_result"
    },
    {
     "data": {
      "image/png": "[encoded data removed]",
      "text/plain": [
       "<Figure size 640x480 with 1 Axes>"
      ]
     },
     "metadata": {},
     "output_type": "display_data"
    }
   ],
   "source": [
    "plt.plot(y_values)                "
   ]
  },
  {
   "cell_type": "code",
   "execution_count": null,
   "metadata": {},
   "outputs": [],
   "source": [
    "y_values = [1, 2, 4, 8, 16, 32]\n",
    "# om du inte ger matplotlib x_values, kommer default vara följande\n",
    "\n",
    "x_values = [0, 1, 2, 3, 4, 5]"
   ]
  },
  {
   "cell_type": "code",
   "execution_count": 11,
   "metadata": {},
   "outputs": [
    {
     "data": {
      "text/plain": [
       "Text(0.5, 1.0, 'Min första graf')"
      ]
     },
     "execution_count": 11,
     "metadata": {},
     "output_type": "execute_result"
    },
    {
     "data": {
      "image/png": "[encoded data removed]",
      "text/plain": [
       "<Figure size 640x480 with 1 Axes>"
      ]
     },
     "metadata": {},
     "output_type": "display_data"
    }
   ],
   "source": [
    "y_values = [1, 2, 4, 8, 16, 32]\n",
    "x_values = [5, 6, 7, 8, 9, 10]\n",
    "\n",
    "plt.plot(x_values, y_values)   # plot() antar att första argumentet är x-värdena, och andra argumentet y-värdena\n",
    "\n",
    "plt.xlabel('X')                # skriv ut en label åt vår x-axel\n",
    "plt.ylabel('Y')                # skriv ut en label åt vår y-axel\n",
    "\n",
    "plt.title('Min första graf')   # ge grafen en titel\n",
    "\n"
   ]
  },
  {
   "cell_type": "markdown",
   "metadata": {},
   "source": [
    "Nu vill vi plotta följande funktion, från x = -5 till x = 5 \n",
    "\n",
    "$ y = x^2 + 2 $"
   ]
  },
  {
   "cell_type": "code",
   "execution_count": 12,
   "metadata": {},
   "outputs": [
    {
     "data": {
      "text/plain": [
       "[2, 4, 6, 8, 10, 12, 14, 16, 18]"
      ]
     },
     "execution_count": 12,
     "metadata": {},
     "output_type": "execute_result"
    }
   ],
   "source": [
    "# reminder list comprehension\n",
    "\n",
    "[2*x for x in range(1,10)]"
   ]
  },
  {
   "cell_type": "code",
   "execution_count": 17,
   "metadata": {},
   "outputs": [
    {
     "data": {
      "text/plain": [
       "[-5, -4, -3, -2, -1, 0, 1, 2, 3, 4, 5]"
      ]
     },
     "execution_count": 17,
     "metadata": {},
     "output_type": "execute_result"
    }
   ],
   "source": [
    "[x for x in range(-5,6)]"
   ]
  },
  {
   "cell_type": "code",
   "execution_count": 23,
   "metadata": {},
   "outputs": [
    {
     "name": "stdout",
     "output_type": "stream",
     "text": [
      "[27, 18, 11, 6, 3, 2, 3, 6, 11, 18, 27]\n"
     ]
    },
    {
     "data": {
      "text/plain": [
       "Text(0.5, 1.0, 'y = x^2 + 2')"
      ]
     },
     "execution_count": 23,
     "metadata": {},
     "output_type": "execute_result"
    },
    {
     "data": {
      "image/png": "[encoded data removed]",
      "text/plain": [
       "<Figure size 640x480 with 1 Axes>"
      ]
     },
     "metadata": {},
     "output_type": "display_data"
    }
   ],
   "source": [
    "y_values = [x**2+2 for x in range(-5,6)]   # vi måste skriva range(-5, 6) här eftersom att vi vill inkludera x=5 också\n",
    "x_values = [x for x in range(-5,6)]\n",
    "\n",
    "print(y_values)\n",
    "\n",
    "plt.plot(x_values, y_values, color='magenta')   # ni kan också ge Matplotlib färgkommando. Sök efter färger på google! Förslagsvis 'Matplotlib pyplot colors'\n",
    "\n",
    "plt.xlabel('X')                # skriv ut en label åt vår x-axel\n",
    "plt.ylabel('Y')                # skriv ut en label åt vår y-axel\n",
    "\n",
    "plt.title('y = x^2 + 2')   # ge grafen en titel"
   ]
  },
  {
   "cell_type": "markdown",
   "metadata": {},
   "source": [
    "## Plotta fler funktioner i samma graf"
   ]
  },
  {
   "cell_type": "markdown",
   "metadata": {},
   "source": [
    "Vi vill plotta dessa funktioner\n",
    "\n",
    "$ y = x+5 $\n",
    "\n",
    "$ y = x^2 $\n",
    "\n",
    "och vi vill plotta de för x mellan -5 och 10"
   ]
  },
  {
   "cell_type": "code",
   "execution_count": 27,
   "metadata": {},
   "outputs": [
    {
     "data": {
      "text/plain": [
       "[<matplotlib.lines.Line2D at 0x18022657610>]"
      ]
     },
     "execution_count": 27,
     "metadata": {},
     "output_type": "execute_result"
    },
    {
     "data": {
      "image/png": "[encoded data removed]",
      "text/plain": [
       "<Figure size 640x480 with 1 Axes>"
      ]
     },
     "metadata": {},
     "output_type": "display_data"
    }
   ],
   "source": [
    "first_function_y_values = [x+5 for x in range(-5,11)]\n",
    "second_function_y_values = [x**2 for x in range(-5,11)]\n",
    "\n",
    "x_values = [x for x in range(-5, 11)]\n",
    "\n",
    "plt.plot(x_values, first_function_y_values, color='yellow')\n",
    "plt.plot(x_values, second_function_y_values, color='red')"
   ]
  },
  {
   "cell_type": "code",
   "execution_count": null,
   "metadata": {},
   "outputs": [],
   "source": []
  }
 ],
 "metadata": {
  "kernelspec": {
   "display_name": "deeplearning",
   "language": "python",
   "name": "python3"
  },
  "language_info": {
   "codemirror_mode": {
    "name": "ipython",
    "version": 3
   },
   "file_extension": ".py",
   "mimetype": "text/x-python",
   "name": "python",
   "nbconvert_exporter": "python",
   "pygments_lexer": "ipython3",
   "version": "3.11.4"
  },
  "orig_nbformat": 4
 },
 "nbformat": 4,
 "nbformat_minor": 2
}
