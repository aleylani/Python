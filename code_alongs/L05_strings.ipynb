{
  "cells": [
    {
      "cell_type": "markdown",
      "metadata": {
        "id": "6uSf0BFgVKlV"
      },
      "source": [
        "## Lägg ihop strängar till varandra"
      ]
    },
    {
      "cell_type": "markdown",
      "metadata": {},
      "source": [
        "Additions-operatorn fungerar även för stringar, och Python tolkar en addition av strängar på följande sätt"
      ]
    },
    {
      "cell_type": "code",
      "execution_count": 10,
      "metadata": {},
      "outputs": [
        {
          "name": "stdout",
          "output_type": "stream",
          "text": [
            "Ali Leylani\n"
          ]
        }
      ],
      "source": [
        "firstname = 'Ali'\n",
        "lastname = 'Leylani'\n",
        "\n",
        "# noterar att vi här adderar tre strängar: strängen firstname, strängen mellanslag och strängen lastname\n",
        "fullname = firstname + ' ' + lastname \n",
        "\n",
        "print(fullname)"
      ]
    },
    {
      "cell_type": "markdown",
      "metadata": {},
      "source": [
        "---\n",
        "\n",
        "## Text på flera rader"
      ]
    },
    {
      "cell_type": "markdown",
      "metadata": {},
      "source": [
        "Vill vi skriva text på flera rader behöver vi markera detta för Python, och det gör vi genom att inkludera hela texten inom '''. \n",
        "\n",
        "För vanliga one-line strängar brukar ju vi inkludera texten i en enda '. "
      ]
    },
    {
      "cell_type": "code",
      "execution_count": 11,
      "metadata": {
        "id": "4-37tOYEVKlV",
        "outputId": "2db41d42-2ab1-4094-bb4f-5134ff18cfb7"
      },
      "outputs": [
        {
          "name": "stdout",
          "output_type": "stream",
          "text": [
            "\n",
            "Namn:       Ali Leylani\n",
            "Ålder:      33\n",
            "Profession: AI Expert\n",
            "Adress:     Norra Parkpromenaden 23\n",
            "\n"
          ]
        }
      ],
      "source": [
        "firstname = 'Ali'\n",
        "lastname = 'Leylani'\n",
        "age = 33\n",
        "profession = 'AI Expert'\n",
        "adress = 'Norra Parkpromenaden 23'\n",
        "\n",
        "fullname = 'Ali' + ' ' + 'Leylani'\n",
        "\n",
        "# f-string på flera rader\n",
        "personal_details = f\"\"\"\n",
        "Namn:       {fullname}\n",
        "Ålder:      {age}\n",
        "Profession: {profession}\n",
        "Adress:     {adress}\n",
        "\"\"\"\n",
        "\n",
        "print(personal_details)"
      ]
    },
    {
      "cell_type": "markdown",
      "metadata": {
        "id": "B-RVOsPJVKlW"
      },
      "source": [
        "---\n",
        "### zip()-funktionen"
      ]
    },
    {
      "cell_type": "markdown",
      "metadata": {},
      "source": [
        "Ibland vill man 'klistra ihop' elementen ur två listor, i den ordningen de dyker upp i respektive lista. Det kan vi göra på följande sätt"
      ]
    },
    {
      "cell_type": "code",
      "execution_count": 15,
      "metadata": {
        "id": "jOZYIsD_VKlW"
      },
      "outputs": [
        {
          "name": "stdout",
          "output_type": "stream",
          "text": [
            "Veckomeny\n",
            "Må: Chili sin carne \n",
            "Ti: Nudlar \n",
            "On: Pokebowl \n",
            "To: Pannkakor \n",
            "Fr: Tacos \n",
            "\n"
          ]
        }
      ],
      "source": [
        "meny = [\"Chili sin carne\", \"Nudlar\", \"Pokebowl\", \"Pannkakor\", \"Tacos\"]\n",
        "days = [\"Må\", \"Ti\", \"On\", \"To\", \"Fr\"]\n",
        "\n",
        "menu = \"Veckomeny\\n\" # print-funktionen skriver ut en extra ny rad när den ser \\n i en sträng\n",
        "\n",
        "for day, food in zip(days, meny):         \n",
        "    menu += f'{day}: {food} \\n'            # lägg märkte till att vi adderar detta värde till vår sträng menu, och att ytterligare en ny rad \\n inkluderas efter varje addition\n",
        "\n",
        "print(menu)\n"
      ]
    },
    {
      "cell_type": "markdown",
      "metadata": {
        "id": "OaW0nvKLVKlX"
      },
      "source": [
        "---\n",
        "## Indexing\n",
        "\n",
        "- a string is an array of bytes that represents unicode characters\n",
        "- use the indexing operator [] to access elements\n",
        "- combine with slice operator : to get a section in the string"
      ]
    },
    {
      "cell_type": "markdown",
      "metadata": {},
      "source": [
        "Precis som med listor, kan vi komma åt individuella karaktärer i en sträng genom att använda dess index (vilket motsvarar positionen i strängen)"
      ]
    },
    {
      "cell_type": "code",
      "execution_count": 24,
      "metadata": {
        "id": "TnQo8BuWVKlX"
      },
      "outputs": [
        {
          "name": "stdout",
          "output_type": "stream",
          "text": [
            "quote[0]               : !\n",
            "quote[5:10]            : e - i\n",
            "quote[-4]              : T\n",
            "quote[-4:]             : True\n",
            "Backwards quote[::-1]  : eurT s'ti esuaceb ynnuf s'ti - eslaF!\n"
          ]
        }
      ],
      "source": [
        "# Notera att vi måste vara försiktiga med vilka citat-tecken vi använder. I vår text använder vi redan ', och måste därför använda \" som yttre citattecken\n",
        "\n",
        "quote = \"!False - it's funny because it's True\"   # kolla hur vi använt citat-tecken här!\n",
        "\n",
        "print(f\"quote[0]               : {quote[0]}\")\n",
        "print(f\"quote[5:10]            : {quote[5:10]}\")                # [start:end-1]\n",
        "print(f\"quote[-4]              : {quote[-4]}\")                  # räkna index baklänges\n",
        "print(f\"quote[-4:]             : {quote[-4:]}\")                 # slica från -4 till end\n",
        "print(f\"Backwards quote[::-1]  : {quote[::-1]}\")                # reversing"
      ]
    },
    {
      "cell_type": "markdown",
      "metadata": {
        "id": "SCL18AMiVKlY"
      },
      "source": [
        "---\n",
        "## split()\n"
      ]
    },
    {
      "cell_type": "markdown",
      "metadata": {},
      "source": [
        "split-funktionen är grymt händig när man vill dela upp sin sträng baserat på ett visst mönster.\n",
        "\n",
        "Exempel:\n",
        "\n",
        "Vi vi dela upp vår sträng vid varje kommatecken ,"
      ]
    },
    {
      "cell_type": "code",
      "execution_count": 26,
      "metadata": {},
      "outputs": [
        {
          "name": "stdout",
          "output_type": "stream",
          "text": [
            "['Math', 'biology', '  cHeMistry  ', '  PrOgramming      ']\n"
          ]
        }
      ],
      "source": [
        "subjects = 'Math,biology,  cHeMistry  ,  PrOgramming      '\n",
        "\n",
        "# vi väljer här att splitt strängen på kommateckan, men du kan välja att splitta på vad du vill\n",
        "subjects_splitted = subjects.split(\",\")\n",
        "\n",
        "print(subjects_splitted)"
      ]
    },
    {
      "cell_type": "markdown",
      "metadata": {},
      "source": [
        "Observera noga resultatet ovan! Vi fick en lista där varje element är resultatet från att ha delat vår sträng på kommatecken"
      ]
    },
    {
      "cell_type": "markdown",
      "metadata": {},
      "source": [
        "## En applikation"
      ]
    },
    {
      "cell_type": "markdown",
      "metadata": {},
      "source": [
        "Låt användaren ange ett par tal, som vi sedan vill beräkna medelvärdet av"
      ]
    },
    {
      "cell_type": "markdown",
      "metadata": {},
      "source": [
        "**Medelvärde av input**"
      ]
    },
    {
      "cell_type": "code",
      "execution_count": 31,
      "metadata": {
        "id": "Ylt_qR7xVKla"
      },
      "outputs": [
        {
          "name": "stdout",
          "output_type": "stream",
          "text": [
            "Efter vår split assignades variabeln numbers följande lista: ['5', '10', '30']\n",
            "Medelvärdet av dina tal är 5.0\n"
          ]
        }
      ],
      "source": [
        "# notera att vi omedelbart delar upp vår input på mellanslag, således assignas variabeln numbers till en lista\n",
        "\n",
        "numbers = input(\"Ange några tal separerade med mellanslag: \").split(' ')\n",
        "\n",
        "print(f'Efter vår split assignades variabeln numbers följande lista: {numbers}')\n",
        "\n",
        "# vi vet att input från användaren kommer ha datatypen string, låt oss därför skapa en ny lista där vi omvandlar inputen till float\n",
        "\n",
        "numbers_as_float = [float(number) for number in numbers]\n",
        "\n",
        "summa = 0                                        # här kommer vi att summera ihop alla tal användaren angett\n",
        "\n",
        "for number in numbers_as_float:                  # loopa genom alla talen i listan numbers_as_float\n",
        "    summa += number                              # och addera de till summa\n",
        "\n",
        "mean = sum/len(numbers)\n",
        "print(f'Medelvärdet av dina tal är {mean}')"
      ]
    },
    {
      "cell_type": "markdown",
      "metadata": {
        "id": "OpBf2YQtVKlb"
      },
      "source": [
        "---\n",
        "## String methods\n",
        "\n",
        "There are many string methods available, reference [w3schools - string methods](https://www.w3schools.com/python/python_strings_methods.asp) when you need a specific method"
      ]
    }
  ],
  "metadata": {
    "colab": {
      "include_colab_link": true,
      "provenance": []
    },
    "kernelspec": {
      "display_name": "Python 3 (ipykernel)",
      "language": "python",
      "name": "python3"
    },
    "language_info": {
      "codemirror_mode": {
        "name": "ipython",
        "version": 3
      },
      "file_extension": ".py",
      "mimetype": "text/x-python",
      "name": "python",
      "nbconvert_exporter": "python",
      "pygments_lexer": "ipython3",
      "version": "3.11.4"
    },
    "vscode": {
      "interpreter": {
        "hash": "0da836a34428266995a795f1e1e27b816fa1c02f148d9728b3fbbbc5459afca6"
      }
    }
  },
  "nbformat": 4,
  "nbformat_minor": 0
}
