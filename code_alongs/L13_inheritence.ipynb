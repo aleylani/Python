{
 "cells": [
  {
   "cell_type": "markdown",
   "metadata": {},
   "source": [
    "## Inheritance and composition\n",
    "\n",
    "- attributes and methods from parent class are inherited to the child class and can be accessed directly\n",
    "- child class can extend functionality of the parent class\n",
    "- methods can be overridden in the child class\n",
    "- parent class should be more general and child classes more specific\n",
    "\n",
    "- inheritance has stronger coupled between classes and the relation: \"is a\", e.g. a Student is a Person\n",
    "- when changing in the parent class, it might affect the subclasses\n",
    "- when using inheritance, make sure that the relationship really is an \"is a\" relation and not a \"has a\"\n",
    "- composition has weaker coupling between classes and the relation: \"has a\", e.g. a Classroom has a Student\n"
   ]
  },
  {
   "cell_type": "code",
   "execution_count": 41,
   "metadata": {},
   "outputs": [],
   "source": [
    "class Vehicles:\n",
    "\n",
    "    def __init__(self, brand: str, mode: str, model_year: str):\n",
    "\n",
    "        self.brand = brand\n",
    "        self.mode = mode\n",
    "        self.model_year = model_year\n",
    "\n",
    "    def info(self):\n",
    "\n",
    "        print(f'This vehicle is {self.mode}-based, of brand {self.brand} and was built in {self.model_year}')\n",
    "    \n",
    "    def make_some_noise(self):\n",
    "\n",
    "        print('*generic vehicle noises*')"
   ]
  },
  {
   "cell_type": "code",
   "execution_count": 6,
   "metadata": {},
   "outputs": [
    {
     "name": "stdout",
     "output_type": "stream",
     "text": [
      "This vehicle is land-based, of brand volvo and was built in 2001\n",
      "*generic vehicle noises*\n",
      "This vehicle is air-based, of brand Gripen and was built in 2010\n",
      "*generic vehicle noises*\n"
     ]
    }
   ],
   "source": [
    "a_vehicle = Vehicles('volvo', 'land', '2001')\n",
    "a_vehicle.info()\n",
    "a_vehicle.make_some_noise()\n",
    "\n",
    "another_vehicle = Vehicles('Gripen', 'air', '2010')\n",
    "another_vehicle.info()\n",
    "another_vehicle.make_some_noise()"
   ]
  },
  {
   "cell_type": "code",
   "execution_count": null,
   "metadata": {},
   "outputs": [],
   "source": [
    "class Boats(Vehicles):"
   ]
  },
  {
   "cell_type": "code",
   "execution_count": 42,
   "metadata": {},
   "outputs": [],
   "source": [
    "class Airplanes(Vehicles):\n",
    "\n",
    "    def __init__(self, brand: str, mode: str, model_year: str, passenger_capacity: int):\n",
    "        \n",
    "        super().__init__(brand, mode, model_year)\n",
    "\n",
    "        self.capacity = passenger_capacity\n",
    "\n",
    "    def purpose(self):\n",
    "\n",
    "        print(f'Flying really fast, enjoyable for up to {self.capacity} lucky people')\n",
    "\n",
    "    def make_some_noise(self):\n",
    "\n",
    "        print(f'BOOOOOOOOM (that was the sound of the air barrier blowing)')"
   ]
  },
  {
   "cell_type": "code",
   "execution_count": 38,
   "metadata": {},
   "outputs": [
    {
     "name": "stdout",
     "output_type": "stream",
     "text": [
      "BOOOOOOOOM (that was the sound of the air barrier blowing)\n"
     ]
    }
   ],
   "source": [
    "jas_gripen = Airplanes('Saab', 'air', '2010', 2)\n",
    "\n",
    "jas_gripen.make_some_noise()"
   ]
  },
  {
   "cell_type": "code",
   "execution_count": 39,
   "metadata": {},
   "outputs": [
    {
     "name": "stdout",
     "output_type": "stream",
     "text": [
      "Help on Airplanes in module __main__ object:\n",
      "\n",
      "class Airplanes(Vehicles)\n",
      " |  Airplanes(brand: str, mode: str, model_year: str, passenger_capacity: int)\n",
      " |  \n",
      " |  Method resolution order:\n",
      " |      Airplanes\n",
      " |      Vehicles\n",
      " |      builtins.object\n",
      " |  \n",
      " |  Methods defined here:\n",
      " |  \n",
      " |  __init__(self, brand: str, mode: str, model_year: str, passenger_capacity: int)\n",
      " |      Initialize self.  See help(type(self)) for accurate signature.\n",
      " |  \n",
      " |  make_some_noise(self)\n",
      " |  \n",
      " |  purpose(self)\n",
      " |  \n",
      " |  ----------------------------------------------------------------------\n",
      " |  Methods inherited from Vehicles:\n",
      " |  \n",
      " |  info(self)\n",
      " |  \n",
      " |  ----------------------------------------------------------------------\n",
      " |  Data descriptors inherited from Vehicles:\n",
      " |  \n",
      " |  __dict__\n",
      " |      dictionary for instance variables (if defined)\n",
      " |  \n",
      " |  __weakref__\n",
      " |      list of weak references to the object (if defined)\n",
      "\n"
     ]
    }
   ],
   "source": [
    "help(jas_gripen)"
   ]
  },
  {
   "cell_type": "code",
   "execution_count": null,
   "metadata": {},
   "outputs": [],
   "source": []
  }
 ],
 "metadata": {
  "kernelspec": {
   "display_name": "deeplearning",
   "language": "python",
   "name": "python3"
  },
  "language_info": {
   "codemirror_mode": {
    "name": "ipython",
    "version": 3
   },
   "file_extension": ".py",
   "mimetype": "text/x-python",
   "name": "python",
   "nbconvert_exporter": "python",
   "pygments_lexer": "ipython3",
   "version": "3.11.4"
  }
 },
 "nbformat": 4,
 "nbformat_minor": 2
}
