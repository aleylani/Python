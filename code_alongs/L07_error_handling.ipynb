{
 "cells": [
  {
   "cell_type": "markdown",
   "metadata": {},
   "source": [
    "## Olika typer av fel"
   ]
  },
  {
   "cell_type": "markdown",
   "metadata": {},
   "source": [
    "Syntax errors - när du gör något som inte är tillåtet av Python"
   ]
  },
  {
   "cell_type": "code",
   "execution_count": 3,
   "metadata": {},
   "outputs": [
    {
     "ename": "NameError",
     "evalue": "name 'prin' is not defined",
     "output_type": "error",
     "traceback": [
      "\u001b[1;31m---------------------------------------------------------------------------\u001b[0m",
      "\u001b[1;31mNameError\u001b[0m                                 Traceback (most recent call last)",
      "\u001b[1;32mc:\\Users\\Leyla\\Desktop\\Quantum State\\IT högskolan\\Courses\\Python\\code_alongs\\L07_error_handling.ipynb Cell 3\u001b[0m line \u001b[0;36m2\n\u001b[0;32m      <a href='vscode-notebook-cell:/c%3A/Users/Leyla/Desktop/Quantum%20State/IT%20h%C3%B6gskolan/Courses/Python/code_alongs/L07_error_handling.ipynb#W5sZmlsZQ%3D%3D?line=0'>1</a>\u001b[0m \u001b[39m# python har ingen aning om vad prin är, och du får därför ett error (NameError i detta fall)\u001b[39;00m\n\u001b[1;32m----> <a href='vscode-notebook-cell:/c%3A/Users/Leyla/Desktop/Quantum%20State/IT%20h%C3%B6gskolan/Courses/Python/code_alongs/L07_error_handling.ipynb#W5sZmlsZQ%3D%3D?line=1'>2</a>\u001b[0m prin(\u001b[39m'\u001b[39m\u001b[39mhej\u001b[39m\u001b[39m'\u001b[39m)\n",
      "\u001b[1;31mNameError\u001b[0m: name 'prin' is not defined"
     ]
    }
   ],
   "source": [
    "# python har ingen aning om vad prin är, och du får därför ett error (NameError i detta fall)\n",
    "prin('hej')"
   ]
  },
  {
   "cell_type": "code",
   "execution_count": 5,
   "metadata": {},
   "outputs": [],
   "source": [
    "# här får vi syntax error, eftersom att loopen inte är konstruerad enligt förväntan"
   ]
  },
  {
   "cell_type": "code",
   "execution_count": null,
   "metadata": {},
   "outputs": [
    {
     "ename": "SyntaxError",
     "evalue": "expected ':' (3890760579.py, line 3)",
     "output_type": "error",
     "traceback": [
      "\u001b[1;36m  Cell \u001b[1;32mIn[4], line 3\u001b[1;36m\u001b[0m\n\u001b[1;33m    for name in names\u001b[0m\n\u001b[1;37m                     ^\u001b[0m\n\u001b[1;31mSyntaxError\u001b[0m\u001b[1;31m:\u001b[0m expected ':'\n"
     ]
    }
   ],
   "source": [
    "names = ['Ali', 'Amir', 'Rozann']\n",
    "\n",
    "for name in names\n",
    "    print(name)"
   ]
  },
  {
   "cell_type": "markdown",
   "metadata": {},
   "source": [
    "## Logiska fel"
   ]
  },
  {
   "cell_type": "markdown",
   "metadata": {},
   "source": [
    "När koden egentligen är korrekt skriven, men den inte gör som användaren VILL"
   ]
  },
  {
   "cell_type": "code",
   "execution_count": 7,
   "metadata": {},
   "outputs": [
    {
     "name": "stdout",
     "output_type": "stream",
     "text": [
      "Arean av en circle med radien 10 är 62.83185307179586\n"
     ]
    }
   ],
   "source": [
    "import math\n",
    "\n",
    "radius = 10\n",
    "\n",
    "area = 2*math.pi*radius \n",
    "\n",
    "print(f'Arean av en circle med radien {radius} är {area}')"
   ]
  },
  {
   "cell_type": "markdown",
   "metadata": {},
   "source": [
    "Ovan får vi ett logiskt fel, för att vi som användare angett fel formel för area (vi angav formeln för omkrets)"
   ]
  },
  {
   "cell_type": "markdown",
   "metadata": {},
   "source": [
    "## Try - Except"
   ]
  },
  {
   "cell_type": "markdown",
   "metadata": {},
   "source": [
    "Låt oss bygga ett program som frågar användaren efter två tal, och som sedan multiplicerar ihop dessa"
   ]
  },
  {
   "cell_type": "code",
   "execution_count": 11,
   "metadata": {},
   "outputs": [
    {
     "ename": "ValueError",
     "evalue": "could not convert string to float: 'tio'",
     "output_type": "error",
     "traceback": [
      "\u001b[1;31m---------------------------------------------------------------------------\u001b[0m",
      "\u001b[1;31mValueError\u001b[0m                                Traceback (most recent call last)",
      "\u001b[1;32mc:\\Users\\Leyla\\Desktop\\Quantum State\\IT högskolan\\Courses\\Python\\code_alongs\\L07_error_handling.ipynb Cell 12\u001b[0m line \u001b[0;36m1\n\u001b[1;32m----> <a href='vscode-notebook-cell:/c%3A/Users/Leyla/Desktop/Quantum%20State/IT%20h%C3%B6gskolan/Courses/Python/code_alongs/L07_error_handling.ipynb#X35sZmlsZQ%3D%3D?line=0'>1</a>\u001b[0m number_1 \u001b[39m=\u001b[39m \u001b[39mfloat\u001b[39m(\u001b[39minput\u001b[39m(\u001b[39m'\u001b[39m\u001b[39mAnge din första siffra: \u001b[39m\u001b[39m'\u001b[39m))\n\u001b[0;32m      <a href='vscode-notebook-cell:/c%3A/Users/Leyla/Desktop/Quantum%20State/IT%20h%C3%B6gskolan/Courses/Python/code_alongs/L07_error_handling.ipynb#X35sZmlsZQ%3D%3D?line=1'>2</a>\u001b[0m number_2 \u001b[39m=\u001b[39m \u001b[39mfloat\u001b[39m(\u001b[39minput\u001b[39m(\u001b[39m'\u001b[39m\u001b[39mAnge din andra siffra: \u001b[39m\u001b[39m'\u001b[39m))\n\u001b[0;32m      <a href='vscode-notebook-cell:/c%3A/Users/Leyla/Desktop/Quantum%20State/IT%20h%C3%B6gskolan/Courses/Python/code_alongs/L07_error_handling.ipynb#X35sZmlsZQ%3D%3D?line=3'>4</a>\u001b[0m produkt \u001b[39m=\u001b[39m number_1\u001b[39m*\u001b[39mnumber_2\n",
      "\u001b[1;31mValueError\u001b[0m: could not convert string to float: 'tio'"
     ]
    }
   ],
   "source": [
    "number_1 = float(input('Ange din första siffra: '))\n",
    "number_2 = float(input('Ange din andra siffra: '))\n",
    "\n",
    "produkt = number_1*number_2\n",
    "\n",
    "print(f'Tack! din produkt är {produkt} :)')"
   ]
  },
  {
   "cell_type": "markdown",
   "metadata": {},
   "source": [
    "Vi ser ovan när vi ger en input som inte är acceptabel, att vi Python kracshar och vi får ValueError"
   ]
  },
  {
   "cell_type": "code",
   "execution_count": 16,
   "metadata": {},
   "outputs": [
    {
     "name": "stdout",
     "output_type": "stream",
     "text": [
      "10.0\n",
      "Du har angett minst en ogiltiga siffor\n"
     ]
    }
   ],
   "source": [
    "try:\n",
    "\n",
    "    number_1 = float(input('Ange din första siffra: '))\n",
    "    print(number_1)\n",
    "    number_2 = float(input('Ange din andra siffra: '))\n",
    "    print(number_2)\n",
    "\n",
    "    produkt = number_1*number_2\n",
    "\n",
    "    print(f'Tack! din produkt är {produkt} :)')\n",
    "\n",
    "except:\n",
    "\n",
    "    print('Du har angett minst en ogiltiga siffor')"
   ]
  },
  {
   "cell_type": "markdown",
   "metadata": {},
   "source": [
    "Om vi vill bygga ett program som TVINGAR användaren att ange giltiga siffor, kan vi göra något sånt här"
   ]
  },
  {
   "cell_type": "code",
   "execution_count": 18,
   "metadata": {},
   "outputs": [
    {
     "name": "stdout",
     "output_type": "stream",
     "text": [
      "10.0\n",
      "Vänligen ange giltiga siffror, antingen heltal eller decimaltal\n",
      "5.0\n",
      "10.0\n",
      "Tack! din produkt är 50.0 :)\n"
     ]
    }
   ],
   "source": [
    "while True:\n",
    "\n",
    "    try:\n",
    "\n",
    "        number_1 = float(input('Ange din första siffra: '))\n",
    "        print(number_1)\n",
    "        number_2 = float(input('Ange din andra siffra: '))\n",
    "        print(number_2)\n",
    "        \n",
    "        produkt = number_1*number_2\n",
    "\n",
    "        print(f'Tack! din produkt är {produkt} :)')\n",
    "\n",
    "        break\n",
    "\n",
    "    except:\n",
    "\n",
    "        print('Vänligen ange giltiga siffror, antingen heltal eller decimaltal')\n"
   ]
  },
  {
   "cell_type": "markdown",
   "metadata": {},
   "source": [
    "Om du skulle vara intresserad av vilken typ av Error som Python såg när den försökte utföra kodblocket under try:\n",
    "\n",
    "kan du skriva såhär"
   ]
  },
  {
   "cell_type": "code",
   "execution_count": 20,
   "metadata": {},
   "outputs": [
    {
     "name": "stdout",
     "output_type": "stream",
     "text": [
      "could not convert string to float: 'fem'\n",
      "Vänligen ange giltiga siffror, antingen heltal eller decimaltal\n",
      "could not convert string to float: ''\n",
      "Vänligen ange giltiga siffror, antingen heltal eller decimaltal\n",
      "could not convert string to float: 'tio'\n",
      "Vänligen ange giltiga siffror, antingen heltal eller decimaltal\n",
      "20.0\n",
      "55.0\n",
      "Tack! din produkt är 1100.0 :)\n"
     ]
    }
   ],
   "source": [
    "while True:\n",
    "\n",
    "    try:\n",
    "\n",
    "        number_1 = float(input('Ange din första siffra: '))\n",
    "        print(number_1)\n",
    "        number_2 = float(input('Ange din andra siffra: '))\n",
    "        print(number_2)\n",
    "        \n",
    "        produkt = number_1*number_2\n",
    "\n",
    "        print(f'Tack! din produkt är {produkt} :)')\n",
    "\n",
    "        break\n",
    "\n",
    "    except Exception as e:\n",
    "\n",
    "        print(e)\n",
    "\n",
    "        print('Vänligen ange giltiga siffror, antingen heltal eller decimaltal')"
   ]
  }
 ],
 "metadata": {
  "kernelspec": {
   "display_name": "deeplearning",
   "language": "python",
   "name": "python3"
  },
  "language_info": {
   "codemirror_mode": {
    "name": "ipython",
    "version": 3
   },
   "file_extension": ".py",
   "mimetype": "text/x-python",
   "name": "python",
   "nbconvert_exporter": "python",
   "pygments_lexer": "ipython3",
   "version": "3.11.4"
  },
  "orig_nbformat": 4
 },
 "nbformat": 4,
 "nbformat_minor": 2
}
