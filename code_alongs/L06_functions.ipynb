{
 "cells": [
  {
   "cell_type": "markdown",
   "metadata": {},
   "source": [
    "## Functions\n"
   ]
  },
  {
   "cell_type": "markdown",
   "metadata": {},
   "source": [
    "Vad är en funktion?\n",
    "\n",
    "En funktion är inget annat än en snutt kod som man kan återanvända när man vill"
   ]
  },
  {
   "cell_type": "code",
   "execution_count": null,
   "metadata": {},
   "outputs": [],
   "source": [
    "print('Ali')       # print är en funktion, som skriver ut sitt argument"
   ]
  },
  {
   "cell_type": "code",
   "execution_count": null,
   "metadata": {},
   "outputs": [],
   "source": [
    "round(10.55555) # round är en funktion som avrundar sitt argument"
   ]
  },
  {
   "cell_type": "markdown",
   "metadata": {},
   "source": [
    "En funktion har det allmänna utseendet\n",
    "\n",
    "$ funktionsnamn(argument_1, argument_2, ...) $"
   ]
  },
  {
   "cell_type": "markdown",
   "metadata": {},
   "source": [
    "för print här "
   ]
  },
  {
   "cell_type": "code",
   "execution_count": null,
   "metadata": {},
   "outputs": [],
   "source": [
    "print('ali')"
   ]
  },
  {
   "cell_type": "markdown",
   "metadata": {},
   "source": [
    "print funktionsnamnet, och ali dess argument"
   ]
  },
  {
   "cell_type": "markdown",
   "metadata": {},
   "source": [
    "nedan är round funktionsnamnet, och både 10.82381283 samt 2 dess argument.\n",
    "\n",
    "OBS, MYCKET VIKTIGT ATT ORDNING PÅ ARGUMENT ÄR RÄTT"
   ]
  },
  {
   "cell_type": "code",
   "execution_count": null,
   "metadata": {},
   "outputs": [],
   "source": [
    "round(10.82381283, 2)"
   ]
  },
  {
   "cell_type": "markdown",
   "metadata": {},
   "source": [
    "## Vi kan nu bygga våra egna funktioner!"
   ]
  },
  {
   "cell_type": "markdown",
   "metadata": {},
   "source": [
    "Anledningen till varför vi skulle göra det, är för att vi inte vill upprepa massa kod hela tiden"
   ]
  },
  {
   "cell_type": "code",
   "execution_count": null,
   "metadata": {},
   "outputs": [],
   "source": [
    "def greeting():                                # vi definierar här en funktion som heter greeting\n",
    "\n",
    "    print('Hej fina du!')\n",
    "    user_name = input('vad heter du då?')\n",
    "\n",
    "    print(f'super trevligt, {user_name}')"
   ]
  },
  {
   "cell_type": "code",
   "execution_count": null,
   "metadata": {},
   "outputs": [],
   "source": [
    "# varje gång vi vill att python ska utföra koden som ligger under greeting, kallar vi på den precis som vanligt som de andra funktionerna vi är vana vid\n",
    "greeting()"
   ]
  },
  {
   "cell_type": "markdown",
   "metadata": {},
   "source": [
    "## Uttöka våra funktioner med möjlighet att ta emot argument"
   ]
  },
  {
   "cell_type": "markdown",
   "metadata": {},
   "source": [
    "Vi vill skapa en funktion som adderar två tal"
   ]
  },
  {
   "cell_type": "markdown",
   "metadata": {},
   "source": [
    "Vår funktion förväntar sig nu två stycken argument"
   ]
  },
  {
   "cell_type": "markdown",
   "metadata": {},
   "source": [
    "Python kommer att assigna variablen number_1 samt number_2 till argumenten vi ger funktionen"
   ]
  },
  {
   "cell_type": "code",
   "execution_count": null,
   "metadata": {},
   "outputs": [],
   "source": [
    "\n",
    "def adding_numbers(number_1, number_2):             \n",
    "\n",
    "    print(f'number_1 = {number_1}')\n",
    "    print(f'number_2 = {number_2}')\n",
    "\n",
    "    summa = number_1 + number_2\n",
    "\n",
    "    print(summa)"
   ]
  },
  {
   "cell_type": "code",
   "execution_count": null,
   "metadata": {},
   "outputs": [],
   "source": [
    "adding_numbers(5, 10)"
   ]
  },
  {
   "cell_type": "markdown",
   "metadata": {},
   "source": [
    "Vi vill skapa en funktion som subtraherar tal"
   ]
  },
  {
   "cell_type": "code",
   "execution_count": null,
   "metadata": {},
   "outputs": [],
   "source": [
    "def subtracting_numbers(number_1, number_2):             \n",
    "\n",
    "    print(f'number_1 = {number_1}')\n",
    "    print(f'number_2 = {number_2}')\n",
    "\n",
    "    summa = number_1 - number_2\n",
    "\n",
    "    print(summa)"
   ]
  },
  {
   "cell_type": "code",
   "execution_count": null,
   "metadata": {},
   "outputs": [],
   "source": [
    "subtracting_numbers(5, 10)"
   ]
  },
  {
   "cell_type": "code",
   "execution_count": null,
   "metadata": {},
   "outputs": [],
   "source": [
    "subtracting_numbers(10, 5)"
   ]
  },
  {
   "cell_type": "markdown",
   "metadata": {},
   "source": [
    "ORDNINGEN AV ARGUMENTEN ÄR SÅLEDES VANLIGTVIS VÄLDIGT VIKTIG"
   ]
  },
  {
   "cell_type": "markdown",
   "metadata": {},
   "source": [
    "___"
   ]
  },
  {
   "cell_type": "markdown",
   "metadata": {},
   "source": [
    "## Default values"
   ]
  },
  {
   "cell_type": "markdown",
   "metadata": {},
   "source": [
    "exempelvis print kan ta flera argument, ett av de vi sett är end. Den har default value '\\n'"
   ]
  },
  {
   "cell_type": "code",
   "execution_count": null,
   "metadata": {},
   "outputs": [],
   "source": [
    "print('ali')"
   ]
  },
  {
   "cell_type": "code",
   "execution_count": null,
   "metadata": {},
   "outputs": [],
   "source": [
    "print('ali', end = '***')"
   ]
  },
  {
   "cell_type": "code",
   "execution_count": null,
   "metadata": {},
   "outputs": [],
   "source": [
    "def say_hello(name='friend'):\n",
    "\n",
    "    print(name)"
   ]
  },
  {
   "cell_type": "code",
   "execution_count": null,
   "metadata": {},
   "outputs": [],
   "source": [
    "say_hello()"
   ]
  },
  {
   "cell_type": "code",
   "execution_count": null,
   "metadata": {},
   "outputs": [],
   "source": [
    "say_hello(name='ali')"
   ]
  },
  {
   "cell_type": "markdown",
   "metadata": {},
   "source": [
    "## Blanda argument med och utan default values"
   ]
  },
  {
   "cell_type": "code",
   "execution_count": null,
   "metadata": {},
   "outputs": [],
   "source": [
    "def multiplikation(x, y , z = 10):\n",
    "\n",
    "    print(f'x={x}')\n",
    "    print(f'y={y}')\n",
    "    print(f'z={z}')\n",
    "\n",
    "    product = x*y*z\n",
    "\n",
    "    print(product)\n"
   ]
  },
  {
   "cell_type": "code",
   "execution_count": null,
   "metadata": {},
   "outputs": [],
   "source": [
    "multiplikation(x=2, y=3)"
   ]
  },
  {
   "cell_type": "code",
   "execution_count": null,
   "metadata": {},
   "outputs": [],
   "source": [
    "multiplikation(x=2, y=3, z=20)"
   ]
  },
  {
   "cell_type": "markdown",
   "metadata": {},
   "source": [
    "**OBS**\n",
    "\n",
    "Du behöver inte alltid explicit ange variabelnamn i argumenten, python kommer automatiskt försöka matcha åt dig"
   ]
  },
  {
   "cell_type": "code",
   "execution_count": null,
   "metadata": {},
   "outputs": [],
   "source": [
    "def multiplikation(x, y , z=10):\n",
    "\n",
    "    print(f'x={x}')\n",
    "    print(f'y={y}')\n",
    "    print(f'z={z}')\n",
    "\n",
    "    product = x*y*z\n",
    "\n",
    "    print(product)"
   ]
  },
  {
   "cell_type": "code",
   "execution_count": null,
   "metadata": {},
   "outputs": [],
   "source": [
    "multiplikation(2, 3)"
   ]
  },
  {
   "cell_type": "markdown",
   "metadata": {},
   "source": [
    "___\n",
    "\n",
    "**OBS** viktigt att alla variabler utan argument, står föra de med argument"
   ]
  },
  {
   "cell_type": "code",
   "execution_count": null,
   "metadata": {},
   "outputs": [],
   "source": [
    "multiplikation(z=30, 10, 20)"
   ]
  },
  {
   "cell_type": "markdown",
   "metadata": {},
   "source": [
    "När ni kallar på en funktion, är det superviktigt att argumenten som inte har defualt values anges **före** de som har default values\n",
    "\n",
    "om inte ni explicit anger vilka variabler som ska ha vilka värden"
   ]
  },
  {
   "cell_type": "code",
   "execution_count": null,
   "metadata": {},
   "outputs": [],
   "source": [
    "multiplikation(z=30, x=10, y=20)"
   ]
  },
  {
   "cell_type": "markdown",
   "metadata": {},
   "source": [
    "___\n",
    "\n",
    "Return"
   ]
  },
  {
   "cell_type": "markdown",
   "metadata": {},
   "source": [
    "Ni kan assigna OUTPUTEN från funktioner till variabler genom att lägga till en return i slutet av er funktion\n",
    "\n",
    "Det ni returnar är det som variabeln kommer bli assignad"
   ]
  },
  {
   "cell_type": "code",
   "execution_count": null,
   "metadata": {},
   "outputs": [],
   "source": [
    "def calculate_area(bas, höjd):\n",
    "\n",
    "    area = bas*höjd/2\n",
    "\n",
    "    return area"
   ]
  },
  {
   "cell_type": "code",
   "execution_count": null,
   "metadata": {},
   "outputs": [],
   "source": [
    "my_answer = calculate_area(10, 2)        # här kommer my_answer bli assignad värdet för area\n",
    "print(my_answer)"
   ]
  },
  {
   "cell_type": "code",
   "execution_count": null,
   "metadata": {},
   "outputs": [],
   "source": [
    "def calculate_area(bas, höjd):\n",
    "\n",
    "    area = bas*höjd/2\n",
    "\n",
    "    return 50000000"
   ]
  },
  {
   "cell_type": "code",
   "execution_count": null,
   "metadata": {},
   "outputs": [],
   "source": [
    "my_answer = calculate_area(10, 2)\n",
    "\n",
    "print(my_answer)"
   ]
  },
  {
   "cell_type": "markdown",
   "metadata": {},
   "source": [
    "___\n",
    "\n",
    "*args"
   ]
  },
  {
   "cell_type": "markdown",
   "metadata": {},
   "source": [
    "används när man vill låta python ta emot ett obestämt antal argument (ni kommer inte använda detta särskilt mycket nu...)"
   ]
  },
  {
   "cell_type": "code",
   "execution_count": null,
   "metadata": {},
   "outputs": [],
   "source": [
    "def my_greeter(*args):\n",
    "\n",
    "    print(*args)\n",
    "\n",
    "    for name in args:\n",
    "\n",
    "        print(name) "
   ]
  },
  {
   "cell_type": "code",
   "execution_count": null,
   "metadata": {},
   "outputs": [],
   "source": [
    "my_greeter('ali', 'torsten', 'ilse')"
   ]
  },
  {
   "cell_type": "code",
   "execution_count": null,
   "metadata": {},
   "outputs": [],
   "source": [
    "calculate_area(10, 2)"
   ]
  },
  {
   "cell_type": "markdown",
   "metadata": {},
   "source": [
    "___"
   ]
  },
  {
   "cell_type": "markdown",
   "metadata": {},
   "source": [
    "Alert:\n",
    "\n",
    "Var noga med att inte assigna bort era funktioner!!!!"
   ]
  },
  {
   "cell_type": "code",
   "execution_count": null,
   "metadata": {},
   "outputs": [],
   "source": [
    "sum = 10"
   ]
  },
  {
   "cell_type": "code",
   "execution_count": null,
   "metadata": {},
   "outputs": [],
   "source": [
    "sum([1,2,3])"
   ]
  },
  {
   "cell_type": "code",
   "execution_count": null,
   "metadata": {},
   "outputs": [],
   "source": []
  }
 ],
 "metadata": {
  "kernelspec": {
   "display_name": "deeplearning",
   "language": "python",
   "name": "python3"
  },
  "language_info": {
   "codemirror_mode": {
    "name": "ipython",
    "version": 3
   },
   "file_extension": ".py",
   "mimetype": "text/x-python",
   "name": "python",
   "nbconvert_exporter": "python",
   "pygments_lexer": "ipython3",
   "version": "3.11.4"
  },
  "orig_nbformat": 4
 },
 "nbformat": 4,
 "nbformat_minor": 2
}
