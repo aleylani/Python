{
  "cells": [
    {
      "cell_type": "markdown",
      "metadata": {
        "id": "view-in-github",
        "colab_type": "text"
      },
      "source": [
        "<a href=\"https://colab.research.google.com/github/aleylani/Python/blob/main/L0_input_output.ipynb\" target=\"_parent\"><img src=\"https://colab.research.google.com/assets/colab-badge.svg\" alt=\"Open In Colab\"/></a>"
      ]
    },
    {
      "cell_type": "markdown",
      "metadata": {
        "id": "ithK3sKFmDsD"
      },
      "source": [
        "# Code along - input-output"
      ]
    },
    {
      "cell_type": "code",
      "execution_count": null,
      "metadata": {
        "id": "D8nqUPTtmDsE"
      },
      "outputs": [],
      "source": [
        "# variable - data type string\n",
        "# create a variable (\"box\") and assigns a value\n",
        "name = \"Ali\"\n",
        "\n",
        "# variable - data type float\n",
        "age = 33.5\n",
        "\n",
        "# this is an f-string (formatted string)\n",
        "print(f\"hej {name}, du är {age} gammal\")\n",
        "\n",
        "# reassigns\n",
        "# note: bad practice\n",
        "name = 20\n",
        "\n",
        "print(name)"
      ]
    },
    {
      "cell_type": "markdown",
      "metadata": {
        "id": "GNzTnBI5mDsF"
      },
      "source": [
        "## Inputs from user"
      ]
    },
    {
      "cell_type": "code",
      "execution_count": null,
      "metadata": {
        "id": "tyds1ySUmDsF"
      },
      "outputs": [],
      "source": [
        "name = input(\"What is your name?\")\n",
        "age = input(\"What is your age?\")\n",
        "\n",
        "print(f\"Hello {name}, you are {age} years old\")"
      ]
    },
    {
      "cell_type": "markdown",
      "metadata": {
        "id": "CITIU1klmDsG"
      },
      "source": [
        "## Calculations"
      ]
    },
    {
      "cell_type": "code",
      "execution_count": null,
      "metadata": {
        "id": "nG-6V5oPmDsG"
      },
      "outputs": [],
      "source": [
        "gravity = 9.82\n",
        "mass = 62\n",
        "\n",
        "force = mass*gravity\n",
        "\n",
        "print(f\"Your force is {force} N\")"
      ]
    },
    {
      "cell_type": "code",
      "execution_count": null,
      "metadata": {
        "id": "8nS1Z_aBmDsG"
      },
      "outputs": [],
      "source": [
        "mass = input(\"Enter your mass (kg): \") # string\n",
        "\n",
        "# can't multiply string with a float\n",
        "force = mass*gravity"
      ]
    },
    {
      "cell_type": "code",
      "execution_count": null,
      "metadata": {
        "id": "ZVGslh9xmDsG"
      },
      "outputs": [],
      "source": [
        "mass = float(input(\"Enter your mass (kg): \")) # string\n",
        "\n",
        "# can't multiply string with a float\n",
        "force = mass*gravity\n",
        "\n",
        "# :.1f -> rounds to 1 decimal\n",
        "print(f\"{force=:.1f}N\")\n",
        "# <=> print(f\"force={force:.1f}N\")\n",
        "\n",
        "# in order to print {} curly brackets\n",
        "print(f\"{force} \\u007b \\u007d\")\n",
        "print(f\"{{}}\")"
      ]
    }
  ],
  "metadata": {
    "kernelspec": {
      "display_name": "Python 3.9.6 ('Python-course-AI22-FPwBLMbm')",
      "language": "python",
      "name": "python3"
    },
    "language_info": {
      "codemirror_mode": {
        "name": "ipython",
        "version": 3
      },
      "file_extension": ".py",
      "mimetype": "text/x-python",
      "name": "python",
      "nbconvert_exporter": "python",
      "pygments_lexer": "ipython3",
      "version": "3.9.6"
    },
    "orig_nbformat": 4,
    "vscode": {
      "interpreter": {
        "hash": "3b136723b0d4708e16bf623335cc8688085bd3f1313316a001291a7f1d2024db"
      }
    },
    "colab": {
      "provenance": [],
      "include_colab_link": true
    }
  },
  "nbformat": 4,
  "nbformat_minor": 0
}