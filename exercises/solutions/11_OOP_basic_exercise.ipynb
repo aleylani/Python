{
  "cells": [
    {
      "cell_type": "markdown",
      "metadata": {
        "colab_type": "text",
        "id": "view-in-github"
      },
      "source": [
        "<a href=\"https://colab.research.google.com/github/aleylani/Python/blob/main/exercises/11_OOP_basic_exercise.ipynb\" target=\"_parent\"><img src=\"https://colab.research.google.com/assets/colab-badge.svg\" alt=\"Open In Colab\"/></a>"
      ]
    },
    {
      "cell_type": "markdown",
      "metadata": {
        "id": "c51bqkH1RTxf"
      },
      "source": [
        "# OOP introductory exercises\n",
        "\n",
        "---\n",
        "These are introductory exercises in Python with focus in **Object oriented programming**.\n",
        "\n",
        "<p class = \"alert alert-info\" role=\"alert\"><b>Remember</b> to use <b>descriptive variable, function and class names</b> in order to get readable code </p>\n",
        "\n",
        "<p class = \"alert alert-info\" role=\"alert\"><b>Remember</b> to format your answers in a neat way using <b>f-strings</b></p>\n",
        "\n",
        "<p class = \"alert alert-info\" role=\"alert\"><b>Remember</b> to format your input questions in a pedagogical way to guide the user</p>\n",
        "\n",
        "<p class = \"alert alert-info\" role=\"alert\"><b>Remember</b> to write good docstrings for your methods and classes </p>\n",
        "\n",
        "The number of stars (\\*), (\\*\\*), (\\*\\*\\*) denotes the difficulty level of the task\n",
        "\n",
        "---"
      ]
    },
    {
      "cell_type": "markdown",
      "metadata": {
        "id": "sYO480M2RTxg"
      },
      "source": [
        "## 1. Unit conversion (*)\n",
        "\n",
        "Create a class for converting US units to the metric system. It should have the following **bound methods**:\n",
        "\n",
        "```python\n",
        "__init__ (self, value)\n",
        "\n",
        "inch_to_cm(self)\n",
        "\n",
        "foot_to_meters(self)\n",
        "\n",
        "pound_to_kg(self)\n",
        "\n",
        "__repr__(self)\n",
        "\n",
        "```\n",
        "\n",
        "Make sure that value is the correct type and format, raise suitable exceptions in case it isn't. Make value into a **property** that can be viewed by the user. Test your class manually by instantiating an object from it and test different methods. (*)\n",
        "\n",
        "<details>\n",
        "\n",
        "<summary>Hint</summary>\n",
        "\n",
        "Use the property decorator:\n",
        "- @property\n",
        "\n",
        "You can read about the [units here][units]\n",
        "\n",
        "[units]: https://en.wikipedia.org/wiki/United_States_customary_units\n",
        "\n",
        "Check for:\n",
        "- negative values\n",
        "- types that are not **int** or **float**\n",
        "\n",
        "Use isinstance() to check for type\n",
        "\n",
        "</details>\n",
        "<br>\n",
        "<details>\n",
        "\n",
        "<summary>Answer</summary>\n",
        "For example:\n",
        "\n",
        "```python\n",
        "\n",
        "units = UnitUS(5)\n",
        "print(f\"5 feet = {units.foot_to_meters()} m\")\n",
        "print(f\"5 inch = {units.inch_to_cm()} cm\")\n",
        "print(f\"5 pounds = {units.pound_to_kg():.2f} kg\")\n",
        "\n",
        "```\n",
        "\n",
        "```\n",
        "5 feet = 1.524 m\n",
        "5 inch = 12.7 cm\n",
        "5 pounds = 2.27 kg\n",
        "```\n",
        "</details>\n"
      ]
    },
    {
      "cell_type": "code",
      "execution_count": 17,
      "metadata": {},
      "outputs": [],
      "source": [
        "class Converter():\n",
        "\n",
        "    def __init__(self, value: [int, float]):\n",
        "\n",
        "        if not isinstance(value, (int, float)):\n",
        "            raise TypeError('The provided value must be either an integer or a float.')\n",
        "\n",
        "        self.__value = value\n",
        "\n",
        "    def inch_to_cm(self):\n",
        "\n",
        "        converted_value = self.__value * 2.54\n",
        "        print(f'{self.__value} inches corresponds to {converted_value} centimeters.')\n",
        "\n",
        "    def foot_to_meter(self):\n",
        "        \n",
        "        converted_value = self.__value * 0.3048\n",
        "        print(f'{self.__value} feets corresponds to {converted_value} meters.')\n",
        "\n",
        "    def pound_to_kg(self):\n",
        "\n",
        "        converted_value = self.__value * 0.453\n",
        "        print(f'{self.__value} pounds corresponds to {converted_value} kilograms.')\n",
        "\n",
        "    def __repr__(self):\n",
        "\n",
        "        return f'Converter(value={self.__value})'"
      ]
    },
    {
      "cell_type": "code",
      "execution_count": 21,
      "metadata": {},
      "outputs": [
        {
          "name": "stdout",
          "output_type": "stream",
          "text": [
            "5 inches corresponds to 12.7 centimeters.\n",
            "5 feets corresponds to 1.524 meters.\n",
            "5 pounds corresponds to 2.265 kilograms.\n",
            "Converter(value=5)\n"
          ]
        }
      ],
      "source": [
        "min_konverterare = Converter(5)\n",
        "\n",
        "min_konverterare.inch_to_cm()\n",
        "min_konverterare.foot_to_meter()\n",
        "min_konverterare.pound_to_kg()\n",
        "\n",
        "print(min_konverterare)"
      ]
    },
    {
      "cell_type": "markdown",
      "metadata": {
        "id": "Go43BtLSRTxh"
      },
      "source": [
        "---\n",
        "## 2. Person (*)\n",
        "\n",
        "Create a class named Person, with the following **private** parameters, while making sure that they have the following types and values:\n",
        "\n",
        "- name - must be string\n",
        "- age - must be number between 0 and 125\n",
        "- email - must include an @ sign\n",
        "\n",
        "Hint: use TypeError for errors in type, and ValueError for errors in value\n",
        "\n",
        "Since the attributes are now private, the user is not able to directly access them. Create **property** methods so that the user can access the values of all the attributes, individually\n",
        "\n",
        "It should also have ```__repr__``` method to represent the Person class in a neat way.\n",
        "\n",
        "Also create a method ``` say_hello() ``` that prints\n",
        "\n",
        "```\n",
        "Hi, my name is ..., I am ... years old, my email address is ...  \n",
        "```\n",
        "<details>\n",
        "\n",
        "<summary>Hint</summary>\n",
        "\n",
        "Use the property decorator:\n",
        "- @property\n",
        "\n",
        "Use isinstance() to check for type\n",
        "\n",
        "Check for:\n",
        "- negative values\n",
        "- types that are not **int** or **float**\n",
        "\n",
        "\n",
        "</details>\n",
        "<br>\n",
        "<details>\n",
        "\n",
        "<summary>Answer</summary>\n",
        "For example:\n",
        "\n",
        "```python\n",
        "\n",
        "p = Person(\"Pernilla\", 32, \"pernilla@gmail.com\")\n",
        "print(p)\n",
        "\n",
        "```\n",
        "\n",
        "```\n",
        "Person(Pernilla, 32, pernilla@gmail.com)\n",
        "\n",
        "```\n",
        "\n",
        "```python\n",
        "\n",
        "try:\n",
        "    p = Person(\"Pernilla\", 32, \"pernillagmail.com\")\n",
        "except TypeError as ex:\n",
        "    print(ex)\n",
        "except NameError as ex:\n",
        "    print(ex)\n",
        "\n",
        "```\n",
        "\n",
        "```\n",
        "\n",
        "pernillagmail.com is not a valid email, format must be xxxx@yyyy.zzz\n",
        "\n",
        "```\n",
        "</details>\n"
      ]
    },
    {
      "cell_type": "markdown",
      "metadata": {},
      "source": [
        "**Note: This is a student provided solution**"
      ]
    },
    {
      "cell_type": "code",
      "execution_count": 11,
      "metadata": {},
      "outputs": [],
      "source": [
        "class Person:\n",
        "\n",
        "    # initializes a new instance of the class and accepts three parameters name, age, email\n",
        "    \n",
        "    def __init__(self, name: str, age: int, email: str):\n",
        "         \n",
        "         # class attributs\n",
        "         self.__name = name # must be a string\n",
        "         self.__age = age # must be number between 0 and 125\n",
        "         self.__email = email #  must include an @ sign\n",
        "\n",
        "        # if name is not a string an error will be triggered\n",
        "         \n",
        "         if not isinstance(name, str):\n",
        "            raise TypeError(\"name must be a string\")\n",
        "         \n",
        "         # if age is not an number and not between 0 and 125 an error will be triggered\n",
        "         \n",
        "         if not isinstance(age, int):\n",
        "                raise TypeError(\"age must be an integer\")\n",
        "         if not (0 <= age <= 125):\n",
        "                raise ValueError(\"age must be number between 0 and 125\")\n",
        "         \n",
        "         \n",
        "         # if not email is a string and not containing the sign @ an error will be triggered \n",
        "         if not isinstance(email, str):\n",
        "            raise ValueError(\"email must be string\")\n",
        "         \n",
        "         if \"@\" not in email:\n",
        "            raise ValueError(\"please provide a valid e-mail. It must contain a @.\")\n",
        "\n",
        "    #These are property getter, they act as read only, because name, age, email all are private, @property decorator \n",
        "    #will make them act like attributes when accessed.\n",
        "    \n",
        "    @property\n",
        "    def name(self) -> str:\n",
        "        return self.__name\n",
        "    @property\n",
        "    def age(self) -> int:\n",
        "        return self.__age\n",
        "    @property\n",
        "    def email(self) -> str:\n",
        "        return self.__email\n",
        "    \n",
        "    # These methods allow you to change the values of the private attributes \n",
        "    def change_name(self, value):\n",
        "        self.__name = value\n",
        "    \n",
        "    def change_age(self, value):\n",
        "        if not (0 <= value <= 125):\n",
        "            raise ValueError(\"age must be number between 0 and 125\")\n",
        "        self.__age = value\n",
        "    \n",
        "    def change_email(self, value):\n",
        "        if not isinstance(value, str) or \"@\" not in value:\n",
        "            raise ValueError(\"email must be string and contain an @ sign\")\n",
        "        self.__email = value\n",
        "\n",
        "    def say_hello(self):\n",
        "        print(f'Hi, my name is {self.__name}, I am {self.__age} years old, my e-mail adress is {self.__email}.')\n",
        "    \n",
        "\n",
        "    # will return a string that represent the Person object -> name, age, email\n",
        "    def __repr__(self) -> str:\n",
        "        return f\"\"\"\n",
        "        Information:\n",
        "        Name: {self.__name}\n",
        "        Age: {self.__age}\n",
        "        Email: {self.__email}\n",
        "        \"\"\""
      ]
    },
    {
      "cell_type": "code",
      "execution_count": 15,
      "metadata": {},
      "outputs": [
        {
          "name": "stdout",
          "output_type": "stream",
          "text": [
            "Hi, my name is Ali, I am 33 years old, my e-mail adress is ali.leylani@iths.se.\n"
          ]
        }
      ],
      "source": [
        "en_person = Person('Ali', 33, 'ali.leylani@iths.se')\n",
        "\n",
        "en_person.say_hello()"
      ]
    }
  ],
  "metadata": {
    "colab": {
      "include_colab_link": true,
      "provenance": []
    },
    "kernelspec": {
      "display_name": "Python 3 (ipykernel)",
      "language": "python",
      "name": "python3"
    },
    "language_info": {
      "codemirror_mode": {
        "name": "ipython",
        "version": 3
      },
      "file_extension": ".py",
      "mimetype": "text/x-python",
      "name": "python",
      "nbconvert_exporter": "python",
      "pygments_lexer": "ipython3",
      "version": "3.11.4"
    },
    "vscode": {
      "interpreter": {
        "hash": "0da836a34428266995a795f1e1e27b816fa1c02f148d9728b3fbbbc5459afca6"
      }
    }
  },
  "nbformat": 4,
  "nbformat_minor": 0
}
