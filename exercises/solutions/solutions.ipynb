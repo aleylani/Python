{
 "cells": [
  {
   "cell_type": "markdown",
   "metadata": {},
   "source": [
    "Jag påstår att den (n+1):te rutan på chackbrädet, har såhär många riskorn\n",
    "\n",
    "$ 2^n $"
   ]
  },
  {
   "cell_type": "code",
   "execution_count": 8,
   "metadata": {},
   "outputs": [
    {
     "name": "stdout",
     "output_type": "stream",
     "text": [
      "1\n",
      "2\n",
      "4\n",
      "9223372036854775808\n"
     ]
    }
   ],
   "source": [
    "# här är n = 0\n",
    "\n",
    "print(2**0)  # antal riskorn i ruta 1\n",
    "\n",
    "# här är n = 1\n",
    "\n",
    "print(2**1)  # antal riskorn i ruta 2 \n",
    "\n",
    "# här är n = 2\n",
    "\n",
    "print(2**2)  # antal riskorn i ruta 2 \n",
    "\n",
    "# här är n = 63\n",
    "\n",
    "print(2**63) # antal riskorn i ruta 64"
   ]
  },
  {
   "cell_type": "code",
   "execution_count": 33,
   "metadata": {},
   "outputs": [
    {
     "name": "stdout",
     "output_type": "stream",
     "text": [
      "I ruta 0 har vi 1 riskorn\n",
      "I ruta 1 har vi 2 riskorn\n",
      "I ruta 2 har vi 4 riskorn\n",
      "I ruta 3 har vi 8 riskorn\n",
      "I ruta 4 har vi 16 riskorn\n",
      "I ruta 5 har vi 32 riskorn\n",
      "I ruta 6 har vi 64 riskorn\n",
      "I ruta 7 har vi 128 riskorn\n",
      "I ruta 8 har vi 256 riskorn\n",
      "I ruta 9 har vi 512 riskorn\n",
      "I ruta 10 har vi 1024 riskorn\n",
      "I ruta 11 har vi 2048 riskorn\n",
      "I ruta 12 har vi 4096 riskorn\n",
      "I ruta 13 har vi 8192 riskorn\n",
      "I ruta 14 har vi 16384 riskorn\n",
      "I ruta 15 har vi 32768 riskorn\n",
      "I ruta 16 har vi 65536 riskorn\n",
      "I ruta 17 har vi 131072 riskorn\n",
      "I ruta 18 har vi 262144 riskorn\n",
      "I ruta 19 har vi 524288 riskorn\n",
      "I ruta 20 har vi 1048576 riskorn\n",
      "I ruta 21 har vi 2097152 riskorn\n",
      "I ruta 22 har vi 4194304 riskorn\n",
      "I ruta 23 har vi 8388608 riskorn\n",
      "I ruta 24 har vi 16777216 riskorn\n",
      "I ruta 25 har vi 33554432 riskorn\n",
      "I ruta 26 har vi 67108864 riskorn\n",
      "I ruta 27 har vi 134217728 riskorn\n",
      "I ruta 28 har vi 268435456 riskorn\n",
      "I ruta 29 har vi 536870912 riskorn\n",
      "I ruta 30 har vi 1073741824 riskorn\n",
      "I ruta 31 har vi 2147483648 riskorn\n",
      "I ruta 32 har vi 4294967296 riskorn\n",
      "I ruta 33 har vi 8589934592 riskorn\n",
      "I ruta 34 har vi 17179869184 riskorn\n",
      "I ruta 35 har vi 34359738368 riskorn\n",
      "I ruta 36 har vi 68719476736 riskorn\n",
      "I ruta 37 har vi 137438953472 riskorn\n",
      "I ruta 38 har vi 274877906944 riskorn\n",
      "I ruta 39 har vi 549755813888 riskorn\n",
      "I ruta 40 har vi 1099511627776 riskorn\n",
      "I ruta 41 har vi 2199023255552 riskorn\n",
      "I ruta 42 har vi 4398046511104 riskorn\n",
      "I ruta 43 har vi 8796093022208 riskorn\n",
      "I ruta 44 har vi 17592186044416 riskorn\n",
      "I ruta 45 har vi 35184372088832 riskorn\n",
      "I ruta 46 har vi 70368744177664 riskorn\n",
      "I ruta 47 har vi 140737488355328 riskorn\n",
      "I ruta 48 har vi 281474976710656 riskorn\n",
      "I ruta 49 har vi 562949953421312 riskorn\n",
      "I ruta 50 har vi 1125899906842624 riskorn\n",
      "I ruta 51 har vi 2251799813685248 riskorn\n",
      "I ruta 52 har vi 4503599627370496 riskorn\n",
      "I ruta 53 har vi 9007199254740992 riskorn\n",
      "I ruta 54 har vi 18014398509481984 riskorn\n",
      "I ruta 55 har vi 36028797018963968 riskorn\n",
      "I ruta 56 har vi 72057594037927936 riskorn\n",
      "I ruta 57 har vi 144115188075855872 riskorn\n",
      "I ruta 58 har vi 288230376151711744 riskorn\n",
      "I ruta 59 har vi 576460752303423488 riskorn\n",
      "I ruta 60 har vi 1152921504606846976 riskorn\n",
      "I ruta 61 har vi 2305843009213693952 riskorn\n",
      "I ruta 62 har vi 4611686018427387904 riskorn\n",
      "I ruta 63 har vi 9223372036854775808 riskorn\n",
      "Totalt har vi 18446744073709551615 riskorn på shackbrädet\n"
     ]
    }
   ],
   "source": [
    "summa = 0  # jag har initierat en variabel som jag kommer att addara (plussa på) riskornen från alla rutor på shackbrädet. \n",
    "           # på så vis kommer den här variabel till slut vara totalt antal riskorn\n",
    "\n",
    "for n in range(0,64):\n",
    "\n",
    "    antal_riskorn = 2**n   # kommer ge oss antal riskorn i ruta n+1\n",
    "\n",
    "    print(f'I ruta {n} har vi {antal_riskorn} riskorn')\n",
    "\n",
    "    summa += antal_riskorn        # samma sak som summa = summa + antal riskorn\n",
    "\n",
    "print(f'Totalt har vi {summa} riskorn på shackbrädet')\n"
   ]
  },
  {
   "cell_type": "code",
   "execution_count": 27,
   "metadata": {},
   "outputs": [
    {
     "name": "stdout",
     "output_type": "stream",
     "text": [
      "Square 1: 1 grains\n",
      "Square 2: 2 grains\n",
      "Square 3: 4 grains\n",
      "Square 4: 8 grains\n",
      "Square 5: 16 grains\n",
      "Square 6: 32 grains\n",
      "Square 7: 64 grains\n",
      "Square 8: 128 grains\n",
      "Square 9: 256 grains\n",
      "Square 10: 512 grains\n",
      "Square 11: 1024 grains\n",
      "Square 12: 2048 grains\n",
      "Square 13: 4096 grains\n",
      "Square 14: 8192 grains\n",
      "Square 15: 16384 grains\n",
      "Square 16: 32768 grains\n",
      "Square 17: 65536 grains\n",
      "Square 18: 131072 grains\n",
      "Square 19: 262144 grains\n",
      "Square 20: 524288 grains\n",
      "Square 21: 1048576 grains\n",
      "Square 22: 2097152 grains\n",
      "Square 23: 4194304 grains\n",
      "Square 24: 8388608 grains\n",
      "Square 25: 16777216 grains\n",
      "Square 26: 33554432 grains\n",
      "Square 27: 67108864 grains\n",
      "Square 28: 134217728 grains\n",
      "Square 29: 268435456 grains\n",
      "Square 30: 536870912 grains\n",
      "Square 31: 1073741824 grains\n",
      "Square 32: 2147483648 grains\n",
      "Square 33: 4294967296 grains\n",
      "Square 34: 8589934592 grains\n",
      "Square 35: 17179869184 grains\n",
      "Square 36: 34359738368 grains\n",
      "Square 37: 68719476736 grains\n",
      "Square 38: 137438953472 grains\n",
      "Square 39: 274877906944 grains\n",
      "Square 40: 549755813888 grains\n",
      "Square 41: 1099511627776 grains\n",
      "Square 42: 2199023255552 grains\n",
      "Square 43: 4398046511104 grains\n",
      "Square 44: 8796093022208 grains\n",
      "Square 45: 17592186044416 grains\n",
      "Square 46: 35184372088832 grains\n",
      "Square 47: 70368744177664 grains\n",
      "Square 48: 140737488355328 grains\n",
      "Square 49: 281474976710656 grains\n",
      "Square 50: 562949953421312 grains\n",
      "Square 51: 1125899906842624 grains\n",
      "Square 52: 2251799813685248 grains\n",
      "Square 53: 4503599627370496 grains\n",
      "Square 54: 9007199254740992 grains\n",
      "Square 55: 18014398509481984 grains\n",
      "Square 56: 36028797018963968 grains\n",
      "Square 57: 72057594037927936 grains\n",
      "Square 58: 144115188075855872 grains\n",
      "Square 59: 288230376151711744 grains\n",
      "Square 60: 576460752303423488 grains\n",
      "Square 61: 1152921504606846976 grains\n",
      "Square 62: 2305843009213693952 grains\n",
      "Square 63: 4611686018427387904 grains\n",
      "Square 64: 9223372036854775808 grains\n",
      "18446744073709551615\n"
     ]
    }
   ],
   "source": [
    "grains_on_square = 1\n",
    "summa = 0\n",
    "\n",
    "for square in range(1, 65):  # Square numbers start from 1\n",
    "    \n",
    "    print(f\"Square {square}: {grains_on_square} grains\")\n",
    "\n",
    "    summa += grains_on_square\n",
    "\n",
    "    grains_on_square *= 2\n",
    "\n",
    "\n",
    "\n",
    "print(summa)"
   ]
  },
  {
   "cell_type": "code",
   "execution_count": null,
   "metadata": {},
   "outputs": [],
   "source": []
  },
  {
   "cell_type": "markdown",
   "metadata": {},
   "source": [
    "## Dice rolls"
   ]
  },
  {
   "cell_type": "code",
   "execution_count": null,
   "metadata": {},
   "outputs": [],
   "source": [
    "outcome_six = 0\n",
    "\n",
    "for dice in range(0,10):\n",
    "\n",
    "    dice_value = random.randint(1,6)\n",
    "\n",
    "    if dice_value == 6:\n",
    "        \n",
    "        outcome_six += 1\n",
    "    \n",
    "        #print(f'Dice number {dice} yields a {dice_value}', end='\\n\\n')\n",
    "\n",
    "print(f'At the end, we had {outcome_six} number of sixes')"
   ]
  },
  {
   "cell_type": "code",
   "execution_count": 119,
   "metadata": {},
   "outputs": [],
   "source": [
    "number_of_dices = [10, 100, 1000, 10000, 100000, 1000000]"
   ]
  },
  {
   "cell_type": "code",
   "execution_count": 120,
   "metadata": {},
   "outputs": [
    {
     "name": "stdout",
     "output_type": "stream",
     "text": [
      "10\n",
      "100\n",
      "1000\n",
      "10000\n",
      "100000\n",
      "1000000\n"
     ]
    }
   ],
   "source": [
    "for number in number_of_dices:\n",
    "\n",
    "    print(number)"
   ]
  },
  {
   "cell_type": "code",
   "execution_count": 121,
   "metadata": {},
   "outputs": [
    {
     "name": "stdout",
     "output_type": "stream",
     "text": [
      "For an experiment with 10 of tossed dices, we had 1 number of sixes\n",
      "For an experiment with 100 of tossed dices, we had 16 number of sixes\n",
      "For an experiment with 1000 of tossed dices, we had 156 number of sixes\n",
      "For an experiment with 10000 of tossed dices, we had 1615 number of sixes\n",
      "For an experiment with 100000 of tossed dices, we had 16659 number of sixes\n",
      "For an experiment with 1000000 of tossed dices, we had 167063 number of sixes\n"
     ]
    }
   ],
   "source": [
    "import random\n",
    "\n",
    "simulation_results = []\n",
    "simulation_probabilities = []\n",
    "\n",
    "for number in number_of_dices:\n",
    "\n",
    "    outcome_six = 0\n",
    "\n",
    "    for dice in range(0,number):\n",
    "\n",
    "        dice_value = random.randint(1,6)\n",
    "\n",
    "        if dice_value == 6:\n",
    "            outcome_six += 1\n",
    "    \n",
    "        #print(f'Dice number {dice} yields a {dice_value}', end='\\n\\n')\n",
    "    \n",
    "\n",
    "    simulation_results.append(outcome_six)\n",
    "    simulation_probabilities.append(outcome_six/number)\n",
    "\n",
    "    \n",
    "    print(f'For an experiment with {number} of tossed dices, we had {outcome_six} number of sixes')"
   ]
  },
  {
   "cell_type": "code",
   "execution_count": 122,
   "metadata": {},
   "outputs": [
    {
     "data": {
      "text/plain": [
       "[<matplotlib.lines.Line2D at 0x15901c09a10>]"
      ]
     },
     "execution_count": 122,
     "metadata": {},
     "output_type": "execute_result"
    },
    {
     "data": {
      "image/png": "[encoded data removed]",
      "text/plain": [
       "<Figure size 640x480 with 1 Axes>"
      ]
     },
     "metadata": {},
     "output_type": "display_data"
    }
   ],
   "source": [
    "import matplotlib.pyplot as plt\n",
    "\n",
    "plt.plot(number_of_dices, simulation_probabilities)"
   ]
  },
  {
   "cell_type": "code",
   "execution_count": null,
   "metadata": {},
   "outputs": [],
   "source": []
  },
  {
   "cell_type": "markdown",
   "metadata": {},
   "source": [
    "## List comprehension, fördjupning"
   ]
  },
  {
   "cell_type": "markdown",
   "metadata": {},
   "source": [
    "Jag vill ha en lista på värdet av \n",
    "\n",
    "$y = x +2$ \n",
    "\n",
    "mellan x = 0 och x = 10"
   ]
  },
  {
   "cell_type": "code",
   "execution_count": 138,
   "metadata": {},
   "outputs": [
    {
     "name": "stdout",
     "output_type": "stream",
     "text": [
      "[2, 3, 4, 5, 6, 7, 8, 9, 10, 11, 12]\n"
     ]
    }
   ],
   "source": [
    "y_values = []\n",
    "\n",
    "for x in range(0,11):\n",
    "\n",
    "    y = x+2\n",
    "    y_values.append(y)\n",
    "\n",
    "print(y_values)\n"
   ]
  },
  {
   "cell_type": "code",
   "execution_count": 139,
   "metadata": {},
   "outputs": [
    {
     "data": {
      "text/plain": [
       "[2, 3, 4, 5, 6, 7, 8, 9, 10, 11, 12]"
      ]
     },
     "execution_count": 139,
     "metadata": {},
     "output_type": "execute_result"
    }
   ],
   "source": [
    "[x+2 for x in range(0,11)]"
   ]
  },
  {
   "cell_type": "markdown",
   "metadata": {},
   "source": [
    "Jag vill ha en lista på värdet av \n",
    "\n",
    "$y = x^2$ \n",
    "\n",
    "mellan x = -10 och x = 10"
   ]
  },
  {
   "cell_type": "code",
   "execution_count": 141,
   "metadata": {},
   "outputs": [
    {
     "name": "stdout",
     "output_type": "stream",
     "text": [
      "[100, 81, 64, 49, 36, 25, 16, 9, 4, 1, 0, 1, 4, 9, 16, 25, 36, 49, 64, 81, 100]\n"
     ]
    }
   ],
   "source": [
    "values = []\n",
    "\n",
    "for x in range(-10,11):\n",
    "\n",
    "    value_to_append = x**2\n",
    "\n",
    "    values.append(value_to_append)\n",
    "\n",
    "print(values)"
   ]
  },
  {
   "cell_type": "code",
   "execution_count": 206,
   "metadata": {},
   "outputs": [
    {
     "data": {
      "text/plain": [
       "[100, 81, 64, 49, 36, 25, 16, 9, 4, 1, 0, 1, 4, 9, 16, 25, 36, 49, 64, 81, 100]"
      ]
     },
     "execution_count": 206,
     "metadata": {},
     "output_type": "execute_result"
    }
   ],
   "source": [
    "[x**2 for x in range(-10,11)]"
   ]
  },
  {
   "cell_type": "code",
   "execution_count": null,
   "metadata": {},
   "outputs": [],
   "source": []
  },
  {
   "cell_type": "code",
   "execution_count": 171,
   "metadata": {},
   "outputs": [
    {
     "name": "stdout",
     "output_type": "stream",
     "text": [
      "[100, 81, 64, 49, 36, 25, 16, 9, 4, 1, 0, 1, 4, 9, 16, 25, 36, 49, 64, 81, 100]\n"
     ]
    }
   ],
   "source": [
    "values = []\n",
    "\n",
    "for x in range(-10,11):\n",
    "\n",
    "    value_to_append = x**2   # NI KAN VÄLJA PRECIS VAD NI VILL HÄR, I MEAN. EXAAAAAAAAKT VAD NI VILL\n",
    "\n",
    "    values.append(value_to_append)\n",
    "\n",
    "print(values)"
   ]
  },
  {
   "cell_type": "code",
   "execution_count": 172,
   "metadata": {},
   "outputs": [
    {
     "name": "stdout",
     "output_type": "stream",
     "text": [
      "[100, 81, 64, 49, 36, 25, 16, 9, 4, 1, 0, 1, 4, 9, 16, 25, 36, 49, 64, 81, 100]\n"
     ]
    }
   ],
   "source": [
    "min_list_comprehension = [x**2 for x in range(-10, 11)]\n",
    "\n",
    "print(min_list_comprehension)"
   ]
  },
  {
   "cell_type": "code",
   "execution_count": null,
   "metadata": {},
   "outputs": [],
   "source": []
  },
  {
   "cell_type": "code",
   "execution_count": 165,
   "metadata": {},
   "outputs": [
    {
     "data": {
      "text/plain": [
       "1"
      ]
     },
     "execution_count": 165,
     "metadata": {},
     "output_type": "execute_result"
    }
   ],
   "source": [
    "15%2"
   ]
  },
  {
   "cell_type": "code",
   "execution_count": 166,
   "metadata": {},
   "outputs": [
    {
     "name": "stdout",
     "output_type": "stream",
     "text": [
      "[-10, -8, -6, -4, -2, 0, 2, 4, 6, 8, 10]\n"
     ]
    }
   ],
   "source": [
    "values = []\n",
    "\n",
    "for x in range(-10,11):\n",
    "\n",
    "    if x%2 == 0:\n",
    "\n",
    "        value_to_append = x   # NI KAN VÄLJA PRECIS VAD NI VILL HÄR, I MEAN. EXAAAAAAAAKT VAD NI VILL\n",
    "\n",
    "        values.append(value_to_append)\n",
    "\n",
    "print(values)"
   ]
  },
  {
   "cell_type": "code",
   "execution_count": 170,
   "metadata": {},
   "outputs": [
    {
     "data": {
      "text/plain": [
       "[-10, -8, -6, -4, -2, 0, 2, 4, 6, 8, 10]"
      ]
     },
     "execution_count": 170,
     "metadata": {},
     "output_type": "execute_result"
    }
   ],
   "source": [
    "[x for x in range(-10,11) if x%2==0]"
   ]
  },
  {
   "cell_type": "markdown",
   "metadata": {},
   "source": [
    "## sum()-funktionen\n",
    "\n",
    "riktigt nice på att summera saker, exempelvis sifforna i en lista"
   ]
  },
  {
   "cell_type": "code",
   "execution_count": 176,
   "metadata": {},
   "outputs": [
    {
     "data": {
      "text/plain": [
       "18446744073709551615"
      ]
     },
     "execution_count": 176,
     "metadata": {},
     "output_type": "execute_result"
    }
   ],
   "source": [
    "sum([2**n for n in range(0,64)])"
   ]
  },
  {
   "cell_type": "code",
   "execution_count": null,
   "metadata": {},
   "outputs": [],
   "source": []
  },
  {
   "cell_type": "code",
   "execution_count": 177,
   "metadata": {},
   "outputs": [
    {
     "name": "stdout",
     "output_type": "stream",
     "text": [
      "0\n",
      "1\n",
      "2\n",
      "3\n",
      "4\n",
      "5\n",
      "6\n",
      "7\n",
      "8\n",
      "9\n"
     ]
    }
   ],
   "source": [
    "for x in range(0,10):        # här ber vi Python att loopa genom att spann av heltal\n",
    "\n",
    "    print(x)"
   ]
  },
  {
   "cell_type": "code",
   "execution_count": 178,
   "metadata": {},
   "outputs": [
    {
     "name": "stdout",
     "output_type": "stream",
     "text": [
      "1\n",
      "5\n",
      "ali\n",
      "10\n"
     ]
    }
   ],
   "source": [
    "for x in [1,5,'ali', 10]:  # här ber vi Python att loopa genom elementen av en lista\n",
    "\n",
    "    print(x)"
   ]
  },
  {
   "cell_type": "code",
   "execution_count": 179,
   "metadata": {},
   "outputs": [
    {
     "name": "stdout",
     "output_type": "stream",
     "text": [
      "A\n",
      "l\n",
      "i\n",
      " \n",
      "L\n",
      "e\n",
      "y\n",
      "l\n",
      "a\n",
      "n\n",
      "i\n"
     ]
    }
   ],
   "source": [
    "for x in 'Ali Leylani':  # här ber vi Python att loopa genom karaktärerna i en sträng\n",
    "    \n",
    "    print(x)"
   ]
  },
  {
   "cell_type": "code",
   "execution_count": 181,
   "metadata": {},
   "outputs": [
    {
     "name": "stdout",
     "output_type": "stream",
     "text": [
      "A\n",
      "B\n",
      "C\n",
      "D\n",
      "E\n",
      "F\n",
      "G\n",
      "H\n"
     ]
    }
   ],
   "source": [
    "for letter in 'ABCDEFGH':\n",
    "\n",
    "    print(letter)"
   ]
  },
  {
   "cell_type": "code",
   "execution_count": 184,
   "metadata": {},
   "outputs": [
    {
     "data": {
      "text/plain": [
       "'ali är 30 år gammal'"
      ]
     },
     "execution_count": 184,
     "metadata": {},
     "output_type": "execute_result"
    }
   ],
   "source": [
    "age = 30\n",
    "namn = 'ali'\n",
    "\n",
    "information = f'{namn} är {age} år gammal'"
   ]
  },
  {
   "cell_type": "code",
   "execution_count": 180,
   "metadata": {},
   "outputs": [
    {
     "data": {
      "text/plain": [
       "['A1', 'B1', 'C1', 'D1', 'E1', 'F1', 'G1', 'H1']"
      ]
     },
     "execution_count": 180,
     "metadata": {},
     "output_type": "execute_result"
    }
   ],
   "source": [
    "[f'{letter}1' for letter in 'ABCDEFGH']"
   ]
  },
  {
   "cell_type": "code",
   "execution_count": null,
   "metadata": {},
   "outputs": [],
   "source": []
  },
  {
   "cell_type": "code",
   "execution_count": 198,
   "metadata": {},
   "outputs": [
    {
     "name": "stdout",
     "output_type": "stream",
     "text": [
      "[['A'], ['B'], ['C']]\n"
     ]
    }
   ],
   "source": [
    "values = []\n",
    "\n",
    "for letter in 'ABC':\n",
    "\n",
    "    value_to_append = [f'{letter}']\n",
    "\n",
    "    values.append(value_to_append)\n",
    "\n",
    "print(values)"
   ]
  },
  {
   "cell_type": "code",
   "execution_count": 204,
   "metadata": {},
   "outputs": [
    {
     "data": {
      "text/plain": [
       "[['A1', 'B1', 'C1', 'D1', 'E1', 'F1', 'G1', 'H1'],\n",
       " ['A2', 'B2', 'C2', 'D2', 'E2', 'F2', 'G2', 'H2'],\n",
       " ['A3', 'B3', 'C3', 'D3', 'E3', 'F3', 'G3', 'H3'],\n",
       " ['A4', 'B4', 'C4', 'D4', 'E4', 'F4', 'G4', 'H4'],\n",
       " ['A5', 'B5', 'C5', 'D5', 'E5', 'F5', 'G5', 'H5'],\n",
       " ['A6', 'B6', 'C6', 'D6', 'E6', 'F6', 'G6', 'H6'],\n",
       " ['A7', 'B7', 'C7', 'D7', 'E7', 'F7', 'G7', 'H7'],\n",
       " ['A8', 'B8', 'C8', 'D8', 'E8', 'F8', 'G8', 'H8']]"
      ]
     },
     "execution_count": 204,
     "metadata": {},
     "output_type": "execute_result"
    }
   ],
   "source": [
    "[    [f'{letter}{number}' for letter in 'ABCDEFGH'] for number in range(1,9)]"
   ]
  },
  {
   "cell_type": "code",
   "execution_count": 209,
   "metadata": {},
   "outputs": [],
   "source": [
    "mina_studenter = [input('Lägg till studentnamn') for x in range(10)]"
   ]
  },
  {
   "cell_type": "code",
   "execution_count": null,
   "metadata": {},
   "outputs": [],
   "source": []
  }
 ],
 "metadata": {
  "kernelspec": {
   "display_name": "deeplearning",
   "language": "python",
   "name": "python3"
  },
  "language_info": {
   "codemirror_mode": {
    "name": "ipython",
    "version": 3
   },
   "file_extension": ".py",
   "mimetype": "text/x-python",
   "name": "python",
   "nbconvert_exporter": "python",
   "pygments_lexer": "ipython3",
   "version": "3.11.4"
  },
  "orig_nbformat": 4
 },
 "nbformat": 4,
 "nbformat_minor": 2
}
