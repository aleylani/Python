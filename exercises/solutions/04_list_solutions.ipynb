{
  "cells": [
    {
      "cell_type": "markdown",
      "metadata": {
        "colab_type": "text",
        "id": "view-in-github"
      },
      "source": [
        "<a href=\"https://colab.research.google.com/github/aleylani/Python/blob/main/exercises/04_list_exercise.ipynb\" target=\"_parent\"><img src=\"https://colab.research.google.com/assets/colab-badge.svg\" alt=\"Open In Colab\"/></a>"
      ]
    },
    {
      "cell_type": "markdown",
      "metadata": {
        "id": "6uOASVKqPqNP"
      },
      "source": [
        "# list exercises\n",
        "\n",
        "---\n",
        "These are introductory exercises in Python with focus in **lists**.\n",
        "\n",
        "<p class = \"alert alert-info\" role=\"alert\"><b>Remember</b> to use <b>descriptive variable names</b> in order to get readable code </p>\n",
        "\n",
        "<p class = \"alert alert-info\" role=\"alert\"><b>Remember</b> to format your answers in a neat way using <b>f-strings</b>\n",
        "\n",
        "<p class = \"alert alert-info\" role=\"alert\"><b>Remember</b> to format your input questions in a pedagogical way to guide the user\n",
        "\n",
        "The number of stars (\\*), (\\*\\*), (\\*\\*\\*) denotes the difficulty level of the task\n",
        "\n",
        "---"
      ]
    },
    {
      "cell_type": "markdown",
      "metadata": {
        "id": "RuoOFel1PqNR"
      },
      "source": [
        "## 1. Dice rolls (*)\n",
        "\n",
        "Simulate 10 dice rolls and **append** the rolls to a list or use **list comprehension**.\n",
        "\n",
        "&nbsp; a) &nbsp; sort the list in **ascending** order (*)\n",
        "\n",
        "&nbsp; b) &nbsp; sort the list in **descending** order (*)\n",
        "\n",
        "&nbsp; c) &nbsp; find the **maximum** and **minimum** value in the list (*)\n",
        "\n",
        "\n",
        "<details>\n",
        "\n",
        "<summary>Answer </summary>\n",
        "\n",
        "a)\n",
        "```\n",
        "Ascending order: [1, 1, 2, 3, 4, 4, 4, 5, 6, 6]\n",
        "```\n",
        "\n",
        "b)\n",
        "```\n",
        "Descending order: [6, 6, 5, 4, 4, 4, 3, 2, 1, 1]\n",
        "```\n",
        "\n",
        "c)\n",
        "```\n",
        "Maximum: 6\n",
        "Minimum: 1\n",
        "```\n",
        "\n",
        "</details>\n",
        "\n",
        "\n"
      ]
    },
    {
      "cell_type": "code",
      "execution_count": null,
      "metadata": {},
      "outputs": [],
      "source": [
        "import random as rnd\n",
        "\n",
        "dice_rolls = []                               # vi initierar en lista att lägga in våra tärningsutfall i\n",
        "\n",
        "number_of_dice_rolls = 10\n",
        "\n",
        "for roll in range(number_of_dice_rolls):\n",
        "\n",
        "    dice = rnd.randint(1,6)                   # för varje roll, generera ett random utfall mellan 1 och 6\n",
        "\n",
        "    dice_rolls.append(dice)                   # lägg till utfallet av vår nykastade tärning till listan dice_rolls\n",
        "\n",
        "print(f'Våra tärningsutfall: {dice_rolls}')"
      ]
    },
    {
      "cell_type": "markdown",
      "metadata": {},
      "source": [
        "**a)**"
      ]
    },
    {
      "cell_type": "code",
      "execution_count": null,
      "metadata": {},
      "outputs": [],
      "source": [
        "descending_rolls = sorted(dice_rolls)                         # sortera vår lista med utfall i ökande ordning (default)\n",
        "\n",
        "print(f'Tärningsutfall i ökande ordning: {descending_rolls}')"
      ]
    },
    {
      "cell_type": "markdown",
      "metadata": {},
      "source": [
        "**b)**"
      ]
    },
    {
      "cell_type": "code",
      "execution_count": null,
      "metadata": {},
      "outputs": [],
      "source": [
        "ascending_rolls = sorted(dice_rolls, reverse=True)             # sortera vår lista med utfall i sjunkande ordning\n",
        "\n",
        "print(f'Tärningsutfall i sjunkande ordning: {ascending_rolls}')"
      ]
    },
    {
      "cell_type": "markdown",
      "metadata": {},
      "source": [
        "**c)**"
      ]
    },
    {
      "cell_type": "code",
      "execution_count": null,
      "metadata": {},
      "outputs": [],
      "source": [
        "minimum_dice_roll = min(dice_rolls)\n",
        "maximum_dice_roll = max(dice_rolls)\n",
        "\n",
        "print(f'Minsta tärningskastet i vårt experiment: {minimum_dice_roll}')\n",
        "print(f'Högsta tärningskastet i vårt experiment: {maximum_dice_roll}')"
      ]
    },
    {
      "cell_type": "markdown",
      "metadata": {
        "id": "7zPeNe1TPqNR"
      },
      "source": [
        "---\n",
        "## 2. Food menu (*)\n",
        "\n",
        "Create a:  \n",
        "\n",
        "&nbsp; a) &nbsp; **list** with the following elements: \"vegetarisk lasagne\", \"spaghetti\", \"fisk\", \"grönsakssoppa\", \"pannkakor\". (*)\n",
        "\n",
        "&nbsp; b) &nbsp; **list** with the weekdays (*)\n",
        "\n",
        "&nbsp; c) &nbsp; create a food menu with each day corresponding to each food item and print it out. (*)\n",
        "\n",
        "<details>\n",
        "\n",
        "<summary>Answer</summary>\n",
        "\n",
        "c)\n",
        "```\n",
        "Bambameny\n",
        "Mån: vegetarisk lasagne\n",
        "Tis: spaghetti\n",
        "Ons: fisk\n",
        "Tor: grönsakssoppa\n",
        "Fre: pannkakor\n",
        "```\n",
        "\n",
        "</details>"
      ]
    },
    {
      "cell_type": "markdown",
      "metadata": {},
      "source": [
        "**a)**"
      ]
    },
    {
      "cell_type": "code",
      "execution_count": null,
      "metadata": {},
      "outputs": [],
      "source": [
        "foods = ['Vegetariansk Lasagne', 'Spaghetti', 'Fisk', 'Grönsakssoppa', 'Pannkakor']"
      ]
    },
    {
      "cell_type": "markdown",
      "metadata": {},
      "source": [
        "**b)**"
      ]
    },
    {
      "cell_type": "code",
      "execution_count": null,
      "metadata": {},
      "outputs": [],
      "source": [
        "veckodagar = ['Mån', 'Tis', 'Ons', 'Tor', 'Fre']"
      ]
    },
    {
      "cell_type": "markdown",
      "metadata": {},
      "source": [
        "**c)**"
      ]
    },
    {
      "cell_type": "code",
      "execution_count": null,
      "metadata": {},
      "outputs": [],
      "source": [
        "print('Veckans meny')\n",
        "\n",
        "length_of_list = len(foods)                 # räkna ut antalet element i vår matlista. notera att det är exakt lika många element i vår veckodagarlista\n",
        "\n",
        "for index in range(0, length_of_list):      # loopa mellan 0 och length_of_list\n",
        "\n",
        "    print(f'{veckodagar[index]}: {foods[index]}')"
      ]
    },
    {
      "cell_type": "markdown",
      "metadata": {},
      "source": [
        "Observera att vi även kan lösa detta på följande sätt! "
      ]
    },
    {
      "cell_type": "code",
      "execution_count": null,
      "metadata": {},
      "outputs": [],
      "source": [
        "print('Veckans meny')\n",
        "\n",
        "for veckodag, food in zip(veckodagar, foods):               # loopa över veckodag och food samtidigt, i ordningen varje dyker upp i sin respektive lista\n",
        "\n",
        "    print(f'{veckodag}: {food}')"
      ]
    },
    {
      "cell_type": "markdown",
      "metadata": {
        "id": "EgiDRMifPqNR"
      },
      "source": [
        "---\n",
        "## 3. Squares (*)\n",
        "\n",
        "&nbsp; a) &nbsp; Use **list comprehension** to create a list of squares from -10 to 10 (*)\n",
        "\n",
        "&nbsp; a) &nbsp; Plot this list using **matplotlib**. (*)\n",
        "\n",
        "<details>\n",
        "\n",
        "<summary>Answer</summary>\n",
        "\n",
        "a)\n",
        "```\n",
        "[100, 81, 64, 49, 36, 25, 16, 9, 4, 1, 0, 1, 4, 9, 16, 25, 36, 49, 64, 81, 100]\n",
        "```\n",
        "\n",
        "b)\n",
        "\n",
        "<img align=\"left\" src=\"../assets/x^2_graph.png\" width=\"300\"/>\n",
        "</details>"
      ]
    },
    {
      "cell_type": "markdown",
      "metadata": {},
      "source": [
        "**a)**"
      ]
    },
    {
      "cell_type": "code",
      "execution_count": null,
      "metadata": {},
      "outputs": [],
      "source": [
        "squares = [x**2 for x in range(-10, 11)]\n",
        "\n",
        "print(squares)"
      ]
    },
    {
      "cell_type": "markdown",
      "metadata": {},
      "source": [
        "**b)**"
      ]
    },
    {
      "cell_type": "code",
      "execution_count": null,
      "metadata": {},
      "outputs": [],
      "source": [
        "import matplotlib.pyplot as plt\n",
        "\n",
        "x_values = range(-10, 11)              # vi vill att Python, i x-grafen, visar -10 till 10 \n",
        "\n",
        "plt.plot(x_values, squares)"
      ]
    },
    {
      "cell_type": "markdown",
      "metadata": {
        "id": "4U54qkB5PqNS"
      },
      "source": [
        "---\n",
        "## 4. Chessboard (**)\n",
        "\n",
        "&nbsp; a) &nbsp; Create this list using **list comprehension**: (*)\n",
        "\n",
        "```python\n",
        "['A1', 'B1', 'C1', 'D1', 'E1', 'F1', 'G1', 'H1']\n",
        "```\n",
        "\n",
        "&nbsp; b) &nbsp; Create a 2D list to hold the coordinates in a chessboard. (**)\n",
        "\n",
        "<details>\n",
        "\n",
        "<summary>Hint</summary>\n",
        "\n",
        "b) Use **f-string** and create a list of characters with:\n",
        "\n",
        "```python\n",
        "list(\"ABCDEFGH)\n",
        "```\n",
        "\n",
        "b) One option is to use nested list comprehension where one for-loop creates the first list and the other creates several of the first list\n",
        "\n",
        "</details>\n",
        "\n",
        "\n",
        "<details>\n",
        "\n",
        "<summary>Answer</summary>\n",
        "\n",
        "b)\n",
        "```\n",
        "[['A1', 'B1', 'C1', 'D1', 'E1', 'F1', 'G1', 'H1'],\n",
        " ['A2', 'B2', 'C2', 'D2', 'E2', 'F2', 'G2', 'H2'],\n",
        " ['A3', 'B3', 'C3', 'D3', 'E3', 'F3', 'G3', 'H3'],\n",
        " ['A4', 'B4', 'C4', 'D4', 'E4', 'F4', 'G4', 'H4'],\n",
        " ['A5', 'B5', 'C5', 'D5', 'E5', 'F5', 'G5', 'H5'],\n",
        " ['A6', 'B6', 'C6', 'D6', 'E6', 'F6', 'G6', 'H6'],\n",
        " ['A7', 'B7', 'C7', 'D7', 'E7', 'F7', 'G7', 'H7'],\n",
        " ['A8', 'B8', 'C8', 'D8', 'E8', 'F8', 'G8', 'H8']]\n",
        "```\n",
        "\n",
        "</details>"
      ]
    },
    {
      "cell_type": "markdown",
      "metadata": {},
      "source": [
        "**a)**\n"
      ]
    },
    {
      "cell_type": "code",
      "execution_count": null,
      "metadata": {},
      "outputs": [],
      "source": [
        "letters = ['A', 'B', 'C', 'D', 'E', 'F', 'G', 'H']\n",
        "\n",
        "slice = [f'{letter}1' for letter in letters]        # loopa för alla letter in letters, och lägg till {letter}1 i vår lista\n",
        "\n",
        "slice"
      ]
    },
    {
      "cell_type": "markdown",
      "metadata": {},
      "source": [
        "**b)**"
      ]
    },
    {
      "cell_type": "code",
      "execution_count": null,
      "metadata": {},
      "outputs": [],
      "source": [
        "# Här passar en nested list comprehension rätt bra\n",
        "\n",
        "# den yttre list comprehension loopar mellan alla tal 1-8, och den inre loopar mellan alla bokstäver A till H\n",
        "\n",
        "chessboard = [ [f'{letter}{number}' for letter in letters] for number in range(1, 9)]\n",
        "\n",
        "chessboard"
      ]
    },
    {
      "cell_type": "markdown",
      "metadata": {
        "id": "5rzM8OsCPqNS"
      },
      "source": [
        "---\n",
        "## 5. Dice rolls convergence (**)\n",
        "\n",
        "Simulate:\n",
        "\n",
        "&nbsp; a) &nbsp; 100 dice rolls and count the number of outcome six. (*)\n",
        "\n",
        "&nbsp; b) &nbsp; 10, 100, 1000, 10000, 100000, 1000000 dice rolls. Count the number of outcome six in each simulation and store it in a list. Compute the probability of outcome six in each simulation. (**)\n",
        "\n",
        "&nbsp; c) &nbsp; Use matplotlib to plot this list. (*)\n",
        "\n",
        "<details>\n",
        "\n",
        "<summary>Hint </summary>\n",
        "\n",
        "Use this code for plot settings:\n",
        "\n",
        "```python\n",
        "plt.plot(probability_six, '-*')\n",
        "plt.title(\"Probability of six for different number of rolls\")\n",
        "plt.xticks([0,1,2,3,4,5], num_rolls);\n",
        "plt.xlabel(\"Number of dice rolls\")\n",
        "plt.ylabel(\"Probability\")\n",
        "\n",
        "```\n",
        "</details>\n",
        "\n",
        "<details>\n",
        "\n",
        "<summary>Answer </summary>\n",
        "\n",
        "a)\n",
        "```\n",
        "The number of outcome six in 100 dice rolls is: 17\n",
        "```\n",
        "\n",
        "b)\n",
        "```\n",
        "Count number of six: [1, 21, 161, 1642, 16560, 166406]\n",
        "P(six) = [0.1, 0.21, 0.161, 0.1642, 0.1656, 0.1664]\n",
        "```\n",
        "\n",
        "c) Note that the graph changes due to random simulation. To reproduce this result, use\n",
        "\n",
        "```python\n",
        "random.seed(1)\n",
        "```\n",
        "\n",
        "<img align=\"left\" src=\"../assets/probability_six_graph.png\" width=\"300\"/>\n",
        "\n",
        "</details>"
      ]
    },
    {
      "cell_type": "markdown",
      "metadata": {},
      "source": [
        "**a)**"
      ]
    },
    {
      "cell_type": "code",
      "execution_count": null,
      "metadata": {},
      "outputs": [],
      "source": [
        "number_of_die_rolls = 100                    # antalet tärningskast vi kommer göra\n",
        "\n",
        "number_of_outcome_six = 0                    # variabel som vi kommer öka med 1, varje gång vi slår en 6:a\n",
        "\n",
        "for dice in range(number_of_die_rolls):\n",
        "\n",
        "    outcome = rnd.randint(1,6)               # kasta en tärning\n",
        "\n",
        "    if outcome == 6:                         # om utkastet blir 6..\n",
        "\n",
        "        number_of_outcome_six +=1            # ..öka number_of_outcome_six med 1  \n",
        "\n",
        "print(f'Out of {number_of_die_rolls} rolls, we got {number_of_outcome_six} sixes')"
      ]
    },
    {
      "cell_type": "markdown",
      "metadata": {},
      "source": [
        "**b)**"
      ]
    },
    {
      "cell_type": "code",
      "execution_count": null,
      "metadata": {},
      "outputs": [],
      "source": [
        "experiment_outcomes = []                                      # lista där vi ska samla antalet 6or i experimenten vi ska göra \n",
        "experiment_probabilities = []                                 # lista där vi kommer beräkna sannolikheten för antalet 6or, i varje experiment\n",
        "\n",
        "dice_to_toss_per_experiment = [10, 100, 1000, 10000, 100000, 1000000]\n",
        "\n",
        "\n",
        "for number_of_die_rolls in dice_to_toss_per_experiment:       # upprepa vårt experiment, för de olika värdena på antalet tärningar att kasta\n",
        "\n",
        "    number_of_outcome_six = 0                                 # variabel som vi kommer öka med 1, varje gång vi slår en 6:a\n",
        "\n",
        "    for dice in range(number_of_die_rolls):\n",
        "\n",
        "        outcome = rnd.randint(1,6)                            # kasta en tärning\n",
        "\n",
        "        if outcome == 6:                                      # om utkastet blir 6..\n",
        "\n",
        "            number_of_outcome_six +=1                         # ..öka number_of_outcome_six med 1\n",
        "\n",
        "    experiment_outcomes.append(number_of_outcome_six)                                   # efter varje experiment, lägg till antal 6or vi fick i vår lista experiment_outcomes\n",
        "    experiment_probabilities.append(number_of_outcome_six/number_of_die_rolls)         # lägg också till sannolikheten att få 6or i listan experiment_probabilities\n",
        "\n"
      ]
    },
    {
      "cell_type": "code",
      "execution_count": null,
      "metadata": {},
      "outputs": [],
      "source": [
        "plt.plot(experiment_probabilities)\n",
        "plt.xticks([0,1,2,3,4,5], dice_to_toss_per_experiment)\n",
        "plt.show();"
      ]
    },
    {
      "cell_type": "code",
      "execution_count": null,
      "metadata": {},
      "outputs": [],
      "source": []
    }
  ],
  "metadata": {
    "colab": {
      "include_colab_link": true,
      "provenance": []
    },
    "kernelspec": {
      "display_name": "Python 3 (ipykernel)",
      "language": "python",
      "name": "python3"
    },
    "language_info": {
      "codemirror_mode": {
        "name": "ipython",
        "version": 3
      },
      "file_extension": ".py",
      "mimetype": "text/x-python",
      "name": "python",
      "nbconvert_exporter": "python",
      "pygments_lexer": "ipython3",
      "version": "3.11.4"
    },
    "vscode": {
      "interpreter": {
        "hash": "7e1998ff7f8aa20ada591c520b972326324e5ea05489af9e422744c7c09f6dad"
      }
    }
  },
  "nbformat": 4,
  "nbformat_minor": 0
}
