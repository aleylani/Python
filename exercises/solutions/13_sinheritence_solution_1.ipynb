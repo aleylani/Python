{
 "cells": [
  {
   "cell_type": "code",
   "execution_count": null,
   "metadata": {},
   "outputs": [],
   "source": [
    "class Flygplan:\n",
    "\n",
    "    def __init__(self, model: str, spännvidd: float, räckvidd: int, besättning: int, maxhastighet: int):\n",
    "        \n",
    "        self.model = model\n",
    "        self.spännvidd = spännvidd\n",
    "        self.räckvidd = räckvidd\n",
    "        self.besättning = besättning\n",
    "        self.maxhastighet = maxhastighet\n",
    "\n",
    "\n",
    "    def travel_time(self):\n",
    "        distance = 1000\n",
    "        travel_time = (1000/self.maxhastighet) * 60\n",
    "        print(f\"{self.model} tar {travel_time} minuter att flyga  {distance} km\")\n",
    "    \n",
    "    def info(self):\n",
    "        print(f\"Planet är en {self.model}\\n Spännvidd: {self.spännvidd}m\\n Räckvidd: {self.räckvidd}m.\\n Besättning: {self.besättning} personer (exlusive kabin personal)\\n Topphastighet: {self.maxhastighet} km/h\")\n",
    "\n",
    "\n",
    "    \n",
    "class Stridsflygplan(Flygplan):\n",
    "\n",
    "    def __init__(self, model: str, spännvidd: float, räckvidd: int, besättning: int, bestyckning: str, maxhastighet:int):\n",
    "        super().__init__(model, spännvidd, räckvidd, besättning, maxhastighet)\n",
    "\n",
    "        self.bestyckning = bestyckning\n",
    "\n",
    "    def info(self):\n",
    "        print(f\"Planet är en {self.model}\\n Spännvidd: {self.spännvidd}m\\n Räckvidd: {self.räckvidd}m.\\n Besättning: {self.besättning}\\n Topphastighet: {self.maxhastighet} km/h\\n Bestyckning:{self.bestyckning}\")\n",
    "\n",
    "\n",
    "class Passagerarflygplan(Flygplan):\n",
    "    def __init__(self, model: str, spännvidd: float, räckvidd: int, besättning: int, kapacitet: int, maxhastighet: int):\n",
    "        super().__init__(model, spännvidd, räckvidd, besättning, maxhastighet)\n",
    "\n",
    "        self.kapacitet = kapacitet\n",
    "\n",
    "    def info(self):\n",
    "        print(f\"Planet är en {self.model}\\n Spännvidd: {self.spännvidd}m\\n Räckvidd: {self.räckvidd}m.\\n Besättning: {self.besättning}\\n Topphastighet: {self.maxhastighet} km/h\\n Maximal antal passagerare:{self.kapacitet}\")"
   ]
  },
  {
   "cell_type": "code",
   "execution_count": null,
   "metadata": {},
   "outputs": [],
   "source": []
  }
 ],
 "metadata": {
  "kernelspec": {
   "display_name": "my_environment",
   "language": "python",
   "name": "python3"
  },
  "language_info": {
   "name": "python",
   "version": "3.11.4"
  },
  "orig_nbformat": 4
 },
 "nbformat": 4,
 "nbformat_minor": 2
}
