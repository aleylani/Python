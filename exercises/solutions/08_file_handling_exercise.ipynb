{
  "cells": [
    {
      "cell_type": "markdown",
      "metadata": {
        "colab_type": "text",
        "id": "view-in-github"
      },
      "source": [
        "<a href=\"https://colab.research.google.com/github/aleylani/Python/blob/main/exercises/08_file_handling_exercise.ipynb\" target=\"_parent\"><img src=\"https://colab.research.google.com/assets/colab-badge.svg\" alt=\"Open In Colab\"/></a>"
      ]
    },
    {
      "cell_type": "markdown",
      "metadata": {
        "id": "DlOV9_wuQ2Vm"
      },
      "source": [
        "# file handling exercises\n",
        "\n",
        "---\n",
        "These are introductory exercises in Python with focus in **file handling**.\n",
        "\n",
        "All files needed for these exercises can be found in the **files** folder in this repo. Clone the repo to access them.\n",
        "\n",
        "<p class = \"alert alert-info\" role=\"alert\"><b>Remember</b> to use <b>descriptive variable and function names</b> in order to get readable code </p>\n",
        "\n",
        "<p class = \"alert alert-info\" role=\"alert\"><b>Remember</b> to format your answers in a neat way using <b>f-strings</b>\n",
        "\n",
        "<p class = \"alert alert-info\" role=\"alert\"><b>Remember</b> to format your input questions in a pedagogical way to guide the user\n",
        "\n",
        "The number of stars (\\*), (\\*\\*), (\\*\\*\\*) denotes the difficulty level of the task\n",
        "\n",
        "---"
      ]
    },
    {
      "cell_type": "markdown",
      "metadata": {
        "id": "5g_cU15OQ2Vo"
      },
      "source": [
        "## 1. Dice rolls (*)\n",
        "Create a textfile called **dice_rolls.txt** using Python. Also for each subtask, write adequate headers.\n",
        "\n",
        "&nbsp; a) &nbsp; Simulate 20 dice rolls and write them to your textfile. (*)\n",
        "\n",
        "&nbsp; b) &nbsp; Sort the dice rolls from a) and write them to a separate row in the same textfile. (*)\n",
        "\n",
        "&nbsp; c) &nbsp; Count the number of fours in the dice rolls and write them to a separate row in the same textfile. (*)\n",
        "\n",
        "<details>\n",
        "\n",
        "<summary>Answer </summary>\n",
        "\n",
        "For example:\n",
        "\n",
        "```\n",
        "\n",
        "Simulate 20 dice rolls:\n",
        "[3 4 4 3 1 2 6 6 4 6 2 4 5 3 1 2 1 3 3 1]\n",
        "\n",
        "Sorted dice rolls:\n",
        "[1 1 1 1 2 2 2 3 3 3 3 3 4 4 4 4 5 6 6 6]\n",
        "\n",
        "Number of fours: 4\n",
        "\n",
        "```\n",
        "\n",
        "</details>"
      ]
    },
    {
      "cell_type": "markdown",
      "metadata": {
        "id": "yuL8hz-IQ2Vo"
      },
      "source": [
        "---\n",
        "## 2. Test results (*)\n",
        "Read in the file test_result.txt (located in the data folder of this repo) in Python.\n",
        "\n",
        "[test_result]: https://github.com/kokchun/Programmering-med-Python-21/blob/main/Files/test_result.txt\n",
        "\n",
        "&nbsp; a) &nbsp; Print out the text in the terminal (*)\n",
        "\n",
        "&nbsp; b) &nbsp; Create new rows in the same file and write the people and their corresponding scores in alphabetical order. (*)\n",
        "\n",
        "&nbsp; c) &nbsp; Create additional rows in the same file and sort the people after their grades. The grade limits are: (**)\n",
        "\n",
        "- F < 20\n",
        "- E: 20-29\n",
        "- D: 30-39\n",
        "- C: 40-49\n",
        "- B: 50-59\n",
        "- A: 60-70\n",
        "\n",
        "<details>\n",
        "\n",
        "<summary>Hint </summary>\n",
        "\n",
        "Open the file using option \"r\" for read and open the file using option \"a\" for append.\n",
        "\n",
        "</details>\n",
        "<br>\n",
        "<details>\n",
        "\n",
        "<summary>Answer </summary>\n",
        "\n",
        "```\n",
        "\n",
        "Adam Gustafsson 25\n",
        "Emil Johansson 23\n",
        "Sven Erik Karlsson 13\n",
        "Ove Karlsten 41\n",
        "Emma Boden 32\n",
        "Ida Håkansson 23\n",
        "Ella Ester 41\n",
        "Hanna Karlsson 23\n",
        "Johan Johansson 42\n",
        "Sven Erik Lundin 39\n",
        "Björn Björnsson 39\n",
        "Karl Karlsson 32\n",
        "Bose Bosseson 32\n",
        "Håkan Håkanson 24\n",
        "Jonas Jonasson 31\n",
        "Erik Eriksson 31\n",
        "Gore Bord 55\n",
        "Jakob Kallander 65\n",
        "Fredrika Ulven 10\n",
        "\n",
        "Sorted alphabetically\n",
        "Adam Gustafsson 25\n",
        "Björn Björnsson 39\n",
        "Bose Bosseson 32\n",
        "Ella Ester 41\n",
        "Emil Johansson 23\n",
        "Emma Boden 32\n",
        "Erik Eriksson 31\n",
        "Fredrika Ulven 10\n",
        "Gore Bord 55\n",
        "Hanna Karlsson 23\n",
        "Håkan Håkanson 24\n",
        "Ida Håkansson 23\n",
        "Jakob Kallander 65\n",
        "Johan Johansson 42\n",
        "Jonas Jonasson 31\n",
        "Karl Karlsson 32\n",
        "Ove Karlsten 41\n",
        "Sven Erik Karlsson 13\n",
        "Sven Erik Lundin 39\n",
        "\n",
        "Sorted results:\n",
        "Grade: F\n",
        "Fredrika Ulven 10\n",
        "Sven Erik Karlsson 13\n",
        "Grade: E\n",
        "Adam Gustafsson 25\n",
        "Emil Johansson 23\n",
        "Hanna Karlsson 23\n",
        "Håkan Håkanson 24\n",
        "Ida Håkansson 23\n",
        "Grade: D\n",
        "Björn Björnsson 39\n",
        "Bose Bosseson 32\n",
        "Emma Boden 32\n",
        "Erik Eriksson 31\n",
        "Jonas Jonasson 31\n",
        "Karl Karlsson 32\n",
        "Sven Erik Lundin 39\n",
        "Grade: C\n",
        "Ella Ester 41\n",
        "Johan Johansson 42\n",
        "Ove Karlsten 41\n",
        "Grade: B\n",
        "Gore Bord 55\n",
        "Grade: A\n",
        "Jakob Kallander 65\n",
        "\n",
        "```\n",
        "\n",
        "</details>"
      ]
    },
    {
      "cell_type": "markdown",
      "metadata": {},
      "source": [
        "**a)** Öppna filen i terminalen, precis som i notebooken - och printa sedan"
      ]
    },
    {
      "cell_type": "markdown",
      "metadata": {},
      "source": [
        "**b)**"
      ]
    },
    {
      "cell_type": "markdown",
      "metadata": {},
      "source": [
        "**Delmoment 1: läs in filen**"
      ]
    },
    {
      "cell_type": "code",
      "execution_count": 57,
      "metadata": {},
      "outputs": [
        {
          "name": "stdout",
          "output_type": "stream",
          "text": [
            "['Adam Gustafsson 25\\n', 'Emil Johansson 23\\n', 'Sven Erik Karlsson 13\\n', 'Ove Karlsten 41\\n', 'Emma Boden 32\\n', 'Ida Håkansson 23\\n', 'Ella Ester 41\\n', 'Hanna Karlsson 23 \\n', 'Johan Johansson 42\\n', 'Sven Erik Lundin 39\\n', 'Björn Björnsson 39\\n', 'Karl Karlsson 32\\n', 'Bose Bosseson 32\\n', 'Håkan Håkanson 24\\n', 'Jonas Jonasson 31\\n', 'Erik Eriksson 31\\n', 'Gore Bord 55\\n', 'Jakob Kallander 65\\n', 'Fredrika Ulven 10']\n",
            "<class 'list'>\n"
          ]
        }
      ],
      "source": [
        "path = '../../data/test_result.txt'\n",
        "\n",
        "with open(path, 'r') as file:\n",
        "\n",
        "    contents = file.readlines()            # readlines() till skillnad mot read(), läser in varje rad för sig av filen - och lägger in det i en lista\n",
        "\n",
        "print(contents)\n",
        "print(type(contents))"
      ]
    },
    {
      "cell_type": "markdown",
      "metadata": {},
      "source": [
        "**Delmoment 2: rensa bort alla \\n**"
      ]
    },
    {
      "cell_type": "code",
      "execution_count": 47,
      "metadata": {},
      "outputs": [
        {
          "name": "stdout",
          "output_type": "stream",
          "text": [
            "Adam Gustafsson 25\n"
          ]
        }
      ],
      "source": [
        "# börja först med att försöka rensa ETT namn för att se att det funkar\n",
        "# när du hittat en metod som funkar så applicera den därefter på alla\n",
        "\n",
        "name = 'Adam Gustafsson 25\\n'\n",
        "\n",
        "cleaned_name = name.replace('\\n', '')\n",
        "\n",
        "print(cleaned_name)"
      ]
    },
    {
      "cell_type": "code",
      "execution_count": 48,
      "metadata": {},
      "outputs": [
        {
          "name": "stdout",
          "output_type": "stream",
          "text": [
            "['Adam Gustafsson 25', 'Emil Johansson 23', 'Sven Erik Karlsson 13', 'Ove Karlsten 41', 'Emma Boden 32', 'Ida Håkansson 23', 'Ella Ester 41', 'Hanna Karlsson 23 ', 'Johan Johansson 42', 'Sven Erik Lundin 39', 'Björn Björnsson 39', 'Karl Karlsson 32', 'Bose Bosseson 32', 'Håkan Håkanson 24', 'Jonas Jonasson 31', 'Erik Eriksson 31', 'Gore Bord 55', 'Jakob Kallander 65', 'Fredrika Ulven 10']\n"
          ]
        }
      ],
      "source": [
        "cleaned_contents = [name.replace('\\n', '') for name in contents]\n",
        "print(cleaned_contents)"
      ]
    },
    {
      "cell_type": "markdown",
      "metadata": {},
      "source": [
        "**Delmoment 3: separera namnen från poängen. skapa en lista för varje**"
      ]
    },
    {
      "cell_type": "code",
      "execution_count": 18,
      "metadata": {},
      "outputs": [],
      "source": [
        "# börja först med att försöka separera namn från poäng för EN deltagare\n",
        "# när du hittat en metod som funkar så applicera den därefter på alla"
      ]
    },
    {
      "cell_type": "code",
      "execution_count": 49,
      "metadata": {},
      "outputs": [
        {
          "name": "stdout",
          "output_type": "stream",
          "text": [
            "['Sven', 'Erik', 'Lundin', '39']\n",
            "['Sven', 'Erik', 'Lundin']\n",
            "Sven Erik Lundin\n",
            "39\n"
          ]
        }
      ],
      "source": [
        "deltagare = 'Sven Erik Lundin 39'\n",
        "deltagare_splittad = deltagare.split()\n",
        "\n",
        "print(deltagare_splittad)\n",
        "\n",
        "print(deltagare_splittad[:-1])\n",
        "\n",
        "namn = ' '.join(deltagare_splittad[:-1])\n",
        "print(namn)\n",
        "\n",
        "point = deltagare_splittad[-1]\n",
        "print(point)"
      ]
    },
    {
      "cell_type": "markdown",
      "metadata": {},
      "source": [
        "Bra! Nu har vi hittat en metod som fungerar för alla deltagare, oavsett antal namn i deras namn"
      ]
    },
    {
      "cell_type": "code",
      "execution_count": 52,
      "metadata": {},
      "outputs": [
        {
          "name": "stdout",
          "output_type": "stream",
          "text": [
            "['Adam Gustafsson', 'Emil Johansson', 'Sven Erik Karlsson', 'Ove Karlsten', 'Emma Boden', 'Ida Håkansson', 'Ella Ester', 'Hanna Karlsson', 'Johan Johansson', 'Sven Erik Lundin', 'Björn Björnsson', 'Karl Karlsson', 'Bose Bosseson', 'Håkan Håkanson', 'Jonas Jonasson', 'Erik Eriksson', 'Gore Bord', 'Jakob Kallander', 'Fredrika Ulven']\n",
            "['25', '23', '13', '41', '32', '23', '41', '23', '42', '39', '39', '32', '32', '24', '31', '31', '55', '65', '10']\n"
          ]
        }
      ],
      "source": [
        "alla_namn = []\n",
        "alla_poäng = []\n",
        "\n",
        "for deltagare in cleaned_contents:\n",
        "\n",
        "    deltagare_splittad = deltagare.split()\n",
        "    namn = ' '.join(deltagare_splittad[:-1])\n",
        "    point = deltagare_splittad[-1]\n",
        "\n",
        "    alla_namn.append(namn)\n",
        "    alla_poäng.append(point)\n",
        "\n",
        "print(alla_namn)\n",
        "print(alla_poäng)"
      ]
    },
    {
      "cell_type": "markdown",
      "metadata": {},
      "source": [
        "**Delmoment 4: sortera namnlistan i en ny lista, och hitta rätt index för varje namn i poänglistan**"
      ]
    },
    {
      "cell_type": "code",
      "execution_count": 53,
      "metadata": {},
      "outputs": [
        {
          "name": "stdout",
          "output_type": "stream",
          "text": [
            "['Adam Gustafsson', 'Björn Björnsson', 'Bose Bosseson', 'Ella Ester', 'Emil Johansson', 'Emma Boden', 'Erik Eriksson', 'Fredrika Ulven', 'Gore Bord', 'Hanna Karlsson', 'Håkan Håkanson', 'Ida Håkansson', 'Jakob Kallander', 'Johan Johansson', 'Jonas Jonasson', 'Karl Karlsson', 'Ove Karlsten', 'Sven Erik Karlsson', 'Sven Erik Lundin']\n"
          ]
        }
      ],
      "source": [
        "sorterade_namn = sorted(alla_namn)\n",
        "print(sorterade_namn)"
      ]
    },
    {
      "cell_type": "code",
      "execution_count": 59,
      "metadata": {},
      "outputs": [
        {
          "name": "stdout",
          "output_type": "stream",
          "text": [
            "Adam Gustafsson 25\n",
            "Björn Björnsson 39\n",
            "Bose Bosseson 32\n",
            "Ella Ester 41\n",
            "Emil Johansson 23\n",
            "Emma Boden 32\n",
            "Erik Eriksson 31\n",
            "Fredrika Ulven 10\n",
            "Gore Bord 55\n",
            "Hanna Karlsson 23\n",
            "Håkan Håkanson 24\n",
            "Ida Håkansson 23\n",
            "Jakob Kallander 65\n",
            "Johan Johansson 42\n",
            "Jonas Jonasson 31\n",
            "Karl Karlsson 32\n",
            "Ove Karlsten 41\n",
            "Sven Erik Karlsson 13\n",
            "Sven Erik Lundin 39\n"
          ]
        }
      ],
      "source": [
        "for namn in sorterade_namn:\n",
        "\n",
        "    index = alla_namn.index(namn)          # placeringen för varje namn i alla_namn listan, motsvarar även respektive persons poängplacering i alla_poäng listan\n",
        "    poäng = alla_poäng[index]\n",
        "    \n",
        "    print(namn, poäng)"
      ]
    },
    {
      "cell_type": "markdown",
      "metadata": {},
      "source": [
        "**Delmoment 5: appenda in ovan resultat till vår textfil**"
      ]
    },
    {
      "cell_type": "markdown",
      "metadata": {},
      "source": [
        "Bra, nu när vi vet hur vi får ut namnen i alfabetisk ordning, och med rätt poäng, kan vi skriva in \n",
        "informationen i vår fel. \n",
        "\n",
        "OBS! Vi appendar"
      ]
    },
    {
      "cell_type": "code",
      "execution_count": 61,
      "metadata": {},
      "outputs": [],
      "source": [
        "path = '../../data/test_result.txt'\n",
        "\n",
        "with open(path, 'a') as file:\n",
        "\n",
        "    file.write('\\n\\nSorterade alfabetiskt\\n\\n')       # skapa en titel i textfilen över all information som du nu ska lägga till\n",
        "\n",
        "    for namn in sorterade_namn:\n",
        "\n",
        "        index = alla_namn.index(namn)         \n",
        "        poäng = alla_poäng[index]\n",
        "        \n",
        "        to_write = f'{namn} {poäng}\\n'\n",
        "        \n",
        "        file.write(to_write)\n"
      ]
    }
  ],
  "metadata": {
    "colab": {
      "include_colab_link": true,
      "provenance": []
    },
    "kernelspec": {
      "display_name": "Python 3 (ipykernel)",
      "language": "python",
      "name": "python3"
    },
    "language_info": {
      "codemirror_mode": {
        "name": "ipython",
        "version": 3
      },
      "file_extension": ".py",
      "mimetype": "text/x-python",
      "name": "python",
      "nbconvert_exporter": "python",
      "pygments_lexer": "ipython3",
      "version": "3.11.4"
    },
    "vscode": {
      "interpreter": {
        "hash": "7e1998ff7f8aa20ada591c520b972326324e5ea05489af9e422744c7c09f6dad"
      }
    }
  },
  "nbformat": 4,
  "nbformat_minor": 0
}
