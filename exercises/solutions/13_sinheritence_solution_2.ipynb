{
 "cells": [
  {
   "cell_type": "code",
   "execution_count": 27,
   "metadata": {},
   "outputs": [],
   "source": [
    "class Flygplan:\n",
    "\n",
    "    def __init__(self, byggår: int, längd: (int, float), märke: str):\n",
    "\n",
    "        self.byggår = byggår\n",
    "        self.längd = längd\n",
    "        self.märke = märke\n",
    "\n",
    "    def info(self):\n",
    "\n",
    "        print(f'Flygplan konsruerat år {self.byggår} av märke {self.märke}, längd {self.längd} meter')\n",
    "\n",
    "    def krasch(self):\n",
    "\n",
    "        print('MAYDAY VI GÅR UNDER *kaboom*')\n",
    "\n",
    "    def avgång(self):\n",
    "\n",
    "        print(f'Avgår nu från terminal 4, spänn fast säkerhetsbältena under avstigning')"
   ]
  },
  {
   "cell_type": "code",
   "execution_count": 28,
   "metadata": {},
   "outputs": [],
   "source": [
    "import random\n",
    "\n",
    "class Stridsflygplan(Flygplan):\n",
    "\n",
    "    def __init__(self, byggår, längd, märke, modell: str, topphastighet: int):\n",
    "\n",
    "        # ärver byggår, längd och märke från förälderklassen\n",
    "        super().__init__(byggår, längd, märke)                                     \n",
    "\n",
    "        # initierar de \"egna\" attributerna\n",
    "        self.modell = modell\n",
    "        self.topphastighet = topphastighet\n",
    "\n",
    "    def info(self):\n",
    "\n",
    "        # skriver om metoden info för att bättre passa underklassen\n",
    "        print(f'Stridsflygplan konsruerat år {self.byggår} av märke {self.märke}, modell {self.modell} och topphastighet {self.topphastighet}m/s')\n",
    "\n",
    "    def attack(self):\n",
    "\n",
    "        attack = random.randint(1, 2)\n",
    "\n",
    "        if attack == 1:\n",
    "            print('Attack lyckad! (yippie)')\n",
    "        else:\n",
    "            self.krasch()\n",
    "\n"
   ]
  },
  {
   "cell_type": "code",
   "execution_count": 29,
   "metadata": {},
   "outputs": [],
   "source": [
    "class Passagerarflygplan(Flygplan):\n",
    "\n",
    "    def __init__(self, byggår, längd, märke, maxkapacitet: int):\n",
    "\n",
    "        # ärver byggår, längd och märke från förälderklassen\n",
    "        super().__init__(byggår, längd, märke)\n",
    "\n",
    "        # initierar \"eget\" attribut\n",
    "        self.maxkapacitet = maxkapacitet\n",
    "\n",
    "    def info(self):\n",
    "\n",
    "        # skriver om metoden för att bättre passa underklassen\n",
    "        print(f'Passagerarflygplan konstruerat år {self.byggår} av märke {self.märke}, med max {self.maxkapacitet} passagerare')\n",
    "\n",
    "    def krasch(self):\n",
    "        # skriver om metoden för att bättre passa underklassen\n",
    "        print(f'*kaputt* det var ju inte bra, alla {self.maxkapacitet} passagerare undkom i kraschen ¯\\_(ツ)_/¯')"
   ]
  }
 ],
 "metadata": {
  "kernelspec": {
   "display_name": "Python 3",
   "language": "python",
   "name": "python3"
  },
  "language_info": {
   "codemirror_mode": {
    "name": "ipython",
    "version": 3
   },
   "file_extension": ".py",
   "mimetype": "text/x-python",
   "name": "python",
   "nbconvert_exporter": "python",
   "pygments_lexer": "ipython3",
   "version": "3.10.12"
  },
  "orig_nbformat": 4
 },
 "nbformat": 4,
 "nbformat_minor": 2
}
