{
  "cells": [
    {
      "cell_type": "markdown",
      "metadata": {
        "colab_type": "text",
        "id": "view-in-github"
      },
      "source": [
        "<a href=\"https://colab.research.google.com/github/aleylani/Python/blob/main/exercises/12_OOP_inheritance_polymorphism.ipynb\" target=\"_parent\"><img src=\"https://colab.research.google.com/assets/colab-badge.svg\" alt=\"Open In Colab\"/></a>"
      ]
    },
    {
      "cell_type": "markdown",
      "metadata": {
        "id": "IVncMQkYRamR"
      },
      "source": [
        "# OOP exercises - inheritance and polymorphism\n",
        "\n",
        "---\n",
        "These are introductory exercises in Python with focus in **Object oriented programming**.\n",
        "\n",
        "<p class = \"alert alert-info\" role=\"alert\"><b>Remember</b> to use <b>descriptive variable, function and class names</b> in order to get readable code </p>\n",
        "\n",
        "<p class = \"alert alert-info\" role=\"alert\"><b>Remember</b> to format your answers in a neat way using <b>f-strings</b></p>\n",
        "\n",
        "<p class = \"alert alert-info\" role=\"alert\"><b>Remember</b> to format your input questions in a pedagogical way to guide the user</p>\n",
        "\n",
        "<p class = \"alert alert-info\" role=\"alert\"><b>Remember</b> to write good docstrings for your methods and classes </p>\n",
        "\n",
        "The number of stars (\\*), (\\*\\*), (\\*\\*\\*) denotes the difficulty level of the task\n",
        "\n",
        "---"
      ]
    },
    {
      "cell_type": "markdown",
      "metadata": {
        "id": "0LmdhIcCRamT"
      },
      "source": [
        "## 1. Movie (*)\n",
        "\n",
        "Create a Movie class with the following functionality:\n",
        "\n",
        "It should be able to accept 4 arguments\n",
        "\n",
        "    name, genre, IMDB-rating, duration (in minutes)\n",
        "\n",
        "Use the following code to test your program.\n",
        "\n",
        "```python\n",
        "pokemon = Movie(\"Pokemon\", \"Cartoon\", 4.5, 94)\n",
        "titanic = Movie(\"Titanic\", \"Romance\", 4.7, 120)\n",
        "code = Movie(\"The Code\", \"Math\", 4, 82)\n",
        "\n",
        "```\n",
        "\n",
        "Now, create a method called info() that accomplishes the following\n",
        "\n",
        "    for movie in tuple((pokemon, titanic, code)):\n",
        "        print(movie.info())\n",
        "        \n",
        "    Movie with title Pokemon, genre Cartoon, rating 4.5, duration 94 minutes\n",
        "\n",
        "    Movie with title Titanic, genre Romance, rating 4.7, duration 120 minutes\n",
        "\n",
        "    Movie with title The Code, genre Math and rating 4, duration 82 minutes\n",
        "```"
      ]
    },
    {
      "cell_type": "markdown",
      "metadata": {},
      "source": [
        "\n",
        "Additionally overload the + operator so that we can see how long any given combination of movies is. For example:\n",
        "\n",
        "    pokemon + titanic\n",
        "\n",
        "should yield\n",
        "\n",
        "    The movies Pokemon and Titanic, together, have a total playtime of 94 + 120 = 214 minutes."
      ]
    },
    {
      "cell_type": "code",
      "execution_count": null,
      "metadata": {},
      "outputs": [],
      "source": [
        "class Movie():\n",
        "    \n",
        "    def __init__(self, name: str, genre: str, imdb_rating: [int, float], duration: int):\n",
        "        \n",
        "        self.__name = name\n",
        "        self.__genre = genre\n",
        "        self.__rating = imdb_rating\n",
        "        self.__duration = duration\n",
        "\n",
        "    def info(self):\n",
        "\n",
        "        print(f'Movie with title {self.__name}, genre {self.__genre}, rating {self.__rating}, duration {self.__duration}')\n",
        "\n",
        "    def __add__(self, other):\n",
        "\n",
        "        print(f'The movies {self.__name} and {other.__name} have a combined playtime of {self.__duration} + {other.__duration} = {self.__duration + other.__duration}')"
      ]
    },
    {
      "cell_type": "code",
      "execution_count": null,
      "metadata": {},
      "outputs": [],
      "source": [
        "titanic = Movie('Titanic', 'Romance', 4.7, 120)\n",
        "matrix = Movie('The Matrix', 'Action', 10, 100)"
      ]
    },
    {
      "cell_type": "code",
      "execution_count": null,
      "metadata": {},
      "outputs": [],
      "source": [
        "titanic.info()\n",
        "matrix.info()\n",
        "\n",
        "titanic + matrix"
      ]
    },
    {
      "cell_type": "markdown",
      "metadata": {
        "id": "bRQQ_JfxRamT"
      },
      "source": [
        "---\n",
        "## 2. Fraction (**)\n",
        "\n",
        "Create a class called Frac to represent mathematical fractions. The class is instantiated with two instance variables: nominator and denominator. Objects instantiated from this class should have methods for addition, subtraction, multiplication, division using the operators +,-,*,/. Note that these implemented methods must be mathematically correct. Also implement the following methods:\n",
        "\n",
        "```python\n",
        "\n",
        "__repr__(self) # represent the fraction in an unambigious way when printing\n",
        "\n",
        "mixed(self) # represent the fraction in mixed terms\n",
        "\n",
        "__eq__(self, other) # checks equality by overloading ==\n",
        "\n",
        "simplify(self) # simplifies the fraction to its most simple form (with all common divisors removed) \n",
        "\n",
        "```\n",
        "\n",
        "Also remember to handle errors and validations.\n",
        "\n",
        "Example of tests that it should handled:\n",
        "\n",
        "- 1/2 + 1/3 = 5/6\n",
        "- 1/2 - 1/3 = 1/6\n",
        "- 7/6 --> 1 1/6 (mixed)\n",
        "- 3*1/2 = 3/2\n",
        "- 1/2 * 3 = 3/2\n",
        "- 1/4 + 2 = 9/4\n",
        "- 1/4 / 1/2 = 1/2\n",
        "- 2/4 == 1/2 --> True\n",
        "- 3/4 += 2 = 11/4\n",
        "\n",
        "</details>\n"
      ]
    },
    {
      "cell_type": "markdown",
      "metadata": {},
      "source": [
        "**NOTE: This is a student provided solution**"
      ]
    },
    {
      "cell_type": "code",
      "execution_count": null,
      "metadata": {},
      "outputs": [],
      "source": [
        "from math import gcd\n",
        "\n",
        "\n",
        "class Frac:\n",
        "    def __init__(self, nominator: [int, float], denominator: [int, float]) -> None:\n",
        "        if not isinstance(nominator, (int, float)):\n",
        "            raise TypeError(\"Has to be a number, either integer or float\")\n",
        "        else:\n",
        "            self._nominator = nominator\n",
        "\n",
        "        if not isinstance(denominator, (int, float)):\n",
        "            raise TypeError(\"Has to be a number, either integer or float\")\n",
        "        else:\n",
        "            self._denominator = denominator\n",
        "        self.simplify()\n",
        "\n",
        "    @property\n",
        "    def nominator(self):\n",
        "        return self._nominator\n",
        "\n",
        "    @property\n",
        "    def denominator(self):\n",
        "        return self._denominator\n",
        "\n",
        "    def simplify(self):\n",
        "        greatest_common_divisor = gcd(self.nominator, self.denominator)\n",
        "        simplified_numerator = self.nominator // greatest_common_divisor\n",
        "        simplified_denominator = self.denominator // greatest_common_divisor\n",
        "        self._nominator = simplified_numerator\n",
        "        self._denominator = simplified_denominator\n",
        "\n",
        "        return simplified_numerator, simplified_denominator\n",
        "\n",
        "    def __add__(self, other):\n",
        "        if isinstance(other, int):\n",
        "            other = Frac(other, 1)\n",
        "\n",
        "        total_nominator = (\n",
        "            self.nominator * other.denominator + other.nominator * self.denominator\n",
        "        )\n",
        "        total_denominator = self.denominator * other.denominator\n",
        "\n",
        "        result = Frac(total_nominator, total_denominator)\n",
        "        result.simplify()\n",
        "\n",
        "        return result\n",
        "\n",
        "    def __radd__(self, other):\n",
        "        return self.__add__(other)\n",
        "\n",
        "    def __sub__(self, other):\n",
        "        if isinstance(other, int):\n",
        "            other = Frac(other, 1)\n",
        "\n",
        "        total_nominator = (\n",
        "            self.nominator * other.denominator * other.nominator * self.denominator\n",
        "        )\n",
        "        total_denominator = self.denominator * other.denominator\n",
        "\n",
        "        result = Frac(total_nominator, total_denominator)\n",
        "        result.simplify()\n",
        "        return result\n",
        "\n",
        "    def __rsub__(self, other):\n",
        "        return self.__sub__(other)\n",
        "\n",
        "    def __mul__(self, other):\n",
        "        if isinstance(other, int):\n",
        "            other = Frac(other, 1)\n",
        "\n",
        "        total_nominator = self.nominator * other.nominator\n",
        "        total_denominator = self.denominator * other.denominator\n",
        "\n",
        "        result = Frac(total_nominator, total_denominator)\n",
        "        result.simplify()\n",
        "        return result\n",
        "\n",
        "    def __rmul__(self, other):\n",
        "        return self.__mul__(other)\n",
        "\n",
        "    def __truediv__(self, other):\n",
        "        if isinstance(other, int):\n",
        "            other = Frac(other, 1)\n",
        "\n",
        "        total_nominator = self.nominator * other.denominator\n",
        "        total_denominator = self.denominator * other.nominator\n",
        "\n",
        "        result = Frac(total_nominator, total_denominator)\n",
        "        result.simplify()\n",
        "        return result\n",
        "\n",
        "    def __rtruediv__(self, other):\n",
        "        return self.__truediv__(other)\n",
        "\n",
        "    def __eq__(self, other) -> bool:\n",
        "        return (self.nominator / self.denominator) == (\n",
        "            other.nominator / other.denominator\n",
        "        )\n",
        "\n",
        "    def to_mixed_number(self):\n",
        "        if self._nominator >= self._denominator:\n",
        "            whole_number = self._nominator // self._denominator\n",
        "            remainder = self._nominator % self._denominator\n",
        "            if remainder == 0:\n",
        "                return str(whole_number)\n",
        "            else:\n",
        "                return f\"{whole_number} {remainder}/{self._denominator}\"\n",
        "        else:\n",
        "            return None\n",
        "\n",
        "    def __str__(self):\n",
        "        mixed_number = self.to_mixed_number()\n",
        "        if mixed_number:\n",
        "            return mixed_number\n",
        "        elif self._denominator == 1:\n",
        "            return str(self._nominator)\n",
        "        elif self._nominator == self._denominator:\n",
        "            return \"1\"\n",
        "        else:\n",
        "            return f\"{self._nominator}/{self._denominator}\""
      ]
    },
    {
      "cell_type": "code",
      "execution_count": null,
      "metadata": {},
      "outputs": [],
      "source": []
    }
  ],
  "metadata": {
    "colab": {
      "include_colab_link": true,
      "provenance": []
    },
    "kernelspec": {
      "display_name": "Python 3 (ipykernel)",
      "language": "python",
      "name": "python3"
    },
    "language_info": {
      "codemirror_mode": {
        "name": "ipython",
        "version": 3
      },
      "file_extension": ".py",
      "mimetype": "text/x-python",
      "name": "python",
      "nbconvert_exporter": "python",
      "pygments_lexer": "ipython3",
      "version": "3.11.4"
    },
    "vscode": {
      "interpreter": {
        "hash": "0da836a34428266995a795f1e1e27b816fa1c02f148d9728b3fbbbc5459afca6"
      }
    }
  },
  "nbformat": 4,
  "nbformat_minor": 0
}
