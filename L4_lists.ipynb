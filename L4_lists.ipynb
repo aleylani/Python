{
  "cells": [
    {
      "cell_type": "markdown",
      "metadata": {
        "id": "view-in-github",
        "colab_type": "text"
      },
      "source": [
        "<a href=\"https://colab.research.google.com/github/aleylani/Python/blob/main/L4_lists.ipynb\" target=\"_parent\"><img src=\"https://colab.research.google.com/assets/colab-badge.svg\" alt=\"Open In Colab\"/></a>"
      ]
    },
    {
      "cell_type": "markdown",
      "metadata": {
        "id": "kKRRVvrMF4cs"
      },
      "source": [
        "# Lists"
      ]
    },
    {
      "cell_type": "markdown",
      "metadata": {
        "id": "x_9jfHoTF4ct"
      },
      "source": [
        "## Access elements"
      ]
    },
    {
      "cell_type": "code",
      "execution_count": null,
      "metadata": {
        "id": "AahecMFXF4cu"
      },
      "outputs": [],
      "source": [
        "# creates a new list with some elements\n",
        "nice_foods = [\"pizza\", \"lasagne\", \"spaghetti\", \"pancakes\", \"banana\", \"grapes\"]\n",
        "\n",
        "print(nice_foods)\n",
        "\n",
        "# gets first element\n",
        "print(f\"{nice_foods[0]=}\")\n",
        "# gets last element\n",
        "print(f\"{nice_foods[-1]=}\")\n",
        "print(f\"{nice_foods[5]=}\")\n",
        "\n",
        "# element på index 3\n",
        "print(f\"{nice_foods[-3]=}\")"
      ]
    },
    {
      "cell_type": "markdown",
      "metadata": {
        "id": "TNxG911VF4cu"
      },
      "source": [
        "## Slicing"
      ]
    },
    {
      "cell_type": "code",
      "execution_count": null,
      "metadata": {
        "id": "RaL0nafkF4cv"
      },
      "outputs": [],
      "source": [
        "print(nice_foods)\n",
        "print(f\"{nice_foods[1:4]=}\")\n",
        "print(f\"{nice_foods[:-1]=}\") # 0 to -2\n",
        "\n",
        "print(f\"{nice_foods[:4]=}\") # 0,1,2,3\n",
        "print(f\"{nice_foods[::-1]=}\") # reverses the list"
      ]
    },
    {
      "cell_type": "code",
      "execution_count": null,
      "metadata": {
        "id": "2niszHx1F4cv"
      },
      "outputs": [],
      "source": [
        "# sorting by first letter\n",
        "nice_foods.sort()\n",
        "print(nice_foods)\n",
        "\n",
        "numbers = [2,1,5,-5]\n",
        "numbers.sort()\n",
        "\n",
        "# sorting ascending\n",
        "print(numbers)"
      ]
    },
    {
      "cell_type": "markdown",
      "metadata": {
        "id": "y-3_uakQF4cv"
      },
      "source": [
        "## for-loop with enumerate"
      ]
    },
    {
      "cell_type": "code",
      "execution_count": null,
      "metadata": {
        "id": "YbGbiJJkF4cw"
      },
      "outputs": [],
      "source": [
        "print(nice_foods)\n",
        "\n",
        "# enumerate -> (index, element) in list\n",
        "for i, food in enumerate(nice_foods,1):\n",
        "    print(f\"{i}. {food}\")\n",
        "\n",
        "\"\"\"\n",
        "for i in range(len(nice_foods)):\n",
        "    print(f\"{i}. {nice_foods[i]}\")\n",
        "\"\"\";"
      ]
    },
    {
      "cell_type": "markdown",
      "metadata": {
        "id": "cOekb0yeF4cw"
      },
      "source": [
        "## List comprehension"
      ]
    },
    {
      "cell_type": "code",
      "execution_count": null,
      "metadata": {
        "id": "GEicOV2qF4cx"
      },
      "outputs": [],
      "source": [
        "# \"normal way\" using append\n",
        "\n",
        "cubes = []\n",
        "\n",
        "for i in range(10):\n",
        "    cubes.append(i**3) # i^3\n",
        "\n",
        "cubes"
      ]
    },
    {
      "cell_type": "code",
      "execution_count": null,
      "metadata": {
        "id": "CfBhoRh4F4cx"
      },
      "outputs": [],
      "source": [
        "# list comprehension\n",
        "cubes = [i**3 for i in range(10)]\n",
        "cubes"
      ]
    },
    {
      "cell_type": "code",
      "execution_count": null,
      "metadata": {
        "id": "iEA1DMAdF4cy"
      },
      "outputs": [],
      "source": [
        "# cubes every odd number\n",
        "cubes_odd = [i**3 for i in range(10) if i%2!=0]\n",
        "cubes_odd"
      ]
    },
    {
      "cell_type": "code",
      "execution_count": null,
      "metadata": {
        "id": "oUZAmKmUF4cy"
      },
      "outputs": [],
      "source": [
        "import random as rnd\n",
        "# dice list\n",
        "dices = [rnd.randint(1,6) for _ in range(10)] # convention to use _ when not using the loop variable\n",
        "dices"
      ]
    },
    {
      "cell_type": "markdown",
      "metadata": {
        "id": "nChOxtMcF4cy"
      },
      "source": [
        "## lists in list"
      ]
    },
    {
      "cell_type": "code",
      "execution_count": null,
      "metadata": {
        "id": "eAGk9JGbF4cy"
      },
      "outputs": [],
      "source": [
        "grades = [[\"A\", 25], [\"B\", 20], [\"F\", 5]]\n",
        "\n",
        "print(f\"{grades[1]=}\")\n",
        "print(f\"{grades[1][0]=}\")\n",
        "print(f\"{grades[1][1]=}\")\n"
      ]
    }
  ],
  "metadata": {
    "kernelspec": {
      "display_name": "Python 3 (ipykernel)",
      "language": "python",
      "name": "python3"
    },
    "language_info": {
      "codemirror_mode": {
        "name": "ipython",
        "version": 3
      },
      "file_extension": ".py",
      "mimetype": "text/x-python",
      "name": "python",
      "nbconvert_exporter": "python",
      "pygments_lexer": "ipython3",
      "version": "3.8.13"
    },
    "vscode": {
      "interpreter": {
        "hash": "0da836a34428266995a795f1e1e27b816fa1c02f148d9728b3fbbbc5459afca6"
      }
    },
    "colab": {
      "provenance": [],
      "include_colab_link": true
    }
  },
  "nbformat": 4,
  "nbformat_minor": 0
}