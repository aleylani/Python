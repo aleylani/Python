{
  "cells": [
    {
      "cell_type": "markdown",
      "metadata": {
        "id": "view-in-github",
        "colab_type": "text"
      },
      "source": [
        "<a href=\"https://colab.research.google.com/github/aleylani/Python/blob/main/L8_file_handling.ipynb\" target=\"_parent\"><img src=\"https://colab.research.google.com/assets/colab-badge.svg\" alt=\"Open In Colab\"/></a>"
      ]
    },
    {
      "cell_type": "markdown",
      "metadata": {
        "id": "ieAvFFNtGep4"
      },
      "source": [
        "# File handling\n",
        "\n",
        "```py\n",
        "with open(path, option) as name:\n",
        "    statements\n",
        "    ...\n",
        "```\n",
        "\n",
        "options\n",
        "- \"r\" - read\n",
        "- \"a\" - append to a file (if it doesn't exist - it will create the file)\n",
        "- \"w\" - write (if it doesn't exist - it will create the file)\n",
        "- \"x\" - create a file, error if it already exists"
      ]
    },
    {
      "cell_type": "code",
      "execution_count": null,
      "metadata": {
        "id": "RiQWWkF3Gep5"
      },
      "outputs": [],
      "source": [
        "path = \"../Data/quotes.txt\"\n",
        "\n",
        "with open(path, \"r\") as f:\n",
        "    text = f.read()\n",
        "\n",
        "print(text)"
      ]
    },
    {
      "cell_type": "markdown",
      "metadata": {
        "id": "foI_8QgAGep6"
      },
      "source": [
        "## Cleaning up quotes.txt\n",
        "\n",
        "- inspect txt-file manually (some prankster has added random noise in form of whitespace and newlines)\n",
        "- remove leading and trailing whitespaces\n",
        "- remove excessive white spaces in between words\n",
        "- add quote numbers"
      ]
    },
    {
      "cell_type": "code",
      "execution_count": null,
      "metadata": {
        "id": "4sGr70OJGep6"
      },
      "outputs": [],
      "source": [
        "import re\n",
        "\n",
        "with open(path, \"r\") as f_read, open(\"../Data/quotes_clean.txt\", \"w\") as f_write:\n",
        "    quote_number = 1\n",
        "\n",
        "    # loops through each line in the text file\n",
        "    for quote in f_read:\n",
        "        quote = quote.strip(\" \\n\") # removes leading and trailing spaces and newlines\n",
        "        quote = re.sub(\" +\", \" \", quote) # regex to substitute >=1 whitespace with 1 whitespace\n",
        "\n",
        "        # write to new file if the line is not \"\"\n",
        "        if quote != \"\":\n",
        "            f_write.write(f\"{quote_number}. {quote}\\n\")\n",
        "            print(f\"{quote_number}. {quote}\\n\", end=\"\")\n",
        "            quote_number += 1"
      ]
    },
    {
      "cell_type": "markdown",
      "metadata": {
        "id": "PcMUKBajGep6"
      },
      "source": [
        "## Pick out the authors\n",
        "\n",
        "- find digit to find quote\n",
        "- extract first name and last names\n",
        "- join into full name\n",
        "- get unique values"
      ]
    },
    {
      "cell_type": "code",
      "execution_count": null,
      "metadata": {
        "id": "lmAWdZT4Gep7"
      },
      "outputs": [],
      "source": [
        "with open(\"../Data/quotes_clean.txt\", \"r\") as f_quotes, open(\"../Data/quotes_clean.txt\", \"a\") as f_append:\n",
        "    # reads in each line as a list\n",
        "    # strips away \"\\n\"\n",
        "    quotes = [quote.strip(\"\\n\") for quote in f_quotes.readlines()]\n",
        "    authors = [quote.split()[-2:] for quote in quotes]\n",
        "    print(authors)\n",
        "\n",
        "    # set - gives the unique elements\n",
        "    authors = set([\" \".join(author) for author in authors])\n",
        "    print(authors)\n",
        "\n",
        "    f_append.write(\"\\nAuthors: \")\n",
        "    for author in authors:\n",
        "        f_append.write(f\"{author}, \")\n"
      ]
    },
    {
      "cell_type": "code",
      "execution_count": null,
      "metadata": {
        "id": "YBkfKRBJGep7"
      },
      "outputs": [],
      "source": [
        "name = [[\"Ali\", \"Leylani\"]]\n",
        "\" \".join(name[0])"
      ]
    },
    {
      "cell_type": "code",
      "execution_count": null,
      "metadata": {
        "id": "vQNCck7mGep8"
      },
      "outputs": [],
      "source": [
        "authors"
      ]
    }
  ],
  "metadata": {
    "kernelspec": {
      "display_name": "Python 3 (ipykernel)",
      "language": "python",
      "name": "python3"
    },
    "language_info": {
      "codemirror_mode": {
        "name": "ipython",
        "version": 3
      },
      "file_extension": ".py",
      "mimetype": "text/x-python",
      "name": "python",
      "nbconvert_exporter": "python",
      "pygments_lexer": "ipython3",
      "version": "3.8.13"
    },
    "vscode": {
      "interpreter": {
        "hash": "3b136723b0d4708e16bf623335cc8688085bd3f1313316a001291a7f1d2024db"
      }
    },
    "colab": {
      "provenance": [],
      "include_colab_link": true
    }
  },
  "nbformat": 4,
  "nbformat_minor": 0
}