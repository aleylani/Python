{
  "cells": [
    {
      "cell_type": "markdown",
      "metadata": {
        "id": "view-in-github",
        "colab_type": "text"
      },
      "source": [
        "<a href=\"https://colab.research.google.com/github/aleylani/Python/blob/main/L5_strings.ipynb\" target=\"_parent\"><img src=\"https://colab.research.google.com/assets/colab-badge.svg\" alt=\"Open In Colab\"/></a>"
      ]
    },
    {
      "cell_type": "markdown",
      "metadata": {
        "id": "t7jhJHZ2GN1k"
      },
      "source": [
        "# Strings"
      ]
    },
    {
      "cell_type": "code",
      "execution_count": null,
      "metadata": {
        "id": "lmOL5aFjGN1l"
      },
      "outputs": [],
      "source": [
        "firstname = \"Ali\"\n",
        "lastname = \"Leylani\"\n",
        "\n",
        "# concatenate strings\n",
        "name = firstname +\" \"+ lastname\n",
        "age = 33\n",
        "address = \"Stockholm\"\n",
        "phone = \"911\"\n",
        "\n",
        "print(name)\n",
        "\n",
        "# multiline f-string\n",
        "contact = f\"\"\"\n",
        "Name: {name},\n",
        "Age: {age},\n",
        "Address: {address},\n",
        "Phone: {phone}\n",
        "\"\"\"\n",
        "\n",
        "print(contact)"
      ]
    },
    {
      "cell_type": "markdown",
      "metadata": {
        "id": "0PPNPBm5GN1m"
      },
      "source": [
        "## Iterate through lists and concatenates"
      ]
    },
    {
      "cell_type": "code",
      "execution_count": null,
      "metadata": {
        "id": "FUQ7qQuGGN1m"
      },
      "outputs": [],
      "source": [
        "schedule = [\"AI intro\", \"Python\", \"Matte\", \"Självplugg\", \"Chilla\", \"\"]\n",
        "days = [\"Må\",\"Ti\", \"On\", \"To\", \"Fr\", \"Lö\"]\n",
        "\n",
        "# \\n => newline\n",
        "week_plan = \"Plan \\n\"\n",
        "\n",
        "# Plan\n",
        "# Må: AI intro\n",
        "# Ti: Python\n",
        "# ...\n",
        "\n",
        "for day, task in zip(days, schedule):\n",
        "    week_plan += f\"{day}: {task}\\n\"\n",
        "\n",
        "print(week_plan)"
      ]
    },
    {
      "cell_type": "markdown",
      "metadata": {
        "id": "tK9ZSGMPGN1n"
      },
      "source": [
        "## Indexing"
      ]
    },
    {
      "cell_type": "code",
      "execution_count": null,
      "metadata": {
        "id": "FxSWS70KGN1n"
      },
      "outputs": [],
      "source": [
        "quote = \"!False - it's funny because it's true\"\n",
        "\n",
        "print(f\"{quote[0]=}\")\n",
        "print(f\"{quote[:6]=}\")\n",
        "print(f\"{quote[-4:]=}\")\n",
        "\n",
        "print(f\"Backwards: {quote[::-1]=}\")\n",
        "\n",
        "print(f\"Length of string: {len(quote)} characters\")"
      ]
    },
    {
      "cell_type": "markdown",
      "metadata": {
        "id": "9UvFr-WOGN1n"
      },
      "source": [
        "## Split strings"
      ]
    },
    {
      "cell_type": "code",
      "execution_count": null,
      "metadata": {
        "id": "uRSZR4DJGN1o"
      },
      "outputs": [],
      "source": [
        "# not possible\n",
        "# numbers = float(input(\"Ange tre tal (separerade med kommatecken): \"))\n",
        "\n",
        "numbers = input(\"Ange tre tal (separerade med kommatecken): \")\n",
        "# 1. split the string into a list of 3 strings\n",
        "# 2. type convert each string into a float by iterating through the list\n",
        "\n",
        "# list comprehension\n",
        "numbers = [float(number) for number in numbers.split(\",\")]\n",
        "mean_value = sum(numbers)/len(numbers)\n",
        "print(f\"{numbers=}\")\n",
        "print(f\"{mean_value=}\")"
      ]
    },
    {
      "cell_type": "markdown",
      "metadata": {
        "id": "fs8hAaeQGN1o"
      },
      "source": [
        "## Regular expression\n",
        "\n",
        "- find patterns in a string\n",
        "- e.g. phone numbers, email, capital letters, sequences ..."
      ]
    },
    {
      "cell_type": "code",
      "execution_count": null,
      "metadata": {
        "id": "rlffRowjGN1p"
      },
      "outputs": [],
      "source": [
        "import re\n",
        "\n",
        "text = \"Mitt telefonnummer är 021-432512, \\\n",
        "Adas nummer är 042-321345, Bedas nummer är: 0739-242521\"\n",
        "\n",
        "print(text)\n",
        "\n",
        "# extract the numbers\n",
        "match1 = re.findall(r\"\\d\\d\\d-\\d\\d\\d\\d\\d\\d\", text) # r\"\" - raw string\n",
        "print(match1)\n",
        "\n",
        "# print(r\"Hej\\ndå\")\n",
        "\n",
        "match2 = re.findall(r\"\\d{3}-\\d{6}\", text)\n",
        "\n",
        "print(match2)"
      ]
    },
    {
      "cell_type": "code",
      "execution_count": null,
      "metadata": {
        "id": "SGGREGVoGN1p"
      },
      "outputs": [],
      "source": [
        "text = \"Det var en gång en katter, som tog sig på en hatt, och spelade schack, fick schackmatt med hjälp av skolmatt\"\n",
        "\n",
        "match = re.findall(r\".att\", text)\n",
        "print(match)\n",
        "\n",
        "# try to extract the whole words that contains with \"att\""
      ]
    }
  ],
  "metadata": {
    "kernelspec": {
      "display_name": "Python 3 (ipykernel)",
      "language": "python",
      "name": "python3"
    },
    "language_info": {
      "codemirror_mode": {
        "name": "ipython",
        "version": 3
      },
      "file_extension": ".py",
      "mimetype": "text/x-python",
      "name": "python",
      "nbconvert_exporter": "python",
      "pygments_lexer": "ipython3",
      "version": "3.8.13"
    },
    "vscode": {
      "interpreter": {
        "hash": "3b136723b0d4708e16bf623335cc8688085bd3f1313316a001291a7f1d2024db"
      }
    },
    "colab": {
      "provenance": [],
      "include_colab_link": true
    }
  },
  "nbformat": 4,
  "nbformat_minor": 0
}