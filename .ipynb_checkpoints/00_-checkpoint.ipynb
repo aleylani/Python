{
 "cells": [
  {
   "cell_type": "markdown",
   "id": "9527dfb9",
   "metadata": {},
   "source": [
    "*Idag är er första Python-lektion!*"
   ]
  },
  {
   "cell_type": "markdown",
   "id": "689a4281",
   "metadata": {},
   "source": [
    "**Idag är er första Python-lektion!**"
   ]
  },
  {
   "cell_type": "markdown",
   "id": "069ffcb2",
   "metadata": {},
   "source": [
    "Nu ska vi få python att skriva ut en text!"
   ]
  },
  {
   "cell_type": "markdown",
   "id": "a26e05a4",
   "metadata": {},
   "source": [
    "# Print statements"
   ]
  },
  {
   "cell_type": "code",
   "execution_count": null,
   "id": "b99a834b",
   "metadata": {},
   "outputs": [],
   "source": [
    "print('hej ali') # Den här funktionen kallas för print, och printar ut sitt argument\n",
    "print(\"hej klassen\")"
   ]
  },
  {
   "cell_type": "markdown",
   "id": "afbb3587",
   "metadata": {},
   "source": [
    " "
   ]
  },
  {
   "cell_type": "markdown",
   "id": "59f2da84",
   "metadata": {},
   "source": [
    "## Variabler"
   ]
  },
  {
   "cell_type": "code",
   "execution_count": 1,
   "id": "8fe82a1d",
   "metadata": {},
   "outputs": [],
   "source": [
    "name = 'Ali'"
   ]
  },
  {
   "cell_type": "code",
   "execution_count": null,
   "id": "6e883cd3",
   "metadata": {},
   "outputs": [],
   "source": [
    "print(name)"
   ]
  },
  {
   "cell_type": "markdown",
   "id": "ff47363d",
   "metadata": {},
   "source": []
  },
  {
   "cell_type": "code",
   "execution_count": null,
   "id": "05db3a9e",
   "metadata": {},
   "outputs": [],
   "source": [
    "b = 'Ali'"
   ]
  },
  {
   "cell_type": "code",
   "execution_count": null,
   "id": "63196f98",
   "metadata": {},
   "outputs": [],
   "source": [
    "print(b)"
   ]
  },
  {
   "cell_type": "markdown",
   "id": "7dde63db",
   "metadata": {},
   "source": []
  },
  {
   "cell_type": "code",
   "execution_count": null,
   "id": "2883b3f3",
   "metadata": {},
   "outputs": [],
   "source": [
    "teacher = 'Ali'    # lärare till årets kull av AI-programmerare\n",
    "students = 'AI23'  # världens grymmaste klass\n",
    "\n",
    "print(teacher)\n",
    "print(students)"
   ]
  },
  {
   "cell_type": "code",
   "execution_count": null,
   "id": "eae30797",
   "metadata": {},
   "outputs": [],
   "source": [
    "teacher = 'Ali'   \n",
    "students = 'AI23'  \n",
    "\n",
    "print(teacher)\n",
    "print(students)"
   ]
  },
  {
   "cell_type": "markdown",
   "id": "c559d686",
   "metadata": {},
   "source": []
  },
  {
   "cell_type": "code",
   "execution_count": null,
   "id": "adc70cde",
   "metadata": {},
   "outputs": [],
   "source": [
    "uu = 'Ali'\n",
    "uv = 'AI23'"
   ]
  },
  {
   "cell_type": "code",
   "execution_count": null,
   "id": "160cce8c",
   "metadata": {},
   "outputs": [],
   "source": [
    "print(uu)\n",
    "print(uv)"
   ]
  },
  {
   "cell_type": "code",
   "execution_count": null,
   "id": "11b4c65c",
   "metadata": {},
   "outputs": [],
   "source": []
  },
  {
   "cell_type": "code",
   "execution_count": null,
   "id": "3e07bd00",
   "metadata": {},
   "outputs": [],
   "source": [
    "print(students)\n",
    "print(teacher)"
   ]
  },
  {
   "cell_type": "code",
   "execution_count": null,
   "id": "8db1205e",
   "metadata": {},
   "outputs": [],
   "source": []
  },
  {
   "cell_type": "markdown",
   "id": "be7f92fb",
   "metadata": {},
   "source": [
    "Lite mer om Ali"
   ]
  },
  {
   "cell_type": "code",
   "execution_count": null,
   "id": "1dee7853",
   "metadata": {},
   "outputs": [],
   "source": [
    "firstname = 'Ali'\n",
    "lastname = 'Leylani'\n",
    "age = 33"
   ]
  },
  {
   "cell_type": "code",
   "execution_count": null,
   "id": "ad627769",
   "metadata": {},
   "outputs": [],
   "source": [
    "print(firstname)\n",
    "print(lastname)\n",
    "\n",
    "print(f'Hej jag heter {firstname} i förnamn, och {lastname} i efternamn')"
   ]
  },
  {
   "cell_type": "code",
   "execution_count": null,
   "id": "7275bc6d",
   "metadata": {},
   "outputs": [],
   "source": [
    "print(f'Jag önskar att jag vore tio år yngre men jag är {age} år gammal')"
   ]
  },
  {
   "cell_type": "code",
   "execution_count": null,
   "id": "332a50b8",
   "metadata": {},
   "outputs": [],
   "source": []
  },
  {
   "cell_type": "code",
   "execution_count": null,
   "id": "8c85b0b1",
   "metadata": {},
   "outputs": [],
   "source": [
    "type(firstname)"
   ]
  },
  {
   "cell_type": "code",
   "execution_count": null,
   "id": "7257cc2f",
   "metadata": {},
   "outputs": [],
   "source": [
    "type(age)"
   ]
  },
  {
   "cell_type": "code",
   "execution_count": null,
   "id": "69461689",
   "metadata": {},
   "outputs": [],
   "source": []
  },
  {
   "cell_type": "code",
   "execution_count": null,
   "id": "08cc7cad",
   "metadata": {},
   "outputs": [],
   "source": [
    "another_age = 40\n",
    "also_an_age = '40'"
   ]
  },
  {
   "cell_type": "code",
   "execution_count": null,
   "id": "7c7f83fb",
   "metadata": {},
   "outputs": [],
   "source": [
    "type(another_age)"
   ]
  },
  {
   "cell_type": "code",
   "execution_count": null,
   "id": "4e904218",
   "metadata": {},
   "outputs": [],
   "source": [
    "type(also_an_age)"
   ]
  },
  {
   "cell_type": "code",
   "execution_count": null,
   "id": "77e7fb98",
   "metadata": {},
   "outputs": [],
   "source": []
  },
  {
   "cell_type": "markdown",
   "id": "7992d41a",
   "metadata": {},
   "source": [
    "## User input"
   ]
  },
  {
   "cell_type": "code",
   "execution_count": null,
   "id": "b999cba5",
   "metadata": {},
   "outputs": [],
   "source": [
    "user_name = input('Hej, vad heter du?')\n",
    "\n",
    "print(f'Hej {user_name}, trevligt att träffas')"
   ]
  },
  {
   "cell_type": "code",
   "execution_count": null,
   "id": "cb660c40",
   "metadata": {},
   "outputs": [],
   "source": []
  },
  {
   "cell_type": "code",
   "execution_count": null,
   "id": "660874e7",
   "metadata": {},
   "outputs": [],
   "source": []
  },
  {
   "cell_type": "markdown",
   "id": "97101f93",
   "metadata": {},
   "source": [
    "## Re-assigning variables"
   ]
  },
  {
   "cell_type": "code",
   "execution_count": null,
   "id": "4d7de183",
   "metadata": {},
   "outputs": [],
   "source": [
    "mitt_nuvarande_namn = 'Jonathan'"
   ]
  },
  {
   "cell_type": "code",
   "execution_count": null,
   "id": "b7004e2f",
   "metadata": {},
   "outputs": [],
   "source": [
    "print(mitt_nuvarande_namn)"
   ]
  },
  {
   "cell_type": "code",
   "execution_count": null,
   "id": "e18eed49",
   "metadata": {},
   "outputs": [],
   "source": [
    "mitt_nuvarande_namn = 'Tawar'"
   ]
  },
  {
   "cell_type": "code",
   "execution_count": null,
   "id": "eeae6cb4",
   "metadata": {},
   "outputs": [],
   "source": [
    "print(mitt_nuvarande_namn)"
   ]
  },
  {
   "cell_type": "code",
   "execution_count": null,
   "id": "04d1382f",
   "metadata": {},
   "outputs": [],
   "source": []
  },
  {
   "cell_type": "markdown",
   "id": "4f6e9ffe",
   "metadata": {},
   "source": [
    "## Beräkningar"
   ]
  },
  {
   "cell_type": "markdown",
   "id": "9dc8fce8",
   "metadata": {},
   "source": []
  },
  {
   "cell_type": "code",
   "execution_count": null,
   "id": "30b49221",
   "metadata": {},
   "outputs": [],
   "source": [
    "20+11"
   ]
  },
  {
   "cell_type": "code",
   "execution_count": null,
   "id": "cf08eefe",
   "metadata": {},
   "outputs": [],
   "source": [
    "12*12"
   ]
  },
  {
   "cell_type": "code",
   "execution_count": null,
   "id": "f5a2bdb6",
   "metadata": {},
   "outputs": [],
   "source": [
    "150/5"
   ]
  },
  {
   "cell_type": "code",
   "execution_count": null,
   "id": "898c551a",
   "metadata": {},
   "outputs": [],
   "source": [
    "100-99"
   ]
  },
  {
   "cell_type": "markdown",
   "id": "52e95244",
   "metadata": {},
   "source": [
    "**Force**\n",
    "\n",
    "F = mg, där m är din massa och g gravitationsaccelerationen"
   ]
  },
  {
   "cell_type": "code",
   "execution_count": null,
   "id": "f7900d8e",
   "metadata": {},
   "outputs": [],
   "source": [
    "g = 10    # gravitationsaccelerationen\n",
    "m = 70      # min massa\n",
    "\n",
    "F = m*g     # kraften F, som är m*g\n",
    "\n",
    "print(F)"
   ]
  },
  {
   "cell_type": "code",
   "execution_count": null,
   "id": "530f14c8",
   "metadata": {},
   "outputs": [],
   "source": []
  },
  {
   "cell_type": "code",
   "execution_count": null,
   "id": "00c90d31",
   "metadata": {},
   "outputs": [],
   "source": [
    "g = 10\n",
    "m = int( input('Inte för att vara otrevlig, men hur mycket väger du? ;) ') )\n",
    "\n",
    "F = m*g"
   ]
  },
  {
   "cell_type": "code",
   "execution_count": null,
   "id": "1415e2d1",
   "metadata": {},
   "outputs": [],
   "source": [
    "print(F)"
   ]
  },
  {
   "cell_type": "markdown",
   "id": "308c00fd",
   "metadata": {},
   "source": []
  },
  {
   "cell_type": "markdown",
   "id": "f7207bc4",
   "metadata": {},
   "source": [
    "**Circle geometry**\n",
    "\n",
    "$ A_{circle} = \\pi r^2 $\n",
    "\n",
    "$ O_{circle} = 2\\pi r$"
   ]
  },
  {
   "cell_type": "code",
   "execution_count": 3,
   "id": "c02e7b64",
   "metadata": {},
   "outputs": [],
   "source": [
    "import math"
   ]
  },
  {
   "cell_type": "code",
   "execution_count": 4,
   "id": "cbad50d9",
   "metadata": {},
   "outputs": [],
   "source": [
    "radius = 10\n",
    "\n",
    "omkrets = 2*math.pi*radius"
   ]
  },
  {
   "cell_type": "code",
   "execution_count": 12,
   "id": "6a1846db",
   "metadata": {},
   "outputs": [
    {
     "name": "stdout",
     "output_type": "stream",
     "text": [
      "62.83185307179586\n"
     ]
    }
   ],
   "source": [
    "print(omkrets)"
   ]
  },
  {
   "cell_type": "code",
   "execution_count": 13,
   "id": "08be7951",
   "metadata": {},
   "outputs": [
    {
     "data": {
      "text/plain": [
       "float"
      ]
     },
     "execution_count": 13,
     "metadata": {},
     "output_type": "execute_result"
    }
   ],
   "source": [
    "type(omkrets)"
   ]
  },
  {
   "cell_type": "code",
   "execution_count": 8,
   "id": "d2e1658b",
   "metadata": {},
   "outputs": [
    {
     "data": {
      "text/plain": [
       "63"
      ]
     },
     "execution_count": 8,
     "metadata": {},
     "output_type": "execute_result"
    }
   ],
   "source": [
    "round(omkrets)"
   ]
  },
  {
   "cell_type": "code",
   "execution_count": 9,
   "id": "04b79056",
   "metadata": {},
   "outputs": [
    {
     "data": {
      "text/plain": [
       "62.832"
      ]
     },
     "execution_count": 9,
     "metadata": {},
     "output_type": "execute_result"
    }
   ],
   "source": [
    "round(omkrets, 3)"
   ]
  },
  {
   "cell_type": "code",
   "execution_count": 11,
   "id": "dd8886b6",
   "metadata": {},
   "outputs": [
    {
     "name": "stdout",
     "output_type": "stream",
     "text": [
      "62.8319\n"
     ]
    }
   ],
   "source": [
    "print( round(omkrets, 4) )"
   ]
  },
  {
   "cell_type": "code",
   "execution_count": null,
   "id": "42442a14",
   "metadata": {},
   "outputs": [],
   "source": []
  },
  {
   "cell_type": "code",
   "execution_count": 18,
   "id": "b87129e8",
   "metadata": {},
   "outputs": [
    {
     "name": "stdout",
     "output_type": "stream",
     "text": [
      "62.83185307179586\n"
     ]
    }
   ],
   "source": [
    "print(omkrets)"
   ]
  },
  {
   "cell_type": "code",
   "execution_count": null,
   "id": "fd04dc84",
   "metadata": {},
   "outputs": [],
   "source": []
  },
  {
   "cell_type": "markdown",
   "id": "1f06bf35",
   "metadata": {},
   "source": [
    "ytterligare exempel på re-assignment"
   ]
  },
  {
   "cell_type": "code",
   "execution_count": 19,
   "id": "e8dbcbe2",
   "metadata": {},
   "outputs": [],
   "source": [
    "a_number = 10"
   ]
  },
  {
   "cell_type": "code",
   "execution_count": 20,
   "id": "19abebe1",
   "metadata": {},
   "outputs": [
    {
     "name": "stdout",
     "output_type": "stream",
     "text": [
      "10\n"
     ]
    }
   ],
   "source": [
    "print(a_number)"
   ]
  },
  {
   "cell_type": "code",
   "execution_count": 21,
   "id": "be0f0a41",
   "metadata": {},
   "outputs": [],
   "source": [
    "a_number = 20"
   ]
  },
  {
   "cell_type": "code",
   "execution_count": 22,
   "id": "c9ce41dc",
   "metadata": {},
   "outputs": [
    {
     "name": "stdout",
     "output_type": "stream",
     "text": [
      "20\n"
     ]
    }
   ],
   "source": [
    "print(a_number)"
   ]
  },
  {
   "cell_type": "code",
   "execution_count": 24,
   "id": "12a02679",
   "metadata": {},
   "outputs": [],
   "source": [
    "a_number = a_number + 5"
   ]
  },
  {
   "cell_type": "code",
   "execution_count": 25,
   "id": "f41871cf",
   "metadata": {},
   "outputs": [
    {
     "name": "stdout",
     "output_type": "stream",
     "text": [
      "25\n"
     ]
    }
   ],
   "source": [
    "print(a_number)"
   ]
  },
  {
   "cell_type": "markdown",
   "id": "b5cb5b79",
   "metadata": {},
   "source": []
  },
  {
   "cell_type": "code",
   "execution_count": 26,
   "id": "e0877b19",
   "metadata": {},
   "outputs": [
    {
     "data": {
      "text/plain": [
       "62.83185307179586"
      ]
     },
     "execution_count": 26,
     "metadata": {},
     "output_type": "execute_result"
    }
   ],
   "source": [
    "omkrets"
   ]
  },
  {
   "cell_type": "code",
   "execution_count": 27,
   "id": "1aa2eb57",
   "metadata": {},
   "outputs": [],
   "source": [
    "omkrets = round(omkrets, 2)"
   ]
  },
  {
   "cell_type": "code",
   "execution_count": 28,
   "id": "b2ed9290",
   "metadata": {},
   "outputs": [
    {
     "name": "stdout",
     "output_type": "stream",
     "text": [
      "62.83\n"
     ]
    }
   ],
   "source": [
    "print(omkrets)"
   ]
  },
  {
   "cell_type": "code",
   "execution_count": null,
   "id": "4992604f",
   "metadata": {},
   "outputs": [],
   "source": []
  }
 ],
 "metadata": {
  "kernelspec": {
   "display_name": "deeplearning",
   "language": "python",
   "name": "deeplearning"
  },
  "language_info": {
   "codemirror_mode": {
    "name": "ipython",
    "version": 3
   },
   "file_extension": ".py",
   "mimetype": "text/x-python",
   "name": "python",
   "nbconvert_exporter": "python",
   "pygments_lexer": "ipython3",
   "version": "3.11.4"
  }
 },
 "nbformat": 4,
 "nbformat_minor": 5
}
